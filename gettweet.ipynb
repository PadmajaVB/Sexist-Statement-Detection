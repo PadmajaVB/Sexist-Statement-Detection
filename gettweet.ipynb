{
  "nbformat": 4,
  "nbformat_minor": 0,
  "metadata": {
    "colab": {
      "name": "gettweet.ipynb",
      "provenance": [],
      "collapsed_sections": [],
      "include_colab_link": true
    },
    "kernelspec": {
      "name": "python3",
      "display_name": "Python 3"
    },
    "language_info": {
      "name": "python"
    }
  },
  "cells": [
    {
      "cell_type": "markdown",
      "metadata": {
        "id": "view-in-github",
        "colab_type": "text"
      },
      "source": [
        "<a href=\"https://colab.research.google.com/github/PadmajaVB/Sexist-Statement-Detection/blob/main/gettweet.ipynb\" target=\"_parent\"><img src=\"https://colab.research.google.com/assets/colab-badge.svg\" alt=\"Open In Colab\"/></a>"
      ]
    },
    {
      "cell_type": "markdown",
      "metadata": {
        "id": "1JvU1Mhch2RN"
      },
      "source": [
        "# Get tweets labeled with benevolent sexism using twitter API"
      ]
    },
    {
      "cell_type": "code",
      "metadata": {
        "colab": {
          "base_uri": "https://localhost:8080/"
        },
        "id": "5R41_W8GsK5E",
        "outputId": "7805e3d7-4ec7-4fdb-b66b-c6990d554ee5"
      },
      "source": [
        "from google.colab import drive\n",
        "drive.mount('/content/drive', force_remount=True)"
      ],
      "execution_count": 9,
      "outputs": [
        {
          "output_type": "stream",
          "text": [
            "Mounted at /content/drive\n"
          ],
          "name": "stdout"
        }
      ]
    },
    {
      "cell_type": "markdown",
      "metadata": {
        "id": "EZ13Oi6aiNDQ"
      },
      "source": [
        "**Enter twitter developer keys which will be used to comminicate to twitter API using tweepy**"
      ]
    },
    {
      "cell_type": "code",
      "metadata": {
        "id": "5PbDw6BU88Xz"
      },
      "source": [
        "import tweepy\n",
        "\n",
        "# Twitter Developer keys here\n",
        "# USED TO COMMUNICATE TO THE TWITTER API\n",
        "consumer_key = 'DYblLECW6ZxgdNmZbOL5Vsbty'\n",
        "consumer_key_secret = '5bjrh8S8rNXEVQSMDUl9DX3yYtqXSFFJWJ8r7mwDFgs0cUSF6P'\n",
        "access_token = '1089903230992056320-rpusTvBh7re56F64sj7YoTCeMLrDcb'\n",
        "access_token_secret = '1ksc9eaJer3c5cQc6HYVG5UCqkPdL8I3Eb1Oz1dQxieh9'\n"
      ],
      "execution_count": 10,
      "outputs": []
    },
    {
      "cell_type": "code",
      "metadata": {
        "id": "lovZudwx9DP_"
      },
      "source": [
        "#set up the API for fetching\n",
        "auth = tweepy.OAuthHandler(consumer_key, consumer_key_secret) \n",
        "auth.set_access_token(access_token, access_token_secret)\n",
        "api = tweepy.API(auth)"
      ],
      "execution_count": 11,
      "outputs": []
    },
    {
      "cell_type": "code",
      "metadata": {
        "id": "jUyIDTm9CvkX"
      },
      "source": [
        "# This is corpus dataset\n",
        "import pandas as pd\n",
        "#tweet id form (check this tsv for format)\n",
        "corpusFile = \"/content/drive/MyDrive/AI-3 Project/data/NLP_CSS_2017-master/benevolent_sexist.tsv\"\n",
        "df= pd.read_csv(corpusFile, header= None)\n"
      ],
      "execution_count": 16,
      "outputs": []
    },
    {
      "cell_type": "markdown",
      "metadata": {
        "id": "Z94bS5xWkT0Z"
      },
      "source": [
        "**Custom function to fetch tweets and store them as a list**"
      ]
    },
    {
      "cell_type": "code",
      "metadata": {
        "id": "uZr4_0dH89B3"
      },
      "source": [
        "# This method creates the training set\n",
        "def createTrainingSet(corpusFile):\n",
        "    import csv\n",
        "    import time\n",
        "\n",
        "    c=0\n",
        "    #print(corpusFile.head())\n",
        "    #Get each id as part of the list\n",
        "    corpus = list(df[0])\n",
        "\n",
        "    sleepTime = 2\n",
        "    trainingDataSet = []\n",
        "    #Do not send more than 1500 ids at once else you will have to wait for 1 hour to cooldown\n",
        "    for tweet in corpus[0:200]:\n",
        "        try:\n",
        "            tweetFetched = api.get_status(tweet) #get the metadeta\n",
        "            print(c,\"Tweet fetched = \" + tweetFetched.text)\n",
        "            c+=1 #counter for seeing which tweet index is being fetched\n",
        "            time.sleep(sleepTime) #for the API to cool down\n",
        "            trainingDataSet.append(tweetFetched.text)\n",
        "        except Exception as e:\n",
        "            print(c,\"Inside the exception - no:2\")\n",
        "            print(e)\n",
        "            c+=1\n",
        "            print()\n",
        "            time.sleep(1)\n",
        "            continue\n",
        "    #return in list       \n",
        "    return trainingDataSet\n",
        "    \n"
      ],
      "execution_count": 22,
      "outputs": []
    },
    {
      "cell_type": "code",
      "metadata": {
        "id": "PO_nFDgfAZUu",
        "colab": {
          "base_uri": "https://localhost:8080/"
        },
        "outputId": "22770475-f8eb-423f-8baa-85153dd533eb"
      },
      "source": [
        "resultFile = createTrainingSet(df)"
      ],
      "execution_count": 23,
      "outputs": [
        {
          "output_type": "stream",
          "text": [
            "0 Tweet fetched = RT @GemmaAnneStyles: Happy #womensday to all my sassy women, classy women, nasty women 💋👧🏾💖👩🏼‍🔬👄👵🏼 my fine women, alive women, gonna fight…\n",
            "1 Inside the exception - no:2\n",
            "[{'code': 144, 'message': 'No status found with that ID.'}]\n",
            "\n",
            "2 Inside the exception - no:2\n",
            "[{'code': 144, 'message': 'No status found with that ID.'}]\n",
            "\n",
            "3 Tweet fetched = RT @girlsreallyrule: The lights are out at the Statue of Liberty...that's ONE MORE woman America CANNOT do without. #adaywithoutwomen #Ligh…\n",
            "4 Inside the exception - no:2\n",
            "[{'code': 63, 'message': 'User has been suspended.'}]\n",
            "\n",
            "5 Inside the exception - no:2\n",
            "[{'code': 144, 'message': 'No status found with that ID.'}]\n",
            "\n",
            "6 Inside the exception - no:2\n",
            "[{'code': 63, 'message': 'User has been suspended.'}]\n",
            "\n",
            "7 Inside the exception - no:2\n",
            "[{'code': 63, 'message': 'User has been suspended.'}]\n",
            "\n",
            "8 Inside the exception - no:2\n",
            "[{'code': 144, 'message': 'No status found with that ID.'}]\n",
            "\n",
            "9 Inside the exception - no:2\n",
            "[{'code': 144, 'message': 'No status found with that ID.'}]\n",
            "\n",
            "10 Inside the exception - no:2\n",
            "[{'code': 144, 'message': 'No status found with that ID.'}]\n",
            "\n",
            "11 Inside the exception - no:2\n",
            "[{'code': 144, 'message': 'No status found with that ID.'}]\n",
            "\n",
            "12 Inside the exception - no:2\n",
            "[{'code': 63, 'message': 'User has been suspended.'}]\n",
            "\n",
            "13 Inside the exception - no:2\n",
            "[{'code': 144, 'message': 'No status found with that ID.'}]\n",
            "\n",
            "14 Inside the exception - no:2\n",
            "[{'code': 63, 'message': 'User has been suspended.'}]\n",
            "\n",
            "15 Inside the exception - no:2\n",
            "[{'code': 144, 'message': 'No status found with that ID.'}]\n",
            "\n",
            "16 Tweet fetched = RT @antonioguterres: We can’t achieve any of our goals without the participation of women and girls. #WomensDay https://t.co/2oCVEQQFMR\n",
            "17 Inside the exception - no:2\n",
            "[{'code': 63, 'message': 'User has been suspended.'}]\n",
            "\n",
            "18 Inside the exception - no:2\n",
            "[{'code': 179, 'message': 'Sorry, you are not authorized to see this status.'}]\n",
            "\n",
            "19 Inside the exception - no:2\n",
            "[{'code': 144, 'message': 'No status found with that ID.'}]\n",
            "\n",
            "20 Inside the exception - no:2\n",
            "[{'code': 63, 'message': 'User has been suspended.'}]\n",
            "\n",
            "21 Inside the exception - no:2\n",
            "[{'code': 144, 'message': 'No status found with that ID.'}]\n",
            "\n",
            "22 Inside the exception - no:2\n",
            "[{'code': 144, 'message': 'No status found with that ID.'}]\n",
            "\n",
            "23 Tweet fetched = \"she parties like a man but loves like a woman\"\n",
            "24 Inside the exception - no:2\n",
            "[{'code': 179, 'message': 'Sorry, you are not authorized to see this status.'}]\n",
            "\n",
            "25 Inside the exception - no:2\n",
            "[{'code': 144, 'message': 'No status found with that ID.'}]\n",
            "\n",
            "26 Inside the exception - no:2\n",
            "[{'code': 144, 'message': 'No status found with that ID.'}]\n",
            "\n",
            "27 Inside the exception - no:2\n",
            "[{'code': 179, 'message': 'Sorry, you are not authorized to see this status.'}]\n",
            "\n",
            "28 Inside the exception - no:2\n",
            "[{'code': 144, 'message': 'No status found with that ID.'}]\n",
            "\n",
            "29 Inside the exception - no:2\n",
            "[{'code': 144, 'message': 'No status found with that ID.'}]\n",
            "\n",
            "30 Inside the exception - no:2\n",
            "[{'code': 63, 'message': 'User has been suspended.'}]\n",
            "\n",
            "31 Inside the exception - no:2\n",
            "[{'code': 63, 'message': 'User has been suspended.'}]\n",
            "\n",
            "32 Inside the exception - no:2\n",
            "[{'code': 144, 'message': 'No status found with that ID.'}]\n",
            "\n",
            "33 Inside the exception - no:2\n",
            "[{'code': 144, 'message': 'No status found with that ID.'}]\n",
            "\n",
            "34 Inside the exception - no:2\n",
            "[{'code': 179, 'message': 'Sorry, you are not authorized to see this status.'}]\n",
            "\n",
            "35 Tweet fetched = RT @GemmaAnneStyles: Happy #womensday to all my sassy women, classy women, nasty women 💋👧🏾💖👩🏼‍🔬👄👵🏼 my fine women, alive women, gonna fight…\n",
            "36 Tweet fetched = RT @xanria_018: Lucky is the man who is the first love of a woman, but luckier is the woman who is the last love of a man.\n",
            "#ALDUBxDTBYLandas\n",
            "37 Inside the exception - no:2\n",
            "[{'code': 179, 'message': 'Sorry, you are not authorized to see this status.'}]\n",
            "\n",
            "38 Inside the exception - no:2\n",
            "[{'code': 63, 'message': 'User has been suspended.'}]\n",
            "\n",
            "39 Tweet fetched = RT @AdrianArellano0: It was such a nice day out today. Nice and quiet, the roads were clear...\n",
            "\n",
            "Must've been #ADayWithoutWomen.\n",
            "40 Tweet fetched = RT @GemmaAnneStyles: Happy #womensday to all my sassy women, classy women, nasty women 💋👧🏾💖👩🏼‍🔬👄👵🏼 my fine women, alive women, gonna fight…\n",
            "41 Inside the exception - no:2\n",
            "[{'code': 144, 'message': 'No status found with that ID.'}]\n",
            "\n",
            "42 Inside the exception - no:2\n",
            "[{'code': 144, 'message': 'No status found with that ID.'}]\n",
            "\n",
            "43 Inside the exception - no:2\n",
            "[{'code': 179, 'message': 'Sorry, you are not authorized to see this status.'}]\n",
            "\n",
            "44 Inside the exception - no:2\n",
            "[{'code': 144, 'message': 'No status found with that ID.'}]\n",
            "\n",
            "45 Inside the exception - no:2\n",
            "[{'code': 144, 'message': 'No status found with that ID.'}]\n",
            "\n",
            "46 Inside the exception - no:2\n",
            "[{'code': 144, 'message': 'No status found with that ID.'}]\n",
            "\n",
            "47 Tweet fetched = i need a man who can act like a man bh pareil\n",
            "48 Inside the exception - no:2\n",
            "[{'code': 179, 'message': 'Sorry, you are not authorized to see this status.'}]\n",
            "\n",
            "49 Inside the exception - no:2\n",
            "[{'code': 144, 'message': 'No status found with that ID.'}]\n",
            "\n",
            "50 Inside the exception - no:2\n",
            "[{'code': 144, 'message': 'No status found with that ID.'}]\n",
            "\n",
            "51 Inside the exception - no:2\n",
            "[{'code': 63, 'message': 'User has been suspended.'}]\n",
            "\n",
            "52 Tweet fetched = RT @mikandynothem: My wife is going to work today beacause she is NO lazy liberal woman looking for a day off! \n",
            "#adaywithoutwomen #MAGA htt…\n",
            "53 Tweet fetched = RT @janasays_: A lot of females try to think like a man to avoid getting hurt/played instead of just being a woman. Take a chance ,love aga…\n",
            "54 Tweet fetched = RT @GemmaAnneStyles: Happy #womensday to all my sassy women, classy women, nasty women 💋👧🏾💖👩🏼‍🔬👄👵🏼 my fine women, alive women, gonna fight…\n",
            "55 Inside the exception - no:2\n",
            "[{'code': 179, 'message': 'Sorry, you are not authorized to see this status.'}]\n",
            "\n",
            "56 Inside the exception - no:2\n",
            "[{'code': 144, 'message': 'No status found with that ID.'}]\n",
            "\n",
            "57 Tweet fetched = RT @jgopikrishnan70: Helen Rowland : \"It takes a woman twenty years to make a man of her son, and another woman twenty minutes to make a fo…\n",
            "58 Tweet fetched = RT @GemmaAnneStyles: Happy #womensday to all my sassy women, classy women, nasty women 💋👧🏾💖👩🏼‍🔬👄👵🏼 my fine women, alive women, gonna fight…\n",
            "59 Inside the exception - no:2\n",
            "[{'code': 144, 'message': 'No status found with that ID.'}]\n",
            "\n",
            "60 Inside the exception - no:2\n",
            "[{'code': 144, 'message': 'No status found with that ID.'}]\n",
            "\n",
            "61 Tweet fetched = RT @UN_Women: \"Why do we continue to undervalue fathers and overburden mothers?\" -Goodwill Ambassador Anne Hathaway on paid parental leave.…\n",
            "62 Tweet fetched = RT @girlsreallyrule: The lights are out at the Statue of Liberty...that's ONE MORE woman America CANNOT do without. #adaywithoutwomen #Ligh…\n",
            "63 Inside the exception - no:2\n",
            "[{'code': 63, 'message': 'User has been suspended.'}]\n",
            "\n",
            "64 Tweet fetched = #women are a #force #internationalwomensday #adaywithoutwomen #womensmarch #equality #EqualityMatters… https://t.co/Dc6oixVXEu\n",
            "65 Inside the exception - no:2\n",
            "[{'code': 144, 'message': 'No status found with that ID.'}]\n",
            "\n",
            "66 Tweet fetched = #BeAWoman &gt; than celebrating #womensday &amp; also don't compare yourself with others. Because you have the courage to tackle everything.\n",
            "67 Inside the exception - no:2\n",
            "[{'code': 63, 'message': 'User has been suspended.'}]\n",
            "\n",
            "68 Inside the exception - no:2\n",
            "[{'code': 144, 'message': 'No status found with that ID.'}]\n",
            "\n",
            "69 Inside the exception - no:2\n",
            "[{'code': 144, 'message': 'No status found with that ID.'}]\n",
            "\n",
            "70 Inside the exception - no:2\n",
            "[{'code': 63, 'message': 'User has been suspended.'}]\n",
            "\n",
            "71 Inside the exception - no:2\n",
            "[{'code': 179, 'message': 'Sorry, you are not authorized to see this status.'}]\n",
            "\n",
            "72 Inside the exception - no:2\n",
            "[{'code': 179, 'message': 'Sorry, you are not authorized to see this status.'}]\n",
            "\n",
            "73 Inside the exception - no:2\n",
            "[{'code': 144, 'message': 'No status found with that ID.'}]\n",
            "\n",
            "74 Inside the exception - no:2\n",
            "[{'code': 63, 'message': 'User has been suspended.'}]\n",
            "\n",
            "75 Tweet fetched = RT @theCandidDiva: Every man needs a woman When his life is a mess,Bcoz just like d game of Chess d Queen Protects d King.\n",
            "#WomensDay \n",
            "#Int…\n",
            "76 Inside the exception - no:2\n",
            "[{'code': 63, 'message': 'User has been suspended.'}]\n",
            "\n",
            "77 Tweet fetched = RT @SriSri: Women possess a unique combination of will,determination &amp; emotions.They can protect,support &amp; uplift the family &amp; society.Happ…\n",
            "78 Inside the exception - no:2\n",
            "[{'code': 144, 'message': 'No status found with that ID.'}]\n",
            "\n",
            "79 Tweet fetched = RT @GemmaAnneStyles: Happy #womensday to all my sassy women, classy women, nasty women 💋👧🏾💖👩🏼‍🔬👄👵🏼 my fine women, alive women, gonna fight…\n",
            "80 Inside the exception - no:2\n",
            "[{'code': 144, 'message': 'No status found with that ID.'}]\n",
            "\n",
            "81 Inside the exception - no:2\n",
            "[{'code': 34, 'message': 'Sorry, that page does not exist.'}]\n",
            "\n",
            "82 Inside the exception - no:2\n",
            "[{'code': 63, 'message': 'User has been suspended.'}]\n",
            "\n",
            "83 Inside the exception - no:2\n",
            "[{'code': 63, 'message': 'User has been suspended.'}]\n",
            "\n",
            "84 Tweet fetched = RT @mikandynothem: My wife is going to work today beacause she is NO lazy liberal woman looking for a day off! \n",
            "#adaywithoutwomen #MAGA htt…\n",
            "85 Inside the exception - no:2\n",
            "[{'code': 144, 'message': 'No status found with that ID.'}]\n",
            "\n",
            "86 Inside the exception - no:2\n",
            "[{'code': 144, 'message': 'No status found with that ID.'}]\n",
            "\n",
            "87 Inside the exception - no:2\n",
            "[{'code': 144, 'message': 'No status found with that ID.'}]\n",
            "\n",
            "88 Inside the exception - no:2\n",
            "[{'code': 63, 'message': 'User has been suspended.'}]\n",
            "\n",
            "89 Inside the exception - no:2\n",
            "[{'code': 63, 'message': 'User has been suspended.'}]\n",
            "\n",
            "90 Inside the exception - no:2\n",
            "[{'code': 63, 'message': 'User has been suspended.'}]\n",
            "\n",
            "91 Tweet fetched = RT @GemmaAnneStyles: Happy #womensday to all my sassy women, classy women, nasty women 💋👧🏾💖👩🏼‍🔬👄👵🏼 my fine women, alive women, gonna fight…\n",
            "92 Tweet fetched = RT @girlsreallyrule: The lights are out at the Statue of Liberty...that's ONE MORE woman America CANNOT do without. #adaywithoutwomen #Ligh…\n",
            "93 Tweet fetched = RT @GemmaAnneStyles: Happy #womensday to all my sassy women, classy women, nasty women 💋👧🏾💖👩🏼‍🔬👄👵🏼 my fine women, alive women, gonna fight…\n",
            "94 Tweet fetched = RT @XavierSociety: Our library has many books on our Holy Mother. Imagine how different the world would be w/o her. #ADayWithoutWomen #Inte…\n",
            "95 Inside the exception - no:2\n",
            "[{'code': 63, 'message': 'User has been suspended.'}]\n",
            "\n",
            "96 Inside the exception - no:2\n",
            "[{'code': 63, 'message': 'User has been suspended.'}]\n",
            "\n",
            "97 Tweet fetched = RT @singleinthecity: Happy #InternationalWomensDay.Thanks to women everywhere for all you do to help create a wiser, stronger, kinder &amp; hap…\n",
            "98 Inside the exception - no:2\n",
            "[{'code': 144, 'message': 'No status found with that ID.'}]\n",
            "\n",
            "99 Inside the exception - no:2\n",
            "[{'code': 144, 'message': 'No status found with that ID.'}]\n",
            "\n",
            "100 Inside the exception - no:2\n",
            "[{'code': 144, 'message': 'No status found with that ID.'}]\n",
            "\n",
            "101 Inside the exception - no:2\n",
            "[{'code': 144, 'message': 'No status found with that ID.'}]\n",
            "\n",
            "102 Inside the exception - no:2\n",
            "[{'code': 63, 'message': 'User has been suspended.'}]\n",
            "\n",
            "103 Tweet fetched = RT @GemmaAnneStyles: Happy #womensday to all my sassy women, classy women, nasty women 💋👧🏾💖👩🏼‍🔬👄👵🏼 my fine women, alive women, gonna fight…\n",
            "104 Inside the exception - no:2\n",
            "[{'code': 63, 'message': 'User has been suspended.'}]\n",
            "\n",
            "105 Inside the exception - no:2\n",
            "[{'code': 144, 'message': 'No status found with that ID.'}]\n",
            "\n",
            "106 Inside the exception - no:2\n",
            "[{'code': 144, 'message': 'No status found with that ID.'}]\n",
            "\n",
            "107 Tweet fetched = RT @GemmaAnneStyles: Happy #womensday to all my sassy women, classy women, nasty women 💋👧🏾💖👩🏼‍🔬👄👵🏼 my fine women, alive women, gonna fight…\n",
            "108 Inside the exception - no:2\n",
            "[{'code': 144, 'message': 'No status found with that ID.'}]\n",
            "\n",
            "109 Inside the exception - no:2\n",
            "[{'code': 144, 'message': 'No status found with that ID.'}]\n",
            "\n",
            "110 Inside the exception - no:2\n",
            "[{'code': 63, 'message': 'User has been suspended.'}]\n",
            "\n",
            "111 Inside the exception - no:2\n",
            "[{'code': 144, 'message': 'No status found with that ID.'}]\n",
            "\n",
            "112 Tweet fetched = RT @GemmaAnneStyles: Happy #womensday to all my sassy women, classy women, nasty women 💋👧🏾💖👩🏼‍🔬👄👵🏼 my fine women, alive women, gonna fight…\n",
            "113 Inside the exception - no:2\n",
            "[{'code': 144, 'message': 'No status found with that ID.'}]\n",
            "\n",
            "114 Tweet fetched = RT @girlsreallyrule: The lights are out at the Statue of Liberty...that's ONE MORE woman America CANNOT do without. #adaywithoutwomen #Ligh…\n",
            "115 Inside the exception - no:2\n",
            "[{'code': 144, 'message': 'No status found with that ID.'}]\n",
            "\n",
            "116 Inside the exception - no:2\n",
            "[{'code': 144, 'message': 'No status found with that ID.'}]\n",
            "\n",
            "117 Inside the exception - no:2\n",
            "[{'code': 144, 'message': 'No status found with that ID.'}]\n",
            "\n",
            "118 Inside the exception - no:2\n",
            "[{'code': 63, 'message': 'User has been suspended.'}]\n",
            "\n",
            "119 Inside the exception - no:2\n",
            "[{'code': 63, 'message': 'User has been suspended.'}]\n",
            "\n",
            "120 Inside the exception - no:2\n",
            "[{'code': 144, 'message': 'No status found with that ID.'}]\n",
            "\n",
            "121 Inside the exception - no:2\n",
            "[{'code': 63, 'message': 'User has been suspended.'}]\n",
            "\n",
            "122 Inside the exception - no:2\n",
            "[{'code': 144, 'message': 'No status found with that ID.'}]\n",
            "\n",
            "123 Inside the exception - no:2\n",
            "[{'code': 144, 'message': 'No status found with that ID.'}]\n",
            "\n",
            "124 Tweet fetched = RT @ajmalkwazir: Women are most respectable in our society and culture. I believe in giving them due respect no matter what the situ is.#wo…\n",
            "125 Inside the exception - no:2\n",
            "[{'code': 144, 'message': 'No status found with that ID.'}]\n",
            "\n",
            "126 Inside the exception - no:2\n",
            "[{'code': 144, 'message': 'No status found with that ID.'}]\n",
            "\n",
            "127 Inside the exception - no:2\n",
            "[{'code': 144, 'message': 'No status found with that ID.'}]\n",
            "\n",
            "128 Inside the exception - no:2\n",
            "[{'code': 144, 'message': 'No status found with that ID.'}]\n",
            "\n",
            "129 Inside the exception - no:2\n",
            "[{'code': 144, 'message': 'No status found with that ID.'}]\n",
            "\n",
            "130 Tweet fetched = RT @sesamestreet: Girls can change the world. Happy International #WomensDay! #IWD2017 https://t.co/CRe6pySrrf\n",
            "131 Inside the exception - no:2\n",
            "[{'code': 179, 'message': 'Sorry, you are not authorized to see this status.'}]\n",
            "\n",
            "132 Inside the exception - no:2\n",
            "[{'code': 144, 'message': 'No status found with that ID.'}]\n",
            "\n",
            "133 Inside the exception - no:2\n",
            "[{'code': 144, 'message': 'No status found with that ID.'}]\n",
            "\n",
            "134 Tweet fetched = My main ladies, fighting the good fight ✌🏼#internationalwomensday #adaywithoutwomen #disney… https://t.co/9YRcGCFQuM\n",
            "135 Inside the exception - no:2\n",
            "[{'code': 144, 'message': 'No status found with that ID.'}]\n",
            "\n",
            "136 Inside the exception - no:2\n",
            "[{'code': 144, 'message': 'No status found with that ID.'}]\n",
            "\n",
            "137 Inside the exception - no:2\n",
            "[{'code': 179, 'message': 'Sorry, you are not authorized to see this status.'}]\n",
            "\n",
            "138 Tweet fetched = I loved you like a man loves a woman he never touches, only writes to, keeps little photographs of.\n",
            "139 Inside the exception - no:2\n",
            "[{'code': 144, 'message': 'No status found with that ID.'}]\n",
            "\n",
            "140 Inside the exception - no:2\n",
            "[{'code': 144, 'message': 'No status found with that ID.'}]\n",
            "\n",
            "141 Inside the exception - no:2\n",
            "[{'code': 144, 'message': 'No status found with that ID.'}]\n",
            "\n",
            "142 Inside the exception - no:2\n",
            "[{'code': 144, 'message': 'No status found with that ID.'}]\n",
            "\n",
            "143 Inside the exception - no:2\n",
            "[{'code': 144, 'message': 'No status found with that ID.'}]\n",
            "\n",
            "144 Inside the exception - no:2\n",
            "[{'code': 63, 'message': 'User has been suspended.'}]\n",
            "\n",
            "145 Inside the exception - no:2\n",
            "[{'code': 144, 'message': 'No status found with that ID.'}]\n",
            "\n",
            "146 Inside the exception - no:2\n",
            "[{'code': 63, 'message': 'User has been suspended.'}]\n",
            "\n",
            "147 Inside the exception - no:2\n",
            "[{'code': 144, 'message': 'No status found with that ID.'}]\n",
            "\n",
            "148 Inside the exception - no:2\n",
            "[{'code': 63, 'message': 'User has been suspended.'}]\n",
            "\n",
            "149 Tweet fetched = RT @GemmaAnneStyles: Happy #womensday to all my sassy women, classy women, nasty women 💋👧🏾💖👩🏼‍🔬👄👵🏼 my fine women, alive women, gonna fight…\n",
            "150 Inside the exception - no:2\n",
            "[{'code': 144, 'message': 'No status found with that ID.'}]\n",
            "\n",
            "151 Inside the exception - no:2\n",
            "[{'code': 63, 'message': 'User has been suspended.'}]\n",
            "\n",
            "152 Inside the exception - no:2\n",
            "[{'code': 144, 'message': 'No status found with that ID.'}]\n",
            "\n",
            "153 Inside the exception - no:2\n",
            "[{'code': 144, 'message': 'No status found with that ID.'}]\n",
            "\n",
            "154 Inside the exception - no:2\n",
            "[{'code': 144, 'message': 'No status found with that ID.'}]\n",
            "\n",
            "155 Tweet fetched = RT @girlsreallyrule: The lights are out at the Statue of Liberty...that's ONE MORE woman America CANNOT do without. #adaywithoutwomen #Ligh…\n",
            "156 Tweet fetched = RT @girlsreallyrule: The lights are out at the Statue of Liberty...that's ONE MORE woman America CANNOT do without. #adaywithoutwomen #Ligh…\n",
            "157 Inside the exception - no:2\n",
            "[{'code': 144, 'message': 'No status found with that ID.'}]\n",
            "\n",
            "158 Tweet fetched = #ScienceFiction would be unrecognizable without women https://t.co/s9wCU8VG23 #womensday https://t.co/WeR5TKfrIF\n",
            "159 Inside the exception - no:2\n",
            "[{'code': 144, 'message': 'No status found with that ID.'}]\n",
            "\n",
            "160 Tweet fetched = RT @SyedSaddiq: \"BEHIND every successful man, there's a woman\".\n",
            "\n",
            "I disagree.\n",
            "\n",
            "It's \"NEXT to every successful man, there's a woman\"\n",
            "\n",
            "#KamiSo…\n",
            "161 Tweet fetched = RT @CarrieLynnLand: #ScienceFiction would be unrecognizable without women https://t.co/s9wCU8VG23 #womensday https://t.co/WeR5TKfrIF\n",
            "162 Inside the exception - no:2\n",
            "[{'code': 144, 'message': 'No status found with that ID.'}]\n",
            "\n",
            "163 Tweet fetched = RT @GemmaAnneStyles: Happy #womensday to all my sassy women, classy women, nasty women 💋👧🏾💖👩🏼‍🔬👄👵🏼 my fine women, alive women, gonna fight…\n",
            "164 Inside the exception - no:2\n",
            "[{'code': 144, 'message': 'No status found with that ID.'}]\n",
            "\n",
            "165 Inside the exception - no:2\n",
            "[{'code': 179, 'message': 'Sorry, you are not authorized to see this status.'}]\n",
            "\n",
            "166 Inside the exception - no:2\n",
            "[{'code': 144, 'message': 'No status found with that ID.'}]\n",
            "\n",
            "167 Tweet fetched = RT @GemmaAnneStyles: Happy #womensday to all my sassy women, classy women, nasty women 💋👧🏾💖👩🏼‍🔬👄👵🏼 my fine women, alive women, gonna fight…\n",
            "168 Tweet fetched = RT @realACJoshua: \"We can't be here without the participation of women and girls\" - #freeBiafra @Amaka_Ekwo on #WomensDay\n",
            "169 Tweet fetched = RT @GemmaAnneStyles: Happy #womensday to all my sassy women, classy women, nasty women 💋👧🏾💖👩🏼‍🔬👄👵🏼 my fine women, alive women, gonna fight…\n",
            "170 Inside the exception - no:2\n",
            "[{'code': 63, 'message': 'User has been suspended.'}]\n",
            "\n",
            "171 Tweet fetched = RT @AliaImanHMS: Everybody knows that every girl should only want to marry a (sane) man as good as her (sane) father. Nobody can top a girl…\n",
            "172 Inside the exception - no:2\n",
            "[{'code': 63, 'message': 'User has been suspended.'}]\n",
            "\n",
            "173 Inside the exception - no:2\n",
            "[{'code': 144, 'message': 'No status found with that ID.'}]\n",
            "\n",
            "174 Inside the exception - no:2\n",
            "[{'code': 144, 'message': 'No status found with that ID.'}]\n",
            "\n",
            "175 Inside the exception - no:2\n",
            "[{'code': 63, 'message': 'User has been suspended.'}]\n",
            "\n",
            "176 Inside the exception - no:2\n",
            "[{'code': 144, 'message': 'No status found with that ID.'}]\n",
            "\n",
            "177 Tweet fetched = RT @SriSri: Women possess a unique combination of will,determination &amp; emotions.They can protect,support &amp; uplift the family &amp; society.Happ…\n",
            "178 Inside the exception - no:2\n",
            "[{'code': 144, 'message': 'No status found with that ID.'}]\n",
            "\n",
            "179 Tweet fetched = RT @Zaydan_Khan: SHE is Mother.\n",
            "SHE is Sister.\n",
            "SHE is Daughter.\n",
            "SHE can b a father\n",
            "SHe can b a Brother \n",
            "SHE can b a Son\n",
            "SHE IS POWER!!!!\n",
            "#p…\n",
            "180 Inside the exception - no:2\n",
            "[{'code': 144, 'message': 'No status found with that ID.'}]\n",
            "\n",
            "181 Tweet fetched = RT @SarcasticRover: I wouldn't have made it to Mars without women. \n",
            "\n",
            "#ADayWithoutWomen is a day without Curiosity. https://t.co/yLTJCGAaqj\n",
            "182 Inside the exception - no:2\n",
            "[{'code': 63, 'message': 'User has been suspended.'}]\n",
            "\n",
            "183 Inside the exception - no:2\n",
            "[{'code': 144, 'message': 'No status found with that ID.'}]\n",
            "\n",
            "184 Inside the exception - no:2\n",
            "[{'code': 144, 'message': 'No status found with that ID.'}]\n",
            "\n",
            "185 Inside the exception - no:2\n",
            "[{'code': 144, 'message': 'No status found with that ID.'}]\n",
            "\n",
            "186 Inside the exception - no:2\n",
            "[{'code': 63, 'message': 'User has been suspended.'}]\n",
            "\n",
            "187 Tweet fetched = RT @girlsreallyrule: The lights are out at the Statue of Liberty...that's ONE MORE woman America CANNOT do without. #adaywithoutwomen #Ligh…\n",
            "188 Tweet fetched = RT @SriSri: Women possess a unique combination of will,determination &amp; emotions.They can protect,support &amp; uplift the family &amp; society.Happ…\n",
            "189 Tweet fetched = RT @fahriafahri: Women aren't created weaker than men. Women are created stronger to teach &amp; LOVE us. Without Women, everyone's nothing. #I…\n",
            "190 Inside the exception - no:2\n",
            "[{'code': 63, 'message': 'User has been suspended.'}]\n",
            "\n",
            "191 Inside the exception - no:2\n",
            "[{'code': 144, 'message': 'No status found with that ID.'}]\n",
            "\n",
            "192 Tweet fetched = RT @GemmaAnneStyles: Happy #womensday to all my sassy women, classy women, nasty women 💋👧🏾💖👩🏼‍🔬👄👵🏼 my fine women, alive women, gonna fight…\n",
            "193 Inside the exception - no:2\n",
            "[{'code': 144, 'message': 'No status found with that ID.'}]\n",
            "\n",
            "194 Tweet fetched = RT @GemmaAnneStyles: Happy #womensday to all my sassy women, classy women, nasty women 💋👧🏾💖👩🏼‍🔬👄👵🏼 my fine women, alive women, gonna fight…\n",
            "195 Tweet fetched = RT @GemmaAnneStyles: Happy #womensday to all my sassy women, classy women, nasty women 💋👧🏾💖👩🏼‍🔬👄👵🏼 my fine women, alive women, gonna fight…\n",
            "196 Inside the exception - no:2\n",
            "[{'code': 144, 'message': 'No status found with that ID.'}]\n",
            "\n",
            "197 Inside the exception - no:2\n",
            "[{'code': 144, 'message': 'No status found with that ID.'}]\n",
            "\n",
            "198 Inside the exception - no:2\n",
            "[{'code': 63, 'message': 'User has been suspended.'}]\n",
            "\n",
            "199 Inside the exception - no:2\n",
            "[{'code': 63, 'message': 'User has been suspended.'}]\n",
            "\n"
          ],
          "name": "stdout"
        }
      ]
    },
    {
      "cell_type": "markdown",
      "metadata": {
        "id": "W4DtaskYkeSy"
      },
      "source": [
        "**Convert to dataframe and save**"
      ]
    },
    {
      "cell_type": "code",
      "metadata": {
        "id": "0wUkAR-KAhIm"
      },
      "source": [
        "res= pd.DataFrame(resultFile)"
      ],
      "execution_count": 24,
      "outputs": []
    },
    {
      "cell_type": "code",
      "metadata": {
        "id": "H8j9pKXXrhuj"
      },
      "source": [
        "res.to_csv('first200.csv')"
      ],
      "execution_count": 25,
      "outputs": []
    },
    {
      "cell_type": "code",
      "metadata": {
        "colab": {
          "base_uri": "https://localhost:8080/"
        },
        "id": "B68B6tl_rtl-",
        "outputId": "13648e2a-4cc6-4677-c31e-5a0172f29784"
      },
      "source": [
        "print(res.loc[3][0])"
      ],
      "execution_count": 27,
      "outputs": [
        {
          "output_type": "stream",
          "text": [
            "\"she parties like a man but loves like a woman\"\n"
          ],
          "name": "stdout"
        }
      ]
    },
    {
      "cell_type": "markdown",
      "metadata": {
        "id": "73G_nRnxktAo"
      },
      "source": [
        "# Preprocess tweets"
      ]
    },
    {
      "cell_type": "markdown",
      "metadata": {
        "id": "cKVbxdfJk8I0"
      },
      "source": [
        "**Import required libraries and datasets**"
      ]
    },
    {
      "cell_type": "code",
      "metadata": {
        "id": "cnKAC3d7c-gA"
      },
      "source": [
        "import pandas as pd\n",
        "import re\n",
        "!pip install emoji #to remove emojis from the tweets\n",
        "import emoji\n",
        "csv1= pd.read_csv('first200.csv', header= None)\n",
        "csv2= pd.read_csv('1500to4520.csv', header= None)\n",
        "csv3= pd.read_csv('4520.csv', header= None) "
      ],
      "execution_count": null,
      "outputs": []
    },
    {
      "cell_type": "code",
      "metadata": {
        "id": "8-xv7F0jfUcP"
      },
      "source": [
        "csv= pd.concat([csv1, csv2, csv3]) #concatenating the files obtained by running for 3 attempts"
      ],
      "execution_count": null,
      "outputs": []
    },
    {
      "cell_type": "code",
      "metadata": {
        "id": "ETqaUzbNfsfv"
      },
      "source": [
        "csv.drop([0], axis=1, inplace= True) #do .head() before to check if 0th col or row has to be removed\n",
        "csv.drop([0], axis=0, inplace= True)"
      ],
      "execution_count": null,
      "outputs": []
    },
    {
      "cell_type": "code",
      "metadata": {
        "colab": {
          "base_uri": "https://localhost:8080/",
          "height": 202
        },
        "id": "b8tXz8Q0fmJU",
        "outputId": "b18adfc0-4d68-4248-d145-2b5ecbb2c9be"
      },
      "source": [
        "csv.head()"
      ],
      "execution_count": null,
      "outputs": [
        {
          "output_type": "execute_result",
          "data": {
            "text/html": [
              "<div>\n",
              "<style scoped>\n",
              "    .dataframe tbody tr th:only-of-type {\n",
              "        vertical-align: middle;\n",
              "    }\n",
              "\n",
              "    .dataframe tbody tr th {\n",
              "        vertical-align: top;\n",
              "    }\n",
              "\n",
              "    .dataframe thead th {\n",
              "        text-align: right;\n",
              "    }\n",
              "</style>\n",
              "<table border=\"1\" class=\"dataframe\">\n",
              "  <thead>\n",
              "    <tr style=\"text-align: right;\">\n",
              "      <th></th>\n",
              "      <th>1</th>\n",
              "    </tr>\n",
              "  </thead>\n",
              "  <tbody>\n",
              "    <tr>\n",
              "      <th>1</th>\n",
              "      <td>RT @GemmaAnneStyles: Happy #womensday to all m...</td>\n",
              "    </tr>\n",
              "    <tr>\n",
              "      <th>2</th>\n",
              "      <td>RT @girlsreallyrule: The lights are out at the...</td>\n",
              "    </tr>\n",
              "    <tr>\n",
              "      <th>3</th>\n",
              "      <td>RT @antonioguterres: We can’t achieve any of o...</td>\n",
              "    </tr>\n",
              "    <tr>\n",
              "      <th>4</th>\n",
              "      <td>\"she parties like a man but loves like a woman\"</td>\n",
              "    </tr>\n",
              "    <tr>\n",
              "      <th>5</th>\n",
              "      <td>RT @GemmaAnneStyles: Happy #womensday to all m...</td>\n",
              "    </tr>\n",
              "  </tbody>\n",
              "</table>\n",
              "</div>"
            ],
            "text/plain": [
              "                                                   1\n",
              "1  RT @GemmaAnneStyles: Happy #womensday to all m...\n",
              "2  RT @girlsreallyrule: The lights are out at the...\n",
              "3  RT @antonioguterres: We can’t achieve any of o...\n",
              "4    \"she parties like a man but loves like a woman\"\n",
              "5  RT @GemmaAnneStyles: Happy #womensday to all m..."
            ]
          },
          "metadata": {
            "tags": []
          },
          "execution_count": 89
        }
      ]
    },
    {
      "cell_type": "markdown",
      "metadata": {
        "id": "XtE7FkxJlH3r"
      },
      "source": [
        "**Remove retweets**"
      ]
    },
    {
      "cell_type": "code",
      "metadata": {
        "id": "-pkIb6LPf_BG"
      },
      "source": [
        "csv.drop_duplicates(inplace=True) #duplicate tweets"
      ],
      "execution_count": null,
      "outputs": []
    },
    {
      "cell_type": "code",
      "metadata": {
        "colab": {
          "base_uri": "https://localhost:8080/",
          "height": 220
        },
        "id": "S2tznu6pgVDW",
        "outputId": "3b621051-7d61-4f5d-9f79-5db633bd7a34"
      },
      "source": [
        "print(len(csv))\n",
        "csv.head()"
      ],
      "execution_count": null,
      "outputs": [
        {
          "output_type": "stream",
          "text": [
            "401\n"
          ],
          "name": "stdout"
        },
        {
          "output_type": "execute_result",
          "data": {
            "text/html": [
              "<div>\n",
              "<style scoped>\n",
              "    .dataframe tbody tr th:only-of-type {\n",
              "        vertical-align: middle;\n",
              "    }\n",
              "\n",
              "    .dataframe tbody tr th {\n",
              "        vertical-align: top;\n",
              "    }\n",
              "\n",
              "    .dataframe thead th {\n",
              "        text-align: right;\n",
              "    }\n",
              "</style>\n",
              "<table border=\"1\" class=\"dataframe\">\n",
              "  <thead>\n",
              "    <tr style=\"text-align: right;\">\n",
              "      <th></th>\n",
              "      <th>1</th>\n",
              "    </tr>\n",
              "  </thead>\n",
              "  <tbody>\n",
              "    <tr>\n",
              "      <th>1</th>\n",
              "      <td>RT @GemmaAnneStyles: Happy #womensday to all m...</td>\n",
              "    </tr>\n",
              "    <tr>\n",
              "      <th>2</th>\n",
              "      <td>RT @girlsreallyrule: The lights are out at the...</td>\n",
              "    </tr>\n",
              "    <tr>\n",
              "      <th>3</th>\n",
              "      <td>RT @antonioguterres: We can’t achieve any of o...</td>\n",
              "    </tr>\n",
              "    <tr>\n",
              "      <th>4</th>\n",
              "      <td>\"she parties like a man but loves like a woman\"</td>\n",
              "    </tr>\n",
              "    <tr>\n",
              "      <th>6</th>\n",
              "      <td>RT @xanria_018: Lucky is the man who is the fi...</td>\n",
              "    </tr>\n",
              "  </tbody>\n",
              "</table>\n",
              "</div>"
            ],
            "text/plain": [
              "                                                   1\n",
              "1  RT @GemmaAnneStyles: Happy #womensday to all m...\n",
              "2  RT @girlsreallyrule: The lights are out at the...\n",
              "3  RT @antonioguterres: We can’t achieve any of o...\n",
              "4    \"she parties like a man but loves like a woman\"\n",
              "6  RT @xanria_018: Lucky is the man who is the fi..."
            ]
          },
          "metadata": {
            "tags": []
          },
          "execution_count": 91
        }
      ]
    },
    {
      "cell_type": "code",
      "metadata": {
        "id": "5NOANpvDhdYd"
      },
      "source": [
        "csv.reset_index(inplace=True)\n",
        "csv.drop(['index'], axis=1,inplace= True) "
      ],
      "execution_count": null,
      "outputs": []
    },
    {
      "cell_type": "markdown",
      "metadata": {
        "id": "h1oVZKmClP0a"
      },
      "source": [
        "**Remove @mentions along with emojis and website mentions as they are not important for our task**"
      ]
    },
    {
      "cell_type": "code",
      "metadata": {
        "id": "9AkdNg6WhxNP"
      },
      "source": [
        "def preprocess(df):\n",
        "  df[1]= [re.sub('((www\\.[^\\s]+)|(https?://[^\\s]+)|(http?://[^\\s]+))', '', ln) for ln in df[1]] #remove websites\n",
        "  df[1]= [re.sub(r'http\\S+', '', ln) for ln in df[1]] \n",
        "  df[1]= [re.sub('@[^\\s]+', '', ln) for ln in df[1]] #remove account mentions\n",
        "  df[1]= [emoji.get_emoji_regexp().sub(u'', ln) for ln in df[1]] #remove emojis\n",
        "  df[1]= [ln.split() for ln in df[1]] \n",
        "  \n",
        "  for i,ln in enumerate(df[1]):\n",
        "    try:\n",
        "      ln.remove('RT') #remove retweets\n",
        "    except:\n",
        "      continue\n",
        "    df.iloc[i,0]=ln\n",
        "  [print(ln) for ln in df[1]]\n",
        "  return df"
      ],
      "execution_count": null,
      "outputs": []
    },
    {
      "cell_type": "markdown",
      "metadata": {
        "id": "QftcJb1Blc8h"
      },
      "source": [
        "**Remove any null values**"
      ]
    },
    {
      "cell_type": "code",
      "metadata": {
        "id": "G2kTLsjUBfYp"
      },
      "source": [
        "csv.dropna(inplace= True) #remove any null values"
      ],
      "execution_count": null,
      "outputs": []
    },
    {
      "cell_type": "code",
      "metadata": {
        "id": "fbrCdzipCpX7"
      },
      "source": [
        "csv= preprocess(csv)"
      ],
      "execution_count": null,
      "outputs": []
    },
    {
      "cell_type": "code",
      "metadata": {
        "colab": {
          "base_uri": "https://localhost:8080/",
          "height": 202
        },
        "id": "HMHAf6OZKdeR",
        "outputId": "4a3788b2-46f1-4631-b2ce-defcb773c27a"
      },
      "source": [
        "csv.head()"
      ],
      "execution_count": null,
      "outputs": [
        {
          "output_type": "execute_result",
          "data": {
            "text/html": [
              "<div>\n",
              "<style scoped>\n",
              "    .dataframe tbody tr th:only-of-type {\n",
              "        vertical-align: middle;\n",
              "    }\n",
              "\n",
              "    .dataframe tbody tr th {\n",
              "        vertical-align: top;\n",
              "    }\n",
              "\n",
              "    .dataframe thead th {\n",
              "        text-align: right;\n",
              "    }\n",
              "</style>\n",
              "<table border=\"1\" class=\"dataframe\">\n",
              "  <thead>\n",
              "    <tr style=\"text-align: right;\">\n",
              "      <th></th>\n",
              "      <th>1</th>\n",
              "    </tr>\n",
              "  </thead>\n",
              "  <tbody>\n",
              "    <tr>\n",
              "      <th>0</th>\n",
              "      <td>[Happy, #womensday, to, all, my, sassy, women,...</td>\n",
              "    </tr>\n",
              "    <tr>\n",
              "      <th>1</th>\n",
              "      <td>[The, lights, are, out, at, the, Statue, of, L...</td>\n",
              "    </tr>\n",
              "    <tr>\n",
              "      <th>2</th>\n",
              "      <td>[We, can’t, achieve, any, of, our, goals, with...</td>\n",
              "    </tr>\n",
              "    <tr>\n",
              "      <th>3</th>\n",
              "      <td>[\"she, parties, like, a, man, but, loves, like...</td>\n",
              "    </tr>\n",
              "    <tr>\n",
              "      <th>4</th>\n",
              "      <td>[Lucky, is, the, man, who, is, the, first, lov...</td>\n",
              "    </tr>\n",
              "  </tbody>\n",
              "</table>\n",
              "</div>"
            ],
            "text/plain": [
              "                                                   1\n",
              "0  [Happy, #womensday, to, all, my, sassy, women,...\n",
              "1  [The, lights, are, out, at, the, Statue, of, L...\n",
              "2  [We, can’t, achieve, any, of, our, goals, with...\n",
              "3  [\"she, parties, like, a, man, but, loves, like...\n",
              "4  [Lucky, is, the, man, who, is, the, first, lov..."
            ]
          },
          "metadata": {
            "tags": []
          },
          "execution_count": 96
        }
      ]
    },
    {
      "cell_type": "markdown",
      "metadata": {
        "id": "EdHYNI4Llh3n"
      },
      "source": [
        "**Rejoin the split strings as they will be tokenized later as per the model requirements**"
      ]
    },
    {
      "cell_type": "code",
      "metadata": {
        "colab": {
          "base_uri": "https://localhost:8080/"
        },
        "id": "-Brq0ePDKZLb",
        "outputId": "88894b10-10f4-4c06-b4ed-8d20b8192150"
      },
      "source": [
        "csv=csv[1].str.join(\" \")"
      ],
      "execution_count": null,
      "outputs": [
        {
          "output_type": "execute_result",
          "data": {
            "text/plain": [
              "0      Happy #womensday to all my sassy women, classy...\n",
              "1      The lights are out at the Statue of Liberty......\n",
              "2      We can’t achieve any of our goals without the ...\n",
              "3        \"she parties like a man but loves like a woman\"\n",
              "4      Lucky is the man who is the first love of a wo...\n",
              "                             ...                        \n",
              "396    Literally can eat a whole pizza to myself .......\n",
              "397    'THE BIGGEST COWARD OF A MAN IS TO AWAKEN THE ...\n",
              "398    We want to construct a different world of work...\n",
              "399    Do not awaken the love of a woman, without the...\n",
              "400    Nothing better in this world than a man making...\n",
              "Name: 1, Length: 400, dtype: object"
            ]
          },
          "metadata": {
            "tags": []
          },
          "execution_count": 97
        }
      ]
    },
    {
      "cell_type": "markdown",
      "metadata": {
        "id": "A6JsQ8lRlqhN"
      },
      "source": [
        "**Save the dataset**"
      ]
    },
    {
      "cell_type": "code",
      "metadata": {
        "id": "KMQ77wthKiiP"
      },
      "source": [
        "csv.to_csv(\"Benevolent_sexism.csv\")"
      ],
      "execution_count": null,
      "outputs": []
    }
  ]
}