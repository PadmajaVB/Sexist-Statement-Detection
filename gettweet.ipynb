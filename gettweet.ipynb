{
  "nbformat": 4,
  "nbformat_minor": 0,
  "metadata": {
    "colab": {
      "name": "gettweet.ipynb",
      "provenance": [],
      "collapsed_sections": [],
      "authorship_tag": "ABX9TyP75xdoTfq9yidpi3lPlUbj",
      "include_colab_link": true
    },
    "kernelspec": {
      "name": "python3",
      "display_name": "Python 3"
    },
    "language_info": {
      "name": "python"
    }
  },
  "cells": [
    {
      "cell_type": "markdown",
      "metadata": {
        "id": "view-in-github",
        "colab_type": "text"
      },
      "source": [
        "<a href=\"https://colab.research.google.com/github/PadmajaVB/Sexist-Statement-Detection/blob/main/gettweet.ipynb\" target=\"_parent\"><img src=\"https://colab.research.google.com/assets/colab-badge.svg\" alt=\"Open In Colab\"/></a>"
      ]
    },
    {
      "cell_type": "code",
      "metadata": {
        "id": "5PbDw6BU88Xz"
      },
      "source": [
        "import tweepy\n",
        "\n",
        "# Twitter Developer keys here\n",
        "# USED TO COMMUNICATE TO THE TWITTER API\n",
        "consumer_key = 'DYblLECW6ZxgdNmZbOL5Vsbty'\n",
        "consumer_key_secret = '5bjrh8S8rNXEVQSMDUl9DX3yYtqXSFFJWJ8r7mwDFgs0cUSF6P'\n",
        "access_token = '1089903230992056320-rpusTvBh7re56F64sj7YoTCeMLrDcb'\n",
        "access_token_secret = '1ksc9eaJer3c5cQc6HYVG5UCqkPdL8I3Eb1Oz1dQxieh9'\n"
      ],
      "execution_count": null,
      "outputs": []
    },
    {
      "cell_type": "code",
      "metadata": {
        "id": "lovZudwx9DP_"
      },
      "source": [
        "#set up the API for fetching\n",
        "auth = tweepy.OAuthHandler(consumer_key, consumer_key_secret) \n",
        "auth.set_access_token(access_token, access_token_secret)\n",
        "api = tweepy.API(auth)"
      ],
      "execution_count": null,
      "outputs": []
    },
    {
      "cell_type": "code",
      "metadata": {
        "id": "jUyIDTm9CvkX"
      },
      "source": [
        "# This is corpus dataset\n",
        "import pandas as pd\n",
        "#tweet id form (check this tsv for format)\n",
        "corpusFile = \"benevolent_sexist.tsv\"\n",
        "df= pd.read_csv(corpusFile, header= None)\n"
      ],
      "execution_count": null,
      "outputs": []
    },
    {
      "cell_type": "code",
      "metadata": {
        "id": "uZr4_0dH89B3"
      },
      "source": [
        "# This method creates the training set\n",
        "def createTrainingSet(corpusFile):\n",
        "    import csv\n",
        "    import time\n",
        "\n",
        "    c=0\n",
        "    #print(corpusFile.head())\n",
        "    #Get each id as part of the list\n",
        "    corpus = [id for id in corpusFile[0]]\n",
        "\n",
        "    \n",
        "\n",
        "    sleepTime = 4\n",
        "    trainingDataSet = []\n",
        "    #Do not send more than 1500 ids at once else you will have to wait for 1 hour to cooldown\n",
        "    for tweet in corpus:\n",
        "        try:\n",
        "            tweetFetched = api.get_status(tweet) #get the metadeta\n",
        "            print(c,\"Tweet fetched\" + tweetFetched.text)\n",
        "            c+=1 #counter for seeing which tweet index is being fetched\n",
        "            time.sleep(sleepTime) #for the API to cool down\n",
        "            trainingDataSet.append(tweetFetched.text)\n",
        "            \n",
        "\n",
        "        except Exception as e:\n",
        "            print(c,\"Inside the exception - no:2\")\n",
        "            print(e)\n",
        "            c+=1\n",
        "            print()\n",
        "            time.sleep(2)\n",
        "            continue\n",
        "    #return in list       \n",
        "    return trainingDataSet\n",
        "    \n"
      ],
      "execution_count": null,
      "outputs": []
    },
    {
      "cell_type": "code",
      "metadata": {
        "id": "PO_nFDgfAZUu"
      },
      "source": [
        "resultFile = createTrainingSet(df)"
      ],
      "execution_count": null,
      "outputs": []
    },
    {
      "cell_type": "code",
      "metadata": {
        "id": "0wUkAR-KAhIm"
      },
      "source": [
        "res= pd.DataFrame(resultFile)"
      ],
      "execution_count": null,
      "outputs": []
    },
    {
      "cell_type": "code",
      "metadata": {
        "id": "H8j9pKXXrhuj"
      },
      "source": [
        "res.to_csv('samplename.csv')"
      ],
      "execution_count": null,
      "outputs": []
    },
    {
      "cell_type": "code",
      "metadata": {
        "colab": {
          "base_uri": "https://localhost:8080/"
        },
        "id": "B68B6tl_rtl-",
        "outputId": "9752b9bc-d307-4f79-9435-5c29da6ae466"
      },
      "source": [
        "print(res.loc[2][0])"
      ],
      "execution_count": null,
      "outputs": [
        {
          "output_type": "stream",
          "text": [
            "RT @ConstanceQueen8: #ADayWithoutWomen Trump Women\n",
            "Think Differently\n",
            "Don't Neglect Responsibilities \n",
            "Don't Whine &amp; Complain\n",
            "Recognize &amp; Che…\n"
          ],
          "name": "stdout"
        }
      ]
    }
  ]
}