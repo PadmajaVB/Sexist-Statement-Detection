{
  "nbformat": 4,
  "nbformat_minor": 0,
  "metadata": {
    "colab": {
      "name": "gettweet.ipynb",
      "provenance": [],
      "collapsed_sections": [],
      "include_colab_link": true
    },
    "kernelspec": {
      "name": "python3",
      "display_name": "Python 3"
    },
    "language_info": {
      "name": "python"
    }
  },
  "cells": [
    {
      "cell_type": "markdown",
      "metadata": {
        "id": "view-in-github",
        "colab_type": "text"
      },
      "source": [
        "<a href=\"https://colab.research.google.com/github/PadmajaVB/Sexist-Statement-Detection/blob/main/gettweet.ipynb\" target=\"_parent\"><img src=\"https://colab.research.google.com/assets/colab-badge.svg\" alt=\"Open In Colab\"/></a>"
      ]
    },
    {
      "cell_type": "code",
      "metadata": {
        "colab": {
          "base_uri": "https://localhost:8080/"
        },
        "id": "5R41_W8GsK5E",
        "outputId": "fc13fbb6-2ba4-429b-de6e-c24654911616"
      },
      "source": [
        "from google.colab import drive\n",
        "drive.mount('/content/drive')"
      ],
      "execution_count": 29,
      "outputs": [
        {
          "output_type": "stream",
          "text": [
            "Drive already mounted at /content/drive; to attempt to forcibly remount, call drive.mount(\"/content/drive\", force_remount=True).\n"
          ],
          "name": "stdout"
        }
      ]
    },
    {
      "cell_type": "code",
      "metadata": {
        "id": "5PbDw6BU88Xz"
      },
      "source": [
        "import tweepy\n",
        "\n",
        "# Twitter Developer keys here\n",
        "# USED TO COMMUNICATE TO THE TWITTER API\n",
        "consumer_key = 'DYblLECW6ZxgdNmZbOL5Vsbty'\n",
        "consumer_key_secret = '5bjrh8S8rNXEVQSMDUl9DX3yYtqXSFFJWJ8r7mwDFgs0cUSF6P'\n",
        "access_token = '1089903230992056320-rpusTvBh7re56F64sj7YoTCeMLrDcb'\n",
        "access_token_secret = '1ksc9eaJer3c5cQc6HYVG5UCqkPdL8I3Eb1Oz1dQxieh9'\n"
      ],
      "execution_count": 35,
      "outputs": []
    },
    {
      "cell_type": "code",
      "metadata": {
        "id": "lovZudwx9DP_"
      },
      "source": [
        "#set up the API for fetching\n",
        "auth = tweepy.OAuthHandler(consumer_key, consumer_key_secret) \n",
        "auth.set_access_token(access_token, access_token_secret)\n",
        "api = tweepy.API(auth)"
      ],
      "execution_count": 36,
      "outputs": []
    },
    {
      "cell_type": "code",
      "metadata": {
        "id": "jUyIDTm9CvkX"
      },
      "source": [
        "# This is corpus dataset\n",
        "import pandas as pd\n",
        "#tweet id form (check this tsv for format)\n",
        "corpusFile = \"/content/drive/MyDrive/UnivAI/AI-3 Project/data/NLP_CSS_2017-master/NAACL_SRW_2016.csv\"\n",
        "df= pd.read_csv(corpusFile, header= None)\n"
      ],
      "execution_count": 37,
      "outputs": []
    },
    {
      "cell_type": "code",
      "metadata": {
        "id": "uZr4_0dH89B3"
      },
      "source": [
        "# This method creates the training set\n",
        "def createTrainingSet(corpusFile):\n",
        "    import csv\n",
        "    import time\n",
        "\n",
        "    c=0\n",
        "    #print(corpusFile.head())\n",
        "    #Get each id as part of the list\n",
        "    corpus = list(df[df[1]=='none'][0])\n",
        "\n",
        "    sleepTime = 4\n",
        "    trainingDataSet = []\n",
        "    #Do not send more than 1500 ids at once else you will have to wait for 1 hour to cooldown\n",
        "    for tweet in corpus[-10:]:\n",
        "        try:\n",
        "            tweetFetched = api.get_status(tweet) #get the metadeta\n",
        "            print(c,\"Tweet fetched = \" + tweetFetched.text)\n",
        "            c+=1 #counter for seeing which tweet index is being fetched\n",
        "            time.sleep(sleepTime) #for the API to cool down\n",
        "            trainingDataSet.append(tweetFetched.text)\n",
        "        except Exception as e:\n",
        "            print(c,\"Inside the exception - no:2\")\n",
        "            print(e)\n",
        "            c+=1\n",
        "            print()\n",
        "            time.sleep(10)\n",
        "            continue\n",
        "    #return in list       \n",
        "    return trainingDataSet\n",
        "    \n"
      ],
      "execution_count": 42,
      "outputs": []
    },
    {
      "cell_type": "code",
      "metadata": {
        "id": "PO_nFDgfAZUu",
        "colab": {
          "base_uri": "https://localhost:8080/",
          "height": 477
        },
        "outputId": "0aa8a20c-c1e5-4736-8ba1-b600e4ad136a"
      },
      "source": [
        "resultFile = createTrainingSet(df)"
      ],
      "execution_count": 43,
      "outputs": [
        {
          "output_type": "stream",
          "text": [
            "0 Inside the exception - no:2\n",
            "[{'code': 63, 'message': 'User has been suspended.'}]\n",
            "\n"
          ],
          "name": "stdout"
        },
        {
          "output_type": "error",
          "ename": "KeyboardInterrupt",
          "evalue": "ignored",
          "traceback": [
            "\u001b[0;31m---------------------------------------------------------------------------\u001b[0m",
            "\u001b[0;31mTweepError\u001b[0m                                Traceback (most recent call last)",
            "\u001b[0;32m<ipython-input-42-159b67b3f7e1>\u001b[0m in \u001b[0;36mcreateTrainingSet\u001b[0;34m(corpusFile)\u001b[0m\n\u001b[1;32m     15\u001b[0m         \u001b[0;32mtry\u001b[0m\u001b[0;34m:\u001b[0m\u001b[0;34m\u001b[0m\u001b[0;34m\u001b[0m\u001b[0m\n\u001b[0;32m---> 16\u001b[0;31m             \u001b[0mtweetFetched\u001b[0m \u001b[0;34m=\u001b[0m \u001b[0mapi\u001b[0m\u001b[0;34m.\u001b[0m\u001b[0mget_status\u001b[0m\u001b[0;34m(\u001b[0m\u001b[0mtweet\u001b[0m\u001b[0;34m)\u001b[0m \u001b[0;31m#get the metadeta\u001b[0m\u001b[0;34m\u001b[0m\u001b[0;34m\u001b[0m\u001b[0m\n\u001b[0m\u001b[1;32m     17\u001b[0m             \u001b[0mprint\u001b[0m\u001b[0;34m(\u001b[0m\u001b[0mc\u001b[0m\u001b[0;34m,\u001b[0m\u001b[0;34m\"Tweet fetched = \"\u001b[0m \u001b[0;34m+\u001b[0m \u001b[0mtweetFetched\u001b[0m\u001b[0;34m.\u001b[0m\u001b[0mtext\u001b[0m\u001b[0;34m)\u001b[0m\u001b[0;34m\u001b[0m\u001b[0;34m\u001b[0m\u001b[0m\n",
            "\u001b[0;32m/usr/local/lib/python3.7/dist-packages/tweepy/binder.py\u001b[0m in \u001b[0;36m_call\u001b[0;34m(*args, **kwargs)\u001b[0m\n\u001b[1;32m    252\u001b[0m             \u001b[0;32melse\u001b[0m\u001b[0;34m:\u001b[0m\u001b[0;34m\u001b[0m\u001b[0;34m\u001b[0m\u001b[0m\n\u001b[0;32m--> 253\u001b[0;31m                 \u001b[0;32mreturn\u001b[0m \u001b[0mmethod\u001b[0m\u001b[0;34m.\u001b[0m\u001b[0mexecute\u001b[0m\u001b[0;34m(\u001b[0m\u001b[0;34m)\u001b[0m\u001b[0;34m\u001b[0m\u001b[0;34m\u001b[0m\u001b[0m\n\u001b[0m\u001b[1;32m    254\u001b[0m         \u001b[0;32mfinally\u001b[0m\u001b[0;34m:\u001b[0m\u001b[0;34m\u001b[0m\u001b[0;34m\u001b[0m\u001b[0m\n",
            "\u001b[0;32m/usr/local/lib/python3.7/dist-packages/tweepy/binder.py\u001b[0m in \u001b[0;36mexecute\u001b[0;34m(self)\u001b[0m\n\u001b[1;32m    233\u001b[0m                 \u001b[0;32melse\u001b[0m\u001b[0;34m:\u001b[0m\u001b[0;34m\u001b[0m\u001b[0;34m\u001b[0m\u001b[0m\n\u001b[0;32m--> 234\u001b[0;31m                     \u001b[0;32mraise\u001b[0m \u001b[0mTweepError\u001b[0m\u001b[0;34m(\u001b[0m\u001b[0merror_msg\u001b[0m\u001b[0;34m,\u001b[0m \u001b[0mresp\u001b[0m\u001b[0;34m,\u001b[0m \u001b[0mapi_code\u001b[0m\u001b[0;34m=\u001b[0m\u001b[0mapi_error_code\u001b[0m\u001b[0;34m)\u001b[0m\u001b[0;34m\u001b[0m\u001b[0;34m\u001b[0m\u001b[0m\n\u001b[0m\u001b[1;32m    235\u001b[0m \u001b[0;34m\u001b[0m\u001b[0m\n",
            "\u001b[0;31mTweepError\u001b[0m: [{'code': 63, 'message': 'User has been suspended.'}]",
            "\nDuring handling of the above exception, another exception occurred:\n",
            "\u001b[0;31mKeyboardInterrupt\u001b[0m                         Traceback (most recent call last)",
            "\u001b[0;32m<ipython-input-43-ca1bc8d955d7>\u001b[0m in \u001b[0;36m<module>\u001b[0;34m()\u001b[0m\n\u001b[0;32m----> 1\u001b[0;31m \u001b[0mresultFile\u001b[0m \u001b[0;34m=\u001b[0m \u001b[0mcreateTrainingSet\u001b[0m\u001b[0;34m(\u001b[0m\u001b[0mdf\u001b[0m\u001b[0;34m)\u001b[0m\u001b[0;34m\u001b[0m\u001b[0;34m\u001b[0m\u001b[0m\n\u001b[0m",
            "\u001b[0;32m<ipython-input-42-159b67b3f7e1>\u001b[0m in \u001b[0;36mcreateTrainingSet\u001b[0;34m(corpusFile)\u001b[0m\n\u001b[1;32m     24\u001b[0m             \u001b[0mc\u001b[0m\u001b[0;34m+=\u001b[0m\u001b[0;36m1\u001b[0m\u001b[0;34m\u001b[0m\u001b[0;34m\u001b[0m\u001b[0m\n\u001b[1;32m     25\u001b[0m             \u001b[0mprint\u001b[0m\u001b[0;34m(\u001b[0m\u001b[0;34m)\u001b[0m\u001b[0;34m\u001b[0m\u001b[0;34m\u001b[0m\u001b[0m\n\u001b[0;32m---> 26\u001b[0;31m             \u001b[0mtime\u001b[0m\u001b[0;34m.\u001b[0m\u001b[0msleep\u001b[0m\u001b[0;34m(\u001b[0m\u001b[0;36m10\u001b[0m\u001b[0;34m)\u001b[0m\u001b[0;34m\u001b[0m\u001b[0;34m\u001b[0m\u001b[0m\n\u001b[0m\u001b[1;32m     27\u001b[0m             \u001b[0;32mcontinue\u001b[0m\u001b[0;34m\u001b[0m\u001b[0;34m\u001b[0m\u001b[0m\n\u001b[1;32m     28\u001b[0m     \u001b[0;31m#return in list\u001b[0m\u001b[0;34m\u001b[0m\u001b[0;34m\u001b[0m\u001b[0;34m\u001b[0m\u001b[0m\n",
            "\u001b[0;31mKeyboardInterrupt\u001b[0m: "
          ]
        }
      ]
    },
    {
      "cell_type": "code",
      "metadata": {
        "id": "0wUkAR-KAhIm"
      },
      "source": [
        "res= pd.DataFrame(resultFile)"
      ],
      "execution_count": 14,
      "outputs": []
    },
    {
      "cell_type": "code",
      "metadata": {
        "id": "H8j9pKXXrhuj"
      },
      "source": [
        "res.to_csv('samplename.csv')"
      ],
      "execution_count": null,
      "outputs": []
    },
    {
      "cell_type": "code",
      "metadata": {
        "colab": {
          "base_uri": "https://localhost:8080/"
        },
        "id": "B68B6tl_rtl-",
        "outputId": "9752b9bc-d307-4f79-9435-5c29da6ae466"
      },
      "source": [
        "print(res.loc[2][0])"
      ],
      "execution_count": null,
      "outputs": [
        {
          "output_type": "stream",
          "text": [
            "RT @ConstanceQueen8: #ADayWithoutWomen Trump Women\n",
            "Think Differently\n",
            "Don't Neglect Responsibilities \n",
            "Don't Whine &amp; Complain\n",
            "Recognize &amp; Che…\n"
          ],
          "name": "stdout"
        }
      ]
    }
  ]
}