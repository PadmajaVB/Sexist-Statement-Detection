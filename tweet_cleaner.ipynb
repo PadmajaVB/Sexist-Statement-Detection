{
  "nbformat": 4,
  "nbformat_minor": 0,
  "metadata": {
    "colab": {
      "name": "tweet_cleaner.ipynb",
      "provenance": [],
      "authorship_tag": "ABX9TyNwUNel2GIoqe8m5a+5mpe+",
      "include_colab_link": true
    },
    "kernelspec": {
      "name": "python3",
      "display_name": "Python 3"
    },
    "language_info": {
      "name": "python"
    }
  },
  "cells": [
    {
      "cell_type": "markdown",
      "metadata": {
        "id": "view-in-github",
        "colab_type": "text"
      },
      "source": [
        "<a href=\"https://colab.research.google.com/github/PadmajaVB/Sexist-Statement-Detection/blob/main/tweet_cleaner.ipynb\" target=\"_parent\"><img src=\"https://colab.research.google.com/assets/colab-badge.svg\" alt=\"Open In Colab\"/></a>"
      ]
    },
    {
      "cell_type": "code",
      "metadata": {
        "colab": {
          "base_uri": "https://localhost:8080/"
        },
        "id": "cnKAC3d7c-gA",
        "outputId": "d7c6c987-0489-42f0-9907-7c7126a4c4b4"
      },
      "source": [
        "import pandas as pd\n",
        "import re\n",
        "!pip install emoji #to remove emojis from the tweets\n",
        "import emoji\n",
        "csv1= pd.read_csv('first200.csv', header= None)\n",
        "csv2= pd.read_csv('1500to4520.csv', header= None)\n",
        "csv3= pd.read_csv('4520.csv', header= None) "
      ],
      "execution_count": null,
      "outputs": [
        {
          "output_type": "stream",
          "text": [
            "Requirement already satisfied: emoji in /usr/local/lib/python3.7/dist-packages (1.2.0)\n"
          ],
          "name": "stdout"
        }
      ]
    },
    {
      "cell_type": "code",
      "metadata": {
        "id": "8-xv7F0jfUcP"
      },
      "source": [
        "csv= pd.concat([csv1, csv2, csv3]) #concatenating the files obtained by running for 3 attempts"
      ],
      "execution_count": null,
      "outputs": []
    },
    {
      "cell_type": "code",
      "metadata": {
        "id": "ETqaUzbNfsfv"
      },
      "source": [
        "csv.drop([0], axis=1, inplace= True) #do .head() before to check if 0th col or row has to be removed\n",
        "csv.drop([0], axis=0, inplace= True)"
      ],
      "execution_count": null,
      "outputs": []
    },
    {
      "cell_type": "code",
      "metadata": {
        "colab": {
          "base_uri": "https://localhost:8080/",
          "height": 202
        },
        "id": "b8tXz8Q0fmJU",
        "outputId": "b18adfc0-4d68-4248-d145-2b5ecbb2c9be"
      },
      "source": [
        "csv.head()"
      ],
      "execution_count": null,
      "outputs": [
        {
          "output_type": "execute_result",
          "data": {
            "text/html": [
              "<div>\n",
              "<style scoped>\n",
              "    .dataframe tbody tr th:only-of-type {\n",
              "        vertical-align: middle;\n",
              "    }\n",
              "\n",
              "    .dataframe tbody tr th {\n",
              "        vertical-align: top;\n",
              "    }\n",
              "\n",
              "    .dataframe thead th {\n",
              "        text-align: right;\n",
              "    }\n",
              "</style>\n",
              "<table border=\"1\" class=\"dataframe\">\n",
              "  <thead>\n",
              "    <tr style=\"text-align: right;\">\n",
              "      <th></th>\n",
              "      <th>1</th>\n",
              "    </tr>\n",
              "  </thead>\n",
              "  <tbody>\n",
              "    <tr>\n",
              "      <th>1</th>\n",
              "      <td>RT @GemmaAnneStyles: Happy #womensday to all m...</td>\n",
              "    </tr>\n",
              "    <tr>\n",
              "      <th>2</th>\n",
              "      <td>RT @girlsreallyrule: The lights are out at the...</td>\n",
              "    </tr>\n",
              "    <tr>\n",
              "      <th>3</th>\n",
              "      <td>RT @antonioguterres: We can’t achieve any of o...</td>\n",
              "    </tr>\n",
              "    <tr>\n",
              "      <th>4</th>\n",
              "      <td>\"she parties like a man but loves like a woman\"</td>\n",
              "    </tr>\n",
              "    <tr>\n",
              "      <th>5</th>\n",
              "      <td>RT @GemmaAnneStyles: Happy #womensday to all m...</td>\n",
              "    </tr>\n",
              "  </tbody>\n",
              "</table>\n",
              "</div>"
            ],
            "text/plain": [
              "                                                   1\n",
              "1  RT @GemmaAnneStyles: Happy #womensday to all m...\n",
              "2  RT @girlsreallyrule: The lights are out at the...\n",
              "3  RT @antonioguterres: We can’t achieve any of o...\n",
              "4    \"she parties like a man but loves like a woman\"\n",
              "5  RT @GemmaAnneStyles: Happy #womensday to all m..."
            ]
          },
          "metadata": {
            "tags": []
          },
          "execution_count": 89
        }
      ]
    },
    {
      "cell_type": "code",
      "metadata": {
        "id": "-pkIb6LPf_BG"
      },
      "source": [
        "csv.drop_duplicates(inplace=True) #duplicate tweets"
      ],
      "execution_count": null,
      "outputs": []
    },
    {
      "cell_type": "code",
      "metadata": {
        "colab": {
          "base_uri": "https://localhost:8080/",
          "height": 220
        },
        "id": "S2tznu6pgVDW",
        "outputId": "3b621051-7d61-4f5d-9f79-5db633bd7a34"
      },
      "source": [
        "print(len(csv))\n",
        "csv.head()"
      ],
      "execution_count": null,
      "outputs": [
        {
          "output_type": "stream",
          "text": [
            "401\n"
          ],
          "name": "stdout"
        },
        {
          "output_type": "execute_result",
          "data": {
            "text/html": [
              "<div>\n",
              "<style scoped>\n",
              "    .dataframe tbody tr th:only-of-type {\n",
              "        vertical-align: middle;\n",
              "    }\n",
              "\n",
              "    .dataframe tbody tr th {\n",
              "        vertical-align: top;\n",
              "    }\n",
              "\n",
              "    .dataframe thead th {\n",
              "        text-align: right;\n",
              "    }\n",
              "</style>\n",
              "<table border=\"1\" class=\"dataframe\">\n",
              "  <thead>\n",
              "    <tr style=\"text-align: right;\">\n",
              "      <th></th>\n",
              "      <th>1</th>\n",
              "    </tr>\n",
              "  </thead>\n",
              "  <tbody>\n",
              "    <tr>\n",
              "      <th>1</th>\n",
              "      <td>RT @GemmaAnneStyles: Happy #womensday to all m...</td>\n",
              "    </tr>\n",
              "    <tr>\n",
              "      <th>2</th>\n",
              "      <td>RT @girlsreallyrule: The lights are out at the...</td>\n",
              "    </tr>\n",
              "    <tr>\n",
              "      <th>3</th>\n",
              "      <td>RT @antonioguterres: We can’t achieve any of o...</td>\n",
              "    </tr>\n",
              "    <tr>\n",
              "      <th>4</th>\n",
              "      <td>\"she parties like a man but loves like a woman\"</td>\n",
              "    </tr>\n",
              "    <tr>\n",
              "      <th>6</th>\n",
              "      <td>RT @xanria_018: Lucky is the man who is the fi...</td>\n",
              "    </tr>\n",
              "  </tbody>\n",
              "</table>\n",
              "</div>"
            ],
            "text/plain": [
              "                                                   1\n",
              "1  RT @GemmaAnneStyles: Happy #womensday to all m...\n",
              "2  RT @girlsreallyrule: The lights are out at the...\n",
              "3  RT @antonioguterres: We can’t achieve any of o...\n",
              "4    \"she parties like a man but loves like a woman\"\n",
              "6  RT @xanria_018: Lucky is the man who is the fi..."
            ]
          },
          "metadata": {
            "tags": []
          },
          "execution_count": 91
        }
      ]
    },
    {
      "cell_type": "code",
      "metadata": {
        "id": "5NOANpvDhdYd"
      },
      "source": [
        "csv.reset_index(inplace=True)\n",
        "csv.drop(['index'], axis=1,inplace= True) "
      ],
      "execution_count": null,
      "outputs": []
    },
    {
      "cell_type": "code",
      "metadata": {
        "id": "9AkdNg6WhxNP"
      },
      "source": [
        "def preprocess(df):\n",
        "  df[1]= [re.sub('((www\\.[^\\s]+)|(https?://[^\\s]+)|(http?://[^\\s]+))', '', ln) for ln in df[1]] #remove websites\n",
        "  df[1]= [re.sub(r'http\\S+', '', ln) for ln in df[1]] \n",
        "  df[1]= [re.sub('@[^\\s]+', '', ln) for ln in df[1]] #remove account mentions\n",
        "  df[1]= [emoji.get_emoji_regexp().sub(u'', ln) for ln in df[1]] #remove emojis\n",
        "  df[1]= [ln.split() for ln in df[1]] \n",
        "  \n",
        "  for i,ln in enumerate(df[1]):\n",
        "    try:\n",
        "      ln.remove('RT') #remove retweets\n",
        "    except:\n",
        "      continue\n",
        "    df.iloc[i,0]=ln\n",
        "  [print(ln) for ln in df[1]]\n",
        "  return df"
      ],
      "execution_count": null,
      "outputs": []
    },
    {
      "cell_type": "code",
      "metadata": {
        "id": "G2kTLsjUBfYp"
      },
      "source": [
        "csv.dropna(inplace= True) #remove any null values"
      ],
      "execution_count": null,
      "outputs": []
    },
    {
      "cell_type": "code",
      "metadata": {
        "id": "fbrCdzipCpX7"
      },
      "source": [
        "csv= preprocess(csv)"
      ],
      "execution_count": null,
      "outputs": []
    },
    {
      "cell_type": "code",
      "metadata": {
        "colab": {
          "base_uri": "https://localhost:8080/",
          "height": 202
        },
        "id": "HMHAf6OZKdeR",
        "outputId": "4a3788b2-46f1-4631-b2ce-defcb773c27a"
      },
      "source": [
        "csv.head()"
      ],
      "execution_count": null,
      "outputs": [
        {
          "output_type": "execute_result",
          "data": {
            "text/html": [
              "<div>\n",
              "<style scoped>\n",
              "    .dataframe tbody tr th:only-of-type {\n",
              "        vertical-align: middle;\n",
              "    }\n",
              "\n",
              "    .dataframe tbody tr th {\n",
              "        vertical-align: top;\n",
              "    }\n",
              "\n",
              "    .dataframe thead th {\n",
              "        text-align: right;\n",
              "    }\n",
              "</style>\n",
              "<table border=\"1\" class=\"dataframe\">\n",
              "  <thead>\n",
              "    <tr style=\"text-align: right;\">\n",
              "      <th></th>\n",
              "      <th>1</th>\n",
              "    </tr>\n",
              "  </thead>\n",
              "  <tbody>\n",
              "    <tr>\n",
              "      <th>0</th>\n",
              "      <td>[Happy, #womensday, to, all, my, sassy, women,...</td>\n",
              "    </tr>\n",
              "    <tr>\n",
              "      <th>1</th>\n",
              "      <td>[The, lights, are, out, at, the, Statue, of, L...</td>\n",
              "    </tr>\n",
              "    <tr>\n",
              "      <th>2</th>\n",
              "      <td>[We, can’t, achieve, any, of, our, goals, with...</td>\n",
              "    </tr>\n",
              "    <tr>\n",
              "      <th>3</th>\n",
              "      <td>[\"she, parties, like, a, man, but, loves, like...</td>\n",
              "    </tr>\n",
              "    <tr>\n",
              "      <th>4</th>\n",
              "      <td>[Lucky, is, the, man, who, is, the, first, lov...</td>\n",
              "    </tr>\n",
              "  </tbody>\n",
              "</table>\n",
              "</div>"
            ],
            "text/plain": [
              "                                                   1\n",
              "0  [Happy, #womensday, to, all, my, sassy, women,...\n",
              "1  [The, lights, are, out, at, the, Statue, of, L...\n",
              "2  [We, can’t, achieve, any, of, our, goals, with...\n",
              "3  [\"she, parties, like, a, man, but, loves, like...\n",
              "4  [Lucky, is, the, man, who, is, the, first, lov..."
            ]
          },
          "metadata": {
            "tags": []
          },
          "execution_count": 96
        }
      ]
    },
    {
      "cell_type": "code",
      "metadata": {
        "colab": {
          "base_uri": "https://localhost:8080/"
        },
        "id": "-Brq0ePDKZLb",
        "outputId": "88894b10-10f4-4c06-b4ed-8d20b8192150"
      },
      "source": [
        "csv=csv[1].str.join(\" \")"
      ],
      "execution_count": null,
      "outputs": [
        {
          "output_type": "execute_result",
          "data": {
            "text/plain": [
              "0      Happy #womensday to all my sassy women, classy...\n",
              "1      The lights are out at the Statue of Liberty......\n",
              "2      We can’t achieve any of our goals without the ...\n",
              "3        \"she parties like a man but loves like a woman\"\n",
              "4      Lucky is the man who is the first love of a wo...\n",
              "                             ...                        \n",
              "396    Literally can eat a whole pizza to myself .......\n",
              "397    'THE BIGGEST COWARD OF A MAN IS TO AWAKEN THE ...\n",
              "398    We want to construct a different world of work...\n",
              "399    Do not awaken the love of a woman, without the...\n",
              "400    Nothing better in this world than a man making...\n",
              "Name: 1, Length: 400, dtype: object"
            ]
          },
          "metadata": {
            "tags": []
          },
          "execution_count": 97
        }
      ]
    },
    {
      "cell_type": "code",
      "metadata": {
        "id": "KMQ77wthKiiP"
      },
      "source": [
        "csv.to_csv(\"Benevolent_sexism.csv\")"
      ],
      "execution_count": null,
      "outputs": []
    }
  ]
}