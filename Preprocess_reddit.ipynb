{
  "nbformat": 4,
  "nbformat_minor": 0,
  "metadata": {
    "colab": {
      "name": "Preprocess_reddit.ipynb",
      "provenance": [],
      "collapsed_sections": [],
      "authorship_tag": "ABX9TyMVXiY/UTClCvfC1BYqWPo+",
      "include_colab_link": true
    },
    "kernelspec": {
      "name": "python3",
      "display_name": "Python 3"
    },
    "language_info": {
      "name": "python"
    }
  },
  "cells": [
    {
      "cell_type": "markdown",
      "metadata": {
        "id": "view-in-github",
        "colab_type": "text"
      },
      "source": [
        "<a href=\"https://colab.research.google.com/github/PadmajaVB/Sexist-Statement-Detection/blob/main/Preprocess_reddit.ipynb\" target=\"_parent\"><img src=\"https://colab.research.google.com/assets/colab-badge.svg\" alt=\"Open In Colab\"/></a>"
      ]
    },
    {
      "cell_type": "code",
      "metadata": {
        "id": "H2CW5pqz8g2Y"
      },
      "source": [
        "import pandas as pd"
      ],
      "execution_count": null,
      "outputs": []
    },
    {
      "cell_type": "code",
      "metadata": {
        "id": "b1WwYquz6TM7"
      },
      "source": [
        "df_2= pd.read_csv(\"final_labels.csv\", usecols= ['body', 'level_1', 'level_2', 'level_3', 'strength', 'highlight']) #extract only the columns which indicated something about the text"
      ],
      "execution_count": null,
      "outputs": []
    },
    {
      "cell_type": "code",
      "metadata": {
        "colab": {
          "base_uri": "https://localhost:8080/",
          "height": 202
        },
        "id": "NX-jEDez8jRv",
        "outputId": "44aca6c8-0f90-4be2-b6fe-cfc4d6f24876"
      },
      "source": [
        "df_2.head() "
      ],
      "execution_count": null,
      "outputs": [
        {
          "output_type": "execute_result",
          "data": {
            "text/html": [
              "<div>\n",
              "<style scoped>\n",
              "    .dataframe tbody tr th:only-of-type {\n",
              "        vertical-align: middle;\n",
              "    }\n",
              "\n",
              "    .dataframe tbody tr th {\n",
              "        vertical-align: top;\n",
              "    }\n",
              "\n",
              "    .dataframe thead th {\n",
              "        text-align: right;\n",
              "    }\n",
              "</style>\n",
              "<table border=\"1\" class=\"dataframe\">\n",
              "  <thead>\n",
              "    <tr style=\"text-align: right;\">\n",
              "      <th></th>\n",
              "      <th>body</th>\n",
              "      <th>level_1</th>\n",
              "      <th>level_2</th>\n",
              "      <th>level_3</th>\n",
              "      <th>strength</th>\n",
              "      <th>highlight</th>\n",
              "    </tr>\n",
              "  </thead>\n",
              "  <tbody>\n",
              "    <tr>\n",
              "      <th>0</th>\n",
              "      <td>Do you have the skin of a 80 year old grandma?...</td>\n",
              "      <td>Nonmisogynistic</td>\n",
              "      <td>None_of_the_categories</td>\n",
              "      <td>NaN</td>\n",
              "      <td>NaN</td>\n",
              "      <td>NaN</td>\n",
              "    </tr>\n",
              "    <tr>\n",
              "      <th>1</th>\n",
              "      <td>This is taking a grain of truth and extrapolat...</td>\n",
              "      <td>Nonmisogynistic</td>\n",
              "      <td>None_of_the_categories</td>\n",
              "      <td>NaN</td>\n",
              "      <td>NaN</td>\n",
              "      <td>NaN</td>\n",
              "    </tr>\n",
              "    <tr>\n",
              "      <th>2</th>\n",
              "      <td>Honestly my favorite thing about this is that ...</td>\n",
              "      <td>Nonmisogynistic</td>\n",
              "      <td>None_of_the_categories</td>\n",
              "      <td>NaN</td>\n",
              "      <td>NaN</td>\n",
              "      <td>NaN</td>\n",
              "    </tr>\n",
              "    <tr>\n",
              "      <th>3</th>\n",
              "      <td>Source? Doesnt sound right to me idk</td>\n",
              "      <td>Nonmisogynistic</td>\n",
              "      <td>None_of_the_categories</td>\n",
              "      <td>NaN</td>\n",
              "      <td>NaN</td>\n",
              "      <td>NaN</td>\n",
              "    </tr>\n",
              "    <tr>\n",
              "      <th>4</th>\n",
              "      <td>Damn, I saw a movie in which the old woman bat...</td>\n",
              "      <td>Misogynistic</td>\n",
              "      <td>Derogation</td>\n",
              "      <td>Moral_inferiority</td>\n",
              "      <td>Nature of the abuse is Implicit</td>\n",
              "      <td>old woman bathed in the blood if virgins</td>\n",
              "    </tr>\n",
              "  </tbody>\n",
              "</table>\n",
              "</div>"
            ],
            "text/plain": [
              "                                                body  ...                                 highlight\n",
              "0  Do you have the skin of a 80 year old grandma?...  ...                                       NaN\n",
              "1  This is taking a grain of truth and extrapolat...  ...                                       NaN\n",
              "2  Honestly my favorite thing about this is that ...  ...                                       NaN\n",
              "3               Source? Doesnt sound right to me idk  ...                                       NaN\n",
              "4  Damn, I saw a movie in which the old woman bat...  ...  old woman bathed in the blood if virgins\n",
              "\n",
              "[5 rows x 6 columns]"
            ]
          },
          "metadata": {
            "tags": []
          },
          "execution_count": 484
        }
      ]
    },
    {
      "cell_type": "code",
      "metadata": {
        "colab": {
          "base_uri": "https://localhost:8080/"
        },
        "id": "7LvI81IvDeRi",
        "outputId": "683d8e00-5f9e-4db0-d946-b3e3d36a5a50"
      },
      "source": [
        "df_2.level_1.value_counts()"
      ],
      "execution_count": null,
      "outputs": [
        {
          "output_type": "execute_result",
          "data": {
            "text/plain": [
              "Nonmisogynistic    5868\n",
              "Misogynistic        699\n",
              "Name: level_1, dtype: int64"
            ]
          },
          "metadata": {
            "tags": []
          },
          "execution_count": 485
        }
      ]
    },
    {
      "cell_type": "code",
      "metadata": {
        "colab": {
          "base_uri": "https://localhost:8080/"
        },
        "id": "Wt-CPAEbD5MN",
        "outputId": "cc723ca4-628c-441a-b4a4-50e3fed40766"
      },
      "source": [
        "df_2.level_2.value_counts()"
      ],
      "execution_count": null,
      "outputs": [
        {
          "output_type": "execute_result",
          "data": {
            "text/plain": [
              "None_of_the_categories             5815\n",
              "Derogation                          285\n",
              "Misogynistic_pejorative             276\n",
              "Treatment                           103\n",
              "Nonmisogynistic_personal_attack      43\n",
              "Misogynistic_personal_attack         35\n",
              "Counter_speech                       10\n",
              "Name: level_2, dtype: int64"
            ]
          },
          "metadata": {
            "tags": []
          },
          "execution_count": 486
        }
      ]
    },
    {
      "cell_type": "code",
      "metadata": {
        "colab": {
          "base_uri": "https://localhost:8080/"
        },
        "id": "r2dSy-rqD8ai",
        "outputId": "4658b681-3964-4cea-d877-c8c5f98e3e62"
      },
      "source": [
        "df_2.level_3.value_counts()"
      ],
      "execution_count": null,
      "outputs": [
        {
          "output_type": "execute_result",
          "data": {
            "text/plain": [
              "Moral_inferiority                               148\n",
              "Other                                            79\n",
              "Gender_of_recipient_is_Female                    64\n",
              "Disrespectful_actions_Seduction_and_conquest     43\n",
              "Intellectual_inferiority                         32\n",
              "Sexual_or_physical_limitations                   26\n",
              "Disrespectful_actions_Controlling                17\n",
              "Disrespectful_actions_Manipulation               16\n",
              "Threatening_Physical_violence                    13\n",
              "Gender_of_recipient_is_Male                      10\n",
              "Disrespectful_actions_Other                       9\n",
              "Gender_of_recipient_is_Unknown                    4\n",
              "Threatening_Sexual_violence                       3\n",
              "Threatening_Privacy                               2\n",
              "Name: level_3, dtype: int64"
            ]
          },
          "metadata": {
            "tags": []
          },
          "execution_count": 487
        }
      ]
    },
    {
      "cell_type": "code",
      "metadata": {
        "colab": {
          "base_uri": "https://localhost:8080/"
        },
        "id": "eZAFWNkPEALr",
        "outputId": "254d3789-57c7-492d-b027-dd1b3d7b4e3c"
      },
      "source": [
        "df_2.strength.value_counts()"
      ],
      "execution_count": null,
      "outputs": [
        {
          "output_type": "execute_result",
          "data": {
            "text/plain": [
              "Nature of the abuse is Implicit    267\n",
              "Nature of the abuse is Explicit    121\n",
              "Name: strength, dtype: int64"
            ]
          },
          "metadata": {
            "tags": []
          },
          "execution_count": 488
        }
      ]
    },
    {
      "cell_type": "markdown",
      "metadata": {
        "id": "7psHEnHqFYf6"
      },
      "source": [
        "Deleting rows which are: \n",
        "1. Downsampling the None label in Non misogynistic data to get slighlty more balanced dataset for non misogyny\n",
        "2. Mis Prejoratives\n",
        "3. Remove threatening labels from Misogynistic Treatment\n",
        "4. Removing explicit from Misogynistic derogation\n",
        "5. Removing personal attacks from both major labels\n"
      ]
    },
    {
      "cell_type": "code",
      "metadata": {
        "id": "hblC8eBeFRKg"
      },
      "source": [
        "df_downsamp=df_2[~(df_2.iloc[:]['level_2'].str.contains(\"None_of_the_categories\"))]\n",
        "df_replace= df_2[(df_2.iloc[:]['level_2'].str.contains(\"None_of_the_categories\"))]\n",
        "df_replace= df_replace.iloc[2000:][:]\n",
        "df_downsamp= pd.concat([df_downsamp, df_replace])"
      ],
      "execution_count": null,
      "outputs": []
    },
    {
      "cell_type": "code",
      "metadata": {
        "colab": {
          "base_uri": "https://localhost:8080/"
        },
        "id": "LoE3Q0PtzC-p",
        "outputId": "a9a24966-4a0d-4297-c061-8e0d1c99e318"
      },
      "source": [
        "nan=df_downsamp.index[df_downsamp['body'].isna()]\n",
        "print(nan)"
      ],
      "execution_count": null,
      "outputs": [
        {
          "output_type": "stream",
          "text": [
            "Int64Index([2777, 2976, 4493, 4747, 4794, 5433, 5943, 5975], dtype='int64')\n"
          ],
          "name": "stdout"
        }
      ]
    },
    {
      "cell_type": "code",
      "metadata": {
        "colab": {
          "base_uri": "https://localhost:8080/"
        },
        "id": "dTkv27AT1OFG",
        "outputId": "ddda5cdf-fbcb-4daf-9755-55a7d27dcca2"
      },
      "source": [
        "print(df_downsamp.info())\n",
        "df_downsamp.dropna(subset=['body'], inplace=True)\n",
        "print(df_downsamp.info())"
      ],
      "execution_count": null,
      "outputs": [
        {
          "output_type": "stream",
          "text": [
            "<class 'pandas.core.frame.DataFrame'>\n",
            "Int64Index: 4567 entries, 4 to 6541\n",
            "Data columns (total 6 columns):\n",
            " #   Column     Non-Null Count  Dtype \n",
            "---  ------     --------------  ----- \n",
            " 0   body       4559 non-null   object\n",
            " 1   level_1    4567 non-null   object\n",
            " 2   level_2    4567 non-null   object\n",
            " 3   level_3    466 non-null    object\n",
            " 4   strength   388 non-null    object\n",
            " 5   highlight  751 non-null    object\n",
            "dtypes: object(6)\n",
            "memory usage: 249.8+ KB\n",
            "None\n",
            "<class 'pandas.core.frame.DataFrame'>\n",
            "Int64Index: 4559 entries, 4 to 6541\n",
            "Data columns (total 6 columns):\n",
            " #   Column     Non-Null Count  Dtype \n",
            "---  ------     --------------  ----- \n",
            " 0   body       4559 non-null   object\n",
            " 1   level_1    4559 non-null   object\n",
            " 2   level_2    4559 non-null   object\n",
            " 3   level_3    466 non-null    object\n",
            " 4   strength   388 non-null    object\n",
            " 5   highlight  751 non-null    object\n",
            "dtypes: object(6)\n",
            "memory usage: 249.3+ KB\n",
            "None\n"
          ],
          "name": "stdout"
        }
      ]
    },
    {
      "cell_type": "code",
      "metadata": {
        "id": "cuZTc4KG4EwQ"
      },
      "source": [
        "df_downsamp= df_downsamp[~(df_downsamp.iloc[:]['level_2'].str.contains(\"Misogynistic_pejorative\"))]"
      ],
      "execution_count": null,
      "outputs": []
    },
    {
      "cell_type": "code",
      "metadata": {
        "id": "ZAPpbNuO8cnw"
      },
      "source": [
        "df_3=df_downsamp.reset_index().drop(['index'], axis=1)"
      ],
      "execution_count": null,
      "outputs": []
    },
    {
      "cell_type": "code",
      "metadata": {
        "id": "EoFnx8SiCLkb"
      },
      "source": [
        "df_3.fillna(value= 'nan', inplace= True)"
      ],
      "execution_count": null,
      "outputs": []
    },
    {
      "cell_type": "code",
      "metadata": {
        "colab": {
          "base_uri": "https://localhost:8080/"
        },
        "id": "2VxaEqe1EhxJ",
        "outputId": "5d3e6389-efd4-477b-9fce-341d07d804cb"
      },
      "source": [
        "df_3['level_1'].value_counts()"
      ],
      "execution_count": null,
      "outputs": [
        {
          "output_type": "execute_result",
          "data": {
            "text/plain": [
              "Nonmisogynistic    3860\n",
              "Misogynistic        423\n",
              "Name: level_1, dtype: int64"
            ]
          },
          "metadata": {
            "tags": []
          },
          "execution_count": 495
        }
      ]
    },
    {
      "cell_type": "code",
      "metadata": {
        "colab": {
          "base_uri": "https://localhost:8080/"
        },
        "id": "94Ct5ZUaEmPj",
        "outputId": "6bbdd205-1bb7-4231-d02f-29026f37de12"
      },
      "source": [
        "df_3.level_2.value_counts()"
      ],
      "execution_count": null,
      "outputs": [
        {
          "output_type": "execute_result",
          "data": {
            "text/plain": [
              "None_of_the_categories             3807\n",
              "Derogation                          285\n",
              "Treatment                           103\n",
              "Nonmisogynistic_personal_attack      43\n",
              "Misogynistic_personal_attack         35\n",
              "Counter_speech                       10\n",
              "Name: level_2, dtype: int64"
            ]
          },
          "metadata": {
            "tags": []
          },
          "execution_count": 496
        }
      ]
    },
    {
      "cell_type": "code",
      "metadata": {
        "colab": {
          "base_uri": "https://localhost:8080/"
        },
        "id": "Bhxr5uyGHp0F",
        "outputId": "dd892233-c101-41cf-9936-305fed500195"
      },
      "source": [
        "df_3.level_3.value_counts()"
      ],
      "execution_count": null,
      "outputs": [
        {
          "output_type": "execute_result",
          "data": {
            "text/plain": [
              "nan                                             3817\n",
              "Moral_inferiority                                148\n",
              "Other                                             79\n",
              "Gender_of_recipient_is_Female                     64\n",
              "Disrespectful_actions_Seduction_and_conquest      43\n",
              "Intellectual_inferiority                          32\n",
              "Sexual_or_physical_limitations                    26\n",
              "Disrespectful_actions_Controlling                 17\n",
              "Disrespectful_actions_Manipulation                16\n",
              "Threatening_Physical_violence                     13\n",
              "Gender_of_recipient_is_Male                       10\n",
              "Disrespectful_actions_Other                        9\n",
              "Gender_of_recipient_is_Unknown                     4\n",
              "Threatening_Sexual_violence                        3\n",
              "Threatening_Privacy                                2\n",
              "Name: level_3, dtype: int64"
            ]
          },
          "metadata": {
            "tags": []
          },
          "execution_count": 497
        }
      ]
    },
    {
      "cell_type": "code",
      "metadata": {
        "id": "Iz7K9DXi9GDc"
      },
      "source": [
        "df_3= df_3[~(df_3.iloc[:]['strength'].str.contains(\"Nature of the abuse is Explicit\"))]\n",
        "df_3= df_3[~(df_3.iloc[:]['level_3'].str.contains(\"Threatening_Sexual_violence\"))]\n",
        "df_3= df_3[~(df_3.iloc[:]['level_3'].str.contains(\"Threatening_Physical_violence\"))]\n",
        "df_3= df_3[~(df_3.iloc[:]['level_3'].str.contains(\"Threatening_Privacy\"))]\n",
        "df_3= df_3[~(df_3.iloc[:]['level_2'].str.contains(\"Nonmisogynistic_personal_attack\"))]\n",
        "df_3= df_3[~(df_3.iloc[:]['level_2'].str.contains(\"Misogynistic_personal_attack\"))]"
      ],
      "execution_count": null,
      "outputs": []
    },
    {
      "cell_type": "code",
      "metadata": {
        "colab": {
          "base_uri": "https://localhost:8080/"
        },
        "id": "iI-8y0VUBoJd",
        "outputId": "40afbbd0-2d4b-458d-ac43-5ce991d69db4"
      },
      "source": [
        "df_3['level_1'].value_counts()"
      ],
      "execution_count": null,
      "outputs": [
        {
          "output_type": "execute_result",
          "data": {
            "text/plain": [
              "Nonmisogynistic    3817\n",
              "Misogynistic        267\n",
              "Name: level_1, dtype: int64"
            ]
          },
          "metadata": {
            "tags": []
          },
          "execution_count": 499
        }
      ]
    },
    {
      "cell_type": "code",
      "metadata": {
        "id": "HEVaXhZMKABK"
      },
      "source": [
        "df_3=df_3.reset_index().drop(['index'], axis=1)"
      ],
      "execution_count": null,
      "outputs": []
    },
    {
      "cell_type": "code",
      "metadata": {
        "id": "tyZ8xsS9KHKd"
      },
      "source": [
        "df_3=df_3.drop(['level_2', 'level_3', 'strength', 'highlight'], axis=1)"
      ],
      "execution_count": null,
      "outputs": []
    },
    {
      "cell_type": "code",
      "metadata": {
        "id": "e7qE5FnyKgpW"
      },
      "source": [
        "ind_1= df_3.index[df_3['level_1'].str.contains(\"Misogynistic\")]\n",
        "ind_2= df_3.index[df_3['level_1'].str.contains(\"Nonmisogynistic\")]"
      ],
      "execution_count": null,
      "outputs": []
    },
    {
      "cell_type": "code",
      "metadata": {
        "id": "eTm6GQX4LzAu"
      },
      "source": [
        "df_3['Sexism'] = 1"
      ],
      "execution_count": null,
      "outputs": []
    },
    {
      "cell_type": "code",
      "metadata": {
        "colab": {
          "base_uri": "https://localhost:8080/",
          "height": 202
        },
        "id": "pmRsVciqNp_v",
        "outputId": "8db22293-ddf5-40ad-ce4a-327fe0cb211c"
      },
      "source": [
        "df_3.head()"
      ],
      "execution_count": null,
      "outputs": [
        {
          "output_type": "execute_result",
          "data": {
            "text/html": [
              "<div>\n",
              "<style scoped>\n",
              "    .dataframe tbody tr th:only-of-type {\n",
              "        vertical-align: middle;\n",
              "    }\n",
              "\n",
              "    .dataframe tbody tr th {\n",
              "        vertical-align: top;\n",
              "    }\n",
              "\n",
              "    .dataframe thead th {\n",
              "        text-align: right;\n",
              "    }\n",
              "</style>\n",
              "<table border=\"1\" class=\"dataframe\">\n",
              "  <thead>\n",
              "    <tr style=\"text-align: right;\">\n",
              "      <th></th>\n",
              "      <th>body</th>\n",
              "      <th>level_1</th>\n",
              "      <th>Sexism</th>\n",
              "    </tr>\n",
              "  </thead>\n",
              "  <tbody>\n",
              "    <tr>\n",
              "      <th>0</th>\n",
              "      <td>Damn, I saw a movie in which the old woman bat...</td>\n",
              "      <td>Misogynistic</td>\n",
              "      <td>1</td>\n",
              "    </tr>\n",
              "    <tr>\n",
              "      <th>1</th>\n",
              "      <td>I would not say that by women getting rights i...</td>\n",
              "      <td>Nonmisogynistic</td>\n",
              "      <td>1</td>\n",
              "    </tr>\n",
              "    <tr>\n",
              "      <th>2</th>\n",
              "      <td>I'm sorry,  does women having rights mean that...</td>\n",
              "      <td>Nonmisogynistic</td>\n",
              "      <td>1</td>\n",
              "    </tr>\n",
              "    <tr>\n",
              "      <th>3</th>\n",
              "      <td>&gt; The problem is that they removed the urinals...</td>\n",
              "      <td>Misogynistic</td>\n",
              "      <td>1</td>\n",
              "    </tr>\n",
              "    <tr>\n",
              "      <th>4</th>\n",
              "      <td>But using the urinals in front of girls that a...</td>\n",
              "      <td>Misogynistic</td>\n",
              "      <td>1</td>\n",
              "    </tr>\n",
              "  </tbody>\n",
              "</table>\n",
              "</div>"
            ],
            "text/plain": [
              "                                                body          level_1  Sexism\n",
              "0  Damn, I saw a movie in which the old woman bat...     Misogynistic       1\n",
              "1  I would not say that by women getting rights i...  Nonmisogynistic       1\n",
              "2  I'm sorry,  does women having rights mean that...  Nonmisogynistic       1\n",
              "3  > The problem is that they removed the urinals...     Misogynistic       1\n",
              "4  But using the urinals in front of girls that a...     Misogynistic       1"
            ]
          },
          "metadata": {
            "tags": []
          },
          "execution_count": 504
        }
      ]
    },
    {
      "cell_type": "code",
      "metadata": {
        "id": "OMiAMlzaMBSx"
      },
      "source": [
        "df_3.loc[ind_2,'Sexism']=0"
      ],
      "execution_count": null,
      "outputs": []
    },
    {
      "cell_type": "code",
      "metadata": {
        "id": "Be_t1XnvNKVo"
      },
      "source": [
        "df_3.drop(['level_1'], axis=1, inplace=True)"
      ],
      "execution_count": null,
      "outputs": []
    },
    {
      "cell_type": "code",
      "metadata": {
        "colab": {
          "base_uri": "https://localhost:8080/"
        },
        "id": "TqqLFVAiSGY-",
        "outputId": "b476c890-b927-4e18-ad99-aeca99cde1fd"
      },
      "source": [
        "len(df_3)"
      ],
      "execution_count": null,
      "outputs": [
        {
          "output_type": "execute_result",
          "data": {
            "text/plain": [
              "3786"
            ]
          },
          "metadata": {
            "tags": []
          },
          "execution_count": 510
        }
      ]
    },
    {
      "cell_type": "code",
      "metadata": {
        "colab": {
          "base_uri": "https://localhost:8080/",
          "height": 202
        },
        "id": "DNul5C1Ca4gf",
        "outputId": "74c44884-d806-403f-c48a-c17be318c6d8"
      },
      "source": [
        "df_3.head()"
      ],
      "execution_count": null,
      "outputs": [
        {
          "output_type": "execute_result",
          "data": {
            "text/html": [
              "<div>\n",
              "<style scoped>\n",
              "    .dataframe tbody tr th:only-of-type {\n",
              "        vertical-align: middle;\n",
              "    }\n",
              "\n",
              "    .dataframe tbody tr th {\n",
              "        vertical-align: top;\n",
              "    }\n",
              "\n",
              "    .dataframe thead th {\n",
              "        text-align: right;\n",
              "    }\n",
              "</style>\n",
              "<table border=\"1\" class=\"dataframe\">\n",
              "  <thead>\n",
              "    <tr style=\"text-align: right;\">\n",
              "      <th></th>\n",
              "      <th>body</th>\n",
              "      <th>Sexism</th>\n",
              "    </tr>\n",
              "  </thead>\n",
              "  <tbody>\n",
              "    <tr>\n",
              "      <th>0</th>\n",
              "      <td>[Damn,, I, saw, a, movie, in, which, the, old,...</td>\n",
              "      <td>1</td>\n",
              "    </tr>\n",
              "    <tr>\n",
              "      <th>1</th>\n",
              "      <td>[I, would, not, say, that, by, women, getting,...</td>\n",
              "      <td>0</td>\n",
              "    </tr>\n",
              "    <tr>\n",
              "      <th>2</th>\n",
              "      <td>[I'm, sorry,, does, women, having, rights, mea...</td>\n",
              "      <td>0</td>\n",
              "    </tr>\n",
              "    <tr>\n",
              "      <th>3</th>\n",
              "      <td>[&gt;, The, problem, is, that, they, removed, the...</td>\n",
              "      <td>1</td>\n",
              "    </tr>\n",
              "    <tr>\n",
              "      <th>4</th>\n",
              "      <td>[But, using, the, urinals, in, front, of, girl...</td>\n",
              "      <td>1</td>\n",
              "    </tr>\n",
              "  </tbody>\n",
              "</table>\n",
              "</div>"
            ],
            "text/plain": [
              "                                                body  Sexism\n",
              "0  [Damn,, I, saw, a, movie, in, which, the, old,...       1\n",
              "1  [I, would, not, say, that, by, women, getting,...       0\n",
              "2  [I'm, sorry,, does, women, having, rights, mea...       0\n",
              "3  [>, The, problem, is, that, they, removed, the...       1\n",
              "4  [But, using, the, urinals, in, front, of, girl...       1"
            ]
          },
          "metadata": {
            "tags": []
          },
          "execution_count": 511
        }
      ]
    },
    {
      "cell_type": "code",
      "metadata": {
        "id": "2AfEhGRESR2J"
      },
      "source": [
        "df_3.to_csv('Reddit.csv')"
      ],
      "execution_count": null,
      "outputs": []
    }
  ]
}