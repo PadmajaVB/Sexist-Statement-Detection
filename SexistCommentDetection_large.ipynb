{
  "nbformat": 4,
  "nbformat_minor": 0,
  "metadata": {
    "colab": {
      "name": "SexistCommentDetection.ipynb",
      "provenance": [],
      "include_colab_link": true
    },
    "kernelspec": {
      "name": "python3",
      "display_name": "Python 3"
    },
    "language_info": {
      "name": "python"
    },
    "accelerator": "GPU"
  },
  "cells": [
    {
      "cell_type": "markdown",
      "metadata": {
        "id": "view-in-github",
        "colab_type": "text"
      },
      "source": [
        "<a href=\"https://colab.research.google.com/github/PadmajaVB/Sexist-Statement-Detection/blob/main/SexistCommentDetection_large.ipynb\" target=\"_parent\"><img src=\"https://colab.research.google.com/assets/colab-badge.svg\" alt=\"Open In Colab\"/></a>"
      ]
    },
    {
      "cell_type": "code",
      "metadata": {
        "id": "b0FphptPMkd4",
        "colab": {
          "base_uri": "https://localhost:8080/"
        },
        "outputId": "ff209959-baa4-4235-aeaa-1c8cda726bf4"
      },
      "source": [
        "from google.colab import drive\n",
        "drive.mount('/content/drive')"
      ],
      "execution_count": null,
      "outputs": [
        {
          "output_type": "stream",
          "text": [
            "Drive already mounted at /content/drive; to attempt to forcibly remount, call drive.mount(\"/content/drive\", force_remount=True).\n"
          ],
          "name": "stdout"
        }
      ]
    },
    {
      "cell_type": "code",
      "metadata": {
        "id": "dA47SO9xmsjq",
        "colab": {
          "base_uri": "https://localhost:8080/"
        },
        "outputId": "eea255ed-3b9b-43e8-e44f-2a8a916ea7f4"
      },
      "source": [
        "!pip install tensorflow_addons\n",
        "!pip install nlpaug\n",
        "!pip install tqdm"
      ],
      "execution_count": null,
      "outputs": [
        {
          "output_type": "stream",
          "text": [
            "Requirement already satisfied: tensorflow_addons in /usr/local/lib/python3.7/dist-packages (0.13.0)\n",
            "Requirement already satisfied: typeguard>=2.7 in /usr/local/lib/python3.7/dist-packages (from tensorflow_addons) (2.7.1)\n",
            "Requirement already satisfied: nlpaug in /usr/local/lib/python3.7/dist-packages (1.1.3)\n",
            "Requirement already satisfied: tqdm in /usr/local/lib/python3.7/dist-packages (4.41.1)\n"
          ],
          "name": "stdout"
        }
      ]
    },
    {
      "cell_type": "code",
      "metadata": {
        "id": "nhk9tctaQQpB"
      },
      "source": [
        "import pandas as pd\n",
        "import tensorflow as tf\n",
        "import numpy as np\n",
        "import matplotlib.pyplot as plt\n",
        "from gensim.models import KeyedVectors\n",
        "\n",
        "from sklearn.model_selection import train_test_split\n",
        "from sklearn.utils import shuffle\n",
        "import re\n",
        "import collections\n",
        "\n",
        "import nlpaug.augmenter.word as naw\n",
        "\n",
        "import pickle\n",
        "from tqdm import tqdm\n",
        "\n",
        "from nlpaug.util import Action\n",
        "\n",
        "import tensorflow_addons as tfa\n",
        "from keras import backend as K\n",
        "from tensorflow.keras.preprocessing.sequence import pad_sequences\n",
        "from tensorflow.keras.models import Model, Sequential,model_from_json, load_model\n",
        "from tensorflow.keras.layers import Input, LSTM, SimpleRNN, Embedding, Dense, Flatten, RepeatVector, Permute, Activation, Dropout, Bidirectional, Multiply, Lambda"
      ],
      "execution_count": null,
      "outputs": []
    },
    {
      "cell_type": "markdown",
      "metadata": {
        "id": "-eO6WjrntR09"
      },
      "source": [
        "## Loading data"
      ]
    },
    {
      "cell_type": "code",
      "metadata": {
        "id": "I-yXKZVNgLDE"
      },
      "source": [
        "df_train = pd.read_csv('/content/drive/MyDrive/AI-3 Project/data/Preprocessed data/train_dataset.csv')\n",
        "df_test = pd.read_csv('/content/drive/MyDrive/AI-3 Project/data/Preprocessed data/test_dataset.csv')\n",
        "df_val = pd.read_csv('/content/drive/MyDrive/AI-3 Project/data/Preprocessed data/val_dataset.csv')"
      ],
      "execution_count": null,
      "outputs": []
    },
    {
      "cell_type": "markdown",
      "metadata": {
        "id": "kBA1KbCs_LmZ"
      },
      "source": [
        "### Data Augementation"
      ]
    },
    {
      "cell_type": "markdown",
      "metadata": {
        "id": "WTvx6v9d5EKz"
      },
      "source": [
        "As seen above, our dataset is imbalanced. To achieve good performance from the models, we need to balance the data. Data augmentation techniques can be used to generate additional, synthetic data using the existing data.\n",
        "We have used a python library, NLPAug to achieve this.\n",
        "\n",
        "NLPAug offers three types of augmentation:\n",
        "1. Character level augmentation\n",
        "2. Word level augmentation \n",
        "3. Sentence level augmentation\n",
        "Each of these types can be performed with actions like random deletion, random insertion, shuffling, synonym replacement, etc.\n",
        "\n",
        "Here, we have used synonym replacement action for Word level augmentation, which randomly picks a word from a sentence and replaces it with a synonym of the word( use word embeddings to find most similar group of words to replace original word).\n",
        "\n"
      ]
    },
    {
      "cell_type": "code",
      "metadata": {
        "id": "5v7iptRQBWvM"
      },
      "source": [
        "def augment_text(df,samples=3000,pr=0.2):\n",
        "  aug = naw.WordEmbsAug(\n",
        "  model_type='glove', model_path='/content/drive/MyDrive/UnivAI/AI-3 Project/Embeddings/1b-vectors300-0.8-0.8.txt',\n",
        "  action=\"substitute\")\n",
        "\n",
        "  aug.aug_p=pr\n",
        "  new_text=[]\n",
        "  \n",
        "  ##selecting the minority class samples\n",
        "  df_n=df[df.Label==0].reset_index(drop=True)\n",
        "\n",
        "  ## data augmentation loop\n",
        "  for i in tqdm(np.random.randint(0,len(df_n),samples)):\n",
        "      \n",
        "          text = df_n.iloc[i]['Sentences']\n",
        "          augmented_text = aug.augment(text)\n",
        "          new_text.append(augmented_text)\n",
        "  \n",
        "  \n",
        "  ## dataframe\n",
        "  new=pd.DataFrame({'Sentences':new_text,'Label':0})\n",
        "  df=shuffle(df.append(new).reset_index(drop=True))\n",
        "  return df"
      ],
      "execution_count": null,
      "outputs": []
    },
    {
      "cell_type": "code",
      "metadata": {
        "id": "Hb7KPH2a_fsW"
      },
      "source": [
        "## Uncomment this cell to run Data augmentation on the train dataset\n",
        "\n",
        "# train = augment_text(df_train)\n",
        "# train.drop('Unnamed: 0', axis=1, inplace=True)\n",
        "# train.reset_index(drop=True,inplace=True)"
      ],
      "execution_count": null,
      "outputs": []
    },
    {
      "cell_type": "code",
      "metadata": {
        "colab": {
          "base_uri": "https://localhost:8080/",
          "height": 292
        },
        "id": "N10HEU4BKVqY",
        "outputId": "e3da1f42-44c8-4da2-de89-e463e7b937f9"
      },
      "source": [
        "train['Label'].value_counts().plot(kind='bar')\n",
        "plt.xlabel('label category')\n",
        "plt.ylabel('count')\n",
        "plt.title('Sexist comment distribution in the dataset after augmentation')\n",
        "plt.show()"
      ],
      "execution_count": null,
      "outputs": [
        {
          "output_type": "display_data",
          "data": {
            "image/png": "[encoded data removed]",
            "text/plain": [
              "<Figure size 432x288 with 1 Axes>"
            ]
          },
          "metadata": {
            "tags": [],
            "needs_background": "light"
          }
        }
      ]
    },
    {
      "cell_type": "markdown",
      "metadata": {
        "id": "m2zvkDSS8By6"
      },
      "source": [
        "From the above plot, we can see that the class distribution is balanced after data augmentation."
      ]
    },
    {
      "cell_type": "code",
      "metadata": {
        "id": "Rp8aJ1WOOQ6L"
      },
      "source": [
        "## Uncomment this cell to save the augmented train data\n",
        "\n",
        "# train.to_csv('/content/drive/MyDrive/AI-3 Project/data/Preprocessed data/augmented_train_dataset.csv')"
      ],
      "execution_count": null,
      "outputs": []
    },
    {
      "cell_type": "code",
      "metadata": {
        "id": "V-3CgNmlOk2D"
      },
      "source": [
        "df_train = pd.read_csv('/content/drive/MyDrive/AI-3 Project/data/Preprocessed data/augmented_train_dataset.csv')"
      ],
      "execution_count": null,
      "outputs": []
    },
    {
      "cell_type": "code",
      "metadata": {
        "id": "sweOhve-hFch"
      },
      "source": [
        "X_train = df_train[['Sentences']]\n",
        "y_train = df_train['Label']\n",
        "\n",
        "X_val = df_val[['Sentences']]\n",
        "y_val = df_val['Label']\n",
        "\n",
        "X_test = df_test[['Sentences']]\n",
        "y_test = df_test['Label']"
      ],
      "execution_count": null,
      "outputs": []
    },
    {
      "cell_type": "code",
      "metadata": {
        "colab": {
          "base_uri": "https://localhost:8080/",
          "height": 203
        },
        "id": "WOiil3OWO-mP",
        "outputId": "e8a2b5c1-d434-4fb6-9da4-e92403f5af17"
      },
      "source": [
        "X_train.tail()"
      ],
      "execution_count": null,
      "outputs": [
        {
          "output_type": "execute_result",
          "data": {
            "text/html": [
              "<div>\n",
              "<style scoped>\n",
              "    .dataframe tbody tr th:only-of-type {\n",
              "        vertical-align: middle;\n",
              "    }\n",
              "\n",
              "    .dataframe tbody tr th {\n",
              "        vertical-align: top;\n",
              "    }\n",
              "\n",
              "    .dataframe thead th {\n",
              "        text-align: right;\n",
              "    }\n",
              "</style>\n",
              "<table border=\"1\" class=\"dataframe\">\n",
              "  <thead>\n",
              "    <tr style=\"text-align: right;\">\n",
              "      <th></th>\n",
              "      <th>Sentences</th>\n",
              "    </tr>\n",
              "  </thead>\n",
              "  <tbody>\n",
              "    <tr>\n",
              "      <th>14106</th>\n",
              "      <td>having to state your marital status  times a d...</td>\n",
              "    </tr>\n",
              "    <tr>\n",
              "      <th>14107</th>\n",
              "      <td>my mother commenting on my outfit dont cry to ...</td>\n",
              "    </tr>\n",
              "    <tr>\n",
              "      <th>14108</th>\n",
              "      <td>a good man acknowledges a woman than another p...</td>\n",
              "    </tr>\n",
              "    <tr>\n",
              "      <th>14109</th>\n",
              "      <td>agree to an extent</td>\n",
              "    </tr>\n",
              "    <tr>\n",
              "      <th>14110</th>\n",
              "      <td>joker doesnt even work with a woman besides wa...</td>\n",
              "    </tr>\n",
              "  </tbody>\n",
              "</table>\n",
              "</div>"
            ],
            "text/plain": [
              "                                               Sentences\n",
              "14106  having to state your marital status  times a d...\n",
              "14107  my mother commenting on my outfit dont cry to ...\n",
              "14108  a good man acknowledges a woman than another p...\n",
              "14109                                 agree to an extent\n",
              "14110  joker doesnt even work with a woman besides wa..."
            ]
          },
          "metadata": {
            "tags": []
          },
          "execution_count": 7
        }
      ]
    },
    {
      "cell_type": "code",
      "metadata": {
        "id": "tU1WcNSuiAN-",
        "colab": {
          "base_uri": "https://localhost:8080/"
        },
        "outputId": "9acbb02c-9c15-465e-fbd4-591643af3285"
      },
      "source": [
        "X_train.shape, X_val.shape, X_test.shape"
      ],
      "execution_count": null,
      "outputs": [
        {
          "output_type": "execute_result",
          "data": {
            "text/plain": [
              "((14111, 1), (273, 1), (228, 1))"
            ]
          },
          "metadata": {
            "tags": []
          },
          "execution_count": 8
        }
      ]
    },
    {
      "cell_type": "code",
      "metadata": {
        "id": "C86IXOZTm1OL"
      },
      "source": [
        "#!unzip '/content/drive/MyDrive/UnivAI/AI-3 Project/Embeddings/1b-GNGloVe-300d-0.8-0.8.zip' -d '/content/drive/MyDrive/UnivAI/AI-3 Project/Embeddings/'"
      ],
      "execution_count": null,
      "outputs": []
    },
    {
      "cell_type": "markdown",
      "metadata": {
        "id": "iFtlBSBMuEtf"
      },
      "source": [
        "### Loading the Gender neutral GLoVe embedding"
      ]
    },
    {
      "cell_type": "code",
      "metadata": {
        "id": "ANZPM5CmhyOW"
      },
      "source": [
        "def read_glove_vecs(glove_file):\n",
        "    with open(glove_file, encoding=\"utf8\") as f:\n",
        "        words = set()\n",
        "        word_to_vec_map = {}\n",
        "        for line in f:\n",
        "            line = line.strip().split()\n",
        "            curr_word = line[0]\n",
        "            words.add(curr_word)\n",
        "            word_to_vec_map[curr_word] = np.array(line[1:], dtype=np.float64)\n",
        "        \n",
        "        i = 1\n",
        "        words_to_index = {}\n",
        "        index_to_words = {}\n",
        "        for w in sorted(words):\n",
        "            words_to_index[w] = i\n",
        "            index_to_words[i] = w\n",
        "            i = i + 1\n",
        "    return words_to_index, index_to_words, word_to_vec_map"
      ],
      "execution_count": null,
      "outputs": []
    },
    {
      "cell_type": "code",
      "metadata": {
        "id": "M-XGDGMLi1s-"
      },
      "source": [
        "embedding_path = '/content/drive/MyDrive/UnivAI/AI-3 Project/Embeddings/1b-vectors300-0.8-0.8.txt'\n",
        "words_to_index, index_to_words, word_to_vec_map = read_glove_vecs(embedding_path)"
      ],
      "execution_count": null,
      "outputs": []
    },
    {
      "cell_type": "code",
      "metadata": {
        "colab": {
          "base_uri": "https://localhost:8080/"
        },
        "id": "aSb0Nv5HmzbU",
        "outputId": "0c48f4fb-19d2-434f-e540-b1f9b852278b"
      },
      "source": [
        "word_to_vec_map['and'].shape"
      ],
      "execution_count": null,
      "outputs": [
        {
          "output_type": "execute_result",
          "data": {
            "text/plain": [
              "(300,)"
            ]
          },
          "metadata": {
            "tags": []
          },
          "execution_count": 11
        }
      ]
    },
    {
      "cell_type": "code",
      "metadata": {
        "id": "qYEOZlatulo1"
      },
      "source": [
        "vocab = list(words_to_index.keys())"
      ],
      "execution_count": null,
      "outputs": []
    },
    {
      "cell_type": "code",
      "metadata": {
        "colab": {
          "base_uri": "https://localhost:8080/"
        },
        "id": "t6cZK0YronTS",
        "outputId": "07d5fbe6-1f2d-4bab-a5b8-92df73df7154"
      },
      "source": [
        "len(vocab)"
      ],
      "execution_count": null,
      "outputs": [
        {
          "output_type": "execute_result",
          "data": {
            "text/plain": [
              "142527"
            ]
          },
          "metadata": {
            "tags": []
          },
          "execution_count": 13
        }
      ]
    },
    {
      "cell_type": "markdown",
      "metadata": {
        "id": "GbWhTQxvuMEz"
      },
      "source": [
        "### Getting word embeddigs for the input data - X_train and X_test"
      ]
    },
    {
      "cell_type": "code",
      "metadata": {
        "id": "TzCUzLfPpArL"
      },
      "source": [
        "def get_tokens_embedding_list(data, vocab, word_to_vec_map):\n",
        "  embedding_list = []\n",
        "  for sent_seq in data:\n",
        "    tensor_list=[]\n",
        "    for word in sent_seq[0].split():\n",
        "      if word in vocab:\n",
        "        tensor_list.append(word_to_vec_map[word])\n",
        "        #print(len(tensor_list))\n",
        "    embedding_list.append(tensor_list)\n",
        "  return embedding_list"
      ],
      "execution_count": null,
      "outputs": []
    },
    {
      "cell_type": "code",
      "metadata": {
        "id": "C50-ku8LtBWD"
      },
      "source": [
        "## Note: This takes a lot of time to create embeddings list as the dataset is huge. Please load the embedding list from the cell below.\n",
        "\n",
        "# X_train_embedding = get_tokens_embedding_list(X_train.values, vocab, word_to_vec_map)\n",
        "# with open('/content/drive/MyDrive/AI-3 Project/data/Preprocessed data/train_embedding_list_1', 'wb') as f:\n",
        "#   pickle.dump(X_train_embedding, f)"
      ],
      "execution_count": null,
      "outputs": []
    },
    {
      "cell_type": "code",
      "metadata": {
        "id": "MZMnGp3wls2K"
      },
      "source": [
        "with open('/content/drive/MyDrive/AI-3 Project/data/Preprocessed data/train_embedding_list_1', 'rb') as f:\n",
        "  X_train_embedding = pickle.load(f)"
      ],
      "execution_count": null,
      "outputs": []
    },
    {
      "cell_type": "code",
      "metadata": {
        "id": "5sYLbt_XPN8Z"
      },
      "source": [
        "X_val_embedding = get_tokens_embedding_list(X_val.values, vocab, word_to_vec_map)"
      ],
      "execution_count": null,
      "outputs": []
    },
    {
      "cell_type": "code",
      "metadata": {
        "id": "_9lA1QTC-t2T"
      },
      "source": [
        "X_test_embedding = get_tokens_embedding_list(X_test.values, vocab, word_to_vec_map)"
      ],
      "execution_count": null,
      "outputs": []
    },
    {
      "cell_type": "code",
      "metadata": {
        "id": "V5Z_7VUUm36j"
      },
      "source": [
        "def create_dataset(data_in, target_in):\n",
        "   \n",
        "    #Get the length of each sentence\n",
        "    N = [len(data_in[i]) for i, _ in enumerate(data_in)]\n",
        "    embedding_size = 300\n",
        "    tensor_N = tf.constant(N, tf.int32)\n",
        "    ragged_input  = tf.ragged.constant(data_in, dtype=tf.float32)\n",
        "    print(ragged_input.shape)\n",
        "\n",
        "    # Build the dataset and the operations\n",
        "    dataset = tf.data.Dataset.from_tensor_slices((ragged_input, target_in))\n",
        "    del ragged_input\n",
        "\n",
        "    dataset = dataset.shuffle(1000)\n",
        "    dataset = dataset.batch(64)\n",
        "    \n",
        "    # Transform_pad function is defined above; you can change the num_parallel_calls\n",
        "    dataset = dataset.map(lambda x,y: (x.to_tensor(default_value=0, shape=[None, None, embedding_size]), y), num_parallel_calls=3)   \n",
        "                          \n",
        "    dataset = dataset.prefetch(1)\n",
        "    return dataset"
      ],
      "execution_count": null,
      "outputs": []
    },
    {
      "cell_type": "code",
      "metadata": {
        "id": "bmEK4qIQSARA",
        "colab": {
          "base_uri": "https://localhost:8080/"
        },
        "outputId": "29c6739e-8451-4fec-f258-8059173e9274"
      },
      "source": [
        "train_dataset = create_dataset(X_train_embedding, y_train)\n",
        "val_dataset = create_dataset(X_val_embedding, y_val)"
      ],
      "execution_count": null,
      "outputs": [
        {
          "output_type": "stream",
          "text": [
            "(14111, None, None)\n",
            "(273, None, None)\n"
          ],
          "name": "stdout"
        }
      ]
    },
    {
      "cell_type": "code",
      "metadata": {
        "id": "0IZ-86rZT7oe",
        "colab": {
          "base_uri": "https://localhost:8080/"
        },
        "outputId": "2a440867-bc34-4a0f-d10f-73fd0f6d6ca9"
      },
      "source": [
        "train_dataset"
      ],
      "execution_count": null,
      "outputs": [
        {
          "output_type": "execute_result",
          "data": {
            "text/plain": [
              "<PrefetchDataset shapes: ((None, None, 300), (None,)), types: (tf.float32, tf.int64)>"
            ]
          },
          "metadata": {
            "tags": []
          },
          "execution_count": 20
        }
      ]
    },
    {
      "cell_type": "markdown",
      "metadata": {
        "id": "B62CItjH2wU5"
      },
      "source": [
        "### Bidirectional LSTM Model\n"
      ]
    },
    {
      "cell_type": "markdown",
      "metadata": {
        "id": "JhNI1_KtcsWb"
      },
      "source": [
        "The model employs a Bidirectional LSTM deep learning architecture. After extracting the embeddings for the input sentences from Gender neutral GLoVe, inputs are propagated through two bidirectional LSTM layers.\n",
        "\n",
        "This model should be able to read the sentences both forwards and backwards to better learn their nuanced meanings."
      ]
    },
    {
      "cell_type": "code",
      "metadata": {
        "id": "ffRZ381EwVQo"
      },
      "source": [
        "input_layer = Input((None, 300), name='input')\n",
        "bid_lstm_1 = Bidirectional(LSTM(128, return_sequences=True))(input_layer)\n",
        "dropout_1 = Dropout(0.5)(bid_lstm_1)\n",
        "bid_lstm_2 = Bidirectional(LSTM(128, return_sequences=False))(dropout_1)\n",
        "dropout_2 = Dropout(0.5)(bid_lstm_2)\n",
        "dense = Dense(1, activation='sigmoid')(dropout_2)\n",
        "\n",
        "lstm_model = Model(inputs=input_layer, outputs=dense)"
      ],
      "execution_count": null,
      "outputs": []
    },
    {
      "cell_type": "code",
      "metadata": {
        "id": "V7he80iz31fr",
        "colab": {
          "base_uri": "https://localhost:8080/"
        },
        "outputId": "4d0cdf3a-19e9-4afc-b342-2d5104c851c5"
      },
      "source": [
        "lstm_model.summary()"
      ],
      "execution_count": null,
      "outputs": [
        {
          "output_type": "stream",
          "text": [
            "Model: \"model_17\"\n",
            "_________________________________________________________________\n",
            "Layer (type)                 Output Shape              Param #   \n",
            "=================================================================\n",
            "input (InputLayer)           [(None, None, 300)]       0         \n",
            "_________________________________________________________________\n",
            "bidirectional_26 (Bidirectio (None, None, 256)         439296    \n",
            "_________________________________________________________________\n",
            "dropout_26 (Dropout)         (None, None, 256)         0         \n",
            "_________________________________________________________________\n",
            "bidirectional_27 (Bidirectio (None, 256)               394240    \n",
            "_________________________________________________________________\n",
            "dropout_27 (Dropout)         (None, 256)               0         \n",
            "_________________________________________________________________\n",
            "dense_25 (Dense)             (None, 1)                 257       \n",
            "=================================================================\n",
            "Total params: 833,793\n",
            "Trainable params: 833,793\n",
            "Non-trainable params: 0\n",
            "_________________________________________________________________\n"
          ],
          "name": "stdout"
        }
      ]
    },
    {
      "cell_type": "code",
      "metadata": {
        "id": "FbTGrKWC4pAY"
      },
      "source": [
        "lstm_model.compile(optimizer=tf.keras.optimizers.Adam(), loss='bce', metrics=['accuracy'])"
      ],
      "execution_count": null,
      "outputs": []
    },
    {
      "cell_type": "code",
      "metadata": {
        "id": "8gnOGWd05BRM",
        "colab": {
          "base_uri": "https://localhost:8080/"
        },
        "outputId": "1c6af8e8-3475-4598-e0a3-0e65f638333f"
      },
      "source": [
        "callback = tf.keras.callbacks.EarlyStopping(monitor='val_loss', patience=2)\n",
        "history = lstm_model.fit(train_dataset, epochs=10, validation_data=val_dataset, verbose=1, callbacks=[callback])"
      ],
      "execution_count": null,
      "outputs": [
        {
          "output_type": "stream",
          "text": [
            "Epoch 1/10\n",
            "221/221 [==============================] - 29s 111ms/step - loss: 0.5922 - accuracy: 0.6899 - val_loss: 0.6578 - val_accuracy: 0.6117\n",
            "Epoch 2/10\n",
            "221/221 [==============================] - 23s 105ms/step - loss: 0.5475 - accuracy: 0.7253 - val_loss: 0.6156 - val_accuracy: 0.6703\n",
            "Epoch 3/10\n",
            "221/221 [==============================] - 23s 103ms/step - loss: 0.5179 - accuracy: 0.7393 - val_loss: 0.5949 - val_accuracy: 0.6960\n",
            "Epoch 4/10\n",
            "221/221 [==============================] - 23s 104ms/step - loss: 0.4903 - accuracy: 0.7558 - val_loss: 0.5473 - val_accuracy: 0.7582\n",
            "Epoch 5/10\n",
            "221/221 [==============================] - 23s 103ms/step - loss: 0.4562 - accuracy: 0.7790 - val_loss: 0.5484 - val_accuracy: 0.7436\n",
            "Epoch 6/10\n",
            "221/221 [==============================] - 23s 104ms/step - loss: 0.4274 - accuracy: 0.7989 - val_loss: 0.5634 - val_accuracy: 0.7363\n"
          ],
          "name": "stdout"
        }
      ]
    },
    {
      "cell_type": "markdown",
      "metadata": {
        "id": "G-_3LC_KjO_V"
      },
      "source": [
        "Train accuracy is: 79.89%\n",
        "Validation accuracy is: 73.63%"
      ]
    },
    {
      "cell_type": "code",
      "metadata": {
        "id": "unEllLTVECzy"
      },
      "source": [
        "def plot_history(history, name):\n",
        "    fig, ax = plt.subplots(1,2, figsize=(12,4))\n",
        "    for i, metric in enumerate(['loss', 'accuracy']): \n",
        "        ax[i].plot(history.history[metric], label='Train')\n",
        "        ax[i].plot(history.history['val_'+metric], label='Validation')\n",
        "        if metric == 'accuracy': ax[i].axhline(0.5, c='r', ls='--', label='Trivial accuracy')\n",
        "        ax[i].set_xlabel('Epoch')\n",
        "        ax[i].set_ylabel(metric)\n",
        "    plt.suptitle(f'{name} Training', y=1.05)\n",
        "    plt.legend()\n",
        "    plt.tight_layout()"
      ],
      "execution_count": null,
      "outputs": []
    },
    {
      "cell_type": "code",
      "metadata": {
        "id": "HeJYoTvrFlas",
        "colab": {
          "base_uri": "https://localhost:8080/",
          "height": 323
        },
        "outputId": "5f3b43ee-2692-4519-bd94-c8928311339c"
      },
      "source": [
        "plot_history(history, 'Bidirectional LSTM')"
      ],
      "execution_count": null,
      "outputs": [
        {
          "output_type": "display_data",
          "data": {
            "image/png": "[encoded data removed]",
            "text/plain": [
              "<Figure size 864x288 with 2 Axes>"
            ]
          },
          "metadata": {
            "tags": [],
            "needs_background": "light"
          }
        }
      ]
    },
    {
      "cell_type": "markdown",
      "metadata": {
        "id": "MCPyR4O1i3mL"
      },
      "source": [
        "We can see that the validation loss is increasing and accuracy decreasing after 3 epochs. So, the training stopped after 5 epochs(EarlyStopping with patience 2) to avoid overfitting."
      ]
    },
    {
      "cell_type": "code",
      "metadata": {
        "id": "fjTdSKyKPZ9l",
        "colab": {
          "base_uri": "https://localhost:8080/"
        },
        "outputId": "4999f3c4-d99b-4c92-e311-42794bf71271"
      },
      "source": [
        "## Uncomment this cell to save the trained LSTM model\n",
        "\n",
        "# lstm_model.save('/content/drive/MyDrive/AI-3 Project/Models/lstm_model_1')"
      ],
      "execution_count": null,
      "outputs": [
        {
          "output_type": "stream",
          "text": [
            "WARNING:absl:Found untraced functions such as lstm_cell_82_layer_call_and_return_conditional_losses, lstm_cell_82_layer_call_fn, lstm_cell_83_layer_call_and_return_conditional_losses, lstm_cell_83_layer_call_fn, lstm_cell_85_layer_call_and_return_conditional_losses while saving (showing 5 of 20). These functions will not be directly callable after loading.\n"
          ],
          "name": "stderr"
        },
        {
          "output_type": "stream",
          "text": [
            "INFO:tensorflow:Assets written to: /content/drive/MyDrive/AI-3 Project/Models/lstm_model_1/assets\n"
          ],
          "name": "stdout"
        },
        {
          "output_type": "stream",
          "text": [
            "INFO:tensorflow:Assets written to: /content/drive/MyDrive/AI-3 Project/Models/lstm_model_1/assets\n"
          ],
          "name": "stderr"
        }
      ]
    },
    {
      "cell_type": "code",
      "metadata": {
        "id": "T_xf_ccdSSrN"
      },
      "source": [
        "lstm_model = load_model('/content/drive/MyDrive/AI-3 Project/Models/lstm_model_1')"
      ],
      "execution_count": null,
      "outputs": []
    },
    {
      "cell_type": "code",
      "metadata": {
        "id": "7GABMYB3Zk2C"
      },
      "source": [
        "# Converting the test set into test dataset\n",
        "ragged_input_test  = tf.ragged.constant(X_test_embedding, dtype=tf.float32)\n",
        "dataset = tf.data.Dataset.from_tensor_slices((ragged_input_test, y_test.values))\n",
        "dataset = dataset.shuffle(1000)\n",
        "dataset = dataset.batch(1)\n",
        "test_dataset = dataset.map(lambda x,y: (x.to_tensor(default_value=0, shape=[None, None, 300]),y), num_parallel_calls=3)\n"
      ],
      "execution_count": null,
      "outputs": []
    },
    {
      "cell_type": "code",
      "metadata": {
        "id": "JVhyuaFUTvSq",
        "colab": {
          "base_uri": "https://localhost:8080/"
        },
        "outputId": "d0559a90-a015-4161-dad9-52d7b5e74baa"
      },
      "source": [
        "loss, acc = lstm_model.evaluate(test_dataset)"
      ],
      "execution_count": null,
      "outputs": [
        {
          "output_type": "stream",
          "text": [
            "228/228 [==============================] - 2s 5ms/step - loss: 0.5570 - accuracy: 0.7412\n"
          ],
          "name": "stdout"
        }
      ]
    },
    {
      "cell_type": "code",
      "metadata": {
        "id": "JagHR7pgjd_d",
        "outputId": "a53afe3b-9b6c-42bf-b548-540ff7d68976",
        "colab": {
          "base_uri": "https://localhost:8080/"
        }
      },
      "source": [
        "print(\"Test accuracy for Bi-LSTM is: \", acc)"
      ],
      "execution_count": 47,
      "outputs": [
        {
          "output_type": "stream",
          "text": [
            "Test accuracy for Bi-LSTM is:  74.12\n"
          ],
          "name": "stdout"
        }
      ]
    },
    {
      "cell_type": "markdown",
      "metadata": {
        "id": "wQZl49pWiwb-"
      },
      "source": [
        "Bidirectional LSTM model is able to perform better than the baseline model with the test accuracy of 74.12%. As mentioned above, this model is able to capture the meaning of the sentences better."
      ]
    }
  ]
}