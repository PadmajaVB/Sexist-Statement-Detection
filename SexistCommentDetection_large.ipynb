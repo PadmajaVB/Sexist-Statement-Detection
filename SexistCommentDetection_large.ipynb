{
  "nbformat": 4,
  "nbformat_minor": 0,
  "metadata": {
    "colab": {
      "name": "SexistCommentDetection.ipynb",
      "provenance": [],
      "include_colab_link": true
    },
    "kernelspec": {
      "name": "python3",
      "display_name": "Python 3"
    },
    "language_info": {
      "name": "python"
    },
    "accelerator": "GPU"
  },
  "cells": [
    {
      "cell_type": "markdown",
      "metadata": {
        "id": "view-in-github",
        "colab_type": "text"
      },
      "source": [
        "<a href=\"https://colab.research.google.com/github/PadmajaVB/Sexist-Statement-Detection/blob/main/SexistCommentDetection_large.ipynb\" target=\"_parent\"><img src=\"https://colab.research.google.com/assets/colab-badge.svg\" alt=\"Open In Colab\"/></a>"
      ]
    },
    {
      "cell_type": "code",
      "metadata": {
        "id": "b0FphptPMkd4",
        "colab": {
          "base_uri": "https://localhost:8080/"
        },
        "outputId": "ff209959-baa4-4235-aeaa-1c8cda726bf4"
      },
      "source": [
        "from google.colab import drive\n",
        "drive.mount('/content/drive')"
      ],
      "execution_count": 1,
      "outputs": [
        {
          "output_type": "stream",
          "text": [
            "Drive already mounted at /content/drive; to attempt to forcibly remount, call drive.mount(\"/content/drive\", force_remount=True).\n"
          ],
          "name": "stdout"
        }
      ]
    },
    {
      "cell_type": "code",
      "metadata": {
        "id": "dA47SO9xmsjq",
        "colab": {
          "base_uri": "https://localhost:8080/"
        },
        "outputId": "eea255ed-3b9b-43e8-e44f-2a8a916ea7f4"
      },
      "source": [
        "!pip install tensorflow_addons\n",
        "!pip install nlpaug\n",
        "!pip install tqdm"
      ],
      "execution_count": 2,
      "outputs": [
        {
          "output_type": "stream",
          "text": [
            "Requirement already satisfied: tensorflow_addons in /usr/local/lib/python3.7/dist-packages (0.13.0)\n",
            "Requirement already satisfied: typeguard>=2.7 in /usr/local/lib/python3.7/dist-packages (from tensorflow_addons) (2.7.1)\n",
            "Requirement already satisfied: nlpaug in /usr/local/lib/python3.7/dist-packages (1.1.3)\n",
            "Requirement already satisfied: tqdm in /usr/local/lib/python3.7/dist-packages (4.41.1)\n"
          ],
          "name": "stdout"
        }
      ]
    },
    {
      "cell_type": "code",
      "metadata": {
        "id": "nhk9tctaQQpB"
      },
      "source": [
        "import pandas as pd\n",
        "import tensorflow as tf\n",
        "import numpy as np\n",
        "import matplotlib.pyplot as plt\n",
        "from gensim.models import KeyedVectors\n",
        "\n",
        "from sklearn.model_selection import train_test_split\n",
        "from sklearn.utils import shuffle\n",
        "import re\n",
        "import collections\n",
        "\n",
        "import nlpaug.augmenter.word as naw\n",
        "\n",
        "import pickle\n",
        "from tqdm import tqdm\n",
        "\n",
        "from nlpaug.util import Action\n",
        "\n",
        "import tensorflow_addons as tfa\n",
        "from keras import backend as K\n",
        "from tensorflow.keras.preprocessing.sequence import pad_sequences\n",
        "from tensorflow.keras.models import Model, Sequential,model_from_json, load_model\n",
        "from tensorflow.keras.layers import Input, LSTM, SimpleRNN, Embedding, Dense, Flatten, RepeatVector, Permute, Activation, Dropout, Bidirectional, Multiply, Lambda"
      ],
      "execution_count": 3,
      "outputs": []
    },
    {
      "cell_type": "markdown",
      "metadata": {
        "id": "-eO6WjrntR09"
      },
      "source": [
        "## Loading data"
      ]
    },
    {
      "cell_type": "code",
      "metadata": {
        "id": "I-yXKZVNgLDE"
      },
      "source": [
        "df_train = pd.read_csv('/content/drive/MyDrive/AI-3 Project/data/Preprocessed data/train_dataset.csv')\n",
        "df_test = pd.read_csv('/content/drive/MyDrive/AI-3 Project/data/Preprocessed data/test_dataset.csv')\n",
        "df_val = pd.read_csv('/content/drive/MyDrive/AI-3 Project/data/Preprocessed data/val_dataset.csv')"
      ],
      "execution_count": 4,
      "outputs": []
    },
    {
      "cell_type": "markdown",
      "metadata": {
        "id": "kBA1KbCs_LmZ"
      },
      "source": [
        "### Data Augementation"
      ]
    },
    {
      "cell_type": "markdown",
      "metadata": {
        "id": "WTvx6v9d5EKz"
      },
      "source": [
        "As seen above, our dataset is imbalanced. To achieve good performance from the models, we need to balance the data. Data augmentation techniques can be used to generate additional, synthetic data using the existing data.\n",
        "We have used a python library, NLPAug to achieve this.\n",
        "\n",
        "NLPAug offers three types of augmentation:\n",
        "1. Character level augmentation\n",
        "2. Word level augmentation \n",
        "3. Sentence level augmentation\n",
        "Each of these types can be performed with actions like random deletion, random insertion, shuffling, synonym replacement, etc.\n",
        "\n",
        "Here, we have used synonym replacement action for Word level augmentation, which randomly picks a word from a sentence and replaces it with a synonym of the word( use word embeddings to find most similar group of words to replace original word).\n",
        "\n"
      ]
    },
    {
      "cell_type": "code",
      "metadata": {
        "id": "5v7iptRQBWvM"
      },
      "source": [
        "def augment_text(df,samples=3000,pr=0.2):\n",
        "  aug = naw.WordEmbsAug(\n",
        "  model_type='glove', model_path='/content/drive/MyDrive/UnivAI/AI-3 Project/Embeddings/1b-vectors300-0.8-0.8.txt',\n",
        "  action=\"substitute\")\n",
        "\n",
        "  aug.aug_p=pr\n",
        "  new_text=[]\n",
        "  \n",
        "  ##selecting the minority class samples\n",
        "  df_n=df[df.Label==1].reset_index(drop=True)\n",
        "\n",
        "  ## data augmentation loop\n",
        "  for i in tqdm(np.random.randint(0,len(df_n),samples)):\n",
        "      \n",
        "          text = df_n.iloc[i]['Sentences']\n",
        "          augmented_text = aug.augment(text)\n",
        "          new_text.append(augmented_text)\n",
        "  \n",
        "  \n",
        "  ## dataframe\n",
        "  new=pd.DataFrame({'Sentences':new_text,'Label':0})\n",
        "  df=shuffle(df.append(new).reset_index(drop=True))\n",
        "  return df"
      ],
      "execution_count": null,
      "outputs": []
    },
    {
      "cell_type": "code",
      "metadata": {
        "id": "Hb7KPH2a_fsW"
      },
      "source": [
        "## Uncomment this cell to run Data augmentation on the train dataset\n",
        "\n",
        "# train = augment_text(df_train)\n",
        "# train.drop('Unnamed: 0', axis=1, inplace=True)\n",
        "# train.reset_index(drop=True,inplace=True)"
      ],
      "execution_count": null,
      "outputs": []
    },
    {
      "cell_type": "code",
      "metadata": {
        "colab": {
          "base_uri": "https://localhost:8080/",
          "height": 292
        },
        "id": "N10HEU4BKVqY",
        "outputId": "e3da1f42-44c8-4da2-de89-e463e7b937f9"
      },
      "source": [
        "train['Label'].value_counts().plot(kind='bar')\n",
        "plt.xlabel('label category')\n",
        "plt.ylabel('count')\n",
        "plt.title('Sexist comment distribution in the dataset after augmentation')\n",
        "plt.show()"
      ],
      "execution_count": null,
      "outputs": [
        {
          "output_type": "display_data",
          "data": {
            "image/png": "[encoded data removed]",
            "text/plain": [
              "<Figure size 432x288 with 1 Axes>"
            ]
          },
          "metadata": {
            "tags": [],
            "needs_background": "light"
          }
        }
      ]
    },
    {
      "cell_type": "markdown",
      "metadata": {
        "id": "m2zvkDSS8By6"
      },
      "source": [
        "From the above plot, we can see that the class distribution is balanced after data augmentation."
      ]
    },
    {
      "cell_type": "code",
      "metadata": {
        "id": "Rp8aJ1WOOQ6L"
      },
      "source": [
        "## Uncomment this cell to save the augmented train data\n",
        "\n",
        "# train.to_csv('/content/drive/MyDrive/AI-3 Project/data/Preprocessed data/augmented_train_dataset.csv')"
      ],
      "execution_count": null,
      "outputs": []
    },
    {
      "cell_type": "code",
      "metadata": {
        "id": "V-3CgNmlOk2D"
      },
      "source": [
        "df_train = pd.read_csv('/content/drive/MyDrive/AI-3 Project/data/Preprocessed data/augmented_train_dataset.csv')"
      ],
      "execution_count": 5,
      "outputs": []
    },
    {
      "cell_type": "code",
      "metadata": {
        "id": "sweOhve-hFch"
      },
      "source": [
        "X_train = df_train[['Sentences']]\n",
        "y_train = df_train['Label']\n",
        "\n",
        "X_val = df_val[['Sentences']]\n",
        "y_val = df_val['Label']\n",
        "\n",
        "X_test = df_test[['Sentences']]\n",
        "y_test = df_test['Label']"
      ],
      "execution_count": 6,
      "outputs": []
    },
    {
      "cell_type": "code",
      "metadata": {
        "colab": {
          "base_uri": "https://localhost:8080/",
          "height": 203
        },
        "id": "WOiil3OWO-mP",
        "outputId": "e8a2b5c1-d434-4fb6-9da4-e92403f5af17"
      },
      "source": [
        "X_train.tail()"
      ],
      "execution_count": 7,
      "outputs": [
        {
          "output_type": "execute_result",
          "data": {
            "text/html": [
              "<div>\n",
              "<style scoped>\n",
              "    .dataframe tbody tr th:only-of-type {\n",
              "        vertical-align: middle;\n",
              "    }\n",
              "\n",
              "    .dataframe tbody tr th {\n",
              "        vertical-align: top;\n",
              "    }\n",
              "\n",
              "    .dataframe thead th {\n",
              "        text-align: right;\n",
              "    }\n",
              "</style>\n",
              "<table border=\"1\" class=\"dataframe\">\n",
              "  <thead>\n",
              "    <tr style=\"text-align: right;\">\n",
              "      <th></th>\n",
              "      <th>Sentences</th>\n",
              "    </tr>\n",
              "  </thead>\n",
              "  <tbody>\n",
              "    <tr>\n",
              "      <th>14106</th>\n",
              "      <td>having to state your marital status  times a d...</td>\n",
              "    </tr>\n",
              "    <tr>\n",
              "      <th>14107</th>\n",
              "      <td>my mother commenting on my outfit dont cry to ...</td>\n",
              "    </tr>\n",
              "    <tr>\n",
              "      <th>14108</th>\n",
              "      <td>a good man acknowledges a woman than another p...</td>\n",
              "    </tr>\n",
              "    <tr>\n",
              "      <th>14109</th>\n",
              "      <td>agree to an extent</td>\n",
              "    </tr>\n",
              "    <tr>\n",
              "      <th>14110</th>\n",
              "      <td>joker doesnt even work with a woman besides wa...</td>\n",
              "    </tr>\n",
              "  </tbody>\n",
              "</table>\n",
              "</div>"
            ],
            "text/plain": [
              "                                               Sentences\n",
              "14106  having to state your marital status  times a d...\n",
              "14107  my mother commenting on my outfit dont cry to ...\n",
              "14108  a good man acknowledges a woman than another p...\n",
              "14109                                 agree to an extent\n",
              "14110  joker doesnt even work with a woman besides wa..."
            ]
          },
          "metadata": {
            "tags": []
          },
          "execution_count": 7
        }
      ]
    },
    {
      "cell_type": "code",
      "metadata": {
        "id": "tU1WcNSuiAN-",
        "colab": {
          "base_uri": "https://localhost:8080/"
        },
        "outputId": "9acbb02c-9c15-465e-fbd4-591643af3285"
      },
      "source": [
        "X_train.shape, X_val.shape, X_test.shape"
      ],
      "execution_count": 8,
      "outputs": [
        {
          "output_type": "execute_result",
          "data": {
            "text/plain": [
              "((14111, 1), (273, 1), (228, 1))"
            ]
          },
          "metadata": {
            "tags": []
          },
          "execution_count": 8
        }
      ]
    },
    {
      "cell_type": "code",
      "metadata": {
        "id": "C86IXOZTm1OL"
      },
      "source": [
        "#!unzip '/content/drive/MyDrive/UnivAI/AI-3 Project/Embeddings/1b-GNGloVe-300d-0.8-0.8.zip' -d '/content/drive/MyDrive/UnivAI/AI-3 Project/Embeddings/'"
      ],
      "execution_count": null,
      "outputs": []
    },
    {
      "cell_type": "markdown",
      "metadata": {
        "id": "iFtlBSBMuEtf"
      },
      "source": [
        "### Loading the Gender neutral GLoVe embedding"
      ]
    },
    {
      "cell_type": "code",
      "metadata": {
        "id": "ANZPM5CmhyOW"
      },
      "source": [
        "def read_glove_vecs(glove_file):\n",
        "    with open(glove_file, encoding=\"utf8\") as f:\n",
        "        words = set()\n",
        "        word_to_vec_map = {}\n",
        "        for line in f:\n",
        "            line = line.strip().split()\n",
        "            curr_word = line[0]\n",
        "            words.add(curr_word)\n",
        "            word_to_vec_map[curr_word] = np.array(line[1:], dtype=np.float64)\n",
        "        \n",
        "        i = 1\n",
        "        words_to_index = {}\n",
        "        index_to_words = {}\n",
        "        for w in sorted(words):\n",
        "            words_to_index[w] = i\n",
        "            index_to_words[i] = w\n",
        "            i = i + 1\n",
        "    return words_to_index, index_to_words, word_to_vec_map"
      ],
      "execution_count": 9,
      "outputs": []
    },
    {
      "cell_type": "code",
      "metadata": {
        "id": "nh-mHCha_mUx"
      },
      "source": [
        ""
      ],
      "execution_count": null,
      "outputs": []
    },
    {
      "cell_type": "code",
      "metadata": {
        "id": "M-XGDGMLi1s-"
      },
      "source": [
        "embedding_path = '/content/drive/MyDrive/UnivAI/AI-3 Project/Embeddings/1b-vectors300-0.8-0.8.txt'\n",
        "words_to_index, index_to_words, word_to_vec_map = read_glove_vecs(embedding_path)"
      ],
      "execution_count": 10,
      "outputs": []
    },
    {
      "cell_type": "code",
      "metadata": {
        "colab": {
          "base_uri": "https://localhost:8080/"
        },
        "id": "aSb0Nv5HmzbU",
        "outputId": "0c48f4fb-19d2-434f-e540-b1f9b852278b"
      },
      "source": [
        "word_to_vec_map['and'].shape"
      ],
      "execution_count": 11,
      "outputs": [
        {
          "output_type": "execute_result",
          "data": {
            "text/plain": [
              "(300,)"
            ]
          },
          "metadata": {
            "tags": []
          },
          "execution_count": 11
        }
      ]
    },
    {
      "cell_type": "code",
      "metadata": {
        "id": "qYEOZlatulo1"
      },
      "source": [
        "vocab = list(words_to_index.keys())"
      ],
      "execution_count": 12,
      "outputs": []
    },
    {
      "cell_type": "code",
      "metadata": {
        "colab": {
          "base_uri": "https://localhost:8080/"
        },
        "id": "t6cZK0YronTS",
        "outputId": "07d5fbe6-1f2d-4bab-a5b8-92df73df7154"
      },
      "source": [
        "len(vocab)"
      ],
      "execution_count": 13,
      "outputs": [
        {
          "output_type": "execute_result",
          "data": {
            "text/plain": [
              "142527"
            ]
          },
          "metadata": {
            "tags": []
          },
          "execution_count": 13
        }
      ]
    },
    {
      "cell_type": "markdown",
      "metadata": {
        "id": "GbWhTQxvuMEz"
      },
      "source": [
        "### Getting word embeddigs for the input data - X_train and X_test"
      ]
    },
    {
      "cell_type": "code",
      "metadata": {
        "id": "TzCUzLfPpArL"
      },
      "source": [
        "def get_tokens_embedding_list(data, vocab, word_to_vec_map):\n",
        "  embedding_list = []\n",
        "  for sent_seq in data:\n",
        "    tensor_list=[]\n",
        "    for word in sent_seq[0].split():\n",
        "      if word in vocab:\n",
        "        tensor_list.append(word_to_vec_map[word])\n",
        "        #print(len(tensor_list))\n",
        "    embedding_list.append(tensor_list)\n",
        "  return embedding_list"
      ],
      "execution_count": 14,
      "outputs": []
    },
    {
      "cell_type": "code",
      "metadata": {
        "id": "C50-ku8LtBWD"
      },
      "source": [
        "# X_train_embedding = get_tokens_embedding_list(X_train.values, vocab, word_to_vec_map)"
      ],
      "execution_count": null,
      "outputs": []
    },
    {
      "cell_type": "code",
      "metadata": {
        "id": "5sYLbt_XPN8Z"
      },
      "source": [
        "X_val_embedding = get_tokens_embedding_list(X_val.values, vocab, word_to_vec_map)"
      ],
      "execution_count": 15,
      "outputs": []
    },
    {
      "cell_type": "code",
      "metadata": {
        "id": "_9lA1QTC-t2T"
      },
      "source": [
        "X_test_embedding = get_tokens_embedding_list(X_test.values, vocab, word_to_vec_map)"
      ],
      "execution_count": 16,
      "outputs": []
    },
    {
      "cell_type": "code",
      "metadata": {
        "id": "Ye6OogfNjYZx"
      },
      "source": [
        "# with open('/content/drive/MyDrive/AI-3 Project/data/Preprocessed data/train_embedding_list_1', 'wb') as f:\n",
        "#   pickle.dump(X_train_embedding, f)"
      ],
      "execution_count": null,
      "outputs": []
    },
    {
      "cell_type": "code",
      "metadata": {
        "id": "MZMnGp3wls2K"
      },
      "source": [
        "with open('/content/drive/MyDrive/AI-3 Project/data/Preprocessed data/train_embedding_list_1', 'rb') as f:\n",
        "  X_train_embedding = pickle.load(f)"
      ],
      "execution_count": 17,
      "outputs": []
    },
    {
      "cell_type": "code",
      "metadata": {
        "id": "V5Z_7VUUm36j"
      },
      "source": [
        "def create_dataset(data_in, target_in):\n",
        "   \n",
        "    #Get the length of each sentence\n",
        "    N = [len(data_in[i]) for i, _ in enumerate(data_in)]\n",
        "    embedding_size = 300\n",
        "    tensor_N = tf.constant(N, tf.int32)\n",
        "    ragged_input  = tf.ragged.constant(data_in, dtype=tf.float32)\n",
        "    print(ragged_input.shape)\n",
        "\n",
        "    # Build the dataset and the operations\n",
        "    dataset = tf.data.Dataset.from_tensor_slices((ragged_input, target_in))\n",
        "    del ragged_input\n",
        "\n",
        "    dataset = dataset.shuffle(1000)\n",
        "    dataset = dataset.batch(64)\n",
        "    \n",
        "    # Transform_pad function is defined above; you can change the num_parallel_calls\n",
        "    dataset = dataset.map(lambda x,y: (x.to_tensor(default_value=0, shape=[None, None, embedding_size]), y), num_parallel_calls=3)   \n",
        "                          \n",
        "    dataset = dataset.prefetch(1)\n",
        "    return dataset"
      ],
      "execution_count": 18,
      "outputs": []
    },
    {
      "cell_type": "code",
      "metadata": {
        "id": "bmEK4qIQSARA",
        "colab": {
          "base_uri": "https://localhost:8080/"
        },
        "outputId": "29c6739e-8451-4fec-f258-8059173e9274"
      },
      "source": [
        "train_dataset = create_dataset(X_train_embedding, y_train)\n",
        "val_dataset = create_dataset(X_val_embedding, y_val)"
      ],
      "execution_count": 19,
      "outputs": [
        {
          "output_type": "stream",
          "text": [
            "(14111, None, None)\n",
            "(273, None, None)\n"
          ],
          "name": "stdout"
        }
      ]
    },
    {
      "cell_type": "code",
      "metadata": {
        "id": "0IZ-86rZT7oe",
        "colab": {
          "base_uri": "https://localhost:8080/"
        },
        "outputId": "2a440867-bc34-4a0f-d10f-73fd0f6d6ca9"
      },
      "source": [
        "train_dataset"
      ],
      "execution_count": 20,
      "outputs": [
        {
          "output_type": "execute_result",
          "data": {
            "text/plain": [
              "<PrefetchDataset shapes: ((None, None, 300), (None,)), types: (tf.float32, tf.int64)>"
            ]
          },
          "metadata": {
            "tags": []
          },
          "execution_count": 20
        }
      ]
    },
    {
      "cell_type": "markdown",
      "metadata": {
        "id": "B62CItjH2wU5"
      },
      "source": [
        "### Define the model"
      ]
    },
    {
      "cell_type": "code",
      "metadata": {
        "id": "ffRZ381EwVQo"
      },
      "source": [
        "input_layer = Input((None, 300), name='input')\n",
        "bid_lstm_1 = Bidirectional(LSTM(128, return_sequences=True))(input_layer)\n",
        "dropout_1 = Dropout(0.5)(bid_lstm_1)\n",
        "bid_lstm_2 = Bidirectional(LSTM(128, return_sequences=False))(dropout_1)\n",
        "dropout_2 = Dropout(0.5)(bid_lstm_2)\n",
        "dense = Dense(1, activation='sigmoid')(dropout_2)\n",
        "\n",
        "lstm_model = Model(inputs=input_layer, outputs=dense)"
      ],
      "execution_count": 124,
      "outputs": []
    },
    {
      "cell_type": "code",
      "metadata": {
        "id": "V7he80iz31fr",
        "colab": {
          "base_uri": "https://localhost:8080/"
        },
        "outputId": "4d0cdf3a-19e9-4afc-b342-2d5104c851c5"
      },
      "source": [
        "lstm_model.summary()"
      ],
      "execution_count": 125,
      "outputs": [
        {
          "output_type": "stream",
          "text": [
            "Model: \"model_17\"\n",
            "_________________________________________________________________\n",
            "Layer (type)                 Output Shape              Param #   \n",
            "=================================================================\n",
            "input (InputLayer)           [(None, None, 300)]       0         \n",
            "_________________________________________________________________\n",
            "bidirectional_26 (Bidirectio (None, None, 256)         439296    \n",
            "_________________________________________________________________\n",
            "dropout_26 (Dropout)         (None, None, 256)         0         \n",
            "_________________________________________________________________\n",
            "bidirectional_27 (Bidirectio (None, 256)               394240    \n",
            "_________________________________________________________________\n",
            "dropout_27 (Dropout)         (None, 256)               0         \n",
            "_________________________________________________________________\n",
            "dense_25 (Dense)             (None, 1)                 257       \n",
            "=================================================================\n",
            "Total params: 833,793\n",
            "Trainable params: 833,793\n",
            "Non-trainable params: 0\n",
            "_________________________________________________________________\n"
          ],
          "name": "stdout"
        }
      ]
    },
    {
      "cell_type": "code",
      "metadata": {
        "id": "FbTGrKWC4pAY"
      },
      "source": [
        "lstm_model.compile(optimizer=tf.keras.optimizers.Adam(), loss='bce', metrics=['accuracy'])"
      ],
      "execution_count": 126,
      "outputs": []
    },
    {
      "cell_type": "code",
      "metadata": {
        "id": "8gnOGWd05BRM",
        "colab": {
          "base_uri": "https://localhost:8080/"
        },
        "outputId": "1c6af8e8-3475-4598-e0a3-0e65f638333f"
      },
      "source": [
        "callback = tf.keras.callbacks.EarlyStopping(monitor='val_loss', patience=2)\n",
        "history = lstm_model.fit(train_dataset, epochs=10, validation_data=val_dataset, verbose=1, callbacks=[callback])"
      ],
      "execution_count": 127,
      "outputs": [
        {
          "output_type": "stream",
          "text": [
            "Epoch 1/10\n",
            "221/221 [==============================] - 29s 111ms/step - loss: 0.5922 - accuracy: 0.6899 - val_loss: 0.6578 - val_accuracy: 0.6117\n",
            "Epoch 2/10\n",
            "221/221 [==============================] - 23s 105ms/step - loss: 0.5475 - accuracy: 0.7253 - val_loss: 0.6156 - val_accuracy: 0.6703\n",
            "Epoch 3/10\n",
            "221/221 [==============================] - 23s 103ms/step - loss: 0.5179 - accuracy: 0.7393 - val_loss: 0.5949 - val_accuracy: 0.6960\n",
            "Epoch 4/10\n",
            "221/221 [==============================] - 23s 104ms/step - loss: 0.4903 - accuracy: 0.7558 - val_loss: 0.5473 - val_accuracy: 0.7582\n",
            "Epoch 5/10\n",
            "221/221 [==============================] - 23s 103ms/step - loss: 0.4562 - accuracy: 0.7790 - val_loss: 0.5484 - val_accuracy: 0.7436\n",
            "Epoch 6/10\n",
            "221/221 [==============================] - 23s 104ms/step - loss: 0.4274 - accuracy: 0.7989 - val_loss: 0.5634 - val_accuracy: 0.7363\n"
          ],
          "name": "stdout"
        }
      ]
    },
    {
      "cell_type": "code",
      "metadata": {
        "id": "unEllLTVECzy"
      },
      "source": [
        "def plot_history(history, name):\n",
        "    fig, ax = plt.subplots(1,2, figsize=(12,4))\n",
        "    for i, metric in enumerate(['loss', 'accuracy']): \n",
        "        ax[i].plot(history.history[metric], label='Train')\n",
        "        ax[i].plot(history.history['val_'+metric], label='Validation')\n",
        "        if metric == 'accuracy': ax[i].axhline(0.5, c='r', ls='--', label='Trivial accuracy')\n",
        "        ax[i].set_xlabel('Epoch')\n",
        "        ax[i].set_ylabel(metric)\n",
        "    plt.suptitle(f'{name} Training', y=1.05)\n",
        "    plt.legend()\n",
        "    plt.tight_layout()"
      ],
      "execution_count": 128,
      "outputs": []
    },
    {
      "cell_type": "code",
      "metadata": {
        "id": "HeJYoTvrFlas",
        "colab": {
          "base_uri": "https://localhost:8080/",
          "height": 323
        },
        "outputId": "5f3b43ee-2692-4519-bd94-c8928311339c"
      },
      "source": [
        "plot_history(history, 'Bidirectional LSTM')"
      ],
      "execution_count": 129,
      "outputs": [
        {
          "output_type": "display_data",
          "data": {
            "image/png": "[encoded data removed]",
            "text/plain": [
              "<Figure size 864x288 with 2 Axes>"
            ]
          },
          "metadata": {
            "tags": [],
            "needs_background": "light"
          }
        }
      ]
    },
    {
      "cell_type": "code",
      "metadata": {
        "id": "fjTdSKyKPZ9l",
        "colab": {
          "base_uri": "https://localhost:8080/"
        },
        "outputId": "4999f3c4-d99b-4c92-e311-42794bf71271"
      },
      "source": [
        "lstm_model.save('/content/drive/MyDrive/AI-3 Project/Models/lstm_model_1')"
      ],
      "execution_count": 130,
      "outputs": [
        {
          "output_type": "stream",
          "text": [
            "WARNING:absl:Found untraced functions such as lstm_cell_82_layer_call_and_return_conditional_losses, lstm_cell_82_layer_call_fn, lstm_cell_83_layer_call_and_return_conditional_losses, lstm_cell_83_layer_call_fn, lstm_cell_85_layer_call_and_return_conditional_losses while saving (showing 5 of 20). These functions will not be directly callable after loading.\n"
          ],
          "name": "stderr"
        },
        {
          "output_type": "stream",
          "text": [
            "INFO:tensorflow:Assets written to: /content/drive/MyDrive/AI-3 Project/Models/lstm_model_1/assets\n"
          ],
          "name": "stdout"
        },
        {
          "output_type": "stream",
          "text": [
            "INFO:tensorflow:Assets written to: /content/drive/MyDrive/AI-3 Project/Models/lstm_model_1/assets\n"
          ],
          "name": "stderr"
        }
      ]
    },
    {
      "cell_type": "code",
      "metadata": {
        "id": "T_xf_ccdSSrN"
      },
      "source": [
        "lstm_model = load_model('/content/drive/MyDrive/AI-3 Project/Models/lstm_model_1')"
      ],
      "execution_count": 131,
      "outputs": []
    },
    {
      "cell_type": "code",
      "metadata": {
        "id": "7GABMYB3Zk2C"
      },
      "source": [
        "ragged_input_test  = tf.ragged.constant(X_test_embedding, dtype=tf.float32)\n",
        "dataset = tf.data.Dataset.from_tensor_slices((ragged_input_test, y_test.values))\n",
        "dataset = dataset.shuffle(1000)\n",
        "dataset = dataset.batch(1)\n",
        "test_dataset = dataset.map(lambda x,y: (x.to_tensor(default_value=0, shape=[None, None, 300]),y), num_parallel_calls=3)\n"
      ],
      "execution_count": 132,
      "outputs": []
    },
    {
      "cell_type": "code",
      "metadata": {
        "id": "JVhyuaFUTvSq",
        "colab": {
          "base_uri": "https://localhost:8080/"
        },
        "outputId": "d0559a90-a015-4161-dad9-52d7b5e74baa"
      },
      "source": [
        "loss, acc = lstm_model.evaluate(test_dataset)"
      ],
      "execution_count": 133,
      "outputs": [
        {
          "output_type": "stream",
          "text": [
            "228/228 [==============================] - 2s 5ms/step - loss: 0.5570 - accuracy: 0.7412\n"
          ],
          "name": "stdout"
        }
      ]
    },
    {
      "cell_type": "markdown",
      "metadata": {
        "id": "V6jf2Xd6LUmT"
      },
      "source": [
        "## Model with attention"
      ]
    },
    {
      "cell_type": "code",
      "metadata": {
        "id": "Ic7H3XtwLYYw"
      },
      "source": [
        "input_layer = Input((None, 300), name='input')\n",
        "bid_lstm_1 = Bidirectional(LSTM(128, return_sequences=True))(input_layer)\n",
        "dropout_1 = Dropout(0.5)(bid_lstm_1)\n",
        "\n",
        "attention = Dense(1, activation='tanh')(dropout_1)\n",
        "attention = Flatten()(attention)\n",
        "attention = Activation('softmax')(attention)\n",
        "attention = RepeatVector(128 * 2)(attention)\n",
        "attention = Permute([2, 1])(attention)\n",
        "\n",
        "sent_representation = Multiply()([dropout_1, attention])\n",
        "sent_representation = Lambda(lambda xin: K.sum(xin, axis=1))(sent_representation)\n",
        "\n",
        "dropout_2 = Dropout(0.5)(sent_representation)\n",
        "dense = Dense(1, activation='sigmoid')(dropout_2)\n",
        "\n",
        "model = Model(inputs=input_layer, outputs=dense)"
      ],
      "execution_count": 134,
      "outputs": []
    },
    {
      "cell_type": "code",
      "metadata": {
        "id": "ppDUmA6LLaUW",
        "colab": {
          "base_uri": "https://localhost:8080/"
        },
        "outputId": "e935f532-3127-44d7-89ad-fafdca96e1bb"
      },
      "source": [
        "model.summary()"
      ],
      "execution_count": 135,
      "outputs": [
        {
          "output_type": "stream",
          "text": [
            "Model: \"model_18\"\n",
            "__________________________________________________________________________________________________\n",
            "Layer (type)                    Output Shape         Param #     Connected to                     \n",
            "==================================================================================================\n",
            "input (InputLayer)              [(None, None, 300)]  0                                            \n",
            "__________________________________________________________________________________________________\n",
            "bidirectional_28 (Bidirectional (None, None, 256)    439296      input[0][0]                      \n",
            "__________________________________________________________________________________________________\n",
            "dropout_28 (Dropout)            (None, None, 256)    0           bidirectional_28[0][0]           \n",
            "__________________________________________________________________________________________________\n",
            "dense_26 (Dense)                (None, None, 1)      257         dropout_28[0][0]                 \n",
            "__________________________________________________________________________________________________\n",
            "flatten_8 (Flatten)             (None, None)         0           dense_26[0][0]                   \n",
            "__________________________________________________________________________________________________\n",
            "activation_8 (Activation)       (None, None)         0           flatten_8[0][0]                  \n",
            "__________________________________________________________________________________________________\n",
            "repeat_vector_8 (RepeatVector)  (None, 256, None)    0           activation_8[0][0]               \n",
            "__________________________________________________________________________________________________\n",
            "permute_8 (Permute)             (None, None, 256)    0           repeat_vector_8[0][0]            \n",
            "__________________________________________________________________________________________________\n",
            "multiply_8 (Multiply)           (None, None, 256)    0           dropout_28[0][0]                 \n",
            "                                                                 permute_8[0][0]                  \n",
            "__________________________________________________________________________________________________\n",
            "lambda_8 (Lambda)               (None, 256)          0           multiply_8[0][0]                 \n",
            "__________________________________________________________________________________________________\n",
            "dropout_29 (Dropout)            (None, 256)          0           lambda_8[0][0]                   \n",
            "__________________________________________________________________________________________________\n",
            "dense_27 (Dense)                (None, 1)            257         dropout_29[0][0]                 \n",
            "==================================================================================================\n",
            "Total params: 439,810\n",
            "Trainable params: 439,810\n",
            "Non-trainable params: 0\n",
            "__________________________________________________________________________________________________\n"
          ],
          "name": "stdout"
        }
      ]
    },
    {
      "cell_type": "code",
      "metadata": {
        "id": "aZm0UQyyPm0B"
      },
      "source": [
        "model.compile(optimizer=tf.keras.optimizers.Adam(0.0001), loss='bce', metrics=['accuracy'])"
      ],
      "execution_count": 136,
      "outputs": []
    },
    {
      "cell_type": "code",
      "metadata": {
        "id": "nWf0IWEXPuPC",
        "colab": {
          "base_uri": "https://localhost:8080/"
        },
        "outputId": "6870df30-df9f-40ca-f36e-e23c412eb94a"
      },
      "source": [
        "callback = tf.keras.callbacks.EarlyStopping(monitor='val_loss', patience=2)\n",
        "history_1 = model.fit(train_dataset, epochs=10, validation_data=val_dataset, verbose=1, callbacks=[callback])"
      ],
      "execution_count": 137,
      "outputs": [
        {
          "output_type": "stream",
          "text": [
            "Epoch 1/10\n",
            "221/221 [==============================] - 17s 64ms/step - loss: 0.6581 - accuracy: 0.6119 - val_loss: 0.6911 - val_accuracy: 0.5531\n",
            "Epoch 2/10\n",
            "221/221 [==============================] - 14s 64ms/step - loss: 0.6174 - accuracy: 0.6700 - val_loss: 0.6381 - val_accuracy: 0.6630\n",
            "Epoch 3/10\n",
            "221/221 [==============================] - 14s 61ms/step - loss: 0.6052 - accuracy: 0.6767 - val_loss: 0.6261 - val_accuracy: 0.6667\n",
            "Epoch 4/10\n",
            "221/221 [==============================] - 14s 61ms/step - loss: 0.5922 - accuracy: 0.6954 - val_loss: 0.6188 - val_accuracy: 0.6520\n",
            "Epoch 5/10\n",
            "221/221 [==============================] - 14s 62ms/step - loss: 0.6026 - accuracy: 0.6769 - val_loss: 0.6203 - val_accuracy: 0.6703\n",
            "Epoch 6/10\n",
            "221/221 [==============================] - 14s 64ms/step - loss: 0.6110 - accuracy: 0.6727 - val_loss: 0.6386 - val_accuracy: 0.6593\n"
          ],
          "name": "stdout"
        }
      ]
    },
    {
      "cell_type": "code",
      "metadata": {
        "id": "aAG_RygxGJEu",
        "colab": {
          "base_uri": "https://localhost:8080/",
          "height": 323
        },
        "outputId": "5dcceb66-4dcd-4d80-f746-b8275c21de2f"
      },
      "source": [
        "plot_history(history_1, 'Bidirectional LSTM with Attention')"
      ],
      "execution_count": 138,
      "outputs": [
        {
          "output_type": "display_data",
          "data": {
            "image/png": "[encoded data removed]",
            "text/plain": [
              "<Figure size 864x288 with 2 Axes>"
            ]
          },
          "metadata": {
            "tags": [],
            "needs_background": "light"
          }
        }
      ]
    },
    {
      "cell_type": "code",
      "metadata": {
        "id": "yQ9eoncOO8RZ",
        "colab": {
          "base_uri": "https://localhost:8080/"
        },
        "outputId": "2b74fe25-22fd-4a43-9d0e-a9a8f8cdff50"
      },
      "source": [
        "model.save('/content/drive/MyDrive/AI-3 Project/Models/lstm_with_attention_1')"
      ],
      "execution_count": 139,
      "outputs": [
        {
          "output_type": "stream",
          "text": [
            "WARNING:absl:Found untraced functions such as lstm_cell_94_layer_call_and_return_conditional_losses, lstm_cell_94_layer_call_fn, lstm_cell_95_layer_call_and_return_conditional_losses, lstm_cell_95_layer_call_fn, lstm_cell_94_layer_call_fn while saving (showing 5 of 10). These functions will not be directly callable after loading.\n"
          ],
          "name": "stderr"
        },
        {
          "output_type": "stream",
          "text": [
            "INFO:tensorflow:Assets written to: /content/drive/MyDrive/AI-3 Project/Models/lstm_with_attention_1/assets\n"
          ],
          "name": "stdout"
        },
        {
          "output_type": "stream",
          "text": [
            "/usr/local/lib/python3.7/dist-packages/tensorflow/python/keras/utils/generic_utils.py:497: CustomMaskWarning: Custom mask layers require a config and must override get_config. When loading, the custom mask layer must be passed to the custom_objects argument.\n",
            "  category=CustomMaskWarning)\n",
            "INFO:tensorflow:Assets written to: /content/drive/MyDrive/AI-3 Project/Models/lstm_with_attention_1/assets\n"
          ],
          "name": "stderr"
        }
      ]
    },
    {
      "cell_type": "code",
      "metadata": {
        "id": "HKELDJF3yxo5"
      },
      "source": [
        "model = load_model('/content/drive/MyDrive/AI-3 Project/Models/lstm_with_attention_1')"
      ],
      "execution_count": 140,
      "outputs": []
    },
    {
      "cell_type": "code",
      "metadata": {
        "id": "MbZ9DVujy2Yw",
        "colab": {
          "base_uri": "https://localhost:8080/"
        },
        "outputId": "904942f9-de05-4938-e636-329c8169c3be"
      },
      "source": [
        "loss, acc = model.evaluate(test_dataset)"
      ],
      "execution_count": 141,
      "outputs": [
        {
          "output_type": "stream",
          "text": [
            "228/228 [==============================] - 2s 4ms/step - loss: 0.6139 - accuracy: 0.6754\n"
          ],
          "name": "stdout"
        }
      ]
    },
    {
      "cell_type": "markdown",
      "metadata": {
        "id": "59_TuW42KylM"
      },
      "source": [
        "### Script to get the data for everyday Sexism project"
      ]
    },
    {
      "cell_type": "code",
      "metadata": {
        "id": "h4D1R9JiNWiK",
        "colab": {
          "base_uri": "https://localhost:8080/",
          "height": 820
        },
        "outputId": "cc60b56d-73e7-4b35-c722-8747e7d9e94c"
      },
      "source": [
        "!pip install ipdb"
      ],
      "execution_count": null,
      "outputs": [
        {
          "output_type": "stream",
          "text": [
            "Collecting ipdb\n",
            "  Downloading https://files.pythonhosted.org/packages/5f/43/eb2be141dac56e502b6e35c1e4a9b1bbb2d4dcbec773c0f6563e79758909/ipdb-0.13.8.tar.gz\n",
            "Requirement already satisfied: setuptools in /usr/local/lib/python3.7/dist-packages (from ipdb) (56.1.0)\n",
            "Collecting ipython>=7.17.0\n",
            "\u001b[?25l  Downloading https://files.pythonhosted.org/packages/81/d1/8d0ba7589ea4cbf3e80ef8e20616da2cfc3c33187a64b044372aad517512/ipython-7.23.1-py3-none-any.whl (785kB)\n",
            "\u001b[K     |████████████████████████████████| 788kB 9.8MB/s \n",
            "\u001b[?25hRequirement already satisfied: toml>=0.10.2 in /usr/local/lib/python3.7/dist-packages (from ipdb) (0.10.2)\n",
            "Requirement already satisfied: decorator in /usr/local/lib/python3.7/dist-packages (from ipdb) (4.4.2)\n",
            "Requirement already satisfied: jedi>=0.16 in /usr/local/lib/python3.7/dist-packages (from ipython>=7.17.0->ipdb) (0.18.0)\n",
            "Requirement already satisfied: matplotlib-inline in /usr/local/lib/python3.7/dist-packages (from ipython>=7.17.0->ipdb) (0.1.2)\n",
            "Requirement already satisfied: pickleshare in /usr/local/lib/python3.7/dist-packages (from ipython>=7.17.0->ipdb) (0.7.5)\n",
            "Collecting prompt-toolkit!=3.0.0,!=3.0.1,<3.1.0,>=2.0.0\n",
            "\u001b[?25l  Downloading https://files.pythonhosted.org/packages/eb/e6/4b4ca4fa94462d4560ba2f4e62e62108ab07be2e16a92e594e43b12d3300/prompt_toolkit-3.0.18-py3-none-any.whl (367kB)\n",
            "\u001b[K     |████████████████████████████████| 368kB 21.9MB/s \n",
            "\u001b[?25hRequirement already satisfied: traitlets>=4.2 in /usr/local/lib/python3.7/dist-packages (from ipython>=7.17.0->ipdb) (5.0.5)\n",
            "Requirement already satisfied: pexpect>4.3; sys_platform != \"win32\" in /usr/local/lib/python3.7/dist-packages (from ipython>=7.17.0->ipdb) (4.8.0)\n",
            "Requirement already satisfied: pygments in /usr/local/lib/python3.7/dist-packages (from ipython>=7.17.0->ipdb) (2.6.1)\n",
            "Requirement already satisfied: backcall in /usr/local/lib/python3.7/dist-packages (from ipython>=7.17.0->ipdb) (0.2.0)\n",
            "Requirement already satisfied: parso<0.9.0,>=0.8.0 in /usr/local/lib/python3.7/dist-packages (from jedi>=0.16->ipython>=7.17.0->ipdb) (0.8.2)\n",
            "Requirement already satisfied: wcwidth in /usr/local/lib/python3.7/dist-packages (from prompt-toolkit!=3.0.0,!=3.0.1,<3.1.0,>=2.0.0->ipython>=7.17.0->ipdb) (0.2.5)\n",
            "Requirement already satisfied: ipython-genutils in /usr/local/lib/python3.7/dist-packages (from traitlets>=4.2->ipython>=7.17.0->ipdb) (0.2.0)\n",
            "Requirement already satisfied: ptyprocess>=0.5 in /usr/local/lib/python3.7/dist-packages (from pexpect>4.3; sys_platform != \"win32\"->ipython>=7.17.0->ipdb) (0.7.0)\n",
            "Building wheels for collected packages: ipdb\n",
            "  Building wheel for ipdb (setup.py) ... \u001b[?25l\u001b[?25hdone\n",
            "  Created wheel for ipdb: filename=ipdb-0.13.8-cp37-none-any.whl size=11599 sha256=d839fd73980ff3fe86fe9f9ed5af4b3dc5f8d906d28d4410b1267be7ab091db3\n",
            "  Stored in directory: /root/.cache/pip/wheels/0d/d6/5a/2fdf30b75ca5099e18f66a0a4d439ba031e1aa239e12b39c24\n",
            "Successfully built ipdb\n",
            "\u001b[31mERROR: jupyter-console 5.2.0 has requirement prompt-toolkit<2.0.0,>=1.0.0, but you'll have prompt-toolkit 3.0.18 which is incompatible.\u001b[0m\n",
            "\u001b[31mERROR: google-colab 1.0.0 has requirement ipython~=5.5.0, but you'll have ipython 7.23.1 which is incompatible.\u001b[0m\n",
            "Installing collected packages: prompt-toolkit, ipython, ipdb\n",
            "  Found existing installation: prompt-toolkit 1.0.18\n",
            "    Uninstalling prompt-toolkit-1.0.18:\n",
            "      Successfully uninstalled prompt-toolkit-1.0.18\n",
            "  Found existing installation: ipython 5.5.0\n",
            "    Uninstalling ipython-5.5.0:\n",
            "      Successfully uninstalled ipython-5.5.0\n",
            "Successfully installed ipdb-0.13.8 ipython-7.23.1 prompt-toolkit-3.0.18\n"
          ],
          "name": "stdout"
        },
        {
          "output_type": "display_data",
          "data": {
            "application/vnd.colab-display-data+json": {
              "pip_warning": {
                "packages": [
                  "IPython",
                  "prompt_toolkit"
                ]
              }
            }
          },
          "metadata": {
            "tags": []
          }
        }
      ]
    },
    {
      "cell_type": "code",
      "metadata": {
        "id": "_2D3qViJNq0u",
        "colab": {
          "base_uri": "https://localhost:8080/"
        },
        "outputId": "5f5bf105-c6ae-4b4e-b1d2-178d3cdd927b"
      },
      "source": [
        "!apt-get install libmagic-dev\n",
        "!pip install python-magic"
      ],
      "execution_count": null,
      "outputs": [
        {
          "output_type": "stream",
          "text": [
            "Reading package lists... Done\n",
            "Building dependency tree       \n",
            "Reading state information... Done\n",
            "The following package was automatically installed and is no longer required:\n",
            "  libnvidia-common-460\n",
            "Use 'apt autoremove' to remove it.\n",
            "The following additional packages will be installed:\n",
            "  libmagic-mgc libmagic1\n",
            "Suggested packages:\n",
            "  file\n",
            "The following NEW packages will be installed:\n",
            "  libmagic-dev libmagic-mgc libmagic1\n",
            "0 upgraded, 3 newly installed, 0 to remove and 34 not upgraded.\n",
            "Need to get 332 kB of archives.\n",
            "After this operation, 5,552 kB of additional disk space will be used.\n",
            "Get:1 http://archive.ubuntu.com/ubuntu bionic-updates/main amd64 libmagic-mgc amd64 1:5.32-2ubuntu0.4 [184 kB]\n",
            "Get:2 http://archive.ubuntu.com/ubuntu bionic-updates/main amd64 libmagic1 amd64 1:5.32-2ubuntu0.4 [68.6 kB]\n",
            "Get:3 http://archive.ubuntu.com/ubuntu bionic-updates/main amd64 libmagic-dev amd64 1:5.32-2ubuntu0.4 [79.7 kB]\n",
            "Fetched 332 kB in 1s (227 kB/s)\n",
            "Selecting previously unselected package libmagic-mgc.\n",
            "(Reading database ... 160706 files and directories currently installed.)\n",
            "Preparing to unpack .../libmagic-mgc_1%3a5.32-2ubuntu0.4_amd64.deb ...\n",
            "Unpacking libmagic-mgc (1:5.32-2ubuntu0.4) ...\n",
            "Selecting previously unselected package libmagic1:amd64.\n",
            "Preparing to unpack .../libmagic1_1%3a5.32-2ubuntu0.4_amd64.deb ...\n",
            "Unpacking libmagic1:amd64 (1:5.32-2ubuntu0.4) ...\n",
            "Selecting previously unselected package libmagic-dev:amd64.\n",
            "Preparing to unpack .../libmagic-dev_1%3a5.32-2ubuntu0.4_amd64.deb ...\n",
            "Unpacking libmagic-dev:amd64 (1:5.32-2ubuntu0.4) ...\n",
            "Setting up libmagic-mgc (1:5.32-2ubuntu0.4) ...\n",
            "Setting up libmagic1:amd64 (1:5.32-2ubuntu0.4) ...\n",
            "Setting up libmagic-dev:amd64 (1:5.32-2ubuntu0.4) ...\n",
            "Processing triggers for man-db (2.8.3-2ubuntu0.1) ...\n",
            "Processing triggers for libc-bin (2.27-3ubuntu1.2) ...\n",
            "/sbin/ldconfig.real: /usr/local/lib/python3.7/dist-packages/ideep4py/lib/libmkldnn.so.0 is not a symbolic link\n",
            "\n",
            "Collecting python-magic\n",
            "  Downloading https://files.pythonhosted.org/packages/ba/7c/1d1d4bdda29bfec662b9b50951dee2dddf7747d3cbf7777f3d1c63372bd0/python_magic-0.4.22-py2.py3-none-any.whl\n",
            "Installing collected packages: python-magic\n",
            "Successfully installed python-magic-0.4.22\n"
          ],
          "name": "stdout"
        }
      ]
    },
    {
      "cell_type": "code",
      "metadata": {
        "colab": {
          "base_uri": "https://localhost:8080/"
        },
        "id": "1tzpYpiKv4sB",
        "outputId": "98a5d504-dc63-4b22-e6ed-4575a8d4aa3c"
      },
      "source": [
        "!pip install ftfy"
      ],
      "execution_count": null,
      "outputs": [
        {
          "output_type": "stream",
          "text": [
            "Collecting ftfy\n",
            "\u001b[?25l  Downloading https://files.pythonhosted.org/packages/af/da/d215a091986e5f01b80f5145cff6f22e2dc57c6b048aab2e882a07018473/ftfy-6.0.3.tar.gz (64kB)\n",
            "\r\u001b[K     |█████                           | 10kB 25.0MB/s eta 0:00:01\r\u001b[K     |██████████▏                     | 20kB 18.2MB/s eta 0:00:01\r\u001b[K     |███████████████▎                | 30kB 15.1MB/s eta 0:00:01\r\u001b[K     |████████████████████▍           | 40kB 14.1MB/s eta 0:00:01\r\u001b[K     |█████████████████████████▌      | 51kB 7.8MB/s eta 0:00:01\r\u001b[K     |██████████████████████████████▋ | 61kB 9.1MB/s eta 0:00:01\r\u001b[K     |████████████████████████████████| 71kB 5.6MB/s \n",
            "\u001b[?25hRequirement already satisfied: wcwidth in /usr/local/lib/python3.7/dist-packages (from ftfy) (0.2.5)\n",
            "Building wheels for collected packages: ftfy\n",
            "  Building wheel for ftfy (setup.py) ... \u001b[?25l\u001b[?25hdone\n",
            "  Created wheel for ftfy: filename=ftfy-6.0.3-cp37-none-any.whl size=41916 sha256=716904f52b70aaf841cf383a11fe4f203a4e08021cda22b0b21c2ad60ba7f1fe\n",
            "  Stored in directory: /root/.cache/pip/wheels/99/2c/e6/109c8a28fef7a443f67ba58df21fe1d0067ac3322e75e6b0b7\n",
            "Successfully built ftfy\n",
            "Installing collected packages: ftfy\n",
            "Successfully installed ftfy-6.0.3\n"
          ],
          "name": "stdout"
        }
      ]
    },
    {
      "cell_type": "code",
      "metadata": {
        "id": "O6YVmAjEQC1r"
      },
      "source": [
        "# Example use: python script.py data_placeholders.tsv data.tsv\n",
        "import re\n",
        "import urllib.request as urllib2\n",
        "import os\n",
        "import ipdb\n",
        "from bs4 import BeautifulSoup\n",
        "import time\n",
        "import sys\n",
        "import codecs\n",
        "import pandas as pd\n",
        "import csv\n",
        "import json\n",
        "from os import listdir\n",
        "from os.path import isfile, join\n",
        "import io\n",
        "import magic\n",
        "import pickle\n",
        "import ftfy\n",
        "\n",
        "tsv_filepath = '/content/drive/MyDrive/UnivAI/AI-3 Project/data/Everyday Sexism Project/data_placeholders.tsv'\n",
        "data_write_path = '/content/drive/MyDrive/UnivAI/AI-3 Project/data/Everyday Sexism Project/data.tsv'\n",
        "\n",
        "\n",
        "def find_post_id(name_box):\n",
        "    classes = name_box['class']\n",
        "    for _class in classes:\n",
        "        if _class[:5] == \"post-\" and len(_class) > 5:\n",
        "            return int(_class[5:])\n",
        "    return -1\n",
        "\n",
        "\n",
        "def crawl_post(post_page, post_number):\n",
        "    crawl_page = post_page + str(post_number)\n",
        "\n",
        "    isCrawledSuccessfully = False\n",
        "    while not isCrawledSuccessfully:\n",
        "        try:\n",
        "            page = urllib2.urlopen(crawl_page).read()\n",
        "            isCrawledSuccessfully = True\n",
        "        except urllib2.HTTPError as e:\n",
        "            if e.code == 404:\n",
        "                print(\"\\t\\t>>> Found 404\")\n",
        "                return None\n",
        "            else:\n",
        "                print(\"\\t\\t>>> Waitiing for 30 seconds\")\n",
        "                time.sleep(30)\n",
        "        except Exception:\n",
        "            print(\"\\t\\t>>> Waitiing for 30 seconds\")\n",
        "            time.sleep(30)\n",
        "\n",
        "    soup = BeautifulSoup(page, 'html.parser')\n",
        "    name_boxes = soup.find_all('article', attrs={'class': 'post'})\n",
        "    assert len(name_boxes) == 1\n",
        "    for i, name_box in enumerate(name_boxes):\n",
        "        post_id = find_post_id(name_box)\n",
        "        if post_id == -1:\n",
        "            print(\"\\t\\t>>> ERROR: Error fetching post_id\")\n",
        "            return None\n",
        "        \n",
        "        #TODO: VERIFY IF THIS IS CORRECT\n",
        "        soup = BeautifulSoup(name_box.encode(\"utf-8\"), 'html.parser')\n",
        "        _name_box = soup.find('div', attrs={'class': 'entry-content'})\n",
        "        post = _name_box.get_text()\n",
        "        post = post.replace('\\n', '<br/>')\n",
        "    return post\n",
        "\n",
        "\n",
        "import re\n",
        "\n",
        "r_white = re.compile(r'\\s+')\n",
        "\n",
        "xml_csv = open(data_write_path, 'w')\n",
        "csv_writer = csv.writer(xml_csv, delimiter='\\t')\n",
        "csv_writer.writerow(['post', 'labels'])\n",
        "\n",
        "post_id_dict = {}\n",
        "\n",
        "with open(tsv_filepath, 'r') as csvfile:\n",
        "    spamreader = csv.reader(csvfile, delimiter='\\t')\n",
        "    for i, row in enumerate(spamreader):\n",
        "        if i == 0:\n",
        "            continue\n",
        "        labels = row[1]\n",
        "        parts = row[0].split(\"__\")\n",
        "        post_id__str = parts[0]\n",
        "        post_offsets__str = [offset.split(\"_\") for offset in parts[1:]]\n",
        "\n",
        "        if post_id__str in post_id_dict:\n",
        "            print(\"accessing \" + post_id__str)\n",
        "            post_text = post_id_dict[post_id__str]\n",
        "        else:\n",
        "            print(\"fetching \" + post_id__str)\n",
        "            post_text = crawl_post(\"https://everydaysexism.com/everyday-sexism/\", post_id__str)\n",
        "            if post_text == None:\n",
        "                continue\n",
        "            post_id_dict[post_id__str] = post_text\n",
        "\n",
        "        post_text = post_text.replace('<br/>', ' ')\n",
        "        post_text = re.sub(' +', ' ', post_text)\n",
        "        post_text = post_text.lstrip()\n",
        "        post_text__fixed = ftfy.fix_text(post_text)\n",
        "        text = \"\"\n",
        "        for index in range(len(post_offsets__str)):\n",
        "            text = text + post_text__fixed[int(post_offsets__str[index][0]):int(post_offsets__str[index][1]) + 1]\n",
        "            if len(post_offsets__str) > 1 and len(post_offsets__str) != index + 1:\n",
        "                text = text + \" \"\n",
        "        text = r_white.sub(' ', text)\n",
        "        text = text.strip()\n",
        "        csv_writer.writerow([text, labels])\n",
        "\n",
        "xml_csv.close()"
      ],
      "execution_count": null,
      "outputs": []
    },
    {
      "cell_type": "code",
      "metadata": {
        "id": "_mdpyM9LQEhS"
      },
      "source": [
        "df_es = pd.read_csv(data_write_path, sep='\\t')"
      ],
      "execution_count": null,
      "outputs": []
    },
    {
      "cell_type": "code",
      "metadata": {
        "id": "hOmA7Dtdotem"
      },
      "source": [
        ""
      ],
      "execution_count": null,
      "outputs": []
    },
    {
      "cell_type": "code",
      "metadata": {
        "id": "v4gPmtZcq_9W"
      },
      "source": [
        ""
      ],
      "execution_count": null,
      "outputs": []
    },
    {
      "cell_type": "code",
      "metadata": {
        "id": "eU6hNraONU1q"
      },
      "source": [
        ""
      ],
      "execution_count": null,
      "outputs": []
    }
  ]
}