{
  "nbformat": 4,
  "nbformat_minor": 0,
  "metadata": {
    "colab": {
      "name": "SexistCommentDetection_Final.ipynb",
      "provenance": [],
      "toc_visible": true,
      "authorship_tag": "ABX9TyPGCYvghcl62rCsRBrPCrBf",
      "include_colab_link": true
    },
    "kernelspec": {
      "name": "python3",
      "display_name": "Python 3"
    },
    "language_info": {
      "name": "python"
    }
  },
  "cells": [
    {
      "cell_type": "markdown",
      "metadata": {
        "id": "view-in-github",
        "colab_type": "text"
      },
      "source": [
        "<a href=\"https://colab.research.google.com/github/PadmajaVB/Sexist-Statement-Detection/blob/main/SexistCommentDetection_Final.ipynb\" target=\"_parent\"><img src=\"https://colab.research.google.com/assets/colab-badge.svg\" alt=\"Open In Colab\"/></a>"
      ]
    },
    {
      "cell_type": "code",
      "metadata": {
        "id": "wb-p3A_uVSBZ",
        "colab": {
          "base_uri": "https://localhost:8080/"
        },
        "outputId": "0148e9ea-c949-446f-e8ed-b0042883bb4b"
      },
      "source": [
        "!pip install tensorflow_addons\n",
        "!pip install nlpaug\n",
        "!pip install tqdm"
      ],
      "execution_count": null,
      "outputs": [
        {
          "output_type": "stream",
          "text": [
            "Collecting tensorflow_addons\n",
            "\u001b[?25l  Downloading https://files.pythonhosted.org/packages/66/4b/e893d194e626c24b3df2253066aa418f46a432fdb68250cde14bf9bb0700/tensorflow_addons-0.13.0-cp37-cp37m-manylinux2010_x86_64.whl (679kB)\n",
            "\r\u001b[K     |▌                               | 10kB 13.8MB/s eta 0:00:01\r\u001b[K     |█                               | 20kB 19.2MB/s eta 0:00:01\r\u001b[K     |█▌                              | 30kB 16.5MB/s eta 0:00:01\r\u001b[K     |██                              | 40kB 14.4MB/s eta 0:00:01\r\u001b[K     |██▍                             | 51kB 7.9MB/s eta 0:00:01\r\u001b[K     |███                             | 61kB 9.1MB/s eta 0:00:01\r\u001b[K     |███▍                            | 71kB 7.7MB/s eta 0:00:01\r\u001b[K     |███▉                            | 81kB 8.5MB/s eta 0:00:01\r\u001b[K     |████▍                           | 92kB 8.6MB/s eta 0:00:01\r\u001b[K     |████▉                           | 102kB 7.5MB/s eta 0:00:01\r\u001b[K     |█████▎                          | 112kB 7.5MB/s eta 0:00:01\r\u001b[K     |█████▉                          | 122kB 7.5MB/s eta 0:00:01\r\u001b[K     |██████▎                         | 133kB 7.5MB/s eta 0:00:01\r\u001b[K     |██████▊                         | 143kB 7.5MB/s eta 0:00:01\r\u001b[K     |███████▎                        | 153kB 7.5MB/s eta 0:00:01\r\u001b[K     |███████▊                        | 163kB 7.5MB/s eta 0:00:01\r\u001b[K     |████████▏                       | 174kB 7.5MB/s eta 0:00:01\r\u001b[K     |████████▊                       | 184kB 7.5MB/s eta 0:00:01\r\u001b[K     |█████████▏                      | 194kB 7.5MB/s eta 0:00:01\r\u001b[K     |█████████▋                      | 204kB 7.5MB/s eta 0:00:01\r\u001b[K     |██████████▏                     | 215kB 7.5MB/s eta 0:00:01\r\u001b[K     |██████████▋                     | 225kB 7.5MB/s eta 0:00:01\r\u001b[K     |███████████                     | 235kB 7.5MB/s eta 0:00:01\r\u001b[K     |███████████▋                    | 245kB 7.5MB/s eta 0:00:01\r\u001b[K     |████████████                    | 256kB 7.5MB/s eta 0:00:01\r\u001b[K     |████████████▌                   | 266kB 7.5MB/s eta 0:00:01\r\u001b[K     |█████████████                   | 276kB 7.5MB/s eta 0:00:01\r\u001b[K     |█████████████▌                  | 286kB 7.5MB/s eta 0:00:01\r\u001b[K     |██████████████                  | 296kB 7.5MB/s eta 0:00:01\r\u001b[K     |██████████████▌                 | 307kB 7.5MB/s eta 0:00:01\r\u001b[K     |███████████████                 | 317kB 7.5MB/s eta 0:00:01\r\u001b[K     |███████████████▍                | 327kB 7.5MB/s eta 0:00:01\r\u001b[K     |████████████████                | 337kB 7.5MB/s eta 0:00:01\r\u001b[K     |████████████████▍               | 348kB 7.5MB/s eta 0:00:01\r\u001b[K     |████████████████▉               | 358kB 7.5MB/s eta 0:00:01\r\u001b[K     |█████████████████▍              | 368kB 7.5MB/s eta 0:00:01\r\u001b[K     |█████████████████▉              | 378kB 7.5MB/s eta 0:00:01\r\u001b[K     |██████████████████▎             | 389kB 7.5MB/s eta 0:00:01\r\u001b[K     |██████████████████▉             | 399kB 7.5MB/s eta 0:00:01\r\u001b[K     |███████████████████▎            | 409kB 7.5MB/s eta 0:00:01\r\u001b[K     |███████████████████▊            | 419kB 7.5MB/s eta 0:00:01\r\u001b[K     |████████████████████▎           | 430kB 7.5MB/s eta 0:00:01\r\u001b[K     |████████████████████▊           | 440kB 7.5MB/s eta 0:00:01\r\u001b[K     |█████████████████████▏          | 450kB 7.5MB/s eta 0:00:01\r\u001b[K     |█████████████████████▊          | 460kB 7.5MB/s eta 0:00:01\r\u001b[K     |██████████████████████▏         | 471kB 7.5MB/s eta 0:00:01\r\u001b[K     |██████████████████████▋         | 481kB 7.5MB/s eta 0:00:01\r\u001b[K     |███████████████████████▏        | 491kB 7.5MB/s eta 0:00:01\r\u001b[K     |███████████████████████▋        | 501kB 7.5MB/s eta 0:00:01\r\u001b[K     |████████████████████████        | 512kB 7.5MB/s eta 0:00:01\r\u001b[K     |████████████████████████▋       | 522kB 7.5MB/s eta 0:00:01\r\u001b[K     |█████████████████████████       | 532kB 7.5MB/s eta 0:00:01\r\u001b[K     |█████████████████████████▌      | 542kB 7.5MB/s eta 0:00:01\r\u001b[K     |██████████████████████████      | 552kB 7.5MB/s eta 0:00:01\r\u001b[K     |██████████████████████████▌     | 563kB 7.5MB/s eta 0:00:01\r\u001b[K     |███████████████████████████     | 573kB 7.5MB/s eta 0:00:01\r\u001b[K     |███████████████████████████▌    | 583kB 7.5MB/s eta 0:00:01\r\u001b[K     |████████████████████████████    | 593kB 7.5MB/s eta 0:00:01\r\u001b[K     |████████████████████████████▍   | 604kB 7.5MB/s eta 0:00:01\r\u001b[K     |█████████████████████████████   | 614kB 7.5MB/s eta 0:00:01\r\u001b[K     |█████████████████████████████▍  | 624kB 7.5MB/s eta 0:00:01\r\u001b[K     |█████████████████████████████▉  | 634kB 7.5MB/s eta 0:00:01\r\u001b[K     |██████████████████████████████▍ | 645kB 7.5MB/s eta 0:00:01\r\u001b[K     |██████████████████████████████▉ | 655kB 7.5MB/s eta 0:00:01\r\u001b[K     |███████████████████████████████▎| 665kB 7.5MB/s eta 0:00:01\r\u001b[K     |███████████████████████████████▉| 675kB 7.5MB/s eta 0:00:01\r\u001b[K     |████████████████████████████████| 686kB 7.5MB/s \n",
            "\u001b[?25hRequirement already satisfied: typeguard>=2.7 in /usr/local/lib/python3.7/dist-packages (from tensorflow_addons) (2.7.1)\n",
            "Installing collected packages: tensorflow-addons\n",
            "Successfully installed tensorflow-addons-0.13.0\n",
            "Collecting nlpaug\n",
            "\u001b[?25l  Downloading https://files.pythonhosted.org/packages/eb/f8/b11caecdd19aa2b1b2cb46c6cbbec692abd621aad884e653e459a8546add/nlpaug-1.1.3-py3-none-any.whl (394kB)\n",
            "\u001b[K     |████████████████████████████████| 399kB 8.6MB/s \n",
            "\u001b[?25hInstalling collected packages: nlpaug\n",
            "Successfully installed nlpaug-1.1.3\n",
            "Requirement already satisfied: tqdm in /usr/local/lib/python3.7/dist-packages (4.41.1)\n"
          ],
          "name": "stdout"
        }
      ]
    },
    {
      "cell_type": "code",
      "metadata": {
        "id": "JZsy3wJlKtV3"
      },
      "source": [
        "import pandas as pd\n",
        "import matplotlib.pyplot as plt\n",
        "\n",
        "from sklearn.model_selection import train_test_split\n",
        "\n",
        "import re"
      ],
      "execution_count": null,
      "outputs": []
    },
    {
      "cell_type": "code",
      "metadata": {
        "id": "RxwPguUPu-_W"
      },
      "source": [
        "import pandas as pd\n",
        "import tensorflow as tf\n",
        "import tensorflow_hub as hub\n",
        "import numpy as np\n",
        "import matplotlib.pyplot as plt\n",
        "\n",
        "\n",
        "from sklearn.model_selection import train_test_split\n",
        "from sklearn.preprocessing import StandardScaler\n",
        "\n",
        "import re\n",
        "import collections"
      ],
      "execution_count": null,
      "outputs": []
    },
    {
      "cell_type": "code",
      "metadata": {
        "id": "0m4FSfanVrx9",
        "colab": {
          "base_uri": "https://localhost:8080/"
        },
        "outputId": "7f54b1be-ff1b-495c-f683-2d83367eaa6a"
      },
      "source": [
        "from google.colab import drive\n",
        "drive.mount('/content/drive')"
      ],
      "execution_count": null,
      "outputs": [
        {
          "output_type": "stream",
          "text": [
            "Mounted at /content/drive\n"
          ],
          "name": "stdout"
        }
      ]
    },
    {
      "cell_type": "markdown",
      "metadata": {
        "id": "EW2bON7qsktm"
      },
      "source": [
        "## 1 Data Extraction"
      ]
    },
    {
      "cell_type": "markdown",
      "metadata": {
        "id": "59_TuW42KylM"
      },
      "source": [
        "### 1.1 Everyday Sexism Project"
      ]
    },
    {
      "cell_type": "markdown",
      "metadata": {
        "id": "1AJZG9zvbW5f"
      },
      "source": [
        "This is inspired by the data collection work done in paper **[Multi-label Categorization of Accounts of Sexism using a NeuralFramework](https://arxiv.org/abs/1910.04602v4)**\n",
        "\n",
        "In this paper in order to collect  data, the authours have crawled the Everyday Sexism Project [website](https://everydaysexism.com/), which receives numerous accounts of sexism from survivors themselves as well as observers. \n",
        "\n",
        "Here the entries with less than 7 words were removed, post which around 20000 entries were shortlisted for annotation. In this paper, **23 categories** of sexism   were   formulated   taking into  account  gender-related  discourse  and  campaigns as well as possible impact on public policy. We further selected **7 out of 23** categories that are applicable for workplace environment  - ['Attribute stereotyping', 'Role stereotyping', 'Pay gap', 'Hostile work environment', 'Tone policing', 'Moral policing', 'Mansplaining']"
      ]
    },
    {
      "cell_type": "code",
      "metadata": {
        "id": "h4D1R9JiNWiK",
        "colab": {
          "base_uri": "https://localhost:8080/",
          "height": 820
        },
        "outputId": "11261e74-0941-4e88-c7aa-ff86047d6fb6"
      },
      "source": [
        "!pip install ipdb"
      ],
      "execution_count": null,
      "outputs": [
        {
          "output_type": "stream",
          "text": [
            "Collecting ipdb\n",
            "  Downloading https://files.pythonhosted.org/packages/5f/43/eb2be141dac56e502b6e35c1e4a9b1bbb2d4dcbec773c0f6563e79758909/ipdb-0.13.8.tar.gz\n",
            "Requirement already satisfied: setuptools in /usr/local/lib/python3.7/dist-packages (from ipdb) (56.1.0)\n",
            "Collecting ipython>=7.17.0\n",
            "\u001b[?25l  Downloading https://files.pythonhosted.org/packages/8d/84/de1b1488556909a759e4fed39e21a41d4bf63d06f88def27bf9cc2b75434/ipython-7.24.0-py3-none-any.whl (785kB)\n",
            "\u001b[K     |████████████████████████████████| 788kB 9.3MB/s \n",
            "\u001b[?25hRequirement already satisfied: toml>=0.10.2 in /usr/local/lib/python3.7/dist-packages (from ipdb) (0.10.2)\n",
            "Requirement already satisfied: decorator in /usr/local/lib/python3.7/dist-packages (from ipdb) (4.4.2)\n",
            "Requirement already satisfied: pexpect>4.3; sys_platform != \"win32\" in /usr/local/lib/python3.7/dist-packages (from ipython>=7.17.0->ipdb) (4.8.0)\n",
            "Requirement already satisfied: matplotlib-inline in /usr/local/lib/python3.7/dist-packages (from ipython>=7.17.0->ipdb) (0.1.2)\n",
            "Requirement already satisfied: jedi>=0.16 in /usr/local/lib/python3.7/dist-packages (from ipython>=7.17.0->ipdb) (0.18.0)\n",
            "Requirement already satisfied: backcall in /usr/local/lib/python3.7/dist-packages (from ipython>=7.17.0->ipdb) (0.2.0)\n",
            "Requirement already satisfied: traitlets>=4.2 in /usr/local/lib/python3.7/dist-packages (from ipython>=7.17.0->ipdb) (5.0.5)\n",
            "Requirement already satisfied: pygments in /usr/local/lib/python3.7/dist-packages (from ipython>=7.17.0->ipdb) (2.6.1)\n",
            "Requirement already satisfied: pickleshare in /usr/local/lib/python3.7/dist-packages (from ipython>=7.17.0->ipdb) (0.7.5)\n",
            "Collecting prompt-toolkit!=3.0.0,!=3.0.1,<3.1.0,>=2.0.0\n",
            "\u001b[?25l  Downloading https://files.pythonhosted.org/packages/eb/e6/4b4ca4fa94462d4560ba2f4e62e62108ab07be2e16a92e594e43b12d3300/prompt_toolkit-3.0.18-py3-none-any.whl (367kB)\n",
            "\u001b[K     |████████████████████████████████| 368kB 37.1MB/s \n",
            "\u001b[?25hRequirement already satisfied: ptyprocess>=0.5 in /usr/local/lib/python3.7/dist-packages (from pexpect>4.3; sys_platform != \"win32\"->ipython>=7.17.0->ipdb) (0.7.0)\n",
            "Requirement already satisfied: parso<0.9.0,>=0.8.0 in /usr/local/lib/python3.7/dist-packages (from jedi>=0.16->ipython>=7.17.0->ipdb) (0.8.2)\n",
            "Requirement already satisfied: ipython-genutils in /usr/local/lib/python3.7/dist-packages (from traitlets>=4.2->ipython>=7.17.0->ipdb) (0.2.0)\n",
            "Requirement already satisfied: wcwidth in /usr/local/lib/python3.7/dist-packages (from prompt-toolkit!=3.0.0,!=3.0.1,<3.1.0,>=2.0.0->ipython>=7.17.0->ipdb) (0.2.5)\n",
            "Building wheels for collected packages: ipdb\n",
            "  Building wheel for ipdb (setup.py) ... \u001b[?25l\u001b[?25hdone\n",
            "  Created wheel for ipdb: filename=ipdb-0.13.8-cp37-none-any.whl size=11599 sha256=7deeecdad7ec374911d0d8dfbabb814be13bf4264263f64591c7eb6c69b6b5e3\n",
            "  Stored in directory: /root/.cache/pip/wheels/0d/d6/5a/2fdf30b75ca5099e18f66a0a4d439ba031e1aa239e12b39c24\n",
            "Successfully built ipdb\n",
            "\u001b[31mERROR: jupyter-console 5.2.0 has requirement prompt-toolkit<2.0.0,>=1.0.0, but you'll have prompt-toolkit 3.0.18 which is incompatible.\u001b[0m\n",
            "\u001b[31mERROR: google-colab 1.0.0 has requirement ipython~=5.5.0, but you'll have ipython 7.24.0 which is incompatible.\u001b[0m\n",
            "Installing collected packages: prompt-toolkit, ipython, ipdb\n",
            "  Found existing installation: prompt-toolkit 1.0.18\n",
            "    Uninstalling prompt-toolkit-1.0.18:\n",
            "      Successfully uninstalled prompt-toolkit-1.0.18\n",
            "  Found existing installation: ipython 5.5.0\n",
            "    Uninstalling ipython-5.5.0:\n",
            "      Successfully uninstalled ipython-5.5.0\n",
            "Successfully installed ipdb-0.13.8 ipython-7.24.0 prompt-toolkit-3.0.18\n"
          ],
          "name": "stdout"
        },
        {
          "output_type": "display_data",
          "data": {
            "application/vnd.colab-display-data+json": {
              "pip_warning": {
                "packages": [
                  "IPython",
                  "prompt_toolkit"
                ]
              }
            }
          },
          "metadata": {
            "tags": []
          }
        }
      ]
    },
    {
      "cell_type": "code",
      "metadata": {
        "id": "_2D3qViJNq0u",
        "colab": {
          "base_uri": "https://localhost:8080/"
        },
        "outputId": "653c5e04-4dcb-45e7-c68a-6492c4fae9fc"
      },
      "source": [
        "!apt-get install libmagic-dev\n",
        "!pip install python-magic"
      ],
      "execution_count": null,
      "outputs": [
        {
          "output_type": "stream",
          "text": [
            "Reading package lists... Done\n",
            "Building dependency tree       \n",
            "Reading state information... Done\n",
            "The following package was automatically installed and is no longer required:\n",
            "  libnvidia-common-460\n",
            "Use 'apt autoremove' to remove it.\n",
            "The following additional packages will be installed:\n",
            "  libmagic-mgc libmagic1\n",
            "Suggested packages:\n",
            "  file\n",
            "The following NEW packages will be installed:\n",
            "  libmagic-dev libmagic-mgc libmagic1\n",
            "0 upgraded, 3 newly installed, 0 to remove and 34 not upgraded.\n",
            "Need to get 332 kB of archives.\n",
            "After this operation, 5,552 kB of additional disk space will be used.\n",
            "Get:1 http://archive.ubuntu.com/ubuntu bionic-updates/main amd64 libmagic-mgc amd64 1:5.32-2ubuntu0.4 [184 kB]\n",
            "Get:2 http://archive.ubuntu.com/ubuntu bionic-updates/main amd64 libmagic1 amd64 1:5.32-2ubuntu0.4 [68.6 kB]\n",
            "Get:3 http://archive.ubuntu.com/ubuntu bionic-updates/main amd64 libmagic-dev amd64 1:5.32-2ubuntu0.4 [79.7 kB]\n",
            "Fetched 332 kB in 1s (289 kB/s)\n",
            "Selecting previously unselected package libmagic-mgc.\n",
            "(Reading database ... 160706 files and directories currently installed.)\n",
            "Preparing to unpack .../libmagic-mgc_1%3a5.32-2ubuntu0.4_amd64.deb ...\n",
            "Unpacking libmagic-mgc (1:5.32-2ubuntu0.4) ...\n",
            "Selecting previously unselected package libmagic1:amd64.\n",
            "Preparing to unpack .../libmagic1_1%3a5.32-2ubuntu0.4_amd64.deb ...\n",
            "Unpacking libmagic1:amd64 (1:5.32-2ubuntu0.4) ...\n",
            "Selecting previously unselected package libmagic-dev:amd64.\n",
            "Preparing to unpack .../libmagic-dev_1%3a5.32-2ubuntu0.4_amd64.deb ...\n",
            "Unpacking libmagic-dev:amd64 (1:5.32-2ubuntu0.4) ...\n",
            "Setting up libmagic-mgc (1:5.32-2ubuntu0.4) ...\n",
            "Setting up libmagic1:amd64 (1:5.32-2ubuntu0.4) ...\n",
            "Setting up libmagic-dev:amd64 (1:5.32-2ubuntu0.4) ...\n",
            "Processing triggers for man-db (2.8.3-2ubuntu0.1) ...\n",
            "Processing triggers for libc-bin (2.27-3ubuntu1.2) ...\n",
            "/sbin/ldconfig.real: /usr/local/lib/python3.7/dist-packages/ideep4py/lib/libmkldnn.so.0 is not a symbolic link\n",
            "\n",
            "Collecting python-magic\n",
            "  Downloading https://files.pythonhosted.org/packages/ba/7c/1d1d4bdda29bfec662b9b50951dee2dddf7747d3cbf7777f3d1c63372bd0/python_magic-0.4.22-py2.py3-none-any.whl\n",
            "Installing collected packages: python-magic\n",
            "Successfully installed python-magic-0.4.22\n"
          ],
          "name": "stdout"
        }
      ]
    },
    {
      "cell_type": "code",
      "metadata": {
        "colab": {
          "base_uri": "https://localhost:8080/"
        },
        "id": "1tzpYpiKv4sB",
        "outputId": "35ba1cbc-edf4-476b-cb95-bf9ad1d09be4"
      },
      "source": [
        "!pip install ftfy"
      ],
      "execution_count": null,
      "outputs": [
        {
          "output_type": "stream",
          "text": [
            "Collecting ftfy\n",
            "\u001b[?25l  Downloading https://files.pythonhosted.org/packages/af/da/d215a091986e5f01b80f5145cff6f22e2dc57c6b048aab2e882a07018473/ftfy-6.0.3.tar.gz (64kB)\n",
            "\r\u001b[K     |█████                           | 10kB 21.9MB/s eta 0:00:01\r\u001b[K     |██████████▏                     | 20kB 27.9MB/s eta 0:00:01\r\u001b[K     |███████████████▎                | 30kB 21.2MB/s eta 0:00:01\r\u001b[K     |████████████████████▍           | 40kB 18.7MB/s eta 0:00:01\r\u001b[K     |█████████████████████████▌      | 51kB 8.3MB/s eta 0:00:01\r\u001b[K     |██████████████████████████████▋ | 61kB 8.1MB/s eta 0:00:01\r\u001b[K     |████████████████████████████████| 71kB 5.3MB/s \n",
            "\u001b[?25hRequirement already satisfied: wcwidth in /usr/local/lib/python3.7/dist-packages (from ftfy) (0.2.5)\n",
            "Building wheels for collected packages: ftfy\n",
            "  Building wheel for ftfy (setup.py) ... \u001b[?25l\u001b[?25hdone\n",
            "  Created wheel for ftfy: filename=ftfy-6.0.3-cp37-none-any.whl size=41916 sha256=5b7f41ad8ddcfa3f3617c8301dea126ca0895145cfc2fef78f570f446c3bdf19\n",
            "  Stored in directory: /root/.cache/pip/wheels/99/2c/e6/109c8a28fef7a443f67ba58df21fe1d0067ac3322e75e6b0b7\n",
            "Successfully built ftfy\n",
            "Installing collected packages: ftfy\n",
            "Successfully installed ftfy-6.0.3\n"
          ],
          "name": "stdout"
        }
      ]
    },
    {
      "cell_type": "code",
      "metadata": {
        "id": "u6J0tNny0j6a"
      },
      "source": [
        "import re\n",
        "import urllib.request as urllib2\n",
        "import os\n",
        "import ipdb\n",
        "from bs4 import BeautifulSoup\n",
        "import time\n",
        "import sys\n",
        "import codecs\n",
        "import pandas as pd\n",
        "import csv\n",
        "import json\n",
        "from os import listdir\n",
        "from os.path import isfile, join\n",
        "import io\n",
        "import magic\n",
        "import pickle\n",
        "import ftfy"
      ],
      "execution_count": null,
      "outputs": []
    },
    {
      "cell_type": "markdown",
      "metadata": {
        "id": "YcwSszB8j_uz"
      },
      "source": [
        "Here we're scraping the https://everydaysexism.com/ website based on the placeholder IDs provided by the authors in the tsv file."
      ]
    },
    {
      "cell_type": "code",
      "metadata": {
        "id": "O6YVmAjEQC1r"
      },
      "source": [
        "tsv_filepath = '/content/drive/MyDrive/UnivAI/AI-3 Project/data/Everyday Sexism Project/data_placeholders.tsv'\n",
        "data_write_path = '/content/drive/MyDrive/UnivAI/AI-3 Project/data/Everyday Sexism Project/data.tsv'\n",
        "\n",
        "\n",
        "def find_post_id(name_box):\n",
        "    classes = name_box['class']\n",
        "    for _class in classes:\n",
        "        if _class[:5] == \"post-\" and len(_class) > 5:\n",
        "            return int(_class[5:])\n",
        "    return -1\n",
        "\n",
        "\n",
        "def crawl_post(post_page, post_number):\n",
        "    crawl_page = post_page + str(post_number)\n",
        "\n",
        "    isCrawledSuccessfully = False\n",
        "    while not isCrawledSuccessfully:\n",
        "        try:\n",
        "            page = urllib2.urlopen(crawl_page).read()\n",
        "            isCrawledSuccessfully = True\n",
        "        except urllib2.HTTPError as e:\n",
        "            if e.code == 404:\n",
        "                print(\"\\t\\t>>> Found 404\")\n",
        "                return None\n",
        "            else:\n",
        "                print(\"\\t\\t>>> Waitiing for 30 seconds\")\n",
        "                time.sleep(30)\n",
        "        except Exception:\n",
        "            print(\"\\t\\t>>> Waitiing for 30 seconds\")\n",
        "            time.sleep(30)\n",
        "\n",
        "    soup = BeautifulSoup(page, 'html.parser')\n",
        "    name_boxes = soup.find_all('article', attrs={'class': 'post'})\n",
        "    assert len(name_boxes) == 1\n",
        "    for i, name_box in enumerate(name_boxes):\n",
        "        post_id = find_post_id(name_box)\n",
        "        if post_id == -1:\n",
        "            print(\"\\t\\t>>> ERROR: Error fetching post_id\")\n",
        "            return None\n",
        "        \n",
        "        #TODO: VERIFY IF THIS IS CORRECT\n",
        "        soup = BeautifulSoup(name_box.encode(\"utf-8\"), 'html.parser')\n",
        "        _name_box = soup.find('div', attrs={'class': 'entry-content'})\n",
        "        post = _name_box.get_text()\n",
        "        post = post.replace('\\n', '<br/>')\n",
        "    return post\n",
        "\n",
        "\n",
        "import re\n",
        "\n",
        "r_white = re.compile(r'\\s+')\n",
        "\n",
        "xml_csv = open(data_write_path, 'w')\n",
        "csv_writer = csv.writer(xml_csv, delimiter='\\t')\n",
        "csv_writer.writerow(['post', 'labels'])\n",
        "\n",
        "post_id_dict = {}\n",
        "\n",
        "with open(tsv_filepath, 'r') as csvfile:\n",
        "    spamreader = csv.reader(csvfile, delimiter='\\t')\n",
        "    for i, row in enumerate(spamreader):\n",
        "        if i == 0:\n",
        "            continue\n",
        "        labels = row[1]\n",
        "        parts = row[0].split(\"__\")\n",
        "        post_id__str = parts[0]\n",
        "        post_offsets__str = [offset.split(\"_\") for offset in parts[1:]]\n",
        "\n",
        "        if post_id__str in post_id_dict:\n",
        "            print(\"accessing \" + post_id__str)\n",
        "            post_text = post_id_dict[post_id__str]\n",
        "        else:\n",
        "            print(\"fetching \" + post_id__str)\n",
        "            post_text = crawl_post(\"https://everydaysexism.com/everyday-sexism/\", post_id__str)\n",
        "            if post_text == None:\n",
        "                continue\n",
        "            post_id_dict[post_id__str] = post_text\n",
        "\n",
        "        post_text = post_text.replace('<br/>', ' ')\n",
        "        post_text = re.sub(' +', ' ', post_text)\n",
        "        post_text = post_text.lstrip()\n",
        "        post_text__fixed = ftfy.fix_text(post_text)\n",
        "        text = \"\"\n",
        "        for index in range(len(post_offsets__str)):\n",
        "            text = text + post_text__fixed[int(post_offsets__str[index][0]):int(post_offsets__str[index][1]) + 1]\n",
        "            if len(post_offsets__str) > 1 and len(post_offsets__str) != index + 1:\n",
        "                text = text + \" \"\n",
        "        text = r_white.sub(' ', text)\n",
        "        text = text.strip()\n",
        "        csv_writer.writerow([text, labels])\n",
        "\n",
        "xml_csv.close()"
      ],
      "execution_count": null,
      "outputs": []
    },
    {
      "cell_type": "markdown",
      "metadata": {
        "id": "-9fpCRkskrkw"
      },
      "source": [
        "Here we're filtering the categories relevant to workplace environment."
      ]
    },
    {
      "cell_type": "code",
      "metadata": {
        "id": "_mdpyM9LQEhS"
      },
      "source": [
        "df_es = pd.read_csv(data_write_path, sep='\\t')"
      ],
      "execution_count": null,
      "outputs": []
    },
    {
      "cell_type": "code",
      "metadata": {
        "id": "Ah5cDwFaq734"
      },
      "source": [
        "path = '/content/drive/MyDrive/UnivAI/AI-3 Project/data/Everyday Sexism Project/data.tsv'\n",
        "data = pd.read_csv(path, sep='\\t')"
      ],
      "execution_count": null,
      "outputs": []
    },
    {
      "cell_type": "code",
      "metadata": {
        "colab": {
          "base_uri": "https://localhost:8080/",
          "height": 204
        },
        "id": "vq07SePqrlpW",
        "outputId": "2feb0672-0cdb-45b3-e1ad-6eb5f276c43e"
      },
      "source": [
        "data.head()"
      ],
      "execution_count": null,
      "outputs": [
        {
          "output_type": "execute_result",
          "data": {
            "text/html": [
              "<div>\n",
              "<style scoped>\n",
              "    .dataframe tbody tr th:only-of-type {\n",
              "        vertical-align: middle;\n",
              "    }\n",
              "\n",
              "    .dataframe tbody tr th {\n",
              "        vertical-align: top;\n",
              "    }\n",
              "\n",
              "    .dataframe thead th {\n",
              "        text-align: right;\n",
              "    }\n",
              "</style>\n",
              "<table border=\"1\" class=\"dataframe\">\n",
              "  <thead>\n",
              "    <tr style=\"text-align: right;\">\n",
              "      <th></th>\n",
              "      <th>post</th>\n",
              "      <th>labels</th>\n",
              "    </tr>\n",
              "  </thead>\n",
              "  <tbody>\n",
              "    <tr>\n",
              "      <th>0</th>\n",
              "      <td>My cousin (female, and 14 years older than me)...</td>\n",
              "      <td>Attribute stereotyping, Body shaming, Denial o...</td>\n",
              "    </tr>\n",
              "    <tr>\n",
              "      <th>1</th>\n",
              "      <td>Big brother came to hang out with us toward th...</td>\n",
              "      <td>Sexual assault (excluding rape)</td>\n",
              "    </tr>\n",
              "    <tr>\n",
              "      <th>2</th>\n",
              "      <td>The next morning, I told my friend. She didn't...</td>\n",
              "      <td>Denial or trivialization of sexist misconduct,...</td>\n",
              "    </tr>\n",
              "    <tr>\n",
              "      <th>3</th>\n",
              "      <td>My ex-boyfriend tried guilt tripping me into s...</td>\n",
              "      <td>Sexual harassment (excluding assault), Slut sh...</td>\n",
              "    </tr>\n",
              "    <tr>\n",
              "      <th>4</th>\n",
              "      <td>While I was working at McDonald's there was th...</td>\n",
              "      <td>Hostile work environment (excluding pay gap), ...</td>\n",
              "    </tr>\n",
              "  </tbody>\n",
              "</table>\n",
              "</div>"
            ],
            "text/plain": [
              "                                                post                                             labels\n",
              "0  My cousin (female, and 14 years older than me)...  Attribute stereotyping, Body shaming, Denial o...\n",
              "1  Big brother came to hang out with us toward th...                    Sexual assault (excluding rape)\n",
              "2  The next morning, I told my friend. She didn't...  Denial or trivialization of sexist misconduct,...\n",
              "3  My ex-boyfriend tried guilt tripping me into s...  Sexual harassment (excluding assault), Slut sh...\n",
              "4  While I was working at McDonald's there was th...  Hostile work environment (excluding pay gap), ..."
            ]
          },
          "metadata": {
            "tags": []
          },
          "execution_count": 3
        }
      ]
    },
    {
      "cell_type": "code",
      "metadata": {
        "id": "-VlP5JXeAxSX"
      },
      "source": [
        "label_list = ['Attribute stereotyping', 'Role stereotyping', 'Pay gap', 'Hostile work environment', 'Tone policing', 'Moral policing', 'Mansplaining']"
      ],
      "execution_count": null,
      "outputs": []
    },
    {
      "cell_type": "code",
      "metadata": {
        "id": "i0oTEwyUBqkH"
      },
      "source": [
        "def transform(text, label_list):\n",
        "  for label in label_list:\n",
        "    if label in text:\n",
        "      return 1\n",
        "  return 0"
      ],
      "execution_count": null,
      "outputs": []
    },
    {
      "cell_type": "code",
      "metadata": {
        "id": "riGjhfxQEEpn"
      },
      "source": [
        "data['labels'] = data['labels'].apply(transform,label_list=label_list)\n",
        "data = data[data['labels']==1]"
      ],
      "execution_count": null,
      "outputs": []
    },
    {
      "cell_type": "code",
      "metadata": {
        "colab": {
          "base_uri": "https://localhost:8080/",
          "height": 204
        },
        "id": "Ul61p1UiGinI",
        "outputId": "3ae09f0c-f936-43bc-aba2-e690c0f1f4b5"
      },
      "source": [
        "data.head()"
      ],
      "execution_count": null,
      "outputs": [
        {
          "output_type": "execute_result",
          "data": {
            "text/html": [
              "<div>\n",
              "<style scoped>\n",
              "    .dataframe tbody tr th:only-of-type {\n",
              "        vertical-align: middle;\n",
              "    }\n",
              "\n",
              "    .dataframe tbody tr th {\n",
              "        vertical-align: top;\n",
              "    }\n",
              "\n",
              "    .dataframe thead th {\n",
              "        text-align: right;\n",
              "    }\n",
              "</style>\n",
              "<table border=\"1\" class=\"dataframe\">\n",
              "  <thead>\n",
              "    <tr style=\"text-align: right;\">\n",
              "      <th></th>\n",
              "      <th>post</th>\n",
              "      <th>labels</th>\n",
              "    </tr>\n",
              "  </thead>\n",
              "  <tbody>\n",
              "    <tr>\n",
              "      <th>0</th>\n",
              "      <td>My cousin (female, and 14 years older than me)...</td>\n",
              "      <td>1</td>\n",
              "    </tr>\n",
              "    <tr>\n",
              "      <th>4</th>\n",
              "      <td>While I was working at McDonald's there was th...</td>\n",
              "      <td>1</td>\n",
              "    </tr>\n",
              "    <tr>\n",
              "      <th>5</th>\n",
              "      <td>I told multiple supervisors and the head of th...</td>\n",
              "      <td>1</td>\n",
              "    </tr>\n",
              "    <tr>\n",
              "      <th>6</th>\n",
              "      <td>I worked as a Project Engineer at a major comp...</td>\n",
              "      <td>1</td>\n",
              "    </tr>\n",
              "    <tr>\n",
              "      <th>9</th>\n",
              "      <td>I wanted to go in the forces and was told \"Wom...</td>\n",
              "      <td>1</td>\n",
              "    </tr>\n",
              "  </tbody>\n",
              "</table>\n",
              "</div>"
            ],
            "text/plain": [
              "                                                post  labels\n",
              "0  My cousin (female, and 14 years older than me)...       1\n",
              "4  While I was working at McDonald's there was th...       1\n",
              "5  I told multiple supervisors and the head of th...       1\n",
              "6  I worked as a Project Engineer at a major comp...       1\n",
              "9  I wanted to go in the forces and was told \"Wom...       1"
            ]
          },
          "metadata": {
            "tags": []
          },
          "execution_count": 10
        }
      ]
    },
    {
      "cell_type": "code",
      "metadata": {
        "id": "U72TzlqGGkUK"
      },
      "source": [
        "# Renaming the columns for consistency\n",
        "data.rename(columns = {'post':'Sentences', 'labels':'Label'}, inplace=True)"
      ],
      "execution_count": null,
      "outputs": []
    },
    {
      "cell_type": "code",
      "metadata": {
        "colab": {
          "base_uri": "https://localhost:8080/",
          "height": 204
        },
        "id": "4l0sUiJDHidY",
        "outputId": "66118009-092e-48ce-973c-cf55dda43375"
      },
      "source": [
        "data.head()"
      ],
      "execution_count": null,
      "outputs": [
        {
          "output_type": "execute_result",
          "data": {
            "text/html": [
              "<div>\n",
              "<style scoped>\n",
              "    .dataframe tbody tr th:only-of-type {\n",
              "        vertical-align: middle;\n",
              "    }\n",
              "\n",
              "    .dataframe tbody tr th {\n",
              "        vertical-align: top;\n",
              "    }\n",
              "\n",
              "    .dataframe thead th {\n",
              "        text-align: right;\n",
              "    }\n",
              "</style>\n",
              "<table border=\"1\" class=\"dataframe\">\n",
              "  <thead>\n",
              "    <tr style=\"text-align: right;\">\n",
              "      <th></th>\n",
              "      <th>Sentences</th>\n",
              "      <th>Label</th>\n",
              "    </tr>\n",
              "  </thead>\n",
              "  <tbody>\n",
              "    <tr>\n",
              "      <th>0</th>\n",
              "      <td>My cousin (female, and 14 years older than me)...</td>\n",
              "      <td>1</td>\n",
              "    </tr>\n",
              "    <tr>\n",
              "      <th>4</th>\n",
              "      <td>While I was working at McDonald's there was th...</td>\n",
              "      <td>1</td>\n",
              "    </tr>\n",
              "    <tr>\n",
              "      <th>5</th>\n",
              "      <td>I told multiple supervisors and the head of th...</td>\n",
              "      <td>1</td>\n",
              "    </tr>\n",
              "    <tr>\n",
              "      <th>6</th>\n",
              "      <td>I worked as a Project Engineer at a major comp...</td>\n",
              "      <td>1</td>\n",
              "    </tr>\n",
              "    <tr>\n",
              "      <th>9</th>\n",
              "      <td>I wanted to go in the forces and was told \"Wom...</td>\n",
              "      <td>1</td>\n",
              "    </tr>\n",
              "  </tbody>\n",
              "</table>\n",
              "</div>"
            ],
            "text/plain": [
              "                                           Sentences  Label\n",
              "0  My cousin (female, and 14 years older than me)...      1\n",
              "4  While I was working at McDonald's there was th...      1\n",
              "5  I told multiple supervisors and the head of th...      1\n",
              "6  I worked as a Project Engineer at a major comp...      1\n",
              "9  I wanted to go in the forces and was told \"Wom...      1"
            ]
          },
          "metadata": {
            "tags": []
          },
          "execution_count": 13
        }
      ]
    },
    {
      "cell_type": "code",
      "metadata": {
        "colab": {
          "base_uri": "https://localhost:8080/"
        },
        "id": "Sp_G_SvNHIbt",
        "outputId": "c7f5c703-fecb-48dc-86e6-4b1e3ac8b357"
      },
      "source": [
        "print(\"Total number of samples = \", len(data))"
      ],
      "execution_count": null,
      "outputs": [
        {
          "output_type": "stream",
          "text": [
            "Total number of samples =  6326\n"
          ],
          "name": "stdout"
        }
      ]
    },
    {
      "cell_type": "code",
      "metadata": {
        "id": "dk-rjKrLHea-",
        "colab": {
          "base_uri": "https://localhost:8080/"
        },
        "outputId": "663538c2-8be0-48eb-86df-e7effd4155d3"
      },
      "source": [
        "len_list = [len(x) for x in data.Sentences.values]\n",
        "print(\"Length of the longest sentence = \", max(len_list))\n",
        "print(\"Length of the shortest sentence = \", min(len_list))"
      ],
      "execution_count": null,
      "outputs": [
        {
          "output_type": "stream",
          "text": [
            "Length of the longest sentence =  879\n",
            "Length of the shortest sentence =  14\n"
          ],
          "name": "stdout"
        }
      ]
    },
    {
      "cell_type": "code",
      "metadata": {
        "id": "MnAhQ1hSJtOX"
      },
      "source": [
        "# Saving the final file\n",
        "data.to_csv('/content/drive/MyDrive/UnivAI/AI-3 Project/data/Preprocessed data/everyday_sexist_comment.csv')"
      ],
      "execution_count": null,
      "outputs": []
    },
    {
      "cell_type": "code",
      "metadata": {
        "id": "UkIN_0UhmBCF"
      },
      "source": [
        ""
      ],
      "execution_count": null,
      "outputs": []
    },
    {
      "cell_type": "markdown",
      "metadata": {
        "id": "1JvU1Mhch2RN"
      },
      "source": [
        "### 1.2 Get tweets labeled with benevolent sexism using twitter API"
      ]
    },
    {
      "cell_type": "markdown",
      "metadata": {
        "id": "LOHnuQDYLGcr"
      },
      "source": [
        "According to ambivalent sexism theory (Glick and Fiske, 1996), sexism comes in\n",
        "two forms: Hostile and Benevolent. While hostile sexism is characterized by an explicitly negative attitude, benevolent sexism is more subtle.\n",
        "\n",
        "The authors collected data using the public Twitter Search\n",
        "API. The terms queried were common phrases and\n",
        "hashtags that are generally used when exhibiting\n",
        "benevolent sexism. Some of them were: ‘as good\n",
        "as a man’, ‘like a man’, ‘for a girl’, ‘smart for\n",
        "a girl’, ‘love of a woman’, ‘#adaywithoutwomen’,\n",
        "‘#womensday’, ‘#everydaysexism’ and ‘#weareequal’.\n",
        "These lead to a dataset of tweets that were\n",
        "sexist in nature, both towards women and men.\n",
        "E.g.: ‘He is a man who can’t act like a man’ is sexist\n",
        "towards men. Cross-validation and filtering of the benevolent sexist tweets was done by 3 validators. Fleiss’ kappa score was\n",
        "calculated to assess the reliability of the agreement\n",
        "between the validators.\n",
        "\n",
        "We used twitter API to get the tweets corresponding to the tweet ids provided by the author and fetched the dataset (total 7250 tweets) in 3 runs. Then we combined and removed mentions, hashtag symbol and emojis from the tweets. After filtering for retweets and suspended accounts, we had 400 postive label (benevolent) tweets."
      ]
    },
    {
      "cell_type": "markdown",
      "metadata": {
        "id": "waMfbGblK49V"
      },
      "source": [
        "**For more information on this dataset, please visit: https://www.aclweb.org/anthology/W17-2902/**"
      ]
    },
    {
      "cell_type": "markdown",
      "metadata": {
        "id": "EZ13Oi6aiNDQ"
      },
      "source": [
        "**Enter twitter developer keys which will be used to comminicate to twitter API using tweepy**"
      ]
    },
    {
      "cell_type": "code",
      "metadata": {
        "id": "5PbDw6BU88Xz"
      },
      "source": [
        "# Twitter Developer keys here\n",
        "# USED TO COMMUNICATE TO THE TWITTER API\n",
        "consumer_key = 'XXXXXXXXX'\n",
        "consumer_key_secret = 'XXXXXXXXX'\n",
        "access_token = 'XXXXXXXXX'\n",
        "access_token_secret = 'XXXXXXXXX'\n"
      ],
      "execution_count": null,
      "outputs": []
    },
    {
      "cell_type": "code",
      "metadata": {
        "id": "lovZudwx9DP_"
      },
      "source": [
        "#set up the API for fetching\n",
        "auth = tweepy.OAuthHandler(consumer_key, consumer_key_secret) \n",
        "auth.set_access_token(access_token, access_token_secret)\n",
        "api = tweepy.API(auth)"
      ],
      "execution_count": null,
      "outputs": []
    },
    {
      "cell_type": "code",
      "metadata": {
        "id": "jUyIDTm9CvkX"
      },
      "source": [
        "# This is corpus dataset\n",
        "#tweet id form (check this tsv for format)\n",
        "corpusFile = \"/content/drive/MyDrive/AI-3 Project/data/NLP_CSS_2017-master/benevolent_sexist.tsv\"\n",
        "df= pd.read_csv(corpusFile, header= None)\n"
      ],
      "execution_count": null,
      "outputs": []
    },
    {
      "cell_type": "markdown",
      "metadata": {
        "id": "Z94bS5xWkT0Z"
      },
      "source": [
        "**Custom function to fetch tweets and store them as a list (for demonstration we have only fetched 20, but for our task we fetched 7250)**"
      ]
    },
    {
      "cell_type": "code",
      "metadata": {
        "id": "uZr4_0dH89B3"
      },
      "source": [
        "# This method creates the training set\n",
        "def createTrainingSet(corpusFile):\n",
        "    c=0\n",
        "    # Get each id as part of the list\n",
        "    corpus = list(df[0])\n",
        "\n",
        "    sleepTime = 2\n",
        "    trainingDataSet = []\n",
        "    # Do not send more than 1500 ids at once else you will have to wait for 1 hour to cooldown\n",
        "    for tweet in corpus[0:20]:\n",
        "        try:\n",
        "            tweetFetched = api.get_status(tweet) # get the metadeta\n",
        "            print(c,\"Tweet fetched = \" + tweetFetched.text)\n",
        "            c+=1 # counter for seeing which tweet index is being fetched\n",
        "            time.sleep(sleepTime) # for the API to cool down\n",
        "            trainingDataSet.append(tweetFetched.text)\n",
        "        except Exception as e:\n",
        "            print(c,\"Inside the exception - no:2\")\n",
        "            print(e)\n",
        "            c+=1\n",
        "            print()\n",
        "            time.sleep(1)\n",
        "            continue\n",
        "                 \n",
        "    return trainingDataSet\n",
        "    \n"
      ],
      "execution_count": null,
      "outputs": []
    },
    {
      "cell_type": "code",
      "metadata": {
        "id": "PO_nFDgfAZUu",
        "colab": {
          "base_uri": "https://localhost:8080/"
        },
        "outputId": "a9d3498c-4e66-4d95-e21e-712e6cdd848c"
      },
      "source": [
        "resultFile = createTrainingSet(df)"
      ],
      "execution_count": null,
      "outputs": [
        {
          "output_type": "stream",
          "text": [
            "0 Tweet fetched = RT @GemmaAnneStyles: Happy #womensday to all my sassy women, classy women, nasty women 💋👧🏾💖👩🏼‍🔬👄👵🏼 my fine women, alive women, gonna fight…\n",
            "1 Inside the exception - no:2\n",
            "[{'code': 144, 'message': 'No status found with that ID.'}]\n",
            "\n",
            "2 Inside the exception - no:2\n",
            "[{'code': 144, 'message': 'No status found with that ID.'}]\n",
            "\n",
            "3 Tweet fetched = RT @girlsreallyrule: The lights are out at the Statue of Liberty...that's ONE MORE woman America CANNOT do without. #adaywithoutwomen #Ligh…\n",
            "4 Inside the exception - no:2\n",
            "[{'code': 63, 'message': 'User has been suspended.'}]\n",
            "\n",
            "5 Inside the exception - no:2\n",
            "[{'code': 144, 'message': 'No status found with that ID.'}]\n",
            "\n",
            "6 Inside the exception - no:2\n",
            "[{'code': 63, 'message': 'User has been suspended.'}]\n",
            "\n",
            "7 Inside the exception - no:2\n",
            "[{'code': 63, 'message': 'User has been suspended.'}]\n",
            "\n",
            "8 Inside the exception - no:2\n",
            "[{'code': 144, 'message': 'No status found with that ID.'}]\n",
            "\n",
            "9 Inside the exception - no:2\n",
            "[{'code': 144, 'message': 'No status found with that ID.'}]\n",
            "\n",
            "10 Inside the exception - no:2\n",
            "[{'code': 144, 'message': 'No status found with that ID.'}]\n",
            "\n",
            "11 Inside the exception - no:2\n",
            "[{'code': 144, 'message': 'No status found with that ID.'}]\n",
            "\n",
            "12 Inside the exception - no:2\n",
            "[{'code': 63, 'message': 'User has been suspended.'}]\n",
            "\n",
            "13 Inside the exception - no:2\n",
            "[{'code': 144, 'message': 'No status found with that ID.'}]\n",
            "\n",
            "14 Inside the exception - no:2\n",
            "[{'code': 63, 'message': 'User has been suspended.'}]\n",
            "\n",
            "15 Inside the exception - no:2\n",
            "[{'code': 144, 'message': 'No status found with that ID.'}]\n",
            "\n",
            "16 Tweet fetched = RT @antonioguterres: We can’t achieve any of our goals without the participation of women and girls. #WomensDay https://t.co/2oCVEQQFMR\n",
            "17 Inside the exception - no:2\n",
            "[{'code': 63, 'message': 'User has been suspended.'}]\n",
            "\n",
            "18 Inside the exception - no:2\n",
            "[{'code': 179, 'message': 'Sorry, you are not authorized to see this status.'}]\n",
            "\n",
            "19 Inside the exception - no:2\n",
            "[{'code': 144, 'message': 'No status found with that ID.'}]\n",
            "\n"
          ],
          "name": "stdout"
        }
      ]
    },
    {
      "cell_type": "markdown",
      "metadata": {
        "id": "W4DtaskYkeSy"
      },
      "source": [
        "**Convert to dataframe and save**"
      ]
    },
    {
      "cell_type": "code",
      "metadata": {
        "colab": {
          "base_uri": "https://localhost:8080/"
        },
        "id": "B68B6tl_rtl-",
        "outputId": "13648e2a-4cc6-4677-c31e-5a0172f29784"
      },
      "source": [
        "res= pd.DataFrame(resultFile)\n",
        "res.to_csv('first200.csv')\n",
        "print(res.loc[3][0])"
      ],
      "execution_count": null,
      "outputs": [
        {
          "output_type": "stream",
          "text": [
            "\"she parties like a man but loves like a woman\"\n"
          ],
          "name": "stdout"
        }
      ]
    },
    {
      "cell_type": "markdown",
      "metadata": {
        "id": "73G_nRnxktAo"
      },
      "source": [
        "**Preprocess tweets**"
      ]
    },
    {
      "cell_type": "markdown",
      "metadata": {
        "id": "cKVbxdfJk8I0"
      },
      "source": [
        "**Import required libraries and datasets**"
      ]
    },
    {
      "cell_type": "code",
      "metadata": {
        "id": "cnKAC3d7c-gA"
      },
      "source": [
        "csv1= pd.read_csv('first200.csv', header= None)\n",
        "csv2= pd.read_csv('1500to4520.csv', header= None)\n",
        "csv3= pd.read_csv('4520.csv', header= None) "
      ],
      "execution_count": null,
      "outputs": []
    },
    {
      "cell_type": "code",
      "metadata": {
        "colab": {
          "base_uri": "https://localhost:8080/",
          "height": 202
        },
        "id": "b8tXz8Q0fmJU",
        "outputId": "b18adfc0-4d68-4248-d145-2b5ecbb2c9be"
      },
      "source": [
        "csv= pd.concat([csv1, csv2, csv3]) #concatenating the files obtained by running for 3 attempts\n",
        "csv.drop([0], axis=1, inplace= True) #do .head() before to check if 0th col or row has to be removed\n",
        "csv.drop([0], axis=0, inplace= True)\n",
        "csv.head()"
      ],
      "execution_count": null,
      "outputs": [
        {
          "output_type": "execute_result",
          "data": {
            "text/html": [
              "<div>\n",
              "<style scoped>\n",
              "    .dataframe tbody tr th:only-of-type {\n",
              "        vertical-align: middle;\n",
              "    }\n",
              "\n",
              "    .dataframe tbody tr th {\n",
              "        vertical-align: top;\n",
              "    }\n",
              "\n",
              "    .dataframe thead th {\n",
              "        text-align: right;\n",
              "    }\n",
              "</style>\n",
              "<table border=\"1\" class=\"dataframe\">\n",
              "  <thead>\n",
              "    <tr style=\"text-align: right;\">\n",
              "      <th></th>\n",
              "      <th>1</th>\n",
              "    </tr>\n",
              "  </thead>\n",
              "  <tbody>\n",
              "    <tr>\n",
              "      <th>1</th>\n",
              "      <td>RT @GemmaAnneStyles: Happy #womensday to all m...</td>\n",
              "    </tr>\n",
              "    <tr>\n",
              "      <th>2</th>\n",
              "      <td>RT @girlsreallyrule: The lights are out at the...</td>\n",
              "    </tr>\n",
              "    <tr>\n",
              "      <th>3</th>\n",
              "      <td>RT @antonioguterres: We can’t achieve any of o...</td>\n",
              "    </tr>\n",
              "    <tr>\n",
              "      <th>4</th>\n",
              "      <td>\"she parties like a man but loves like a woman\"</td>\n",
              "    </tr>\n",
              "    <tr>\n",
              "      <th>5</th>\n",
              "      <td>RT @GemmaAnneStyles: Happy #womensday to all m...</td>\n",
              "    </tr>\n",
              "  </tbody>\n",
              "</table>\n",
              "</div>"
            ],
            "text/plain": [
              "                                                   1\n",
              "1  RT @GemmaAnneStyles: Happy #womensday to all m...\n",
              "2  RT @girlsreallyrule: The lights are out at the...\n",
              "3  RT @antonioguterres: We can’t achieve any of o...\n",
              "4    \"she parties like a man but loves like a woman\"\n",
              "5  RT @GemmaAnneStyles: Happy #womensday to all m..."
            ]
          },
          "metadata": {
            "tags": []
          },
          "execution_count": 89
        }
      ]
    },
    {
      "cell_type": "markdown",
      "metadata": {
        "id": "XtE7FkxJlH3r"
      },
      "source": [
        "**Remove retweets**"
      ]
    },
    {
      "cell_type": "code",
      "metadata": {
        "id": "-pkIb6LPf_BG"
      },
      "source": [
        "csv.drop_duplicates(inplace=True) #duplicate tweets"
      ],
      "execution_count": null,
      "outputs": []
    },
    {
      "cell_type": "code",
      "metadata": {
        "colab": {
          "base_uri": "https://localhost:8080/",
          "height": 220
        },
        "id": "S2tznu6pgVDW",
        "outputId": "3b621051-7d61-4f5d-9f79-5db633bd7a34"
      },
      "source": [
        "print(len(csv))\n",
        "csv.head()"
      ],
      "execution_count": null,
      "outputs": [
        {
          "output_type": "stream",
          "text": [
            "401\n"
          ],
          "name": "stdout"
        },
        {
          "output_type": "execute_result",
          "data": {
            "text/html": [
              "<div>\n",
              "<style scoped>\n",
              "    .dataframe tbody tr th:only-of-type {\n",
              "        vertical-align: middle;\n",
              "    }\n",
              "\n",
              "    .dataframe tbody tr th {\n",
              "        vertical-align: top;\n",
              "    }\n",
              "\n",
              "    .dataframe thead th {\n",
              "        text-align: right;\n",
              "    }\n",
              "</style>\n",
              "<table border=\"1\" class=\"dataframe\">\n",
              "  <thead>\n",
              "    <tr style=\"text-align: right;\">\n",
              "      <th></th>\n",
              "      <th>1</th>\n",
              "    </tr>\n",
              "  </thead>\n",
              "  <tbody>\n",
              "    <tr>\n",
              "      <th>1</th>\n",
              "      <td>RT @GemmaAnneStyles: Happy #womensday to all m...</td>\n",
              "    </tr>\n",
              "    <tr>\n",
              "      <th>2</th>\n",
              "      <td>RT @girlsreallyrule: The lights are out at the...</td>\n",
              "    </tr>\n",
              "    <tr>\n",
              "      <th>3</th>\n",
              "      <td>RT @antonioguterres: We can’t achieve any of o...</td>\n",
              "    </tr>\n",
              "    <tr>\n",
              "      <th>4</th>\n",
              "      <td>\"she parties like a man but loves like a woman\"</td>\n",
              "    </tr>\n",
              "    <tr>\n",
              "      <th>6</th>\n",
              "      <td>RT @xanria_018: Lucky is the man who is the fi...</td>\n",
              "    </tr>\n",
              "  </tbody>\n",
              "</table>\n",
              "</div>"
            ],
            "text/plain": [
              "                                                   1\n",
              "1  RT @GemmaAnneStyles: Happy #womensday to all m...\n",
              "2  RT @girlsreallyrule: The lights are out at the...\n",
              "3  RT @antonioguterres: We can’t achieve any of o...\n",
              "4    \"she parties like a man but loves like a woman\"\n",
              "6  RT @xanria_018: Lucky is the man who is the fi..."
            ]
          },
          "metadata": {
            "tags": []
          },
          "execution_count": 91
        }
      ]
    },
    {
      "cell_type": "code",
      "metadata": {
        "id": "5NOANpvDhdYd"
      },
      "source": [
        "csv.reset_index(inplace=True)\n",
        "csv.drop(['index'], axis=1,inplace= True) "
      ],
      "execution_count": null,
      "outputs": []
    },
    {
      "cell_type": "markdown",
      "metadata": {
        "id": "h1oVZKmClP0a"
      },
      "source": [
        "**Remove @mentions along with emojis and website mentions as they are not important for our task**"
      ]
    },
    {
      "cell_type": "code",
      "metadata": {
        "id": "9AkdNg6WhxNP"
      },
      "source": [
        "def preprocess(df):\n",
        "  df[1]= [re.sub('((www\\.[^\\s]+)|(https?://[^\\s]+)|(http?://[^\\s]+))', '', ln) for ln in df[1]] #remove websites\n",
        "  df[1]= [re.sub(r'http\\S+', '', ln) for ln in df[1]] \n",
        "  df[1]= [re.sub('@[^\\s]+', '', ln) for ln in df[1]] #remove account mentions\n",
        "  df[1]= [emoji.get_emoji_regexp().sub(u'', ln) for ln in df[1]] #remove emojis\n",
        "  df[1]= [ln.split() for ln in df[1]] \n",
        "  \n",
        "  for i,ln in enumerate(df[1]):\n",
        "    try:\n",
        "      ln.remove('RT') #remove retweets\n",
        "    except:\n",
        "      continue\n",
        "    df.iloc[i,0]=ln\n",
        "  [print(ln) for ln in df[1]]\n",
        "  return df"
      ],
      "execution_count": null,
      "outputs": []
    },
    {
      "cell_type": "markdown",
      "metadata": {
        "id": "QftcJb1Blc8h"
      },
      "source": [
        "**Remove any null values**"
      ]
    },
    {
      "cell_type": "code",
      "metadata": {
        "colab": {
          "base_uri": "https://localhost:8080/",
          "height": 202
        },
        "id": "HMHAf6OZKdeR",
        "outputId": "4a3788b2-46f1-4631-b2ce-defcb773c27a"
      },
      "source": [
        "csv.dropna(inplace= True) #remove any null values\n",
        "csv= preprocess(csv)\n",
        "csv.head()"
      ],
      "execution_count": null,
      "outputs": [
        {
          "output_type": "execute_result",
          "data": {
            "text/html": [
              "<div>\n",
              "<style scoped>\n",
              "    .dataframe tbody tr th:only-of-type {\n",
              "        vertical-align: middle;\n",
              "    }\n",
              "\n",
              "    .dataframe tbody tr th {\n",
              "        vertical-align: top;\n",
              "    }\n",
              "\n",
              "    .dataframe thead th {\n",
              "        text-align: right;\n",
              "    }\n",
              "</style>\n",
              "<table border=\"1\" class=\"dataframe\">\n",
              "  <thead>\n",
              "    <tr style=\"text-align: right;\">\n",
              "      <th></th>\n",
              "      <th>1</th>\n",
              "    </tr>\n",
              "  </thead>\n",
              "  <tbody>\n",
              "    <tr>\n",
              "      <th>0</th>\n",
              "      <td>[Happy, #womensday, to, all, my, sassy, women,...</td>\n",
              "    </tr>\n",
              "    <tr>\n",
              "      <th>1</th>\n",
              "      <td>[The, lights, are, out, at, the, Statue, of, L...</td>\n",
              "    </tr>\n",
              "    <tr>\n",
              "      <th>2</th>\n",
              "      <td>[We, can’t, achieve, any, of, our, goals, with...</td>\n",
              "    </tr>\n",
              "    <tr>\n",
              "      <th>3</th>\n",
              "      <td>[\"she, parties, like, a, man, but, loves, like...</td>\n",
              "    </tr>\n",
              "    <tr>\n",
              "      <th>4</th>\n",
              "      <td>[Lucky, is, the, man, who, is, the, first, lov...</td>\n",
              "    </tr>\n",
              "  </tbody>\n",
              "</table>\n",
              "</div>"
            ],
            "text/plain": [
              "                                                   1\n",
              "0  [Happy, #womensday, to, all, my, sassy, women,...\n",
              "1  [The, lights, are, out, at, the, Statue, of, L...\n",
              "2  [We, can’t, achieve, any, of, our, goals, with...\n",
              "3  [\"she, parties, like, a, man, but, loves, like...\n",
              "4  [Lucky, is, the, man, who, is, the, first, lov..."
            ]
          },
          "metadata": {
            "tags": []
          },
          "execution_count": 96
        }
      ]
    },
    {
      "cell_type": "markdown",
      "metadata": {
        "id": "EdHYNI4Llh3n"
      },
      "source": [
        "**Rejoin the split strings as they will be tokenized later as per the model requirements**"
      ]
    },
    {
      "cell_type": "code",
      "metadata": {
        "colab": {
          "base_uri": "https://localhost:8080/"
        },
        "id": "-Brq0ePDKZLb",
        "outputId": "88894b10-10f4-4c06-b4ed-8d20b8192150"
      },
      "source": [
        "csv=csv[1].str.join(\" \")"
      ],
      "execution_count": null,
      "outputs": [
        {
          "output_type": "execute_result",
          "data": {
            "text/plain": [
              "0      Happy #womensday to all my sassy women, classy...\n",
              "1      The lights are out at the Statue of Liberty......\n",
              "2      We can’t achieve any of our goals without the ...\n",
              "3        \"she parties like a man but loves like a woman\"\n",
              "4      Lucky is the man who is the first love of a wo...\n",
              "                             ...                        \n",
              "396    Literally can eat a whole pizza to myself .......\n",
              "397    'THE BIGGEST COWARD OF A MAN IS TO AWAKEN THE ...\n",
              "398    We want to construct a different world of work...\n",
              "399    Do not awaken the love of a woman, without the...\n",
              "400    Nothing better in this world than a man making...\n",
              "Name: 1, Length: 400, dtype: object"
            ]
          },
          "metadata": {
            "tags": []
          },
          "execution_count": 97
        }
      ]
    },
    {
      "cell_type": "markdown",
      "metadata": {
        "id": "A6JsQ8lRlqhN"
      },
      "source": [
        "**Save the dataset**"
      ]
    },
    {
      "cell_type": "code",
      "metadata": {
        "id": "KMQ77wthKiiP"
      },
      "source": [
        "csv.to_csv(\"Benevolent_sexism.csv\")"
      ],
      "execution_count": null,
      "outputs": []
    },
    {
      "cell_type": "markdown",
      "metadata": {
        "id": "2QvJzz02NIqz"
      },
      "source": [
        "After cleaning the dataset, these were merged with the workplace sexism dataset to increase the samples and add variability of different sources to it, so that it generalizes well."
      ]
    },
    {
      "cell_type": "markdown",
      "metadata": {
        "id": "dtSF_Lss9aDI"
      },
      "source": [
        "## 2 Combining data from multiple sources"
      ]
    },
    {
      "cell_type": "markdown",
      "metadata": {
        "id": "eGJ9BlNq9fVF"
      },
      "source": [
        "#### 2.1 Reading data from multiple sources to a DataFrame"
      ]
    },
    {
      "cell_type": "code",
      "metadata": {
        "id": "DpE4PmTESe2W"
      },
      "source": [
        "benevolent_data_path = '/content/drive/MyDrive/UnivAI/AI-3 Project/data/Preprocessed data/Benevolent_sexism.csv'\n",
        "sexist_comment_data_path = '/content/drive/MyDrive/UnivAI/AI-3 Project/data/Preprocessed data/everyday_sexist_comment.csv'\n",
        "reddit_data_path = '/content/drive/MyDrive/UnivAI/AI-3 Project/data/Preprocessed data/reddit (1).csv'\n",
        "isep_data_path = '/content/drive/MyDrive/UnivAI/AI-3 Project/data/ISEP Sexist Data labeling.xlsx'"
      ],
      "execution_count": null,
      "outputs": []
    },
    {
      "cell_type": "code",
      "metadata": {
        "id": "cVEDORAIwNOD"
      },
      "source": [
        "original_data = pd.read_excel(isep_data_path)\n",
        "benevolent_df = pd.read_csv(benevolent_data_path)\n",
        "sexist_comment_df = pd.read_csv(sexist_comment_data_path)\n",
        "reddit_df = pd.read_csv(reddit_data_path)"
      ],
      "execution_count": null,
      "outputs": []
    },
    {
      "cell_type": "code",
      "metadata": {
        "id": "rsDPeNBfw3dX"
      },
      "source": [
        "X = original_data[['Sentences']]\n",
        "y = original_data['Label']"
      ],
      "execution_count": null,
      "outputs": []
    },
    {
      "cell_type": "markdown",
      "metadata": {
        "id": "gqpJKvro9oFB"
      },
      "source": [
        "#### 2.2 Split the data into train, validation and test sets."
      ]
    },
    {
      "cell_type": "code",
      "metadata": {
        "id": "KRn_gyjQwUnX"
      },
      "source": [
        "X_train, X_test, y_train, y_test = train_test_split(X, y, train_size=0.8, stratify=y, random_state=66, shuffle=True)\n",
        "X_train, X_val, y_train, y_val = train_test_split(X_train, y_train, train_size=0.7, stratify=y_train, random_state=66, shuffle=True)"
      ],
      "execution_count": null,
      "outputs": []
    },
    {
      "cell_type": "code",
      "metadata": {
        "id": "u4iCYBwQx7UO"
      },
      "source": [
        "train_data = X_train.copy()\n",
        "train_data['Label'] = y_train\n",
        "\n",
        "test_data = X_test.copy()\n",
        "test_data['Label'] = y_test\n",
        "\n",
        "val_data = X_val.copy()\n",
        "val_data['Label'] = y_val"
      ],
      "execution_count": null,
      "outputs": []
    },
    {
      "cell_type": "code",
      "metadata": {
        "id": "2QyRidTJWBnh"
      },
      "source": [
        "val_data = val_data[val_data['Sentences'].apply(lambda x: len(x.split()) < 1000)]\n",
        "test_data = test_data[test_data['Sentences'].apply(lambda x: len(x.split()) < 1000)]"
      ],
      "execution_count": null,
      "outputs": []
    },
    {
      "cell_type": "code",
      "metadata": {
        "id": "dZgUo-wPTbrq"
      },
      "source": [
        "new_benevolent_df = benevolent_df[[\"1\"]]\n",
        "new_benevolent_df['Label'] = 1"
      ],
      "execution_count": null,
      "outputs": []
    },
    {
      "cell_type": "code",
      "metadata": {
        "id": "RtupY1GCTmF3"
      },
      "source": [
        "new_benevolent_df.rename(columns={'1': 'Sentences'}, inplace=True)"
      ],
      "execution_count": null,
      "outputs": []
    },
    {
      "cell_type": "code",
      "metadata": {
        "id": "sZc7zLsiUa2b"
      },
      "source": [
        "sexist_comment_df = pd.read_csv(sexist_comment_data_path)"
      ],
      "execution_count": null,
      "outputs": []
    },
    {
      "cell_type": "code",
      "metadata": {
        "id": "ze9nhTMvUiYb"
      },
      "source": [
        "new_sexist_comment_df = sexist_comment_df[['Sentences','Label']]"
      ],
      "execution_count": null,
      "outputs": []
    },
    {
      "cell_type": "code",
      "metadata": {
        "id": "44Paw7JPUypO"
      },
      "source": [
        "reddit_df = pd.read_csv(reddit_data_path)"
      ],
      "execution_count": null,
      "outputs": []
    },
    {
      "cell_type": "code",
      "metadata": {
        "colab": {
          "base_uri": "https://localhost:8080/"
        },
        "id": "w2kBatn8U6Gx",
        "outputId": "285de805-1d09-4200-b0c4-96447f8543a5"
      },
      "source": [
        "new_reddit_df = reddit_df[['body','Sexism']]\n",
        "new_reddit_df.rename(columns={'body':'Sentences','Sexism':'Label'}, inplace=True)"
      ],
      "execution_count": null,
      "outputs": [
        {
          "output_type": "stream",
          "text": [
            "/usr/local/lib/python3.7/dist-packages/pandas/core/frame.py:4308: SettingWithCopyWarning: \n",
            "A value is trying to be set on a copy of a slice from a DataFrame\n",
            "\n",
            "See the caveats in the documentation: https://pandas.pydata.org/pandas-docs/stable/user_guide/indexing.html#returning-a-view-versus-a-copy\n",
            "  errors=errors,\n"
          ],
          "name": "stderr"
        }
      ]
    },
    {
      "cell_type": "markdown",
      "metadata": {
        "id": "y25Yxo0IBFff"
      },
      "source": [
        "##### 2.2.1. Combining all the datasets and filter rows with sentence length less than 1000"
      ]
    },
    {
      "cell_type": "code",
      "metadata": {
        "id": "JbF1VG8acz0D"
      },
      "source": [
        "sexist_data = pd.concat([new_benevolent_df, new_sexist_comment_df, new_reddit_df, train_data], axis=0)"
      ],
      "execution_count": null,
      "outputs": []
    },
    {
      "cell_type": "code",
      "metadata": {
        "id": "Knym-rkCV0Ka"
      },
      "source": [
        "sexist_data = sexist_data[sexist_data['Sentences'].apply(lambda x: len(x.split()) < 1000)]"
      ],
      "execution_count": null,
      "outputs": []
    },
    {
      "cell_type": "markdown",
      "metadata": {
        "id": "480VjAq1BMLF"
      },
      "source": [
        "##### 2.2.2 Clean the dataset"
      ]
    },
    {
      "cell_type": "code",
      "metadata": {
        "id": "7fQy8W75d03f"
      },
      "source": [
        "def clean_data(df):\n",
        "  df.Sentences = [element.lower() for element in df.Sentences]\n",
        "  df.Sentences = [re.sub(r'[^a-zA-Z /n]', '', element) for element in df.Sentences]\n",
        "  return df"
      ],
      "execution_count": null,
      "outputs": []
    },
    {
      "cell_type": "code",
      "metadata": {
        "id": "-p_zN4tCd4Dz"
      },
      "source": [
        "df = clean_data(sexist_data)\n",
        "test_data = clean_data(test_data)\n",
        "val_data = clean_data(val_data)"
      ],
      "execution_count": null,
      "outputs": []
    },
    {
      "cell_type": "code",
      "metadata": {
        "colab": {
          "base_uri": "https://localhost:8080/",
          "height": 292
        },
        "id": "Aw0tO4AieH1x",
        "outputId": "043cd833-749c-48ff-b67b-df7b2e03ebf5"
      },
      "source": [
        "df['Label'].value_counts().plot(kind='bar')\n",
        "plt.xlabel('label category')\n",
        "plt.ylabel('count')\n",
        "plt.title('Sexist comment distribution in the dataset')\n",
        "plt.show()"
      ],
      "execution_count": null,
      "outputs": [
        {
          "output_type": "display_data",
          "data": {
            "image/png": "[encoded data removed]",
            "text/plain": [
              "<Figure size 432x288 with 1 Axes>"
            ]
          },
          "metadata": {
            "tags": [],
            "needs_background": "light"
          }
        }
      ]
    },
    {
      "cell_type": "markdown",
      "metadata": {
        "id": "POfMayQiC8SX"
      },
      "source": [
        "From the above plot, we can see that there is an imbalance in the dataset. Number of negative samples(Non-sexist comments) is almost half of the number of positive samples(Sexist comments) in the dataset."
      ]
    },
    {
      "cell_type": "code",
      "metadata": {
        "colab": {
          "base_uri": "https://localhost:8080/",
          "height": 198
        },
        "id": "0-2KQP1XePzI",
        "outputId": "7396ab5d-5f8a-40e1-bbc2-6ba166e5e7dc"
      },
      "source": [
        "df.head()"
      ],
      "execution_count": null,
      "outputs": [
        {
          "output_type": "execute_result",
          "data": {
            "text/html": [
              "<div>\n",
              "<style scoped>\n",
              "    .dataframe tbody tr th:only-of-type {\n",
              "        vertical-align: middle;\n",
              "    }\n",
              "\n",
              "    .dataframe tbody tr th {\n",
              "        vertical-align: top;\n",
              "    }\n",
              "\n",
              "    .dataframe thead th {\n",
              "        text-align: right;\n",
              "    }\n",
              "</style>\n",
              "<table border=\"1\" class=\"dataframe\">\n",
              "  <thead>\n",
              "    <tr style=\"text-align: right;\">\n",
              "      <th></th>\n",
              "      <th>Sentences</th>\n",
              "      <th>Label</th>\n",
              "    </tr>\n",
              "  </thead>\n",
              "  <tbody>\n",
              "    <tr>\n",
              "      <th>0</th>\n",
              "      <td>happy womensday to all my sassy women classy w...</td>\n",
              "      <td>1</td>\n",
              "    </tr>\n",
              "    <tr>\n",
              "      <th>1</th>\n",
              "      <td>the lights are out at the statue of libertytha...</td>\n",
              "      <td>1</td>\n",
              "    </tr>\n",
              "    <tr>\n",
              "      <th>2</th>\n",
              "      <td>we cant achieve any of our goals without the p...</td>\n",
              "      <td>1</td>\n",
              "    </tr>\n",
              "    <tr>\n",
              "      <th>3</th>\n",
              "      <td>she parties like a man but loves like a woman</td>\n",
              "      <td>1</td>\n",
              "    </tr>\n",
              "    <tr>\n",
              "      <th>4</th>\n",
              "      <td>lucky is the man who is the first love of a wo...</td>\n",
              "      <td>1</td>\n",
              "    </tr>\n",
              "  </tbody>\n",
              "</table>\n",
              "</div>"
            ],
            "text/plain": [
              "                                           Sentences  Label\n",
              "0  happy womensday to all my sassy women classy w...      1\n",
              "1  the lights are out at the statue of libertytha...      1\n",
              "2  we cant achieve any of our goals without the p...      1\n",
              "3      she parties like a man but loves like a woman      1\n",
              "4  lucky is the man who is the first love of a wo...      1"
            ]
          },
          "metadata": {
            "tags": []
          },
          "execution_count": 30
        }
      ]
    },
    {
      "cell_type": "markdown",
      "metadata": {
        "id": "xesgSNpHBhPk"
      },
      "source": [
        "##### 2.2.3 Save the train, validation and test sets into different files"
      ]
    },
    {
      "cell_type": "code",
      "metadata": {
        "id": "t5HKCYnUec2q"
      },
      "source": [
        "## Saves the cleaned datasets to respective csv files\n",
        "\n",
        "# df.to_csv('/content/drive/MyDrive/UnivAI/AI-3 Project/data/Preprocessed data/train_dataset.csv')\n",
        "# test_data.to_csv('/content/drive/MyDrive/UnivAI/AI-3 Project/data/Preprocessed data/test_dataset.csv')\n",
        "# val_data.to_csv('/content/drive/MyDrive/UnivAI/AI-3 Project/data/Preprocessed data/val_dataset.csv')"
      ],
      "execution_count": null,
      "outputs": []
    },
    {
      "cell_type": "code",
      "metadata": {
        "id": "vHYUXX4rufy6"
      },
      "source": [
        "# Load the saved datasets\n",
        "\n",
        "df_train = pd.read_csv('/content/drive/MyDrive/AI-3 Project/data/Preprocessed data/train_dataset.csv')\n",
        "df_test = pd.read_csv('/content/drive/MyDrive/AI-3 Project/data/Preprocessed data/test_dataset.csv')\n",
        "df_val = pd.read_csv('/content/drive/MyDrive/AI-3 Project/data/Preprocessed data/val_dataset.csv')"
      ],
      "execution_count": null,
      "outputs": []
    },
    {
      "cell_type": "markdown",
      "metadata": {
        "id": "kBA1KbCs_LmZ"
      },
      "source": [
        "## 3 Data Augementation"
      ]
    },
    {
      "cell_type": "markdown",
      "metadata": {
        "id": "WTvx6v9d5EKz"
      },
      "source": [
        "As seen above, our dataset is imbalanced. To achieve good performance from the models, we need to balance the data. Data augmentation techniques can be used to generate additional, synthetic data using the existing data.\n",
        "We have used a python library, NLPAug to achieve this.\n",
        "\n",
        "NLPAug offers three types of augmentation:\n",
        "1. Character level augmentation\n",
        "2. Word level augmentation \n",
        "3. Sentence level augmentation\n",
        "Each of these types can be performed with actions like random deletion, random insertion, shuffling, synonym replacement, etc.\n",
        "\n",
        "Here, we have used synonym replacement action for Word level augmentation, which randomly picks a word from a sentence and replaces it with a synonym of the word( use word embeddings to find most similar group of words to replace original word).\n",
        "\n"
      ]
    },
    {
      "cell_type": "code",
      "metadata": {
        "id": "5v7iptRQBWvM"
      },
      "source": [
        "def augment_text(df,samples=3000,pr=0.2):\n",
        "  aug = naw.WordEmbsAug(\n",
        "  model_type='glove', model_path='/content/drive/MyDrive/UnivAI/AI-3 Project/Embeddings/1b-vectors300-0.8-0.8.txt',\n",
        "  action=\"substitute\")\n",
        "\n",
        "  aug.aug_p=pr\n",
        "  new_text=[]\n",
        "  \n",
        "  ##selecting the minority class samples\n",
        "  df_n=df[df.Label==0].reset_index(drop=True)\n",
        "\n",
        "  ## data augmentation loop\n",
        "  for i in tqdm(np.random.randint(0,len(df_n),samples)):\n",
        "      \n",
        "          text = df_n.iloc[i]['Sentences']\n",
        "          augmented_text = aug.augment(text)\n",
        "          new_text.append(augmented_text)  \n",
        "  \n",
        "  new=pd.DataFrame({'Sentences':new_text,'Label':0})\n",
        "  df=shuffle(df.append(new).reset_index(drop=True))\n",
        "  return df"
      ],
      "execution_count": null,
      "outputs": []
    },
    {
      "cell_type": "code",
      "metadata": {
        "id": "Hb7KPH2a_fsW"
      },
      "source": [
        "## Uncomment this cell to run Data augmentation on the train dataset\n",
        "\n",
        "# train = augment_text(df_train)\n",
        "# train.drop('Unnamed: 0', axis=1, inplace=True)\n",
        "# train.reset_index(drop=True,inplace=True)"
      ],
      "execution_count": null,
      "outputs": []
    },
    {
      "cell_type": "code",
      "metadata": {
        "colab": {
          "base_uri": "https://localhost:8080/",
          "height": 292
        },
        "id": "N10HEU4BKVqY",
        "outputId": "e3da1f42-44c8-4da2-de89-e463e7b937f9"
      },
      "source": [
        "train['Label'].value_counts().plot(kind='bar')\n",
        "plt.xlabel('label category')\n",
        "plt.ylabel('count')\n",
        "plt.title('Sexist comment distribution in the dataset after augmentation')\n",
        "plt.show()"
      ],
      "execution_count": null,
      "outputs": [
        {
          "output_type": "display_data",
          "data": {
            "image/png": "[encoded data removed]",
            "text/plain": [
              "<Figure size 432x288 with 1 Axes>"
            ]
          },
          "metadata": {
            "tags": [],
            "needs_background": "light"
          }
        }
      ]
    },
    {
      "cell_type": "markdown",
      "metadata": {
        "id": "m2zvkDSS8By6"
      },
      "source": [
        "From the above plot, we can see that the class distribution is balanced after data augmentation."
      ]
    },
    {
      "cell_type": "code",
      "metadata": {
        "id": "Rp8aJ1WOOQ6L"
      },
      "source": [
        "## Uncomment this cell to save the augmented train data\n",
        "\n",
        "# train.to_csv('/content/drive/MyDrive/AI-3 Project/data/Preprocessed data/augmented_train_dataset.csv')"
      ],
      "execution_count": null,
      "outputs": []
    },
    {
      "cell_type": "code",
      "metadata": {
        "id": "V-3CgNmlOk2D"
      },
      "source": [
        "# Read the augmented train data\n",
        "\n",
        "df_train = pd.read_csv('/content/drive/MyDrive/AI-3 Project/data/Preprocessed data/augmented_train_dataset.csv')"
      ],
      "execution_count": null,
      "outputs": []
    },
    {
      "cell_type": "code",
      "metadata": {
        "id": "sweOhve-hFch"
      },
      "source": [
        "X_train = df_train[['Sentences']]\n",
        "y_train = df_train['Label']\n",
        "\n",
        "X_val = df_val[['Sentences']]\n",
        "y_val = df_val['Label']\n",
        "\n",
        "X_test = df_test[['Sentences']]\n",
        "y_test = df_test['Label']"
      ],
      "execution_count": null,
      "outputs": []
    },
    {
      "cell_type": "code",
      "metadata": {
        "colab": {
          "base_uri": "https://localhost:8080/",
          "height": 203
        },
        "id": "WOiil3OWO-mP",
        "outputId": "e8a2b5c1-d434-4fb6-9da4-e92403f5af17"
      },
      "source": [
        "X_train.tail()"
      ],
      "execution_count": null,
      "outputs": [
        {
          "output_type": "execute_result",
          "data": {
            "text/html": [
              "<div>\n",
              "<style scoped>\n",
              "    .dataframe tbody tr th:only-of-type {\n",
              "        vertical-align: middle;\n",
              "    }\n",
              "\n",
              "    .dataframe tbody tr th {\n",
              "        vertical-align: top;\n",
              "    }\n",
              "\n",
              "    .dataframe thead th {\n",
              "        text-align: right;\n",
              "    }\n",
              "</style>\n",
              "<table border=\"1\" class=\"dataframe\">\n",
              "  <thead>\n",
              "    <tr style=\"text-align: right;\">\n",
              "      <th></th>\n",
              "      <th>Sentences</th>\n",
              "    </tr>\n",
              "  </thead>\n",
              "  <tbody>\n",
              "    <tr>\n",
              "      <th>14106</th>\n",
              "      <td>having to state your marital status  times a d...</td>\n",
              "    </tr>\n",
              "    <tr>\n",
              "      <th>14107</th>\n",
              "      <td>my mother commenting on my outfit dont cry to ...</td>\n",
              "    </tr>\n",
              "    <tr>\n",
              "      <th>14108</th>\n",
              "      <td>a good man acknowledges a woman than another p...</td>\n",
              "    </tr>\n",
              "    <tr>\n",
              "      <th>14109</th>\n",
              "      <td>agree to an extent</td>\n",
              "    </tr>\n",
              "    <tr>\n",
              "      <th>14110</th>\n",
              "      <td>joker doesnt even work with a woman besides wa...</td>\n",
              "    </tr>\n",
              "  </tbody>\n",
              "</table>\n",
              "</div>"
            ],
            "text/plain": [
              "                                               Sentences\n",
              "14106  having to state your marital status  times a d...\n",
              "14107  my mother commenting on my outfit dont cry to ...\n",
              "14108  a good man acknowledges a woman than another p...\n",
              "14109                                 agree to an extent\n",
              "14110  joker doesnt even work with a woman besides wa..."
            ]
          },
          "metadata": {
            "tags": []
          },
          "execution_count": 7
        }
      ]
    },
    {
      "cell_type": "code",
      "metadata": {
        "id": "tU1WcNSuiAN-",
        "colab": {
          "base_uri": "https://localhost:8080/"
        },
        "outputId": "9acbb02c-9c15-465e-fbd4-591643af3285"
      },
      "source": [
        "X_train.shape, X_val.shape, X_test.shape"
      ],
      "execution_count": null,
      "outputs": [
        {
          "output_type": "execute_result",
          "data": {
            "text/plain": [
              "((14111, 1), (273, 1), (228, 1))"
            ]
          },
          "metadata": {
            "tags": []
          },
          "execution_count": 8
        }
      ]
    },
    {
      "cell_type": "markdown",
      "metadata": {
        "id": "dSgg5YOL4dLP"
      },
      "source": [
        "## 4 Baseline model with simpleRNN layer"
      ]
    },
    {
      "cell_type": "markdown",
      "metadata": {
        "id": "o39_8lD4iVEH"
      },
      "source": [
        "Now that we have a balanced data with upsampled 0 labels, we see the effectiveness of our data in generalizing on postive labels from any source.   \n",
        "\n",
        "Following the preprocessing of the merged data, we tokenized each sample using the keras tokenizer with a vocab size of 5000. We implemented a SimpleRNN model with an embedding layer as a baseline model and tested its performance on the test dataset. \n",
        "\n",
        "We expect the SimpleRNN with its vanishing gradient problem and less context to give a moderate classification performance. "
      ]
    },
    {
      "cell_type": "markdown",
      "metadata": {
        "id": "85BNYOvf4pCU"
      },
      "source": [
        "### 4.1**Tokenizing text with a fixed vocabulary size**"
      ]
    },
    {
      "cell_type": "code",
      "metadata": {
        "id": "c-P-vCd1kTCg"
      },
      "source": [
        "vocab_size = 5000\n",
        "\n",
        "tokenizer = tf.keras.preprocessing.text.Tokenizer(\n",
        "    num_words=vocab_size, filters='!\"#$%&()*+,-.:;=?@[\\\\]^_`{|}~\\t\\n',\n",
        "    lower=True, split=' ', char_level=False, oov_token='UNK'\n",
        ")\n",
        "\n",
        "tokenizer.fit_on_texts(df_train[\"Sentences\"])\n",
        "train_data = tokenizer.texts_to_sequences(df_train[\"Sentences\"])\n",
        "reverse_dict = {j:i for i,j in tokenizer.word_index.items()}"
      ],
      "execution_count": null,
      "outputs": []
    },
    {
      "cell_type": "code",
      "metadata": {
        "id": "0VEfw_5-kViR"
      },
      "source": [
        "val_data = tokenizer.texts_to_sequences(df_val[\"Sentences\"])\n",
        "test_data = tokenizer.texts_to_sequences(df_test[\"Sentences\"])"
      ],
      "execution_count": null,
      "outputs": []
    },
    {
      "cell_type": "markdown",
      "metadata": {
        "id": "5ku0pDUs4vlj"
      },
      "source": [
        "### 4.2 **Create tf.Dataset**"
      ]
    },
    {
      "cell_type": "code",
      "metadata": {
        "id": "0R3cAVtLUqAU"
      },
      "source": [
        "def create_dataset(x,y):\n",
        "  ragged_x = tf.ragged.constant(x)\n",
        "  ragged_y = tf.ragged.constant(y)\n",
        "  dataset = tf.data.Dataset.from_tensor_slices((ragged_x,ragged_y))\n",
        "  dataset = dataset.shuffle(1000)\n",
        "  dataset = dataset.batch(32)\n",
        "  dataset = dataset.map(lambda x,y: (x.to_tensor(default_value=0, shape=[None, None]), y), num_parallel_calls=3)\n",
        "  dataset = dataset.prefetch(3)\n",
        "  return dataset"
      ],
      "execution_count": null,
      "outputs": []
    },
    {
      "cell_type": "code",
      "metadata": {
        "id": "CL6UL6p3Vl-V"
      },
      "source": [
        "dataset_train = create_dataset(train_data, df_train[\"Label\"])\n",
        "dataset_val = create_dataset(val_data, df_val[\"Label\"])\n",
        "dataset_test = create_dataset(test_data, df_test[\"Label\"])"
      ],
      "execution_count": null,
      "outputs": []
    },
    {
      "cell_type": "code",
      "metadata": {
        "id": "TLo0RTiRWKui",
        "colab": {
          "base_uri": "https://localhost:8080/"
        },
        "outputId": "d82925a0-65bb-4e87-a2a6-d3bbf20f4436"
      },
      "source": [
        "print(dataset_train)"
      ],
      "execution_count": null,
      "outputs": [
        {
          "output_type": "stream",
          "text": [
            "<PrefetchDataset shapes: ((None, None), (None,)), types: (tf.int32, tf.int64)>\n"
          ],
          "name": "stdout"
        }
      ]
    },
    {
      "cell_type": "markdown",
      "metadata": {
        "id": "1T3O-oKi4z42"
      },
      "source": [
        "### 4.3 **Define and train model**"
      ]
    },
    {
      "cell_type": "code",
      "metadata": {
        "colab": {
          "base_uri": "https://localhost:8080/"
        },
        "id": "g4-8bOSX3dtl",
        "outputId": "8cc39a8a-bf7f-403a-c7a4-ec96a539dd13"
      },
      "source": [
        "# baseline model\n",
        "\n",
        "Inputs=  tf.keras.layers.Input(shape=(None,))\n",
        "Embedding= tf.keras.layers.Embedding(vocab_size, 300)(Inputs)\n",
        "RNN_1= (tf.keras.layers.SimpleRNN(32, return_sequences=False))(Embedding)\n",
        "Dense= tf.keras.layers.Dense(1, activation= 'sigmoid')(RNN_1)\n",
        "model= tf.keras.Model(inputs= Inputs, outputs= Dense)\n",
        "model.compile(optimizer=tf.keras.optimizers.Adam(),\n",
        "                 loss=tf.losses.BinaryCrossentropy(),\n",
        "                 metrics=['accuracy'])\n",
        "model.summary()"
      ],
      "execution_count": null,
      "outputs": [
        {
          "output_type": "stream",
          "text": [
            "Model: \"model_3\"\n",
            "_________________________________________________________________\n",
            "Layer (type)                 Output Shape              Param #   \n",
            "=================================================================\n",
            "input_4 (InputLayer)         [(None, None)]            0         \n",
            "_________________________________________________________________\n",
            "embedding_3 (Embedding)      (None, None, 300)         1500000   \n",
            "_________________________________________________________________\n",
            "simple_rnn_2 (SimpleRNN)     (None, 32)                10656     \n",
            "_________________________________________________________________\n",
            "dense_4 (Dense)              (None, 1)                 33        \n",
            "=================================================================\n",
            "Total params: 1,510,689\n",
            "Trainable params: 1,510,689\n",
            "Non-trainable params: 0\n",
            "_________________________________________________________________\n"
          ],
          "name": "stdout"
        }
      ]
    },
    {
      "cell_type": "code",
      "metadata": {
        "colab": {
          "base_uri": "https://localhost:8080/"
        },
        "id": "T7kGNbpI3edf",
        "outputId": "4ac80e08-df5b-4ddb-b3a8-92779b5f1bb5"
      },
      "source": [
        "history= model.fit(dataset_train, epochs=10, validation_data = dataset_val)"
      ],
      "execution_count": null,
      "outputs": [
        {
          "output_type": "stream",
          "text": [
            "Epoch 1/10\n",
            "441/441 [==============================] - 51s 112ms/step - loss: 0.6897 - accuracy: 0.5175 - val_loss: 0.6796 - val_accuracy: 0.5751\n",
            "Epoch 2/10\n",
            "441/441 [==============================] - 48s 109ms/step - loss: 0.6859 - accuracy: 0.5281 - val_loss: 0.6763 - val_accuracy: 0.5714\n",
            "Epoch 3/10\n",
            "441/441 [==============================] - 48s 109ms/step - loss: 0.6853 - accuracy: 0.5306 - val_loss: 0.6829 - val_accuracy: 0.5714\n",
            "Epoch 4/10\n",
            "441/441 [==============================] - 48s 107ms/step - loss: 0.6893 - accuracy: 0.5258 - val_loss: 0.6883 - val_accuracy: 0.5421\n",
            "Epoch 5/10\n",
            "441/441 [==============================] - 48s 108ms/step - loss: 0.6897 - accuracy: 0.5197 - val_loss: 0.6796 - val_accuracy: 0.5568\n",
            "Epoch 6/10\n",
            "441/441 [==============================] - 47s 107ms/step - loss: 0.6875 - accuracy: 0.5302 - val_loss: 0.6790 - val_accuracy: 0.5641\n",
            "Epoch 7/10\n",
            "441/441 [==============================] - 48s 108ms/step - loss: 0.6871 - accuracy: 0.5302 - val_loss: 0.6896 - val_accuracy: 0.5604\n",
            "Epoch 8/10\n",
            "441/441 [==============================] - 48s 109ms/step - loss: 0.6861 - accuracy: 0.5293 - val_loss: 0.6895 - val_accuracy: 0.5275\n",
            "Epoch 9/10\n",
            "441/441 [==============================] - 48s 110ms/step - loss: 0.6862 - accuracy: 0.5290 - val_loss: 0.6845 - val_accuracy: 0.5201\n",
            "Epoch 10/10\n",
            "441/441 [==============================] - 49s 111ms/step - loss: 0.6864 - accuracy: 0.5299 - val_loss: 0.6917 - val_accuracy: 0.4872\n"
          ],
          "name": "stdout"
        }
      ]
    },
    {
      "cell_type": "markdown",
      "metadata": {
        "id": "TL2ay2MR44kA"
      },
      "source": [
        "**Plotting loss and accuracy**"
      ]
    },
    {
      "cell_type": "code",
      "metadata": {
        "colab": {
          "base_uri": "https://localhost:8080/",
          "height": 294
        },
        "id": "JmfpQuPNkIa0",
        "outputId": "e28fa328-b3e8-4352-fd89-97e683044a9f"
      },
      "source": [
        "loss = history.history['loss']\n",
        "epochs = range(1,len(loss)+1)\n",
        "val_loss = history.history['val_loss']\n",
        "plt.figure()\n",
        "plt.plot(epochs, loss, 'b', label='Training loss')\n",
        "plt.plot(epochs, val_loss, '-r', label='Validation loss')\n",
        "plt.title('Training and validation loss')\n",
        "plt.xlabel('epoch')\n",
        "plt.ylabel('loss_value')\n",
        "plt.legend()\n",
        "plt.show()"
      ],
      "execution_count": null,
      "outputs": [
        {
          "output_type": "display_data",
          "data": {
            "image/png": "[encoded data removed]",
            "text/plain": [
              "<Figure size 432x288 with 1 Axes>"
            ]
          },
          "metadata": {
            "tags": [],
            "needs_background": "light"
          }
        }
      ]
    },
    {
      "cell_type": "code",
      "metadata": {
        "colab": {
          "base_uri": "https://localhost:8080/",
          "height": 294
        },
        "id": "FpOlK45hkJI5",
        "outputId": "2fd3c948-b63c-4817-e998-013f03026157"
      },
      "source": [
        "loss = history.history['accuracy']\n",
        "epochs = range(1,len(loss)+1)\n",
        "val_loss = history.history['val_accuracy']\n",
        "plt.figure()\n",
        "plt.plot(epochs, loss, 'b', label='Training accuracy')\n",
        "plt.plot(epochs, val_loss, '-r', label='Validation accuracy')\n",
        "plt.title('Training and validation accuracy')\n",
        "plt.xlabel('epoch')\n",
        "plt.ylabel('accuracy_value')\n",
        "plt.legend()\n",
        "plt.show()"
      ],
      "execution_count": null,
      "outputs": [
        {
          "output_type": "display_data",
          "data": {
            "image/png": "[encoded data removed]",
            "text/plain": [
              "<Figure size 432x288 with 1 Axes>"
            ]
          },
          "metadata": {
            "tags": [],
            "needs_background": "light"
          }
        }
      ]
    },
    {
      "cell_type": "markdown",
      "metadata": {
        "id": "qot2qI1K48Ye"
      },
      "source": [
        "**Evaluating on the test dataset**"
      ]
    },
    {
      "cell_type": "code",
      "metadata": {
        "colab": {
          "base_uri": "https://localhost:8080/"
        },
        "id": "ZV7X2yuvmTzo",
        "outputId": "d490b546-73f5-45a2-b110-30979f224cf6"
      },
      "source": [
        "result = model.evaluate(dataset_test)\n",
        "dict(zip(model.metrics_names, result))"
      ],
      "execution_count": null,
      "outputs": [
        {
          "output_type": "stream",
          "text": [
            "8/8 [==============================] - 0s 5ms/step - loss: 0.6890 - accuracy: 0.5175\n"
          ],
          "name": "stdout"
        },
        {
          "output_type": "execute_result",
          "data": {
            "text/plain": [
              "{'accuracy': 0.5175438523292542, 'loss': 0.6889723539352417}"
            ]
          },
          "metadata": {
            "tags": []
          },
          "execution_count": 40
        }
      ]
    },
    {
      "cell_type": "markdown",
      "metadata": {
        "id": "0x3FG7XFknfB"
      },
      "source": [
        "As expected, the model is training ineffectively on data as shown by the plots. This can be attributed to bad generalization to different sources of data in our dataset. Thus this simple model is unable to generalize well. Additionally the test accuracy is extremely less, due to the inefficinecy of the model to capture patterns and key words in our data. "
      ]
    },
    {
      "cell_type": "code",
      "metadata": {
        "id": "C86IXOZTm1OL"
      },
      "source": [
        "#!unzip '/content/drive/MyDrive/UnivAI/AI-3 Project/Embeddings/1b-GNGloVe-300d-0.8-0.8.zip' -d '/content/drive/MyDrive/UnivAI/AI-3 Project/Embeddings/'"
      ],
      "execution_count": null,
      "outputs": []
    },
    {
      "cell_type": "markdown",
      "metadata": {
        "id": "xSA6QaGWOEom"
      },
      "source": [
        "## 5 ELMo Model"
      ]
    },
    {
      "cell_type": "markdown",
      "metadata": {
        "id": "QLk0ixxPOGzx"
      },
      "source": [
        "Peter et al. in [Deep contextualized Word Representations](https://arxiv.org/pdf/1802.05365v2.pdf) define 'Embeddings from Language Models', or **ELMo**, as a type of deep contextualized word representation that models both (1) complex characteristics of word use (e.g., syntax and semantics), and (2) how these uses vary across linguistic contexts (i.e., to model polysemy). Word vectors are learned functions of the internal states of a deep bidirectional language model (biLM), which is pre-trained on a large text corpus.\n",
        "\n",
        "A biLM combines both a forward and backward LM. ELMo jointly maximizes the log likelihood of the forward and backward directions. "
      ]
    },
    {
      "cell_type": "markdown",
      "metadata": {
        "id": "tWpkFgUPOuXT"
      },
      "source": [
        "We aim to train ELMo embeddings on our train dataset and do transfer learning to use it as layer in the final model which will predict whether a comment is sexist or not."
      ]
    },
    {
      "cell_type": "markdown",
      "metadata": {
        "id": "93GjMonCNxe_"
      },
      "source": [
        "### 5.1 Preprocessing for ELMo "
      ]
    },
    {
      "cell_type": "markdown",
      "metadata": {
        "id": "0u9jyVlzMYc3"
      },
      "source": [
        "We use tensorflow tokeniser and fit it on the train dataset. We use this tokeniser to convert train, test and val data into tokens."
      ]
    },
    {
      "cell_type": "code",
      "metadata": {
        "id": "SZRhzV7riYLj"
      },
      "source": [
        "vocab_size = 5000\n",
        "\n",
        "tokenizer = tf.keras.preprocessing.text.Tokenizer(\n",
        "    num_words=vocab_size, filters='!\"#$%&()*+,-.:;=?@[\\\\]^_`{|}~\\t\\n',\n",
        "    lower=True, split=' ', char_level=False, oov_token='UNK'\n",
        ")\n",
        "\n",
        "tokenizer.fit_on_texts(df_train[\"Sentences\"])\n",
        "train_data = tokenizer.texts_to_sequences(df_train[\"Sentences\"])\n",
        "reverse_dict = {j:i for i,j in tokenizer.word_index.items()}"
      ],
      "execution_count": null,
      "outputs": []
    },
    {
      "cell_type": "markdown",
      "metadata": {
        "id": "9wVfMQvFoRuL"
      },
      "source": [
        "We convert the validation and test datasets to their corresponding tokens based on the vocabulary we built."
      ]
    },
    {
      "cell_type": "code",
      "metadata": {
        "id": "V3qeF9h3lnyN"
      },
      "source": [
        "val_data = tokenizer.texts_to_sequences(df_val[\"Sentences\"])\n",
        "test_data = tokenizer.texts_to_sequences(df_test[\"Sentences\"])"
      ],
      "execution_count": null,
      "outputs": []
    },
    {
      "cell_type": "markdown",
      "metadata": {
        "id": "_HdFDIXqoaaS"
      },
      "source": [
        "We read the glove gender neutral embeddings and convert each of the words in each comment to its corresponding embedding. We do cleaning to remove any words which are not present in the glove gender neutral embeddings."
      ]
    },
    {
      "cell_type": "code",
      "metadata": {
        "id": "EffMzJfrUvtV"
      },
      "source": [
        "def read_glove_vecs(glove_file):\n",
        "    with open(glove_file, encoding=\"utf8\") as f:\n",
        "        words = set()\n",
        "        word_to_vec_map = {}\n",
        "        for line in f:\n",
        "            line = line.strip().split()\n",
        "            curr_word = line[0]\n",
        "            words.add(curr_word)\n",
        "            word_to_vec_map[curr_word] = np.array(line[1:], dtype=np.float64)\n",
        "        \n",
        "        i = 1\n",
        "        words_to_index = {}\n",
        "        index_to_words = {}\n",
        "        for w in sorted(words):\n",
        "          if w in word_to_vec_map:\n",
        "            words_to_index[w] = i\n",
        "            index_to_words[i] = w\n",
        "            i = i + 1\n",
        "    return words_to_index, index_to_words, word_to_vec_map"
      ],
      "execution_count": null,
      "outputs": []
    },
    {
      "cell_type": "code",
      "metadata": {
        "id": "KNzo9LVrUzIM"
      },
      "source": [
        "embedding_path = '/content/drive/MyDrive/AI-3 Project/Embeddings/1b-vectors300-0.8-0.8.txt'\n",
        "words_to_index, index_to_words, word_to_vec_map = read_glove_vecs(embedding_path)"
      ],
      "execution_count": null,
      "outputs": []
    },
    {
      "cell_type": "code",
      "metadata": {
        "id": "xRxMUtdxU2gd"
      },
      "source": [
        "word_to_vec_map[\"<s>\"] = np.random.randn(300)\n",
        "word_to_vec_map[\"</s>\"] = np.random.randn(300)"
      ],
      "execution_count": null,
      "outputs": []
    },
    {
      "cell_type": "code",
      "metadata": {
        "id": "8ZXDWmtjU45P"
      },
      "source": [
        "def get_tokens_embedding_list(data, word_to_vec_map, reverse_dictionary):\n",
        "  embedding_list = []\n",
        "  tokens_list = []\n",
        "  for sent_seq in data:\n",
        "    tensor_list=[]\n",
        "    token_temp = []\n",
        "    for token in sent_seq:\n",
        "      word = reverse_dictionary[token]\n",
        "      if word in word_to_vec_map:\n",
        "        tensor_list.append(word_to_vec_map[word])\n",
        "        token_temp.append(token)\n",
        "    embedding_list.append(tensor_list)\n",
        "    tokens_list.append(token_temp)\n",
        "  return tokens_list ,embedding_list"
      ],
      "execution_count": null,
      "outputs": []
    },
    {
      "cell_type": "code",
      "metadata": {
        "id": "HtkkPeZFU91k"
      },
      "source": [
        "X_train_tokens, X_train_embedding = get_tokens_embedding_list(train_data, word_to_vec_map, reverse_dict)\n",
        "X_val_tokens, X_val_embedding = get_tokens_embedding_list(val_data, word_to_vec_map, reverse_dict)\n",
        "X_test_tokens, X_test_embedding = get_tokens_embedding_list(test_data, word_to_vec_map, reverse_dict)"
      ],
      "execution_count": null,
      "outputs": []
    },
    {
      "cell_type": "markdown",
      "metadata": {
        "id": "6J_rF7u8Np4g"
      },
      "source": [
        "### 5.2 Train ELMo Embeddings"
      ]
    },
    {
      "cell_type": "markdown",
      "metadata": {
        "id": "hb1TvrRbMnbE"
      },
      "source": [
        "We create the dataset to feed into the ELMo Model. We use a bidirectional LSTM with skip connections as our model. We will define a Toy ELMo Model to extract the embeddings from the layers and use that for tranfer learning."
      ]
    },
    {
      "cell_type": "code",
      "metadata": {
        "id": "6IB7auo9WIJT"
      },
      "source": [
        "def transform_pad(input_tensor, input_target, input_N):\n",
        "    # Transform the input for the f and b LSTM\n",
        "    input_f  = input_tensor[:,:-1,:]\n",
        "    input_b  = input_tensor[:,1:,:]\n",
        "    \n",
        "    # Transform the target for the f and b LSTM\n",
        "    target_f  = input_target[:,1:]\n",
        "    target_b  = input_target[:,:-1]\n",
        "    \n",
        "    # Pad the inputs\n",
        "    input_f  = input_f.to_tensor(default_value=0, shape=[None, None, 300])\n",
        "    input_b  = input_b.to_tensor(default_value=0, shape=[None, None, 300])\n",
        "    \n",
        "    # Pad the targets\n",
        "    target_f = target_f.to_tensor(default_value=0, shape=[None, None])\n",
        "    target_b = target_b.to_tensor(default_value=0, shape=[None, None])\n",
        "    \n",
        "    return (input_f, input_b, input_N), (target_f, target_b)\n",
        "\n",
        "def create_dataset(data_in, target_in):\n",
        "   \n",
        "    N = [len(n) for n in data_in]\n",
        "    \n",
        "    ragged_input  = tf.ragged.constant(data_in, dtype=tf.float32)\n",
        "    ragged_target = tf.ragged.constant(target_in, tf.int32)\n",
        "\n",
        "    tensor_N = tf.constant(N, tf.int32)\n",
        "    \n",
        "    dataset = tf.data.Dataset.from_tensor_slices((ragged_input, ragged_target, tensor_N))\n",
        "    dataset = dataset.shuffle(1000)\n",
        "    dataset = dataset.batch(64)\n",
        "    dataset = dataset.map(transform_pad,  num_parallel_calls=4)\n",
        "                          \n",
        "    dataset = dataset.prefetch(1)\n",
        "    return dataset"
      ],
      "execution_count": null,
      "outputs": []
    },
    {
      "cell_type": "code",
      "metadata": {
        "id": "5UB_8nqUWacq"
      },
      "source": [
        "index = len(X_train_tokens)//2\n",
        "dataset_train_1 = create_dataset(X_train_embedding[:index], X_train_tokens[:index])\n",
        "dataset_train_2 = create_dataset(X_train_embedding[index:], X_train_tokens[index:])\n",
        "dataset_train = dataset_train_1.concatenate(dataset_train_2)\n",
        "dataset_val  = create_dataset(X_val_embedding, X_val_tokens)"
      ],
      "execution_count": null,
      "outputs": []
    },
    {
      "cell_type": "code",
      "metadata": {
        "id": "FJsoPH6vWhP6"
      },
      "source": [
        "h_size = 150\n",
        "\n",
        "tf.keras.backend.clear_session()\n",
        "\n",
        "inputs_f = tf.keras.Input(shape=(None,300), dtype=tf.float32)\n",
        "inputs_b = tf.keras.Input(shape=(None,300), dtype=tf.float32)\n",
        "inputs_N = tf.keras.Input(shape=(), dtype=tf.int32)\n",
        "\n",
        "masked_f = tf.keras.layers.Masking()(inputs_f)\n",
        "masked_b = tf.keras.layers.Masking()(inputs_b)\n",
        "\n",
        "RNN1_f = tf.keras.layers.LSTM(h_size, return_sequences=True, go_backwards=False)\n",
        "h1_f = RNN1_f(masked_f)\n",
        "\n",
        "proyection_Wf = tf.keras.layers.Dense(RNN1_f.units, name='Res_Wf', activation=None)\n",
        "residual1_f = h1_f + proyection_Wf(masked_f)\n",
        "\n",
        "\n",
        "RNN2_f = tf.keras.layers.LSTM(h_size, return_sequences=True, go_backwards=False)\n",
        "h2_f = RNN2_f(residual1_f)\n",
        "\n",
        "Dense = tf.keras.layers.Dense(vocab_size+1, activation='softmax')\n",
        "\n",
        "pred_f = Dense(h2_f)\n",
        "\n",
        "RNN1_b = tf.keras.layers.LSTM(h_size, return_sequences=True, go_backwards=True)\n",
        "h1_b = RNN1_b(masked_b)\n",
        "\n",
        "proyection_Wb = tf.keras.layers.Dense(RNN1_b.units, name='Res_Wb', activation=None)\n",
        "residual1_b = h1_b + proyection_Wb(masked_b)\n",
        "\n",
        "RNN2_b = tf.keras.layers.LSTM(h_size, return_sequences=True, go_backwards=True)\n",
        "h2_b = RNN2_b(residual1_b)\n",
        "\n",
        "pred_b = Dense(h2_b)\n",
        "\n",
        "model = tf.keras.Model(inputs=(inputs_f, inputs_b, inputs_N), outputs = (pred_f, pred_b) )\n",
        "model.compile(loss='sparse_categorical_crossentropy', optimizer=tf.keras.optimizers.Adam(), metrics=['accuracy'])"
      ],
      "execution_count": null,
      "outputs": []
    },
    {
      "cell_type": "code",
      "metadata": {
        "colab": {
          "base_uri": "https://localhost:8080/"
        },
        "id": "9w99i6rFW_8v",
        "outputId": "7f46fb31-3880-49bc-9105-f81822faf9ea"
      },
      "source": [
        "history = model.fit(dataset_train, epochs=10, validation_data=dataset_val)"
      ],
      "execution_count": null,
      "outputs": [
        {
          "output_type": "stream",
          "text": [
            "Epoch 1/10\n",
            "222/222 [==============================] - 59s 216ms/step - loss: 3.5638 - dense_loss: 1.7776 - dense_1_loss: 1.7862 - dense_accuracy: 0.8866 - dense_1_accuracy: 0.8871 - val_loss: 5.3292 - val_dense_loss: 2.6702 - val_dense_1_loss: 2.6591 - val_dense_accuracy: 0.5792 - val_dense_1_accuracy: 0.6115\n",
            "Epoch 2/10\n",
            "222/222 [==============================] - 46s 208ms/step - loss: 2.0517 - dense_loss: 1.0299 - dense_1_loss: 1.0218 - dense_accuracy: 0.8936 - dense_1_accuracy: 0.8963 - val_loss: 5.2492 - val_dense_loss: 2.6696 - val_dense_1_loss: 2.5796 - val_dense_accuracy: 0.5823 - val_dense_1_accuracy: 0.6093\n",
            "Epoch 3/10\n",
            "222/222 [==============================] - 47s 213ms/step - loss: 1.9464 - dense_loss: 0.9780 - dense_1_loss: 0.9684 - dense_accuracy: 0.8993 - dense_1_accuracy: 0.9032 - val_loss: 4.9692 - val_dense_loss: 2.5331 - val_dense_1_loss: 2.4362 - val_dense_accuracy: 0.6089 - val_dense_1_accuracy: 0.6382\n",
            "Epoch 4/10\n",
            "222/222 [==============================] - 47s 213ms/step - loss: 1.8043 - dense_loss: 0.9146 - dense_1_loss: 0.8897 - dense_accuracy: 0.9014 - dense_1_accuracy: 0.9070 - val_loss: 4.8163 - val_dense_loss: 2.5043 - val_dense_1_loss: 2.3120 - val_dense_accuracy: 0.6085 - val_dense_1_accuracy: 0.6437\n",
            "Epoch 5/10\n",
            "222/222 [==============================] - 49s 219ms/step - loss: 1.6435 - dense_loss: 0.8574 - dense_1_loss: 0.7861 - dense_accuracy: 0.9053 - dense_1_accuracy: 0.9130 - val_loss: 4.6839 - val_dense_loss: 2.5223 - val_dense_1_loss: 2.1616 - val_dense_accuracy: 0.6020 - val_dense_1_accuracy: 0.6467\n",
            "Epoch 6/10\n",
            "222/222 [==============================] - 46s 205ms/step - loss: 1.6791 - dense_loss: 0.9131 - dense_1_loss: 0.7660 - dense_accuracy: 0.8995 - dense_1_accuracy: 0.9136 - val_loss: 4.3803 - val_dense_loss: 2.4745 - val_dense_1_loss: 1.9058 - val_dense_accuracy: 0.6016 - val_dense_1_accuracy: 0.6833\n",
            "Epoch 7/10\n",
            "222/222 [==============================] - 45s 205ms/step - loss: 1.6384 - dense_loss: 0.9335 - dense_1_loss: 0.7049 - dense_accuracy: 0.8996 - dense_1_accuracy: 0.9232 - val_loss: 3.9698 - val_dense_loss: 2.3695 - val_dense_1_loss: 1.6003 - val_dense_accuracy: 0.6193 - val_dense_1_accuracy: 0.7415\n",
            "Epoch 8/10\n",
            "222/222 [==============================] - 47s 213ms/step - loss: 1.4262 - dense_loss: 0.8573 - dense_1_loss: 0.5690 - dense_accuracy: 0.9050 - dense_1_accuracy: 0.9376 - val_loss: 3.8235 - val_dense_loss: 2.4079 - val_dense_1_loss: 1.4156 - val_dense_accuracy: 0.6108 - val_dense_1_accuracy: 0.7735\n",
            "Epoch 9/10\n",
            "222/222 [==============================] - 47s 212ms/step - loss: 1.3596 - dense_loss: 0.8591 - dense_1_loss: 0.5006 - dense_accuracy: 0.9054 - dense_1_accuracy: 0.9465 - val_loss: 3.7206 - val_dense_loss: 2.4710 - val_dense_1_loss: 1.2496 - val_dense_accuracy: 0.5990 - val_dense_1_accuracy: 0.8037\n",
            "Epoch 10/10\n",
            "222/222 [==============================] - 47s 209ms/step - loss: 1.3242 - dense_loss: 0.8755 - dense_1_loss: 0.4487 - dense_accuracy: 0.9040 - dense_1_accuracy: 0.9531 - val_loss: 3.1830 - val_dense_loss: 2.2102 - val_dense_1_loss: 0.9727 - val_dense_accuracy: 0.6400 - val_dense_1_accuracy: 0.8521\n"
          ],
          "name": "stdout"
        }
      ]
    },
    {
      "cell_type": "code",
      "metadata": {
        "id": "wq7xIzxRaZVm"
      },
      "source": [
        "# For the output of Toy_Elmo, we have to extract the embeddings for each word.\n",
        "# We have to remove the embeddings for <s> and </s>.\n",
        "# And we have to invert the backwards LSTM embeddings.\n",
        "\n",
        "# First we remove the </s> token from the backwards hidden states\n",
        "mask1 = tf.sequence_mask(inputs_N-2, tf.shape(h1_b)[1]) \n",
        "mask2 = tf.math.logical_not(tf.sequence_mask(inputs_N -1,tf.shape(h1_b)[1])) \n",
        "mask = tf.math.logical_or(mask1, mask2)\n",
        "\n",
        "# We invert the backwards embeddings\n",
        "h1_b = h1_b[:,::-1,:]\n",
        "h2_b = h2_b[:,::-1,:]\n",
        "h1_b_m = tf.reshape(h1_b[mask],(tf.shape(h1_b)[0], tf.shape(h1_b)[1]-1, h_size) )\n",
        "h2_b_m = tf.reshape(h2_b[mask],(tf.shape(h2_b)[0], tf.shape(h2_b)[1]-1, h_size) )\n",
        "\n",
        "\n",
        "# Concatenate the embeddings\n",
        "# Note that we skip the first element in the forward embeddings\n",
        "# since the first token contains the hidden state of the <s>\n",
        "h1 = tf.keras.layers.Concatenate(axis=2)([h1_f[:,1:,:], h1_b_m])\n",
        "h2 = tf.keras.layers.Concatenate(axis=2)([h2_f[:,1:,:], h2_b_m])\n",
        "\n",
        "# We extract the w2v embeddings from the forward input\n",
        "# removing the first element corresponding to the <s> token.\n",
        "w2v_emb = masked_f[:,1:,:]\n",
        "\n",
        "Toy_ELMo = tf.keras.Model(inputs=(inputs_f, inputs_b, inputs_N), outputs = (w2v_emb, h1, h2) )"
      ],
      "execution_count": null,
      "outputs": []
    },
    {
      "cell_type": "code",
      "metadata": {
        "id": "Sq20qL-8ZTPu"
      },
      "source": [
        "for i in dataset_train:\n",
        "    result = Toy_ELMo(i[0])\n",
        "    break"
      ],
      "execution_count": null,
      "outputs": []
    },
    {
      "cell_type": "code",
      "metadata": {
        "colab": {
          "base_uri": "https://localhost:8080/"
        },
        "id": "qW6iX9mKamre",
        "outputId": "d9df457d-2365-4133-b440-b424783f2a03"
      },
      "source": [
        "result[0].shape, result[1].shape, result[2].shape"
      ],
      "execution_count": null,
      "outputs": [
        {
          "output_type": "execute_result",
          "data": {
            "text/plain": [
              "(TensorShape([64, 866, 300]),\n",
              " TensorShape([64, 866, 300]),\n",
              " TensorShape([64, 866, 300]))"
            ]
          },
          "metadata": {
            "tags": []
          },
          "execution_count": 22
        }
      ]
    },
    {
      "cell_type": "markdown",
      "metadata": {
        "id": "iEZn9sPANMwS"
      },
      "source": [
        "### 5.3 Transfer Learning:\n",
        "\n",
        "We use the train and validation dataset and convert it into a dataset object which can be used further for training the model. We define a Sauce layer to learn the embeddings for elmo from our dataset. The model will predict whether the comment is sexist or not."
      ]
    },
    {
      "cell_type": "code",
      "metadata": {
        "id": "LNjvV8BvbDlM"
      },
      "source": [
        "def transform_pad(input_tensor, input_N, class_target):\n",
        "    input_f  = input_tensor[:,:-1,:]\n",
        "    input_b  = input_tensor[:,1:,:]\n",
        "    \n",
        "    input_f  = input_f.to_tensor(default_value=0, shape=[None, None, 300])\n",
        "    input_b  = input_b.to_tensor(default_value=0, shape=[None, None, 300])\n",
        "    \n",
        "    return (input_f, input_b, input_N), class_target\n",
        "\n",
        "def create_dataset(data_in, target_in):\n",
        "   \n",
        "    N = [len(n) for n in data_in]\n",
        "    ragged_input  = tf.ragged.constant(data_in, dtype=tf.float32)\n",
        "    class_target = tf.ragged.constant(target_in, tf.int32)\n",
        "    tensor_N = tf.constant(N, tf.int32)\n",
        "\n",
        "    dataset = tf.data.Dataset.from_tensor_slices((ragged_input, tensor_N, class_target))\n",
        "    dataset = dataset.shuffle(1000)\n",
        "    dataset = dataset.batch(128)\n",
        "    dataset = dataset.map(transform_pad, num_parallel_calls=4)\n",
        "    dataset = dataset.prefetch(1)\n",
        "    return dataset"
      ],
      "execution_count": null,
      "outputs": []
    },
    {
      "cell_type": "code",
      "metadata": {
        "id": "8v89qpnIbRRA"
      },
      "source": [
        "sexism_train = create_dataset(X_train_embedding, df_train[\"Label\"])\n",
        "sexism_val = create_dataset(X_val_embedding, df_val[\"Label\"])\n",
        "sexism_test = create_dataset(X_test_embedding, df_test[\"Label\"])"
      ],
      "execution_count": null,
      "outputs": []
    },
    {
      "cell_type": "code",
      "metadata": {
        "id": "GbB1FqcwbjqO"
      },
      "source": [
        "class ScaleLayer(tf.keras.layers.Layer):\n",
        "    def __init__(self, shape):\n",
        "        super(ScaleLayer, self).__init__()\n",
        "        self.supports_masking = True\n",
        "        self.shape = shape\n",
        "\n",
        "    def build(self, input_shape):\n",
        "        self.scale = tf.Variable(tf.nn.softmax([0.4,0.3,0.3]), trainable=True)\n",
        "    def call(self, inputs):\n",
        "        scale_norm = tf.nn.softmax(self.scale)\n",
        "        return tf.tensordot(scale_norm, inputs, axes=1)"
      ],
      "execution_count": null,
      "outputs": []
    },
    {
      "cell_type": "code",
      "metadata": {
        "id": "FW6Vu83Eb187"
      },
      "source": [
        "tf.keras.backend.clear_session()\n",
        "Toy_ELMo.trainable=False\n",
        "# Define the inputs\n",
        "inputs_f = tf.keras.Input(shape=(None,300), dtype=tf.float32)\n",
        "inputs_b = tf.keras.Input(shape=(None,300), dtype=tf.float32)\n",
        "inputs_N = tf.keras.Input(shape=(), dtype=tf.int32)\n",
        "\n",
        "# Get the embeddings\n",
        "e0,e1,e2 = Toy_ELMo((inputs_f, inputs_b, inputs_N))\n",
        "\n",
        "# Make the sauce\n",
        "Sauce_layer = ScaleLayer(3)\n",
        "sauce = Sauce_layer(tf.stack([e0,e1,e2]))\n",
        "\n",
        "# Define the masking\n",
        "masked_sauce = tf.keras.layers.Masking()(sauce)\n",
        "\n",
        "# Define the forward LSTM\n",
        "RNN1_f = tf.keras.layers.LSTM(300, return_sequences=True, go_backwards=False)\n",
        "h1_f = RNN1_f(masked_sauce)\n",
        "\n",
        "RNN2_f = tf.keras.layers.LSTM(300, return_sequences=False, go_backwards=False)\n",
        "h2_f = RNN2_f(h1_f)\n",
        "\n",
        "pred = tf.keras.layers.Dense(2, activation='softmax')(h2_f)\n",
        "\n",
        "model3 = tf.keras.Model(inputs=(inputs_f, inputs_b, inputs_N), outputs=pred)\n",
        "model3.compile(loss='sparse_categorical_crossentropy', optimizer=tf.keras.optimizers.Adam(), metrics='accuracy')"
      ],
      "execution_count": null,
      "outputs": []
    },
    {
      "cell_type": "code",
      "metadata": {
        "id": "TMtSCU5xb43H",
        "colab": {
          "base_uri": "https://localhost:8080/"
        },
        "outputId": "2f54a28a-b13e-4403-8cf7-3c83f625e685"
      },
      "source": [
        "history3 = model3.fit(sexism_train, epochs=20, validation_data=sexism_val)"
      ],
      "execution_count": null,
      "outputs": [
        {
          "output_type": "stream",
          "text": [
            "Epoch 1/20\n",
            "111/111 [==============================] - 45s 293ms/step - loss: 0.6566 - accuracy: 0.6208 - val_loss: 0.7591 - val_accuracy: 0.4469\n",
            "Epoch 2/20\n",
            "111/111 [==============================] - 29s 262ms/step - loss: 0.6121 - accuracy: 0.6756 - val_loss: 0.7678 - val_accuracy: 0.4762\n",
            "Epoch 3/20\n",
            "111/111 [==============================] - 30s 271ms/step - loss: 0.6005 - accuracy: 0.6817 - val_loss: 0.8506 - val_accuracy: 0.4579\n",
            "Epoch 4/20\n",
            "111/111 [==============================] - 30s 268ms/step - loss: 0.5929 - accuracy: 0.6907 - val_loss: 0.8265 - val_accuracy: 0.4762\n",
            "Epoch 5/20\n",
            "111/111 [==============================] - 30s 268ms/step - loss: 0.5840 - accuracy: 0.6904 - val_loss: 0.7508 - val_accuracy: 0.4835\n",
            "Epoch 6/20\n",
            "111/111 [==============================] - 31s 273ms/step - loss: 0.5755 - accuracy: 0.6981 - val_loss: 0.7756 - val_accuracy: 0.4945\n",
            "Epoch 7/20\n",
            "111/111 [==============================] - 30s 271ms/step - loss: 0.5649 - accuracy: 0.7046 - val_loss: 0.8271 - val_accuracy: 0.4982\n",
            "Epoch 8/20\n",
            "111/111 [==============================] - 30s 266ms/step - loss: 0.5643 - accuracy: 0.7024 - val_loss: 0.7270 - val_accuracy: 0.5531\n",
            "Epoch 9/20\n",
            "111/111 [==============================] - 29s 261ms/step - loss: 0.5614 - accuracy: 0.7078 - val_loss: 0.7085 - val_accuracy: 0.5714\n",
            "Epoch 10/20\n",
            "111/111 [==============================] - 31s 281ms/step - loss: 0.5534 - accuracy: 0.7158 - val_loss: 0.7586 - val_accuracy: 0.5275\n",
            "Epoch 11/20\n",
            "111/111 [==============================] - 30s 274ms/step - loss: 0.5488 - accuracy: 0.7155 - val_loss: 0.6970 - val_accuracy: 0.5788\n",
            "Epoch 12/20\n",
            "111/111 [==============================] - 30s 268ms/step - loss: 0.5428 - accuracy: 0.7229 - val_loss: 0.7287 - val_accuracy: 0.5934\n",
            "Epoch 13/20\n",
            "111/111 [==============================] - 30s 266ms/step - loss: 0.5386 - accuracy: 0.7262 - val_loss: 0.7095 - val_accuracy: 0.6190\n",
            "Epoch 14/20\n",
            "111/111 [==============================] - 29s 260ms/step - loss: 0.5398 - accuracy: 0.7265 - val_loss: 0.7438 - val_accuracy: 0.6044\n",
            "Epoch 15/20\n",
            "111/111 [==============================] - 30s 270ms/step - loss: 0.5316 - accuracy: 0.7295 - val_loss: 0.6823 - val_accuracy: 0.6520\n",
            "Epoch 16/20\n",
            "111/111 [==============================] - 30s 266ms/step - loss: 0.5274 - accuracy: 0.7337 - val_loss: 0.7529 - val_accuracy: 0.6300\n",
            "Epoch 17/20\n",
            "111/111 [==============================] - 30s 272ms/step - loss: 0.5274 - accuracy: 0.7328 - val_loss: 0.6783 - val_accuracy: 0.6520\n",
            "Epoch 18/20\n",
            "111/111 [==============================] - 30s 272ms/step - loss: 0.5220 - accuracy: 0.7345 - val_loss: 0.8278 - val_accuracy: 0.5678\n",
            "Epoch 19/20\n",
            "111/111 [==============================] - 31s 274ms/step - loss: 0.5116 - accuracy: 0.7415 - val_loss: 0.7126 - val_accuracy: 0.6300\n",
            "Epoch 20/20\n",
            "111/111 [==============================] - 31s 275ms/step - loss: 0.5083 - accuracy: 0.7438 - val_loss: 0.6787 - val_accuracy: 0.6337\n"
          ],
          "name": "stdout"
        }
      ]
    },
    {
      "cell_type": "code",
      "metadata": {
        "colab": {
          "base_uri": "https://localhost:8080/",
          "height": 295
        },
        "id": "sRVoD-C-Hu3s",
        "outputId": "57ab060a-7895-47f9-cd63-a7a09bf71c7c"
      },
      "source": [
        "train_loss = history3.history['loss']\n",
        "val_loss = history3.history['val_loss']\n",
        "\n",
        "epochs = range(1,len(train_loss)+1)\n",
        "\n",
        "plt.figure()\n",
        "plt.plot(epochs, train_loss, 'b', label='Training loss')\n",
        "plt.plot(epochs, val_loss, 'r', label ='Validation loss')\n",
        "plt.title('Training and Validation loss')\n",
        "plt.xlabel('epoch')\n",
        "plt.ylabel('loss_value')\n",
        "plt.legend()\n",
        "plt.show()"
      ],
      "execution_count": null,
      "outputs": [
        {
          "output_type": "display_data",
          "data": {
            "image/png": "[encoded data removed]",
            "text/plain": [
              "<Figure size 432x288 with 1 Axes>"
            ]
          },
          "metadata": {
            "tags": [],
            "needs_background": "light"
          }
        }
      ]
    },
    {
      "cell_type": "code",
      "metadata": {
        "colab": {
          "base_uri": "https://localhost:8080/",
          "height": 295
        },
        "id": "JEwJRuKAIE--",
        "outputId": "576a4cbf-a8a7-40b6-abb8-ae656de52018"
      },
      "source": [
        "train_acc = history3.history['accuracy']\n",
        "val_acc = history3.history['val_accuracy']\n",
        "\n",
        "epochs = range(1,len(train_acc)+1)\n",
        "\n",
        "plt.figure()\n",
        "plt.plot(epochs, train_acc, 'b', label='Training accuracy')\n",
        "plt.plot(epochs, val_acc, 'r', label ='Validation accuracy')\n",
        "plt.title('Training and Validation Accuracy')\n",
        "plt.xlabel('epoch')\n",
        "plt.ylabel('accuracy_value')\n",
        "plt.legend()\n",
        "plt.show()"
      ],
      "execution_count": null,
      "outputs": [
        {
          "output_type": "display_data",
          "data": {
            "image/png": "[encoded data removed]",
            "text/plain": [
              "<Figure size 432x288 with 1 Axes>"
            ]
          },
          "metadata": {
            "tags": [],
            "needs_background": "light"
          }
        }
      ]
    },
    {
      "cell_type": "code",
      "metadata": {
        "id": "8K3q9_CBomQq",
        "colab": {
          "base_uri": "https://localhost:8080/"
        },
        "outputId": "e1592aea-36c5-4d53-a22a-e495a766c521"
      },
      "source": [
        "result = model3.evaluate(sexism_test)\n",
        "dict(zip(model3.metrics_names, result))"
      ],
      "execution_count": null,
      "outputs": [
        {
          "output_type": "stream",
          "text": [
            "2/2 [==============================] - 0s 20ms/step - loss: 0.7032 - accuracy: 0.6360\n"
          ],
          "name": "stdout"
        },
        {
          "output_type": "execute_result",
          "data": {
            "text/plain": [
              "{'accuracy': 0.6359649300575256, 'loss': 0.7032281756401062}"
            ]
          },
          "metadata": {
            "tags": []
          },
          "execution_count": 32
        }
      ]
    }
  ]
}