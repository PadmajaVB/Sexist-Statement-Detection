{
  "nbformat": 4,
  "nbformat_minor": 0,
  "metadata": {
    "accelerator": "GPU",
    "colab": {
      "name": "transfer learning.ipynb",
      "provenance": [],
      "collapsed_sections": [
        "93GjMonCNxe_",
        "6J_rF7u8Np4g"
      ],
      "machine_shape": "hm"
    },
    "kernelspec": {
      "display_name": "Python 3",
      "name": "python3"
    },
    "language_info": {
      "name": "python"
    }
  },
  "cells": [
    {
      "cell_type": "code",
      "metadata": {
        "id": "Yrs3AM4bUREa"
      },
      "source": [
        "import pandas as pd\n",
        "import tensorflow as tf\n",
        "import tensorflow_hub as hub\n",
        "import numpy as np\n",
        "import matplotlib.pyplot as plt\n",
        "\n",
        "import re\n",
        "import collections"
      ],
      "execution_count": null,
      "outputs": []
    },
    {
      "cell_type": "code",
      "metadata": {
        "colab": {
          "base_uri": "https://localhost:8080/"
        },
        "id": "rq1xwetSUU5c",
        "outputId": "f4680683-4be9-4854-a9bb-3ed502c1ea57"
      },
      "source": [
        "from google.colab import drive\n",
        "drive.mount('/content/drive')"
      ],
      "execution_count": null,
      "outputs": [
        {
          "output_type": "stream",
          "text": [
            "Mounted at /content/drive\n"
          ],
          "name": "stdout"
        }
      ]
    },
    {
      "cell_type": "code",
      "metadata": {
        "id": "-kRcCAVrUW8J"
      },
      "source": [
        "df_train = pd.read_csv(\"/content/drive/MyDrive/AI-3 Project/data/Preprocessed data/augmented_train_dataset.csv\", index_col=0)\n",
        "df_val = pd.read_csv(\"/content/drive/MyDrive/AI-3 Project/data/Preprocessed data/val_dataset.csv\", index_col=0)\n",
        "df_test = pd.read_csv(\"/content/drive/MyDrive/AI-3 Project/data/Preprocessed data/test_dataset.csv\", index_col=0)"
      ],
      "execution_count": null,
      "outputs": []
    },
    {
      "cell_type": "code",
      "metadata": {
        "colab": {
          "base_uri": "https://localhost:8080/"
        },
        "id": "Av5FTvl3rv9f",
        "outputId": "0c7a3721-144d-4715-84b6-2ccb16e64319"
      },
      "source": [
        "len(df_train), len(df_val), len(df_test)"
      ],
      "execution_count": null,
      "outputs": [
        {
          "output_type": "execute_result",
          "data": {
            "text/plain": [
              "(14111, 273, 228)"
            ]
          },
          "metadata": {
            "tags": []
          },
          "execution_count": 4
        }
      ]
    },
    {
      "cell_type": "code",
      "metadata": {
        "id": "mswPN2_mvbIq"
      },
      "source": [
        "df_train[\"Sentences\"] = \"<s> \"+df_train[\"Sentences\"]+\" </s>\"\n",
        "df_val[\"Sentences\"] = \"<s> \"+df_val[\"Sentences\"]+\" </s>\"\n",
        "df_test[\"Sentences\"] = \"<s> \"+df_test[\"Sentences\"]+\" </s>\""
      ],
      "execution_count": null,
      "outputs": []
    },
    {
      "cell_type": "code",
      "metadata": {
        "colab": {
          "base_uri": "https://localhost:8080/",
          "height": 204
        },
        "id": "eZTESQYmgekQ",
        "outputId": "ca1e5e84-b312-4a91-df84-b955b38e8ddc"
      },
      "source": [
        "df_train.head()"
      ],
      "execution_count": null,
      "outputs": [
        {
          "output_type": "execute_result",
          "data": {
            "text/html": [
              "<div>\n",
              "<style scoped>\n",
              "    .dataframe tbody tr th:only-of-type {\n",
              "        vertical-align: middle;\n",
              "    }\n",
              "\n",
              "    .dataframe tbody tr th {\n",
              "        vertical-align: top;\n",
              "    }\n",
              "\n",
              "    .dataframe thead th {\n",
              "        text-align: right;\n",
              "    }\n",
              "</style>\n",
              "<table border=\"1\" class=\"dataframe\">\n",
              "  <thead>\n",
              "    <tr style=\"text-align: right;\">\n",
              "      <th></th>\n",
              "      <th>Sentences</th>\n",
              "      <th>Label</th>\n",
              "    </tr>\n",
              "  </thead>\n",
              "  <tbody>\n",
              "    <tr>\n",
              "      <th>0</th>\n",
              "      <td>&lt;s&gt; after receiving positive comments for some...</td>\n",
              "      <td>1</td>\n",
              "    </tr>\n",
              "    <tr>\n",
              "      <th>1</th>\n",
              "      <td>&lt;s&gt; i love how all the lynx space YMCA adverts...</td>\n",
              "      <td>0</td>\n",
              "    </tr>\n",
              "    <tr>\n",
              "      <th>2</th>\n",
              "      <td>&lt;s&gt; aye even here these dolts still see us as ...</td>\n",
              "      <td>1</td>\n",
              "    </tr>\n",
              "    <tr>\n",
              "      <th>3</th>\n",
              "      <td>&lt;s&gt; why are cold showers good for you &lt;/s&gt;</td>\n",
              "      <td>0</td>\n",
              "    </tr>\n",
              "    <tr>\n",
              "      <th>4</th>\n",
              "      <td>&lt;s&gt; im a physicist and i worked on vacuum syst...</td>\n",
              "      <td>1</td>\n",
              "    </tr>\n",
              "  </tbody>\n",
              "</table>\n",
              "</div>"
            ],
            "text/plain": [
              "                                           Sentences  Label\n",
              "0  <s> after receiving positive comments for some...      1\n",
              "1  <s> i love how all the lynx space YMCA adverts...      0\n",
              "2  <s> aye even here these dolts still see us as ...      1\n",
              "3         <s> why are cold showers good for you </s>      0\n",
              "4  <s> im a physicist and i worked on vacuum syst...      1"
            ]
          },
          "metadata": {
            "tags": []
          },
          "execution_count": 6
        }
      ]
    },
    {
      "cell_type": "markdown",
      "metadata": {
        "id": "xSA6QaGWOEom"
      },
      "source": [
        "## ELMo Model"
      ]
    },
    {
      "cell_type": "markdown",
      "metadata": {
        "id": "QLk0ixxPOGzx"
      },
      "source": [
        "Peter et al. in [Deep contextualized Word Representations](https://arxiv.org/pdf/1802.05365v2.pdf) define 'Embeddings from Language Models', or **ELMo**, as a type of deep contextualized word representation that models both (1) complex characteristics of word use (e.g., syntax and semantics), and (2) how these uses vary across linguistic contexts (i.e., to model polysemy). Word vectors are learned functions of the internal states of a deep bidirectional language model (biLM), which is pre-trained on a large text corpus.\n",
        "\n",
        "A biLM combines both a forward and backward LM. ELMo jointly maximizes the log likelihood of the forward and backward directions. "
      ]
    },
    {
      "cell_type": "markdown",
      "metadata": {
        "id": "tWpkFgUPOuXT"
      },
      "source": [
        "We aim to train ELMo embeddings on our train dataset and do transfer learning to use it as layer in the final model which will predict whether a comment is sexist or not."
      ]
    },
    {
      "cell_type": "markdown",
      "metadata": {
        "id": "93GjMonCNxe_"
      },
      "source": [
        "## Preprocessing for ELMo "
      ]
    },
    {
      "cell_type": "markdown",
      "metadata": {
        "id": "0u9jyVlzMYc3"
      },
      "source": [
        "We use tensorflow tokeniser and fit it on the train dataset. We use this tokeniser to convert train, test and val data into tokens."
      ]
    },
    {
      "cell_type": "code",
      "metadata": {
        "id": "SZRhzV7riYLj"
      },
      "source": [
        "vocab_size = 5000\n",
        "\n",
        "tokenizer = tf.keras.preprocessing.text.Tokenizer(\n",
        "    num_words=vocab_size, filters='!\"#$%&()*+,-.:;=?@[\\\\]^_`{|}~\\t\\n',\n",
        "    lower=True, split=' ', char_level=False, oov_token='UNK'\n",
        ")\n",
        "\n",
        "tokenizer.fit_on_texts(df_train[\"Sentences\"])\n",
        "train_data = tokenizer.texts_to_sequences(df_train[\"Sentences\"])\n",
        "reverse_dict = {j:i for i,j in tokenizer.word_index.items()}"
      ],
      "execution_count": null,
      "outputs": []
    },
    {
      "cell_type": "markdown",
      "metadata": {
        "id": "9wVfMQvFoRuL"
      },
      "source": [
        "We convert the validation and test datasets to their corresponding tokens based on the vocabulary we built."
      ]
    },
    {
      "cell_type": "code",
      "metadata": {
        "id": "V3qeF9h3lnyN"
      },
      "source": [
        "val_data = tokenizer.texts_to_sequences(df_val[\"Sentences\"])\n",
        "test_data = tokenizer.texts_to_sequences(df_test[\"Sentences\"])"
      ],
      "execution_count": null,
      "outputs": []
    },
    {
      "cell_type": "markdown",
      "metadata": {
        "id": "_HdFDIXqoaaS"
      },
      "source": [
        "We read the glove gender neutral embeddings and convert each of the words in each comment to its corresponding embedding. We do cleaning to remove any words which are not present in the glove gender neutral embeddings."
      ]
    },
    {
      "cell_type": "code",
      "metadata": {
        "id": "EffMzJfrUvtV"
      },
      "source": [
        "def read_glove_vecs(glove_file):\n",
        "    with open(glove_file, encoding=\"utf8\") as f:\n",
        "        words = set()\n",
        "        word_to_vec_map = {}\n",
        "        for line in f:\n",
        "            line = line.strip().split()\n",
        "            curr_word = line[0]\n",
        "            words.add(curr_word)\n",
        "            word_to_vec_map[curr_word] = np.array(line[1:], dtype=np.float64)\n",
        "        \n",
        "        i = 1\n",
        "        words_to_index = {}\n",
        "        index_to_words = {}\n",
        "        for w in sorted(words):\n",
        "          if w in word_to_vec_map:\n",
        "            words_to_index[w] = i\n",
        "            index_to_words[i] = w\n",
        "            i = i + 1\n",
        "    return words_to_index, index_to_words, word_to_vec_map"
      ],
      "execution_count": null,
      "outputs": []
    },
    {
      "cell_type": "code",
      "metadata": {
        "id": "KNzo9LVrUzIM"
      },
      "source": [
        "embedding_path = '/content/drive/MyDrive/AI-3 Project/Embeddings/1b-vectors300-0.8-0.8.txt'\n",
        "words_to_index, index_to_words, word_to_vec_map = read_glove_vecs(embedding_path)"
      ],
      "execution_count": null,
      "outputs": []
    },
    {
      "cell_type": "code",
      "metadata": {
        "id": "xRxMUtdxU2gd"
      },
      "source": [
        "word_to_vec_map[\"<s>\"] = np.random.randn(300)\n",
        "word_to_vec_map[\"</s>\"] = np.random.randn(300)"
      ],
      "execution_count": null,
      "outputs": []
    },
    {
      "cell_type": "code",
      "metadata": {
        "id": "8ZXDWmtjU45P"
      },
      "source": [
        "def get_tokens_embedding_list(data, word_to_vec_map, reverse_dictionary):\n",
        "  embedding_list = []\n",
        "  tokens_list = []\n",
        "  for sent_seq in data:\n",
        "    tensor_list=[]\n",
        "    token_temp = []\n",
        "    for token in sent_seq:\n",
        "      word = reverse_dictionary[token]\n",
        "      if word in word_to_vec_map:\n",
        "        tensor_list.append(word_to_vec_map[word])\n",
        "        token_temp.append(token)\n",
        "    embedding_list.append(tensor_list)\n",
        "    tokens_list.append(token_temp)\n",
        "  return tokens_list ,embedding_list"
      ],
      "execution_count": null,
      "outputs": []
    },
    {
      "cell_type": "code",
      "metadata": {
        "id": "HtkkPeZFU91k"
      },
      "source": [
        "X_train_tokens, X_train_embedding = get_tokens_embedding_list(train_data, word_to_vec_map, reverse_dict)\n",
        "X_val_tokens, X_val_embedding = get_tokens_embedding_list(val_data, word_to_vec_map, reverse_dict)\n",
        "X_test_tokens, X_test_embedding = get_tokens_embedding_list(test_data, word_to_vec_map, reverse_dict)"
      ],
      "execution_count": null,
      "outputs": []
    },
    {
      "cell_type": "markdown",
      "metadata": {
        "id": "6J_rF7u8Np4g"
      },
      "source": [
        "## Train ELMo Embeddings"
      ]
    },
    {
      "cell_type": "markdown",
      "metadata": {
        "id": "hb1TvrRbMnbE"
      },
      "source": [
        "We create the dataset to feed into the ELMo Model. We use a bidirectional LSTM with skip connections as our model. We will define a Toy ELMo Model to extract the embeddings from the layers and use that for tranfer learning."
      ]
    },
    {
      "cell_type": "code",
      "metadata": {
        "id": "6IB7auo9WIJT"
      },
      "source": [
        "def transform_pad(input_tensor, input_target, input_N):\n",
        "    # Transform the input for the f and b LSTM\n",
        "    input_f  = input_tensor[:,:-1,:]\n",
        "    input_b  = input_tensor[:,1:,:]\n",
        "    \n",
        "    # Transform the target for the f and b LSTM\n",
        "    target_f  = input_target[:,1:]\n",
        "    target_b  = input_target[:,:-1]\n",
        "    \n",
        "    # Pad the inputs\n",
        "    input_f  = input_f.to_tensor(default_value=0, shape=[None, None, 300])\n",
        "    input_b  = input_b.to_tensor(default_value=0, shape=[None, None, 300])\n",
        "    \n",
        "    # Pad the targets\n",
        "    target_f = target_f.to_tensor(default_value=0, shape=[None, None])\n",
        "    target_b = target_b.to_tensor(default_value=0, shape=[None, None])\n",
        "    \n",
        "    return (input_f, input_b, input_N), (target_f, target_b)\n",
        "\n",
        "def create_dataset(data_in, target_in):\n",
        "   \n",
        "    N = [len(n) for n in data_in]\n",
        "    \n",
        "    ragged_input  = tf.ragged.constant(data_in, dtype=tf.float32)\n",
        "    ragged_target = tf.ragged.constant(target_in, tf.int32)\n",
        "\n",
        "    tensor_N = tf.constant(N, tf.int32)\n",
        "    \n",
        "    dataset = tf.data.Dataset.from_tensor_slices((ragged_input, ragged_target, tensor_N))\n",
        "    dataset = dataset.shuffle(1000)\n",
        "    dataset = dataset.batch(64)\n",
        "    dataset = dataset.map(transform_pad,  num_parallel_calls=4)\n",
        "                          \n",
        "    dataset = dataset.prefetch(1)\n",
        "    return dataset"
      ],
      "execution_count": null,
      "outputs": []
    },
    {
      "cell_type": "code",
      "metadata": {
        "id": "5UB_8nqUWacq"
      },
      "source": [
        "index = len(X_train_tokens)//2\n",
        "dataset_train_1 = create_dataset(X_train_embedding[:index], X_train_tokens[:index])\n",
        "dataset_train_2 = create_dataset(X_train_embedding[index:], X_train_tokens[index:])\n",
        "dataset_train = dataset_train_1.concatenate(dataset_train_2)\n",
        "dataset_val  = create_dataset(X_val_embedding, X_val_tokens)"
      ],
      "execution_count": null,
      "outputs": []
    },
    {
      "cell_type": "code",
      "metadata": {
        "id": "FJsoPH6vWhP6"
      },
      "source": [
        "h_size = 150\n",
        "\n",
        "tf.keras.backend.clear_session()\n",
        "\n",
        "inputs_f = tf.keras.Input(shape=(None,300), dtype=tf.float32)\n",
        "inputs_b = tf.keras.Input(shape=(None,300), dtype=tf.float32)\n",
        "inputs_N = tf.keras.Input(shape=(), dtype=tf.int32)\n",
        "\n",
        "masked_f = tf.keras.layers.Masking()(inputs_f)\n",
        "masked_b = tf.keras.layers.Masking()(inputs_b)\n",
        "\n",
        "RNN1_f = tf.keras.layers.LSTM(h_size, return_sequences=True, go_backwards=False)\n",
        "h1_f = RNN1_f(masked_f)\n",
        "\n",
        "proyection_Wf = tf.keras.layers.Dense(RNN1_f.units, name='Res_Wf', activation=None)\n",
        "residual1_f = h1_f + proyection_Wf(masked_f)\n",
        "\n",
        "\n",
        "RNN2_f = tf.keras.layers.LSTM(h_size, return_sequences=True, go_backwards=False)\n",
        "h2_f = RNN2_f(residual1_f)\n",
        "\n",
        "Dense = tf.keras.layers.Dense(vocab_size+1, activation='softmax')\n",
        "\n",
        "pred_f = Dense(h2_f)\n",
        "\n",
        "RNN1_b = tf.keras.layers.LSTM(h_size, return_sequences=True, go_backwards=True)\n",
        "h1_b = RNN1_b(masked_b)\n",
        "\n",
        "proyection_Wb = tf.keras.layers.Dense(RNN1_b.units, name='Res_Wb', activation=None)\n",
        "residual1_b = h1_b + proyection_Wb(masked_b)\n",
        "\n",
        "RNN2_b = tf.keras.layers.LSTM(h_size, return_sequences=True, go_backwards=True)\n",
        "h2_b = RNN2_b(residual1_b)\n",
        "\n",
        "pred_b = Dense(h2_b)\n",
        "\n",
        "model = tf.keras.Model(inputs=(inputs_f, inputs_b, inputs_N), outputs = (pred_f, pred_b) )\n",
        "model.compile(loss='sparse_categorical_crossentropy', optimizer=tf.keras.optimizers.Adam(), metrics=['accuracy'])"
      ],
      "execution_count": null,
      "outputs": []
    },
    {
      "cell_type": "code",
      "metadata": {
        "colab": {
          "base_uri": "https://localhost:8080/"
        },
        "id": "9w99i6rFW_8v",
        "outputId": "7f46fb31-3880-49bc-9105-f81822faf9ea"
      },
      "source": [
        "history = model.fit(dataset_train, epochs=10, validation_data=dataset_val)"
      ],
      "execution_count": null,
      "outputs": [
        {
          "output_type": "stream",
          "text": [
            "Epoch 1/10\n",
            "222/222 [==============================] - 59s 216ms/step - loss: 3.5638 - dense_loss: 1.7776 - dense_1_loss: 1.7862 - dense_accuracy: 0.8866 - dense_1_accuracy: 0.8871 - val_loss: 5.3292 - val_dense_loss: 2.6702 - val_dense_1_loss: 2.6591 - val_dense_accuracy: 0.5792 - val_dense_1_accuracy: 0.6115\n",
            "Epoch 2/10\n",
            "222/222 [==============================] - 46s 208ms/step - loss: 2.0517 - dense_loss: 1.0299 - dense_1_loss: 1.0218 - dense_accuracy: 0.8936 - dense_1_accuracy: 0.8963 - val_loss: 5.2492 - val_dense_loss: 2.6696 - val_dense_1_loss: 2.5796 - val_dense_accuracy: 0.5823 - val_dense_1_accuracy: 0.6093\n",
            "Epoch 3/10\n",
            "222/222 [==============================] - 47s 213ms/step - loss: 1.9464 - dense_loss: 0.9780 - dense_1_loss: 0.9684 - dense_accuracy: 0.8993 - dense_1_accuracy: 0.9032 - val_loss: 4.9692 - val_dense_loss: 2.5331 - val_dense_1_loss: 2.4362 - val_dense_accuracy: 0.6089 - val_dense_1_accuracy: 0.6382\n",
            "Epoch 4/10\n",
            "222/222 [==============================] - 47s 213ms/step - loss: 1.8043 - dense_loss: 0.9146 - dense_1_loss: 0.8897 - dense_accuracy: 0.9014 - dense_1_accuracy: 0.9070 - val_loss: 4.8163 - val_dense_loss: 2.5043 - val_dense_1_loss: 2.3120 - val_dense_accuracy: 0.6085 - val_dense_1_accuracy: 0.6437\n",
            "Epoch 5/10\n",
            "222/222 [==============================] - 49s 219ms/step - loss: 1.6435 - dense_loss: 0.8574 - dense_1_loss: 0.7861 - dense_accuracy: 0.9053 - dense_1_accuracy: 0.9130 - val_loss: 4.6839 - val_dense_loss: 2.5223 - val_dense_1_loss: 2.1616 - val_dense_accuracy: 0.6020 - val_dense_1_accuracy: 0.6467\n",
            "Epoch 6/10\n",
            "222/222 [==============================] - 46s 205ms/step - loss: 1.6791 - dense_loss: 0.9131 - dense_1_loss: 0.7660 - dense_accuracy: 0.8995 - dense_1_accuracy: 0.9136 - val_loss: 4.3803 - val_dense_loss: 2.4745 - val_dense_1_loss: 1.9058 - val_dense_accuracy: 0.6016 - val_dense_1_accuracy: 0.6833\n",
            "Epoch 7/10\n",
            "222/222 [==============================] - 45s 205ms/step - loss: 1.6384 - dense_loss: 0.9335 - dense_1_loss: 0.7049 - dense_accuracy: 0.8996 - dense_1_accuracy: 0.9232 - val_loss: 3.9698 - val_dense_loss: 2.3695 - val_dense_1_loss: 1.6003 - val_dense_accuracy: 0.6193 - val_dense_1_accuracy: 0.7415\n",
            "Epoch 8/10\n",
            "222/222 [==============================] - 47s 213ms/step - loss: 1.4262 - dense_loss: 0.8573 - dense_1_loss: 0.5690 - dense_accuracy: 0.9050 - dense_1_accuracy: 0.9376 - val_loss: 3.8235 - val_dense_loss: 2.4079 - val_dense_1_loss: 1.4156 - val_dense_accuracy: 0.6108 - val_dense_1_accuracy: 0.7735\n",
            "Epoch 9/10\n",
            "222/222 [==============================] - 47s 212ms/step - loss: 1.3596 - dense_loss: 0.8591 - dense_1_loss: 0.5006 - dense_accuracy: 0.9054 - dense_1_accuracy: 0.9465 - val_loss: 3.7206 - val_dense_loss: 2.4710 - val_dense_1_loss: 1.2496 - val_dense_accuracy: 0.5990 - val_dense_1_accuracy: 0.8037\n",
            "Epoch 10/10\n",
            "222/222 [==============================] - 47s 209ms/step - loss: 1.3242 - dense_loss: 0.8755 - dense_1_loss: 0.4487 - dense_accuracy: 0.9040 - dense_1_accuracy: 0.9531 - val_loss: 3.1830 - val_dense_loss: 2.2102 - val_dense_1_loss: 0.9727 - val_dense_accuracy: 0.6400 - val_dense_1_accuracy: 0.8521\n"
          ],
          "name": "stdout"
        }
      ]
    },
    {
      "cell_type": "code",
      "metadata": {
        "id": "wq7xIzxRaZVm"
      },
      "source": [
        "# For the output of Toy_Elmo, we have to extract the embeddings for each word.\n",
        "# We have to remove the embeddings for <s> and </s>.\n",
        "# And we have to invert the backwards LSTM embeddings.\n",
        "\n",
        "# First we remove the </s> token from the backwards hidden states\n",
        "mask1 = tf.sequence_mask(inputs_N-2, tf.shape(h1_b)[1]) \n",
        "mask2 = tf.math.logical_not(tf.sequence_mask(inputs_N -1,tf.shape(h1_b)[1])) \n",
        "mask = tf.math.logical_or(mask1, mask2)\n",
        "\n",
        "# We invert the backwards embeddings\n",
        "h1_b = h1_b[:,::-1,:]\n",
        "h2_b = h2_b[:,::-1,:]\n",
        "h1_b_m = tf.reshape(h1_b[mask],(tf.shape(h1_b)[0], tf.shape(h1_b)[1]-1, h_size) )\n",
        "h2_b_m = tf.reshape(h2_b[mask],(tf.shape(h2_b)[0], tf.shape(h2_b)[1]-1, h_size) )\n",
        "\n",
        "\n",
        "# Concatenate the embeddings\n",
        "# Note that we skip the first element in the forward embeddings\n",
        "# since the first token contains the hidden state of the <s>\n",
        "h1 = tf.keras.layers.Concatenate(axis=2)([h1_f[:,1:,:], h1_b_m])\n",
        "h2 = tf.keras.layers.Concatenate(axis=2)([h2_f[:,1:,:], h2_b_m])\n",
        "\n",
        "# We extract the w2v embeddings from the forward input\n",
        "# removing the first element corresponding to the <s> token.\n",
        "w2v_emb = masked_f[:,1:,:]\n",
        "\n",
        "Toy_ELMo = tf.keras.Model(inputs=(inputs_f, inputs_b, inputs_N), outputs = (w2v_emb, h1, h2) )"
      ],
      "execution_count": null,
      "outputs": []
    },
    {
      "cell_type": "code",
      "metadata": {
        "id": "Sq20qL-8ZTPu"
      },
      "source": [
        "for i in dataset_train:\n",
        "    result = Toy_ELMo(i[0])\n",
        "    break"
      ],
      "execution_count": null,
      "outputs": []
    },
    {
      "cell_type": "code",
      "metadata": {
        "colab": {
          "base_uri": "https://localhost:8080/"
        },
        "id": "qW6iX9mKamre",
        "outputId": "d9df457d-2365-4133-b440-b424783f2a03"
      },
      "source": [
        "result[0].shape, result[1].shape, result[2].shape"
      ],
      "execution_count": null,
      "outputs": [
        {
          "output_type": "execute_result",
          "data": {
            "text/plain": [
              "(TensorShape([64, 866, 300]),\n",
              " TensorShape([64, 866, 300]),\n",
              " TensorShape([64, 866, 300]))"
            ]
          },
          "metadata": {
            "tags": []
          },
          "execution_count": 22
        }
      ]
    },
    {
      "cell_type": "markdown",
      "metadata": {
        "id": "iEZn9sPANMwS"
      },
      "source": [
        "## Transfer Learning:\n",
        "\n",
        "We use the train and validation dataset and convert it into a dataset object which can be used further for training the model. We define a Sauce layer to learn the embeddings for elmo from our dataset. The model will predict whether the comment is sexist or not."
      ]
    },
    {
      "cell_type": "code",
      "metadata": {
        "id": "LNjvV8BvbDlM"
      },
      "source": [
        "def transform_pad(input_tensor, input_N, class_target):\n",
        "    input_f  = input_tensor[:,:-1,:]\n",
        "    input_b  = input_tensor[:,1:,:]\n",
        "    \n",
        "    input_f  = input_f.to_tensor(default_value=0, shape=[None, None, 300])\n",
        "    input_b  = input_b.to_tensor(default_value=0, shape=[None, None, 300])\n",
        "    \n",
        "    return (input_f, input_b, input_N), class_target\n",
        "\n",
        "def create_dataset(data_in, target_in):\n",
        "   \n",
        "    N = [len(n) for n in data_in]\n",
        "    ragged_input  = tf.ragged.constant(data_in, dtype=tf.float32)\n",
        "    class_target = tf.ragged.constant(target_in, tf.int32)\n",
        "    tensor_N = tf.constant(N, tf.int32)\n",
        "\n",
        "    dataset = tf.data.Dataset.from_tensor_slices((ragged_input, tensor_N, class_target))\n",
        "    dataset = dataset.shuffle(1000)\n",
        "    dataset = dataset.batch(128)\n",
        "    dataset = dataset.map(transform_pad, num_parallel_calls=4)\n",
        "    dataset = dataset.prefetch(1)\n",
        "    return dataset"
      ],
      "execution_count": null,
      "outputs": []
    },
    {
      "cell_type": "code",
      "metadata": {
        "id": "8v89qpnIbRRA"
      },
      "source": [
        "sexism_train = create_dataset(X_train_embedding, df_train[\"Label\"])\n",
        "sexism_val = create_dataset(X_val_embedding, df_val[\"Label\"])\n",
        "sexism_test = create_dataset(X_test_embedding, df_test[\"Label\"])"
      ],
      "execution_count": null,
      "outputs": []
    },
    {
      "cell_type": "code",
      "metadata": {
        "id": "GbB1FqcwbjqO"
      },
      "source": [
        "class ScaleLayer(tf.keras.layers.Layer):\n",
        "    def __init__(self, shape):\n",
        "        super(ScaleLayer, self).__init__()\n",
        "        self.supports_masking = True\n",
        "        self.shape = shape\n",
        "\n",
        "    def build(self, input_shape):\n",
        "        self.scale = tf.Variable(tf.nn.softmax([0.4,0.3,0.3]), trainable=True)\n",
        "    def call(self, inputs):\n",
        "        scale_norm = tf.nn.softmax(self.scale)\n",
        "        return tf.tensordot(scale_norm, inputs, axes=1)"
      ],
      "execution_count": null,
      "outputs": []
    },
    {
      "cell_type": "code",
      "metadata": {
        "id": "FW6Vu83Eb187"
      },
      "source": [
        "tf.keras.backend.clear_session()\n",
        "Toy_ELMo.trainable=False\n",
        "# Define the inputs\n",
        "inputs_f = tf.keras.Input(shape=(None,300), dtype=tf.float32)\n",
        "inputs_b = tf.keras.Input(shape=(None,300), dtype=tf.float32)\n",
        "inputs_N = tf.keras.Input(shape=(), dtype=tf.int32)\n",
        "\n",
        "# Get the embeddings\n",
        "e0,e1,e2 = Toy_ELMo((inputs_f, inputs_b, inputs_N))\n",
        "\n",
        "# Make the sauce\n",
        "Sauce_layer = ScaleLayer(3)\n",
        "sauce = Sauce_layer(tf.stack([e0,e1,e2]))\n",
        "\n",
        "# Define the masking\n",
        "masked_sauce = tf.keras.layers.Masking()(sauce)\n",
        "\n",
        "# Define the forward LSTM\n",
        "RNN1_f = tf.keras.layers.LSTM(300, return_sequences=True, go_backwards=False)\n",
        "h1_f = RNN1_f(masked_sauce)\n",
        "\n",
        "RNN2_f = tf.keras.layers.LSTM(300, return_sequences=False, go_backwards=False)\n",
        "h2_f = RNN2_f(h1_f)\n",
        "\n",
        "pred = tf.keras.layers.Dense(2, activation='softmax')(h2_f)\n",
        "\n",
        "model3 = tf.keras.Model(inputs=(inputs_f, inputs_b, inputs_N), outputs=pred)\n",
        "model3.compile(loss='sparse_categorical_crossentropy', optimizer=tf.keras.optimizers.Adam(), metrics='accuracy')"
      ],
      "execution_count": null,
      "outputs": []
    },
    {
      "cell_type": "code",
      "metadata": {
        "id": "TMtSCU5xb43H",
        "colab": {
          "base_uri": "https://localhost:8080/"
        },
        "outputId": "2f54a28a-b13e-4403-8cf7-3c83f625e685"
      },
      "source": [
        "history3 = model3.fit(sexism_train, epochs=20, validation_data=sexism_val)"
      ],
      "execution_count": null,
      "outputs": [
        {
          "output_type": "stream",
          "text": [
            "Epoch 1/20\n",
            "111/111 [==============================] - 45s 293ms/step - loss: 0.6566 - accuracy: 0.6208 - val_loss: 0.7591 - val_accuracy: 0.4469\n",
            "Epoch 2/20\n",
            "111/111 [==============================] - 29s 262ms/step - loss: 0.6121 - accuracy: 0.6756 - val_loss: 0.7678 - val_accuracy: 0.4762\n",
            "Epoch 3/20\n",
            "111/111 [==============================] - 30s 271ms/step - loss: 0.6005 - accuracy: 0.6817 - val_loss: 0.8506 - val_accuracy: 0.4579\n",
            "Epoch 4/20\n",
            "111/111 [==============================] - 30s 268ms/step - loss: 0.5929 - accuracy: 0.6907 - val_loss: 0.8265 - val_accuracy: 0.4762\n",
            "Epoch 5/20\n",
            "111/111 [==============================] - 30s 268ms/step - loss: 0.5840 - accuracy: 0.6904 - val_loss: 0.7508 - val_accuracy: 0.4835\n",
            "Epoch 6/20\n",
            "111/111 [==============================] - 31s 273ms/step - loss: 0.5755 - accuracy: 0.6981 - val_loss: 0.7756 - val_accuracy: 0.4945\n",
            "Epoch 7/20\n",
            "111/111 [==============================] - 30s 271ms/step - loss: 0.5649 - accuracy: 0.7046 - val_loss: 0.8271 - val_accuracy: 0.4982\n",
            "Epoch 8/20\n",
            "111/111 [==============================] - 30s 266ms/step - loss: 0.5643 - accuracy: 0.7024 - val_loss: 0.7270 - val_accuracy: 0.5531\n",
            "Epoch 9/20\n",
            "111/111 [==============================] - 29s 261ms/step - loss: 0.5614 - accuracy: 0.7078 - val_loss: 0.7085 - val_accuracy: 0.5714\n",
            "Epoch 10/20\n",
            "111/111 [==============================] - 31s 281ms/step - loss: 0.5534 - accuracy: 0.7158 - val_loss: 0.7586 - val_accuracy: 0.5275\n",
            "Epoch 11/20\n",
            "111/111 [==============================] - 30s 274ms/step - loss: 0.5488 - accuracy: 0.7155 - val_loss: 0.6970 - val_accuracy: 0.5788\n",
            "Epoch 12/20\n",
            "111/111 [==============================] - 30s 268ms/step - loss: 0.5428 - accuracy: 0.7229 - val_loss: 0.7287 - val_accuracy: 0.5934\n",
            "Epoch 13/20\n",
            "111/111 [==============================] - 30s 266ms/step - loss: 0.5386 - accuracy: 0.7262 - val_loss: 0.7095 - val_accuracy: 0.6190\n",
            "Epoch 14/20\n",
            "111/111 [==============================] - 29s 260ms/step - loss: 0.5398 - accuracy: 0.7265 - val_loss: 0.7438 - val_accuracy: 0.6044\n",
            "Epoch 15/20\n",
            "111/111 [==============================] - 30s 270ms/step - loss: 0.5316 - accuracy: 0.7295 - val_loss: 0.6823 - val_accuracy: 0.6520\n",
            "Epoch 16/20\n",
            "111/111 [==============================] - 30s 266ms/step - loss: 0.5274 - accuracy: 0.7337 - val_loss: 0.7529 - val_accuracy: 0.6300\n",
            "Epoch 17/20\n",
            "111/111 [==============================] - 30s 272ms/step - loss: 0.5274 - accuracy: 0.7328 - val_loss: 0.6783 - val_accuracy: 0.6520\n",
            "Epoch 18/20\n",
            "111/111 [==============================] - 30s 272ms/step - loss: 0.5220 - accuracy: 0.7345 - val_loss: 0.8278 - val_accuracy: 0.5678\n",
            "Epoch 19/20\n",
            "111/111 [==============================] - 31s 274ms/step - loss: 0.5116 - accuracy: 0.7415 - val_loss: 0.7126 - val_accuracy: 0.6300\n",
            "Epoch 20/20\n",
            "111/111 [==============================] - 31s 275ms/step - loss: 0.5083 - accuracy: 0.7438 - val_loss: 0.6787 - val_accuracy: 0.6337\n"
          ],
          "name": "stdout"
        }
      ]
    },
    {
      "cell_type": "code",
      "metadata": {
        "colab": {
          "base_uri": "https://localhost:8080/",
          "height": 295
        },
        "id": "sRVoD-C-Hu3s",
        "outputId": "57ab060a-7895-47f9-cd63-a7a09bf71c7c"
      },
      "source": [
        "train_loss = history3.history['loss']\n",
        "val_loss = history3.history['val_loss']\n",
        "\n",
        "epochs = range(1,len(train_loss)+1)\n",
        "\n",
        "plt.figure()\n",
        "plt.plot(epochs, train_loss, 'b', label='Training loss')\n",
        "plt.plot(epochs, val_loss, 'r', label ='Validation loss')\n",
        "plt.title('Training and Validation loss')\n",
        "plt.xlabel('epoch')\n",
        "plt.ylabel('loss_value')\n",
        "plt.legend()\n",
        "plt.show()"
      ],
      "execution_count": null,
      "outputs": [
        {
          "output_type": "display_data",
          "data": {
            "image/png": "[encoded data removed]",
            "text/plain": [
              "<Figure size 432x288 with 1 Axes>"
            ]
          },
          "metadata": {
            "tags": [],
            "needs_background": "light"
          }
        }
      ]
    },
    {
      "cell_type": "code",
      "metadata": {
        "colab": {
          "base_uri": "https://localhost:8080/",
          "height": 295
        },
        "id": "JEwJRuKAIE--",
        "outputId": "576a4cbf-a8a7-40b6-abb8-ae656de52018"
      },
      "source": [
        "train_acc = history3.history['accuracy']\n",
        "val_acc = history3.history['val_accuracy']\n",
        "\n",
        "epochs = range(1,len(train_acc)+1)\n",
        "\n",
        "plt.figure()\n",
        "plt.plot(epochs, train_acc, 'b', label='Training accuracy')\n",
        "plt.plot(epochs, val_acc, 'r', label ='Validation accuracy')\n",
        "plt.title('Training and Validation Accuracy')\n",
        "plt.xlabel('epoch')\n",
        "plt.ylabel('accuracy_value')\n",
        "plt.legend()\n",
        "plt.show()"
      ],
      "execution_count": null,
      "outputs": [
        {
          "output_type": "display_data",
          "data": {
            "image/png": "[encoded data removed]",
            "text/plain": [
              "<Figure size 432x288 with 1 Axes>"
            ]
          },
          "metadata": {
            "tags": [],
            "needs_background": "light"
          }
        }
      ]
    },
    {
      "cell_type": "code",
      "metadata": {
        "id": "8K3q9_CBomQq",
        "colab": {
          "base_uri": "https://localhost:8080/"
        },
        "outputId": "e1592aea-36c5-4d53-a22a-e495a766c521"
      },
      "source": [
        "result = model3.evaluate(sexism_test)\n",
        "dict(zip(model3.metrics_names, result))"
      ],
      "execution_count": null,
      "outputs": [
        {
          "output_type": "stream",
          "text": [
            "2/2 [==============================] - 0s 20ms/step - loss: 0.7032 - accuracy: 0.6360\n"
          ],
          "name": "stdout"
        },
        {
          "output_type": "execute_result",
          "data": {
            "text/plain": [
              "{'accuracy': 0.6359649300575256, 'loss': 0.7032281756401062}"
            ]
          },
          "metadata": {
            "tags": []
          },
          "execution_count": 32
        }
      ]
    },
    {
      "cell_type": "markdown",
      "metadata": {
        "id": "_OGwPkp6PhrA"
      },
      "source": [
        "# Future Work"
      ]
    },
    {
      "cell_type": "markdown",
      "metadata": {
        "id": "tQXgOfbxPlnU"
      },
      "source": [
        "We have currently collected our data from multiple sources and done data augmentation. The training and validation set consist of examples from all sources whereas the test set consists of examples only from Sexist Workplace Statements [dataset](https://https://www.kaggle.com/dgrosz/sexist-workplace-statements/code). The goal was to train on different sources and see how it would perform for this targetted dataset. While the current dataset has produced good results with various models, the dataset can grow to capture more phrase structures and keywords. In many scenarios, the words are purposely misspelt or various slangs are used which need to be captured. The same word may be written in different spellings, with * etc. All of these should be mapped to the same word. \n",
        "\n",
        "Sexist comments in the Indian setting present a unique challenge with usage of words from various regional languages written in English. These often go undetected. Models would have to be built to specifically deal with such cases of code-switching."
      ]
    },
    {
      "cell_type": "markdown",
      "metadata": {
        "id": "-VsTHOI0R8yP"
      },
      "source": [
        "# Experiments"
      ]
    },
    {
      "cell_type": "markdown",
      "metadata": {
        "id": "0WG4lsUFR_Qq"
      },
      "source": [
        "We experiment with different model architectures based on various papers we read related to Hate Speech Detection. \n",
        "\n",
        "1. LSTM with no-pretrained embedding: Pitsilis et al. in \"D[etecting offensive language in tweets using deep learning.](https://arxiv.org/abs/1801.04433)\" talk about how the words used in sexist comments are not always captured by Glove or Word2Vec embeddings (as these are trained on Wikipedia or Google news data. They argue that for better performance, we should use a Embedding layer which will be learnt during training. The model consists of two LSTMs stacked together. We implemented the model for our dataset however, we achieved sub-par performance compared to using Glove embeddings. The main reason for this could be due to the difference in the datasets. Our dataset consists of Reddit, Twitter comments in proper English (making it more likely that these words will be present in the Glove Embedding file) whereas their dataset consists of Hinglish, Bangla words etc as well.\n",
        "\n",
        "2. LSTM with Attention Layer: We experiment with a bi-directional LSTM model with an attention layer. However, the performance is poorer than of the bi-directional model without attention. A plausible reasoning could be that this occurs as most of our sentences are short in length as they are taken from Twitter. \n",
        "\n",
        "\n",
        "Link to notebook with the experiments: \n"
      ]
    }
  ]
}