{
  "nbformat": 4,
  "nbformat_minor": 0,
  "metadata": {
    "colab": {
      "name": "gettweet.ipynb",
      "provenance": [],
      "collapsed_sections": [],
      "include_colab_link": true
    },
    "kernelspec": {
      "name": "python3",
      "display_name": "Python 3"
    },
    "language_info": {
      "name": "python"
    }
  },
  "cells": [
    {
      "cell_type": "markdown",
      "metadata": {
        "id": "view-in-github",
        "colab_type": "text"
      },
      "source": [
        "<a href=\"https://colab.research.google.com/github/PadmajaVB/Sexist-Statement-Detection/blob/main/gettweet.ipynb\" target=\"_parent\"><img src=\"https://colab.research.google.com/assets/colab-badge.svg\" alt=\"Open In Colab\"/></a>"
      ]
    },
    {
      "cell_type": "markdown",
      "metadata": {
        "id": "1JvU1Mhch2RN"
      },
      "source": [
        "# Get tweets labeled with benevolent sexism using twitter API"
      ]
    },
    {
      "cell_type": "code",
      "metadata": {
        "colab": {
          "base_uri": "https://localhost:8080/"
        },
        "id": "5R41_W8GsK5E",
        "outputId": "7805e3d7-4ec7-4fdb-b66b-c6990d554ee5"
      },
      "source": [
        "from google.colab import drive\n",
        "drive.mount('/content/drive', force_remount=True)"
      ],
      "execution_count": 9,
      "outputs": [
        {
          "output_type": "stream",
          "text": [
            "Mounted at /content/drive\n"
          ],
          "name": "stdout"
        }
      ]
    },
    {
      "cell_type": "markdown",
      "metadata": {
        "id": "EZ13Oi6aiNDQ"
      },
      "source": [
        "**Enter twitter developer keys which will be used to comminicate to twitter API using tweepy**"
      ]
    },
    {
      "cell_type": "code",
      "metadata": {
        "id": "5PbDw6BU88Xz"
      },
      "source": [
        "import tweepy\n",
        "\n",
        "# Twitter Developer keys here\n",
        "# USED TO COMMUNICATE TO THE TWITTER API\n",
        "consumer_key = 'XXXXXXXXX'\n",
        "consumer_key_secret = 'XXXXXXXXX'\n",
        "access_token = 'XXXXXXXXX'\n",
        "access_token_secret = 'XXXXXXXXX'\n"
      ],
      "execution_count": 10,
      "outputs": []
    },
    {
      "cell_type": "code",
      "metadata": {
        "id": "lovZudwx9DP_"
      },
      "source": [
        "#set up the API for fetching\n",
        "auth = tweepy.OAuthHandler(consumer_key, consumer_key_secret) \n",
        "auth.set_access_token(access_token, access_token_secret)\n",
        "api = tweepy.API(auth)"
      ],
      "execution_count": 11,
      "outputs": []
    },
    {
      "cell_type": "code",
      "metadata": {
        "id": "jUyIDTm9CvkX"
      },
      "source": [
        "# This is corpus dataset\n",
        "import pandas as pd\n",
        "#tweet id form (check this tsv for format)\n",
        "corpusFile = \"/content/drive/MyDrive/AI-3 Project/data/NLP_CSS_2017-master/benevolent_sexist.tsv\"\n",
        "df= pd.read_csv(corpusFile, header= None)\n"
      ],
      "execution_count": 16,
      "outputs": []
    },
    {
      "cell_type": "markdown",
      "metadata": {
        "id": "Z94bS5xWkT0Z"
      },
      "source": [
        "**Custom function to fetch tweets and store them as a list (for demonstration we have only fetched 20, but for our task we fetched 7250)**"
      ]
    },
    {
      "cell_type": "code",
      "metadata": {
        "id": "uZr4_0dH89B3"
      },
      "source": [
        "# This method creates the training set\n",
        "def createTrainingSet(corpusFile):\n",
        "    import csv\n",
        "    import time\n",
        "\n",
        "    c=0\n",
        "    #print(corpusFile.head())\n",
        "    #Get each id as part of the list\n",
        "    corpus = list(df[0])\n",
        "\n",
        "    sleepTime = 2\n",
        "    trainingDataSet = []\n",
        "    #Do not send more than 1500 ids at once else you will have to wait for 1 hour to cooldown\n",
        "    for tweet in corpus[0:20]:\n",
        "        try:\n",
        "            tweetFetched = api.get_status(tweet) #get the metadeta\n",
        "            print(c,\"Tweet fetched = \" + tweetFetched.text)\n",
        "            c+=1 #counter for seeing which tweet index is being fetched\n",
        "            time.sleep(sleepTime) #for the API to cool down\n",
        "            trainingDataSet.append(tweetFetched.text)\n",
        "        except Exception as e:\n",
        "            print(c,\"Inside the exception - no:2\")\n",
        "            print(e)\n",
        "            c+=1\n",
        "            print()\n",
        "            time.sleep(1)\n",
        "            continue\n",
        "    #return in list       \n",
        "    return trainingDataSet\n",
        "    \n"
      ],
      "execution_count": 29,
      "outputs": []
    },
    {
      "cell_type": "code",
      "metadata": {
        "id": "PO_nFDgfAZUu",
        "colab": {
          "base_uri": "https://localhost:8080/"
        },
        "outputId": "a9d3498c-4e66-4d95-e21e-712e6cdd848c"
      },
      "source": [
        "resultFile = createTrainingSet(df)"
      ],
      "execution_count": 30,
      "outputs": [
        {
          "output_type": "stream",
          "text": [
            "0 Tweet fetched = RT @GemmaAnneStyles: Happy #womensday to all my sassy women, classy women, nasty women 💋👧🏾💖👩🏼‍🔬👄👵🏼 my fine women, alive women, gonna fight…\n",
            "1 Inside the exception - no:2\n",
            "[{'code': 144, 'message': 'No status found with that ID.'}]\n",
            "\n",
            "2 Inside the exception - no:2\n",
            "[{'code': 144, 'message': 'No status found with that ID.'}]\n",
            "\n",
            "3 Tweet fetched = RT @girlsreallyrule: The lights are out at the Statue of Liberty...that's ONE MORE woman America CANNOT do without. #adaywithoutwomen #Ligh…\n",
            "4 Inside the exception - no:2\n",
            "[{'code': 63, 'message': 'User has been suspended.'}]\n",
            "\n",
            "5 Inside the exception - no:2\n",
            "[{'code': 144, 'message': 'No status found with that ID.'}]\n",
            "\n",
            "6 Inside the exception - no:2\n",
            "[{'code': 63, 'message': 'User has been suspended.'}]\n",
            "\n",
            "7 Inside the exception - no:2\n",
            "[{'code': 63, 'message': 'User has been suspended.'}]\n",
            "\n",
            "8 Inside the exception - no:2\n",
            "[{'code': 144, 'message': 'No status found with that ID.'}]\n",
            "\n",
            "9 Inside the exception - no:2\n",
            "[{'code': 144, 'message': 'No status found with that ID.'}]\n",
            "\n",
            "10 Inside the exception - no:2\n",
            "[{'code': 144, 'message': 'No status found with that ID.'}]\n",
            "\n",
            "11 Inside the exception - no:2\n",
            "[{'code': 144, 'message': 'No status found with that ID.'}]\n",
            "\n",
            "12 Inside the exception - no:2\n",
            "[{'code': 63, 'message': 'User has been suspended.'}]\n",
            "\n",
            "13 Inside the exception - no:2\n",
            "[{'code': 144, 'message': 'No status found with that ID.'}]\n",
            "\n",
            "14 Inside the exception - no:2\n",
            "[{'code': 63, 'message': 'User has been suspended.'}]\n",
            "\n",
            "15 Inside the exception - no:2\n",
            "[{'code': 144, 'message': 'No status found with that ID.'}]\n",
            "\n",
            "16 Tweet fetched = RT @antonioguterres: We can’t achieve any of our goals without the participation of women and girls. #WomensDay https://t.co/2oCVEQQFMR\n",
            "17 Inside the exception - no:2\n",
            "[{'code': 63, 'message': 'User has been suspended.'}]\n",
            "\n",
            "18 Inside the exception - no:2\n",
            "[{'code': 179, 'message': 'Sorry, you are not authorized to see this status.'}]\n",
            "\n",
            "19 Inside the exception - no:2\n",
            "[{'code': 144, 'message': 'No status found with that ID.'}]\n",
            "\n"
          ],
          "name": "stdout"
        }
      ]
    },
    {
      "cell_type": "markdown",
      "metadata": {
        "id": "W4DtaskYkeSy"
      },
      "source": [
        "**Convert to dataframe and save**"
      ]
    },
    {
      "cell_type": "code",
      "metadata": {
        "id": "0wUkAR-KAhIm"
      },
      "source": [
        "res= pd.DataFrame(resultFile)"
      ],
      "execution_count": 24,
      "outputs": []
    },
    {
      "cell_type": "code",
      "metadata": {
        "id": "H8j9pKXXrhuj"
      },
      "source": [
        "res.to_csv('first200.csv')"
      ],
      "execution_count": 25,
      "outputs": []
    },
    {
      "cell_type": "code",
      "metadata": {
        "colab": {
          "base_uri": "https://localhost:8080/"
        },
        "id": "B68B6tl_rtl-",
        "outputId": "13648e2a-4cc6-4677-c31e-5a0172f29784"
      },
      "source": [
        "print(res.loc[3][0])"
      ],
      "execution_count": 27,
      "outputs": [
        {
          "output_type": "stream",
          "text": [
            "\"she parties like a man but loves like a woman\"\n"
          ],
          "name": "stdout"
        }
      ]
    },
    {
      "cell_type": "markdown",
      "metadata": {
        "id": "73G_nRnxktAo"
      },
      "source": [
        "# Preprocess tweets"
      ]
    },
    {
      "cell_type": "markdown",
      "metadata": {
        "id": "cKVbxdfJk8I0"
      },
      "source": [
        "**Import required libraries and datasets**"
      ]
    },
    {
      "cell_type": "code",
      "metadata": {
        "id": "cnKAC3d7c-gA"
      },
      "source": [
        "import pandas as pd\n",
        "import re\n",
        "!pip install emoji #to remove emojis from the tweets\n",
        "import emoji\n",
        "csv1= pd.read_csv('first200.csv', header= None)\n",
        "csv2= pd.read_csv('1500to4520.csv', header= None)\n",
        "csv3= pd.read_csv('4520.csv', header= None) "
      ],
      "execution_count": null,
      "outputs": []
    },
    {
      "cell_type": "code",
      "metadata": {
        "id": "8-xv7F0jfUcP"
      },
      "source": [
        "csv= pd.concat([csv1, csv2, csv3]) #concatenating the files obtained by running for 3 attempts"
      ],
      "execution_count": null,
      "outputs": []
    },
    {
      "cell_type": "code",
      "metadata": {
        "id": "ETqaUzbNfsfv"
      },
      "source": [
        "csv.drop([0], axis=1, inplace= True) #do .head() before to check if 0th col or row has to be removed\n",
        "csv.drop([0], axis=0, inplace= True)"
      ],
      "execution_count": null,
      "outputs": []
    },
    {
      "cell_type": "code",
      "metadata": {
        "colab": {
          "base_uri": "https://localhost:8080/",
          "height": 202
        },
        "id": "b8tXz8Q0fmJU",
        "outputId": "b18adfc0-4d68-4248-d145-2b5ecbb2c9be"
      },
      "source": [
        "csv.head()"
      ],
      "execution_count": null,
      "outputs": [
        {
          "output_type": "execute_result",
          "data": {
            "text/html": [
              "<div>\n",
              "<style scoped>\n",
              "    .dataframe tbody tr th:only-of-type {\n",
              "        vertical-align: middle;\n",
              "    }\n",
              "\n",
              "    .dataframe tbody tr th {\n",
              "        vertical-align: top;\n",
              "    }\n",
              "\n",
              "    .dataframe thead th {\n",
              "        text-align: right;\n",
              "    }\n",
              "</style>\n",
              "<table border=\"1\" class=\"dataframe\">\n",
              "  <thead>\n",
              "    <tr style=\"text-align: right;\">\n",
              "      <th></th>\n",
              "      <th>1</th>\n",
              "    </tr>\n",
              "  </thead>\n",
              "  <tbody>\n",
              "    <tr>\n",
              "      <th>1</th>\n",
              "      <td>RT @GemmaAnneStyles: Happy #womensday to all m...</td>\n",
              "    </tr>\n",
              "    <tr>\n",
              "      <th>2</th>\n",
              "      <td>RT @girlsreallyrule: The lights are out at the...</td>\n",
              "    </tr>\n",
              "    <tr>\n",
              "      <th>3</th>\n",
              "      <td>RT @antonioguterres: We can’t achieve any of o...</td>\n",
              "    </tr>\n",
              "    <tr>\n",
              "      <th>4</th>\n",
              "      <td>\"she parties like a man but loves like a woman\"</td>\n",
              "    </tr>\n",
              "    <tr>\n",
              "      <th>5</th>\n",
              "      <td>RT @GemmaAnneStyles: Happy #womensday to all m...</td>\n",
              "    </tr>\n",
              "  </tbody>\n",
              "</table>\n",
              "</div>"
            ],
            "text/plain": [
              "                                                   1\n",
              "1  RT @GemmaAnneStyles: Happy #womensday to all m...\n",
              "2  RT @girlsreallyrule: The lights are out at the...\n",
              "3  RT @antonioguterres: We can’t achieve any of o...\n",
              "4    \"she parties like a man but loves like a woman\"\n",
              "5  RT @GemmaAnneStyles: Happy #womensday to all m..."
            ]
          },
          "metadata": {
            "tags": []
          },
          "execution_count": 89
        }
      ]
    },
    {
      "cell_type": "markdown",
      "metadata": {
        "id": "XtE7FkxJlH3r"
      },
      "source": [
        "**Remove retweets**"
      ]
    },
    {
      "cell_type": "code",
      "metadata": {
        "id": "-pkIb6LPf_BG"
      },
      "source": [
        "csv.drop_duplicates(inplace=True) #duplicate tweets"
      ],
      "execution_count": null,
      "outputs": []
    },
    {
      "cell_type": "code",
      "metadata": {
        "colab": {
          "base_uri": "https://localhost:8080/",
          "height": 220
        },
        "id": "S2tznu6pgVDW",
        "outputId": "3b621051-7d61-4f5d-9f79-5db633bd7a34"
      },
      "source": [
        "print(len(csv))\n",
        "csv.head()"
      ],
      "execution_count": null,
      "outputs": [
        {
          "output_type": "stream",
          "text": [
            "401\n"
          ],
          "name": "stdout"
        },
        {
          "output_type": "execute_result",
          "data": {
            "text/html": [
              "<div>\n",
              "<style scoped>\n",
              "    .dataframe tbody tr th:only-of-type {\n",
              "        vertical-align: middle;\n",
              "    }\n",
              "\n",
              "    .dataframe tbody tr th {\n",
              "        vertical-align: top;\n",
              "    }\n",
              "\n",
              "    .dataframe thead th {\n",
              "        text-align: right;\n",
              "    }\n",
              "</style>\n",
              "<table border=\"1\" class=\"dataframe\">\n",
              "  <thead>\n",
              "    <tr style=\"text-align: right;\">\n",
              "      <th></th>\n",
              "      <th>1</th>\n",
              "    </tr>\n",
              "  </thead>\n",
              "  <tbody>\n",
              "    <tr>\n",
              "      <th>1</th>\n",
              "      <td>RT @GemmaAnneStyles: Happy #womensday to all m...</td>\n",
              "    </tr>\n",
              "    <tr>\n",
              "      <th>2</th>\n",
              "      <td>RT @girlsreallyrule: The lights are out at the...</td>\n",
              "    </tr>\n",
              "    <tr>\n",
              "      <th>3</th>\n",
              "      <td>RT @antonioguterres: We can’t achieve any of o...</td>\n",
              "    </tr>\n",
              "    <tr>\n",
              "      <th>4</th>\n",
              "      <td>\"she parties like a man but loves like a woman\"</td>\n",
              "    </tr>\n",
              "    <tr>\n",
              "      <th>6</th>\n",
              "      <td>RT @xanria_018: Lucky is the man who is the fi...</td>\n",
              "    </tr>\n",
              "  </tbody>\n",
              "</table>\n",
              "</div>"
            ],
            "text/plain": [
              "                                                   1\n",
              "1  RT @GemmaAnneStyles: Happy #womensday to all m...\n",
              "2  RT @girlsreallyrule: The lights are out at the...\n",
              "3  RT @antonioguterres: We can’t achieve any of o...\n",
              "4    \"she parties like a man but loves like a woman\"\n",
              "6  RT @xanria_018: Lucky is the man who is the fi..."
            ]
          },
          "metadata": {
            "tags": []
          },
          "execution_count": 91
        }
      ]
    },
    {
      "cell_type": "code",
      "metadata": {
        "id": "5NOANpvDhdYd"
      },
      "source": [
        "csv.reset_index(inplace=True)\n",
        "csv.drop(['index'], axis=1,inplace= True) "
      ],
      "execution_count": null,
      "outputs": []
    },
    {
      "cell_type": "markdown",
      "metadata": {
        "id": "h1oVZKmClP0a"
      },
      "source": [
        "**Remove @mentions along with emojis and website mentions as they are not important for our task**"
      ]
    },
    {
      "cell_type": "code",
      "metadata": {
        "id": "9AkdNg6WhxNP"
      },
      "source": [
        "def preprocess(df):\n",
        "  df[1]= [re.sub('((www\\.[^\\s]+)|(https?://[^\\s]+)|(http?://[^\\s]+))', '', ln) for ln in df[1]] #remove websites\n",
        "  df[1]= [re.sub(r'http\\S+', '', ln) for ln in df[1]] \n",
        "  df[1]= [re.sub('@[^\\s]+', '', ln) for ln in df[1]] #remove account mentions\n",
        "  df[1]= [emoji.get_emoji_regexp().sub(u'', ln) for ln in df[1]] #remove emojis\n",
        "  df[1]= [ln.split() for ln in df[1]] \n",
        "  \n",
        "  for i,ln in enumerate(df[1]):\n",
        "    try:\n",
        "      ln.remove('RT') #remove retweets\n",
        "    except:\n",
        "      continue\n",
        "    df.iloc[i,0]=ln\n",
        "  [print(ln) for ln in df[1]]\n",
        "  return df"
      ],
      "execution_count": null,
      "outputs": []
    },
    {
      "cell_type": "markdown",
      "metadata": {
        "id": "QftcJb1Blc8h"
      },
      "source": [
        "**Remove any null values**"
      ]
    },
    {
      "cell_type": "code",
      "metadata": {
        "id": "G2kTLsjUBfYp"
      },
      "source": [
        "csv.dropna(inplace= True) #remove any null values"
      ],
      "execution_count": null,
      "outputs": []
    },
    {
      "cell_type": "code",
      "metadata": {
        "id": "fbrCdzipCpX7"
      },
      "source": [
        "csv= preprocess(csv)"
      ],
      "execution_count": null,
      "outputs": []
    },
    {
      "cell_type": "code",
      "metadata": {
        "colab": {
          "base_uri": "https://localhost:8080/",
          "height": 202
        },
        "id": "HMHAf6OZKdeR",
        "outputId": "4a3788b2-46f1-4631-b2ce-defcb773c27a"
      },
      "source": [
        "csv.head()"
      ],
      "execution_count": null,
      "outputs": [
        {
          "output_type": "execute_result",
          "data": {
            "text/html": [
              "<div>\n",
              "<style scoped>\n",
              "    .dataframe tbody tr th:only-of-type {\n",
              "        vertical-align: middle;\n",
              "    }\n",
              "\n",
              "    .dataframe tbody tr th {\n",
              "        vertical-align: top;\n",
              "    }\n",
              "\n",
              "    .dataframe thead th {\n",
              "        text-align: right;\n",
              "    }\n",
              "</style>\n",
              "<table border=\"1\" class=\"dataframe\">\n",
              "  <thead>\n",
              "    <tr style=\"text-align: right;\">\n",
              "      <th></th>\n",
              "      <th>1</th>\n",
              "    </tr>\n",
              "  </thead>\n",
              "  <tbody>\n",
              "    <tr>\n",
              "      <th>0</th>\n",
              "      <td>[Happy, #womensday, to, all, my, sassy, women,...</td>\n",
              "    </tr>\n",
              "    <tr>\n",
              "      <th>1</th>\n",
              "      <td>[The, lights, are, out, at, the, Statue, of, L...</td>\n",
              "    </tr>\n",
              "    <tr>\n",
              "      <th>2</th>\n",
              "      <td>[We, can’t, achieve, any, of, our, goals, with...</td>\n",
              "    </tr>\n",
              "    <tr>\n",
              "      <th>3</th>\n",
              "      <td>[\"she, parties, like, a, man, but, loves, like...</td>\n",
              "    </tr>\n",
              "    <tr>\n",
              "      <th>4</th>\n",
              "      <td>[Lucky, is, the, man, who, is, the, first, lov...</td>\n",
              "    </tr>\n",
              "  </tbody>\n",
              "</table>\n",
              "</div>"
            ],
            "text/plain": [
              "                                                   1\n",
              "0  [Happy, #womensday, to, all, my, sassy, women,...\n",
              "1  [The, lights, are, out, at, the, Statue, of, L...\n",
              "2  [We, can’t, achieve, any, of, our, goals, with...\n",
              "3  [\"she, parties, like, a, man, but, loves, like...\n",
              "4  [Lucky, is, the, man, who, is, the, first, lov..."
            ]
          },
          "metadata": {
            "tags": []
          },
          "execution_count": 96
        }
      ]
    },
    {
      "cell_type": "markdown",
      "metadata": {
        "id": "EdHYNI4Llh3n"
      },
      "source": [
        "**Rejoin the split strings as they will be tokenized later as per the model requirements**"
      ]
    },
    {
      "cell_type": "code",
      "metadata": {
        "colab": {
          "base_uri": "https://localhost:8080/"
        },
        "id": "-Brq0ePDKZLb",
        "outputId": "88894b10-10f4-4c06-b4ed-8d20b8192150"
      },
      "source": [
        "csv=csv[1].str.join(\" \")"
      ],
      "execution_count": null,
      "outputs": [
        {
          "output_type": "execute_result",
          "data": {
            "text/plain": [
              "0      Happy #womensday to all my sassy women, classy...\n",
              "1      The lights are out at the Statue of Liberty......\n",
              "2      We can’t achieve any of our goals without the ...\n",
              "3        \"she parties like a man but loves like a woman\"\n",
              "4      Lucky is the man who is the first love of a wo...\n",
              "                             ...                        \n",
              "396    Literally can eat a whole pizza to myself .......\n",
              "397    'THE BIGGEST COWARD OF A MAN IS TO AWAKEN THE ...\n",
              "398    We want to construct a different world of work...\n",
              "399    Do not awaken the love of a woman, without the...\n",
              "400    Nothing better in this world than a man making...\n",
              "Name: 1, Length: 400, dtype: object"
            ]
          },
          "metadata": {
            "tags": []
          },
          "execution_count": 97
        }
      ]
    },
    {
      "cell_type": "markdown",
      "metadata": {
        "id": "A6JsQ8lRlqhN"
      },
      "source": [
        "**Save the dataset**"
      ]
    },
    {
      "cell_type": "code",
      "metadata": {
        "id": "KMQ77wthKiiP"
      },
      "source": [
        "csv.to_csv(\"Benevolent_sexism.csv\")"
      ],
      "execution_count": null,
      "outputs": []
    }
  ]
}
