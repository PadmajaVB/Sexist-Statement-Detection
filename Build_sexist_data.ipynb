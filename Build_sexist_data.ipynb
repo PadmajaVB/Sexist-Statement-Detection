{
  "nbformat": 4,
  "nbformat_minor": 0,
  "metadata": {
    "colab": {
      "name": "Build_sexist_data.ipynb",
      "provenance": [],
      "mount_file_id": "1gpG7Sfm4ty_gmSbMr9Bnt_HAOxa1Xv3N",
      "authorship_tag": "ABX9TyOuvTzFnK/B1pbgkAG2W6Hl",
      "include_colab_link": true
    },
    "kernelspec": {
      "name": "python3",
      "display_name": "Python 3"
    },
    "language_info": {
      "name": "python"
    }
  },
  "cells": [
    {
      "cell_type": "markdown",
      "metadata": {
        "id": "view-in-github",
        "colab_type": "text"
      },
      "source": [
        "<a href=\"https://colab.research.google.com/github/PadmajaVB/Sexist-Statement-Detection/blob/main/Build_sexist_data.ipynb\" target=\"_parent\"><img src=\"https://colab.research.google.com/assets/colab-badge.svg\" alt=\"Open In Colab\"/></a>"
      ]
    },
    {
      "cell_type": "code",
      "metadata": {
        "id": "a4ZfpledRyu8"
      },
      "source": [
        "import pandas as pd\n",
        "import matplotlib.pyplot as plt\n",
        "\n",
        "import re"
      ],
      "execution_count": 46,
      "outputs": []
    },
    {
      "cell_type": "code",
      "metadata": {
        "id": "DpE4PmTESe2W"
      },
      "source": [
        "benevolent_data_path = '/content/drive/MyDrive/AI-3 Project/data/Preprocessed data/Benevolent_sexism.csv'\n",
        "sexist_comment_data_path = '/content/drive/MyDrive/AI-3 Project/data/Preprocessed data/everyday_sexist_comment.csv'\n",
        "reddit_data_path = '/content/drive/MyDrive/AI-3 Project/data/Preprocessed data/reddit (1).csv'\n",
        "isep_data_path = '/content/drive/MyDrive/AI-3 Project/data/ISEP Sexist Data labeling.xlsx'"
      ],
      "execution_count": 28,
      "outputs": []
    },
    {
      "cell_type": "code",
      "metadata": {
        "id": "diRdOwohTUao"
      },
      "source": [
        "benevolent_df = pd.read_csv(benevolent_data_path)"
      ],
      "execution_count": 3,
      "outputs": []
    },
    {
      "cell_type": "code",
      "metadata": {
        "colab": {
          "base_uri": "https://localhost:8080/",
          "height": 198
        },
        "id": "ivT6RAh7TZhK",
        "outputId": "f9a8fac5-8c75-4f4a-f0d3-c11a023a20a4"
      },
      "source": [
        "benevolent_df.head()"
      ],
      "execution_count": 4,
      "outputs": [
        {
          "output_type": "execute_result",
          "data": {
            "text/html": [
              "<div>\n",
              "<style scoped>\n",
              "    .dataframe tbody tr th:only-of-type {\n",
              "        vertical-align: middle;\n",
              "    }\n",
              "\n",
              "    .dataframe tbody tr th {\n",
              "        vertical-align: top;\n",
              "    }\n",
              "\n",
              "    .dataframe thead th {\n",
              "        text-align: right;\n",
              "    }\n",
              "</style>\n",
              "<table border=\"1\" class=\"dataframe\">\n",
              "  <thead>\n",
              "    <tr style=\"text-align: right;\">\n",
              "      <th></th>\n",
              "      <th>Unnamed: 0</th>\n",
              "      <th>1</th>\n",
              "    </tr>\n",
              "  </thead>\n",
              "  <tbody>\n",
              "    <tr>\n",
              "      <th>0</th>\n",
              "      <td>0</td>\n",
              "      <td>Happy #womensday to all my sassy women, classy...</td>\n",
              "    </tr>\n",
              "    <tr>\n",
              "      <th>1</th>\n",
              "      <td>1</td>\n",
              "      <td>The lights are out at the Statue of Liberty......</td>\n",
              "    </tr>\n",
              "    <tr>\n",
              "      <th>2</th>\n",
              "      <td>2</td>\n",
              "      <td>We can’t achieve any of our goals without the ...</td>\n",
              "    </tr>\n",
              "    <tr>\n",
              "      <th>3</th>\n",
              "      <td>3</td>\n",
              "      <td>\"she parties like a man but loves like a woman\"</td>\n",
              "    </tr>\n",
              "    <tr>\n",
              "      <th>4</th>\n",
              "      <td>4</td>\n",
              "      <td>Lucky is the man who is the first love of a wo...</td>\n",
              "    </tr>\n",
              "  </tbody>\n",
              "</table>\n",
              "</div>"
            ],
            "text/plain": [
              "   Unnamed: 0                                                  1\n",
              "0           0  Happy #womensday to all my sassy women, classy...\n",
              "1           1  The lights are out at the Statue of Liberty......\n",
              "2           2  We can’t achieve any of our goals without the ...\n",
              "3           3    \"she parties like a man but loves like a woman\"\n",
              "4           4  Lucky is the man who is the first love of a wo..."
            ]
          },
          "metadata": {
            "tags": []
          },
          "execution_count": 4
        }
      ]
    },
    {
      "cell_type": "code",
      "metadata": {
        "id": "dZgUo-wPTbrq"
      },
      "source": [
        "new_benevolent_df = benevolent_df[[\"1\"]]\n",
        "new_benevolent_df['Label'] = 1"
      ],
      "execution_count": 7,
      "outputs": []
    },
    {
      "cell_type": "code",
      "metadata": {
        "id": "RtupY1GCTmF3"
      },
      "source": [
        "new_benevolent_df.rename(columns={'1': 'Sentences'}, inplace=True)"
      ],
      "execution_count": 10,
      "outputs": []
    },
    {
      "cell_type": "code",
      "metadata": {
        "colab": {
          "base_uri": "https://localhost:8080/",
          "height": 198
        },
        "id": "Ax2N8wC3Tn1-",
        "outputId": "4b04b68e-81f1-4208-d7b3-98bb81f5a903"
      },
      "source": [
        "new_benevolent_df.head()"
      ],
      "execution_count": 11,
      "outputs": [
        {
          "output_type": "execute_result",
          "data": {
            "text/html": [
              "<div>\n",
              "<style scoped>\n",
              "    .dataframe tbody tr th:only-of-type {\n",
              "        vertical-align: middle;\n",
              "    }\n",
              "\n",
              "    .dataframe tbody tr th {\n",
              "        vertical-align: top;\n",
              "    }\n",
              "\n",
              "    .dataframe thead th {\n",
              "        text-align: right;\n",
              "    }\n",
              "</style>\n",
              "<table border=\"1\" class=\"dataframe\">\n",
              "  <thead>\n",
              "    <tr style=\"text-align: right;\">\n",
              "      <th></th>\n",
              "      <th>Sentences</th>\n",
              "      <th>Label</th>\n",
              "    </tr>\n",
              "  </thead>\n",
              "  <tbody>\n",
              "    <tr>\n",
              "      <th>0</th>\n",
              "      <td>Happy #womensday to all my sassy women, classy...</td>\n",
              "      <td>1</td>\n",
              "    </tr>\n",
              "    <tr>\n",
              "      <th>1</th>\n",
              "      <td>The lights are out at the Statue of Liberty......</td>\n",
              "      <td>1</td>\n",
              "    </tr>\n",
              "    <tr>\n",
              "      <th>2</th>\n",
              "      <td>We can’t achieve any of our goals without the ...</td>\n",
              "      <td>1</td>\n",
              "    </tr>\n",
              "    <tr>\n",
              "      <th>3</th>\n",
              "      <td>\"she parties like a man but loves like a woman\"</td>\n",
              "      <td>1</td>\n",
              "    </tr>\n",
              "    <tr>\n",
              "      <th>4</th>\n",
              "      <td>Lucky is the man who is the first love of a wo...</td>\n",
              "      <td>1</td>\n",
              "    </tr>\n",
              "  </tbody>\n",
              "</table>\n",
              "</div>"
            ],
            "text/plain": [
              "                                           Sentences  Label\n",
              "0  Happy #womensday to all my sassy women, classy...      1\n",
              "1  The lights are out at the Statue of Liberty......      1\n",
              "2  We can’t achieve any of our goals without the ...      1\n",
              "3    \"she parties like a man but loves like a woman\"      1\n",
              "4  Lucky is the man who is the first love of a wo...      1"
            ]
          },
          "metadata": {
            "tags": []
          },
          "execution_count": 11
        }
      ]
    },
    {
      "cell_type": "code",
      "metadata": {
        "id": "sZc7zLsiUa2b"
      },
      "source": [
        "sexist_comment_df = pd.read_csv(sexist_comment_data_path)"
      ],
      "execution_count": 22,
      "outputs": []
    },
    {
      "cell_type": "code",
      "metadata": {
        "id": "ze9nhTMvUiYb"
      },
      "source": [
        "new_sexist_comment_df = sexist_comment_df[['Sentences','Label']]"
      ],
      "execution_count": 23,
      "outputs": []
    },
    {
      "cell_type": "code",
      "metadata": {
        "colab": {
          "base_uri": "https://localhost:8080/",
          "height": 198
        },
        "id": "jU33J78UUj00",
        "outputId": "42eb7e9a-491f-4ce6-d310-ec82a207b89c"
      },
      "source": [
        "new_sexist_comment_df.head()"
      ],
      "execution_count": 24,
      "outputs": [
        {
          "output_type": "execute_result",
          "data": {
            "text/html": [
              "<div>\n",
              "<style scoped>\n",
              "    .dataframe tbody tr th:only-of-type {\n",
              "        vertical-align: middle;\n",
              "    }\n",
              "\n",
              "    .dataframe tbody tr th {\n",
              "        vertical-align: top;\n",
              "    }\n",
              "\n",
              "    .dataframe thead th {\n",
              "        text-align: right;\n",
              "    }\n",
              "</style>\n",
              "<table border=\"1\" class=\"dataframe\">\n",
              "  <thead>\n",
              "    <tr style=\"text-align: right;\">\n",
              "      <th></th>\n",
              "      <th>Sentences</th>\n",
              "      <th>Label</th>\n",
              "    </tr>\n",
              "  </thead>\n",
              "  <tbody>\n",
              "    <tr>\n",
              "      <th>0</th>\n",
              "      <td>My cousin (female, and 14 years older than me)...</td>\n",
              "      <td>1</td>\n",
              "    </tr>\n",
              "    <tr>\n",
              "      <th>1</th>\n",
              "      <td>While I was working at McDonald's there was th...</td>\n",
              "      <td>1</td>\n",
              "    </tr>\n",
              "    <tr>\n",
              "      <th>2</th>\n",
              "      <td>I told multiple supervisors and the head of th...</td>\n",
              "      <td>1</td>\n",
              "    </tr>\n",
              "    <tr>\n",
              "      <th>3</th>\n",
              "      <td>I worked as a Project Engineer at a major comp...</td>\n",
              "      <td>1</td>\n",
              "    </tr>\n",
              "    <tr>\n",
              "      <th>4</th>\n",
              "      <td>I wanted to go in the forces and was told \"Wom...</td>\n",
              "      <td>1</td>\n",
              "    </tr>\n",
              "  </tbody>\n",
              "</table>\n",
              "</div>"
            ],
            "text/plain": [
              "                                           Sentences  Label\n",
              "0  My cousin (female, and 14 years older than me)...      1\n",
              "1  While I was working at McDonald's there was th...      1\n",
              "2  I told multiple supervisors and the head of th...      1\n",
              "3  I worked as a Project Engineer at a major comp...      1\n",
              "4  I wanted to go in the forces and was told \"Wom...      1"
            ]
          },
          "metadata": {
            "tags": []
          },
          "execution_count": 24
        }
      ]
    },
    {
      "cell_type": "code",
      "metadata": {
        "id": "44Paw7JPUypO"
      },
      "source": [
        "reddit_df = pd.read_csv(reddit_data_path)"
      ],
      "execution_count": 25,
      "outputs": []
    },
    {
      "cell_type": "code",
      "metadata": {
        "colab": {
          "base_uri": "https://localhost:8080/"
        },
        "id": "w2kBatn8U6Gx",
        "outputId": "83b0f5f4-f382-4f25-ecf8-180fe3fddd5f"
      },
      "source": [
        "new_reddit_df = reddit_df[['body','Sexism']]\n",
        "new_reddit_df.rename(columns={'body':'Sentences','Sexism':'Label'}, inplace=True)"
      ],
      "execution_count": 26,
      "outputs": [
        {
          "output_type": "stream",
          "text": [
            "/usr/local/lib/python3.7/dist-packages/pandas/core/frame.py:4308: SettingWithCopyWarning: \n",
            "A value is trying to be set on a copy of a slice from a DataFrame\n",
            "\n",
            "See the caveats in the documentation: https://pandas.pydata.org/pandas-docs/stable/user_guide/indexing.html#returning-a-view-versus-a-copy\n",
            "  errors=errors,\n"
          ],
          "name": "stderr"
        }
      ]
    },
    {
      "cell_type": "code",
      "metadata": {
        "colab": {
          "base_uri": "https://localhost:8080/",
          "height": 198
        },
        "id": "Q-jUis4tU7tH",
        "outputId": "836dad61-b075-45c2-fce7-47f59adcc6af"
      },
      "source": [
        "new_reddit_df.head()"
      ],
      "execution_count": 27,
      "outputs": [
        {
          "output_type": "execute_result",
          "data": {
            "text/html": [
              "<div>\n",
              "<style scoped>\n",
              "    .dataframe tbody tr th:only-of-type {\n",
              "        vertical-align: middle;\n",
              "    }\n",
              "\n",
              "    .dataframe tbody tr th {\n",
              "        vertical-align: top;\n",
              "    }\n",
              "\n",
              "    .dataframe thead th {\n",
              "        text-align: right;\n",
              "    }\n",
              "</style>\n",
              "<table border=\"1\" class=\"dataframe\">\n",
              "  <thead>\n",
              "    <tr style=\"text-align: right;\">\n",
              "      <th></th>\n",
              "      <th>Sentences</th>\n",
              "      <th>Label</th>\n",
              "    </tr>\n",
              "  </thead>\n",
              "  <tbody>\n",
              "    <tr>\n",
              "      <th>0</th>\n",
              "      <td>Damn, I saw a movie in which the old woman bat...</td>\n",
              "      <td>1</td>\n",
              "    </tr>\n",
              "    <tr>\n",
              "      <th>1</th>\n",
              "      <td>I would not say that by women getting rights i...</td>\n",
              "      <td>0</td>\n",
              "    </tr>\n",
              "    <tr>\n",
              "      <th>2</th>\n",
              "      <td>I'm sorry, does women having rights mean that ...</td>\n",
              "      <td>0</td>\n",
              "    </tr>\n",
              "    <tr>\n",
              "      <th>3</th>\n",
              "      <td>&gt; The problem is that they removed the urinals...</td>\n",
              "      <td>1</td>\n",
              "    </tr>\n",
              "    <tr>\n",
              "      <th>4</th>\n",
              "      <td>But using the urinals in front of girls that a...</td>\n",
              "      <td>1</td>\n",
              "    </tr>\n",
              "  </tbody>\n",
              "</table>\n",
              "</div>"
            ],
            "text/plain": [
              "                                           Sentences  Label\n",
              "0  Damn, I saw a movie in which the old woman bat...      1\n",
              "1  I would not say that by women getting rights i...      0\n",
              "2  I'm sorry, does women having rights mean that ...      0\n",
              "3  > The problem is that they removed the urinals...      1\n",
              "4  But using the urinals in front of girls that a...      1"
            ]
          },
          "metadata": {
            "tags": []
          },
          "execution_count": 27
        }
      ]
    },
    {
      "cell_type": "code",
      "metadata": {
        "id": "JbF1VG8acz0D"
      },
      "source": [
        "sexist_data = pd.concat([new_benevolent_df,new_sexist_comment_df,new_reddit_df], axis=0)"
      ],
      "execution_count": 36,
      "outputs": []
    },
    {
      "cell_type": "code",
      "metadata": {
        "id": "7fQy8W75d03f"
      },
      "source": [
        "def clean_data(df):\n",
        "  df.Sentences = [element.lower() for element in df.Sentences]\n",
        "  df.Sentences = [re.sub(r'[^a-zA-Z /n]', '', element) for element in df.Sentences]\n",
        "  # df.Sentences = ['<s> '+ element + ' </s>' for element in df.Sentences]\n",
        "  return df"
      ],
      "execution_count": 43,
      "outputs": []
    },
    {
      "cell_type": "code",
      "metadata": {
        "id": "-p_zN4tCd4Dz"
      },
      "source": [
        "df = clean_data(sexist_data)"
      ],
      "execution_count": 44,
      "outputs": []
    },
    {
      "cell_type": "code",
      "metadata": {
        "colab": {
          "base_uri": "https://localhost:8080/",
          "height": 292
        },
        "id": "Aw0tO4AieH1x",
        "outputId": "fb79d9a8-c666-4c18-c436-6bcfb80d1a4a"
      },
      "source": [
        "df['Label'].value_counts().plot(kind='bar')\n",
        "plt.xlabel('label category')\n",
        "plt.ylabel('count')\n",
        "plt.title('Sexist comment distribution in the dataset')\n",
        "plt.show()"
      ],
      "execution_count": 47,
      "outputs": [
        {
          "output_type": "display_data",
          "data": {
            "image/png": "[encoded data removed]",
            "text/plain": [
              "<Figure size 432x288 with 1 Axes>"
            ]
          },
          "metadata": {
            "tags": [],
            "needs_background": "light"
          }
        }
      ]
    },
    {
      "cell_type": "code",
      "metadata": {
        "colab": {
          "base_uri": "https://localhost:8080/",
          "height": 198
        },
        "id": "0-2KQP1XePzI",
        "outputId": "c9389b3a-f5b1-46ae-b53a-76aa20eceece"
      },
      "source": [
        "df.head()"
      ],
      "execution_count": 48,
      "outputs": [
        {
          "output_type": "execute_result",
          "data": {
            "text/html": [
              "<div>\n",
              "<style scoped>\n",
              "    .dataframe tbody tr th:only-of-type {\n",
              "        vertical-align: middle;\n",
              "    }\n",
              "\n",
              "    .dataframe tbody tr th {\n",
              "        vertical-align: top;\n",
              "    }\n",
              "\n",
              "    .dataframe thead th {\n",
              "        text-align: right;\n",
              "    }\n",
              "</style>\n",
              "<table border=\"1\" class=\"dataframe\">\n",
              "  <thead>\n",
              "    <tr style=\"text-align: right;\">\n",
              "      <th></th>\n",
              "      <th>Sentences</th>\n",
              "      <th>Label</th>\n",
              "    </tr>\n",
              "  </thead>\n",
              "  <tbody>\n",
              "    <tr>\n",
              "      <th>0</th>\n",
              "      <td>happy womensday to all my sassy women classy w...</td>\n",
              "      <td>1</td>\n",
              "    </tr>\n",
              "    <tr>\n",
              "      <th>1</th>\n",
              "      <td>the lights are out at the statue of libertytha...</td>\n",
              "      <td>1</td>\n",
              "    </tr>\n",
              "    <tr>\n",
              "      <th>2</th>\n",
              "      <td>we cant achieve any of our goals without the p...</td>\n",
              "      <td>1</td>\n",
              "    </tr>\n",
              "    <tr>\n",
              "      <th>3</th>\n",
              "      <td>she parties like a man but loves like a woman</td>\n",
              "      <td>1</td>\n",
              "    </tr>\n",
              "    <tr>\n",
              "      <th>4</th>\n",
              "      <td>lucky is the man who is the first love of a wo...</td>\n",
              "      <td>1</td>\n",
              "    </tr>\n",
              "  </tbody>\n",
              "</table>\n",
              "</div>"
            ],
            "text/plain": [
              "                                           Sentences  Label\n",
              "0  happy womensday to all my sassy women classy w...      1\n",
              "1  the lights are out at the statue of libertytha...      1\n",
              "2  we cant achieve any of our goals without the p...      1\n",
              "3      she parties like a man but loves like a woman      1\n",
              "4  lucky is the man who is the first love of a wo...      1"
            ]
          },
          "metadata": {
            "tags": []
          },
          "execution_count": 48
        }
      ]
    },
    {
      "cell_type": "code",
      "metadata": {
        "id": "t5HKCYnUec2q"
      },
      "source": [
        "df.to_csv('/content/drive/MyDrive/AI-3 Project/data/Preprocessed data/final_dataset.csv')"
      ],
      "execution_count": 49,
      "outputs": []
    },
    {
      "cell_type": "code",
      "metadata": {
        "id": "8UgHlAw0e4Et"
      },
      "source": [
        ""
      ],
      "execution_count": null,
      "outputs": []
    }
  ]
}