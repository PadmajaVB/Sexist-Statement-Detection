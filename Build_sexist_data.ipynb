{
  "nbformat": 4,
  "nbformat_minor": 0,
  "metadata": {
    "colab": {
      "name": "Build_sexist_data.ipynb",
      "provenance": [],
      "toc_visible": true,
      "include_colab_link": true
    },
    "kernelspec": {
      "name": "python3",
      "display_name": "Python 3"
    },
    "language_info": {
      "name": "python"
    }
  },
  "cells": [
    {
      "cell_type": "markdown",
      "metadata": {
        "id": "view-in-github",
        "colab_type": "text"
      },
      "source": [
        "<a href=\"https://colab.research.google.com/github/PadmajaVB/Sexist-Statement-Detection/blob/main/Build_sexist_data.ipynb\" target=\"_parent\"><img src=\"https://colab.research.google.com/assets/colab-badge.svg\" alt=\"Open In Colab\"/></a>"
      ]
    },
    {
      "cell_type": "code",
      "metadata": {
        "id": "a4ZfpledRyu8"
      },
      "source": [
        "import pandas as pd\n",
        "import matplotlib.pyplot as plt\n",
        "from sklearn.model_selection import train_test_split\n",
        "\n",
        "import re"
      ],
      "execution_count": null,
      "outputs": []
    },
    {
      "cell_type": "code",
      "metadata": {
        "id": "TGz2jfTXvX9A",
        "colab": {
          "base_uri": "https://localhost:8080/"
        },
        "outputId": "5cd44cf1-f41f-4d90-8632-dbde1fd81103"
      },
      "source": [
        "from google.colab import drive\n",
        "drive.mount('/content/drive')"
      ],
      "execution_count": null,
      "outputs": [
        {
          "output_type": "stream",
          "text": [
            "Drive already mounted at /content/drive; to attempt to forcibly remount, call drive.mount(\"/content/drive\", force_remount=True).\n"
          ],
          "name": "stdout"
        }
      ]
    },
    {
      "cell_type": "markdown",
      "metadata": {
        "id": "dtSF_Lss9aDI"
      },
      "source": [
        "# Combining data from multiple sources"
      ]
    },
    {
      "cell_type": "markdown",
      "metadata": {
        "id": "eGJ9BlNq9fVF"
      },
      "source": [
        "## 1. Reading data from multiple sources to a DataFrame"
      ]
    },
    {
      "cell_type": "code",
      "metadata": {
        "id": "DpE4PmTESe2W"
      },
      "source": [
        "benevolent_data_path = '/content/drive/MyDrive/UnivAI/AI-3 Project/data/Preprocessed data/Benevolent_sexism.csv'\n",
        "sexist_comment_data_path = '/content/drive/MyDrive/UnivAI/AI-3 Project/data/Preprocessed data/everyday_sexist_comment.csv'\n",
        "reddit_data_path = '/content/drive/MyDrive/UnivAI/AI-3 Project/data/Preprocessed data/reddit (1).csv'\n",
        "isep_data_path = '/content/drive/MyDrive/UnivAI/AI-3 Project/data/ISEP Sexist Data labeling.xlsx'"
      ],
      "execution_count": null,
      "outputs": []
    },
    {
      "cell_type": "code",
      "metadata": {
        "id": "cVEDORAIwNOD"
      },
      "source": [
        "original_data = pd.read_excel(isep_data_path)\n",
        "benevolent_df = pd.read_csv(benevolent_data_path)\n",
        "sexist_comment_df = pd.read_csv(sexist_comment_data_path)\n",
        "reddit_df = pd.read_csv(reddit_data_path)"
      ],
      "execution_count": null,
      "outputs": []
    },
    {
      "cell_type": "code",
      "metadata": {
        "id": "rsDPeNBfw3dX"
      },
      "source": [
        "X = original_data[['Sentences']]\n",
        "y = original_data['Label']"
      ],
      "execution_count": null,
      "outputs": []
    },
    {
      "cell_type": "markdown",
      "metadata": {
        "id": "gqpJKvro9oFB"
      },
      "source": [
        "## 2. Split the data into train, validation and test sets."
      ]
    },
    {
      "cell_type": "code",
      "metadata": {
        "id": "KRn_gyjQwUnX"
      },
      "source": [
        "X_train, X_test, y_train, y_test = train_test_split(X, y, train_size=0.8, stratify=y, random_state=66, shuffle=True)"
      ],
      "execution_count": null,
      "outputs": []
    },
    {
      "cell_type": "code",
      "metadata": {
        "id": "5v4uNGWkxWq_"
      },
      "source": [
        "X_train, X_val, y_train, y_val = train_test_split(X_train, y_train, train_size=0.7, stratify=y_train, random_state=66, shuffle=True)"
      ],
      "execution_count": null,
      "outputs": []
    },
    {
      "cell_type": "code",
      "metadata": {
        "id": "u4iCYBwQx7UO"
      },
      "source": [
        "train_data = X_train.copy()\n",
        "train_data['Label'] = y_train"
      ],
      "execution_count": null,
      "outputs": []
    },
    {
      "cell_type": "code",
      "metadata": {
        "id": "BXZvsbbxyWN_"
      },
      "source": [
        "test_data = X_test.copy()\n",
        "test_data['Label'] = y_test"
      ],
      "execution_count": null,
      "outputs": []
    },
    {
      "cell_type": "code",
      "metadata": {
        "id": "ybVMHwivyW0z"
      },
      "source": [
        "val_data = X_val.copy()\n",
        "val_data['Label'] = y_val"
      ],
      "execution_count": null,
      "outputs": []
    },
    {
      "cell_type": "code",
      "metadata": {
        "id": "2QyRidTJWBnh"
      },
      "source": [
        "val_data = val_data[val_data['Sentences'].apply(lambda x: len(x.split()) < 1000)]\n",
        "test_data = test_data[test_data['Sentences'].apply(lambda x: len(x.split()) < 1000)]"
      ],
      "execution_count": null,
      "outputs": []
    },
    {
      "cell_type": "code",
      "metadata": {
        "id": "dZgUo-wPTbrq"
      },
      "source": [
        "new_benevolent_df = benevolent_df[[\"1\"]]\n",
        "new_benevolent_df['Label'] = 1"
      ],
      "execution_count": null,
      "outputs": []
    },
    {
      "cell_type": "code",
      "metadata": {
        "id": "RtupY1GCTmF3"
      },
      "source": [
        "new_benevolent_df.rename(columns={'1': 'Sentences'}, inplace=True)"
      ],
      "execution_count": null,
      "outputs": []
    },
    {
      "cell_type": "code",
      "metadata": {
        "id": "sZc7zLsiUa2b"
      },
      "source": [
        "sexist_comment_df = pd.read_csv(sexist_comment_data_path)"
      ],
      "execution_count": null,
      "outputs": []
    },
    {
      "cell_type": "code",
      "metadata": {
        "id": "ze9nhTMvUiYb"
      },
      "source": [
        "new_sexist_comment_df = sexist_comment_df[['Sentences','Label']]"
      ],
      "execution_count": null,
      "outputs": []
    },
    {
      "cell_type": "code",
      "metadata": {
        "id": "44Paw7JPUypO"
      },
      "source": [
        "reddit_df = pd.read_csv(reddit_data_path)"
      ],
      "execution_count": null,
      "outputs": []
    },
    {
      "cell_type": "code",
      "metadata": {
        "colab": {
          "base_uri": "https://localhost:8080/"
        },
        "id": "w2kBatn8U6Gx",
        "outputId": "285de805-1d09-4200-b0c4-96447f8543a5"
      },
      "source": [
        "new_reddit_df = reddit_df[['body','Sexism']]\n",
        "new_reddit_df.rename(columns={'body':'Sentences','Sexism':'Label'}, inplace=True)"
      ],
      "execution_count": null,
      "outputs": [
        {
          "output_type": "stream",
          "text": [
            "/usr/local/lib/python3.7/dist-packages/pandas/core/frame.py:4308: SettingWithCopyWarning: \n",
            "A value is trying to be set on a copy of a slice from a DataFrame\n",
            "\n",
            "See the caveats in the documentation: https://pandas.pydata.org/pandas-docs/stable/user_guide/indexing.html#returning-a-view-versus-a-copy\n",
            "  errors=errors,\n"
          ],
          "name": "stderr"
        }
      ]
    },
    {
      "cell_type": "markdown",
      "metadata": {
        "id": "y25Yxo0IBFff"
      },
      "source": [
        "## 3. Combining all the datasets and filter rows with sentence length less than 1000"
      ]
    },
    {
      "cell_type": "code",
      "metadata": {
        "id": "JbF1VG8acz0D"
      },
      "source": [
        "sexist_data = pd.concat([new_benevolent_df, new_sexist_comment_df, new_reddit_df, train_data], axis=0)"
      ],
      "execution_count": null,
      "outputs": []
    },
    {
      "cell_type": "code",
      "metadata": {
        "id": "Knym-rkCV0Ka"
      },
      "source": [
        "sexist_data = sexist_data[sexist_data['Sentences'].apply(lambda x: len(x.split()) < 1000)]"
      ],
      "execution_count": null,
      "outputs": []
    },
    {
      "cell_type": "markdown",
      "metadata": {
        "id": "480VjAq1BMLF"
      },
      "source": [
        "## 4. Clean the dataset"
      ]
    },
    {
      "cell_type": "code",
      "metadata": {
        "id": "7fQy8W75d03f"
      },
      "source": [
        "def clean_data(df):\n",
        "  df.Sentences = [element.lower() for element in df.Sentences]\n",
        "  df.Sentences = [re.sub(r'[^a-zA-Z /n]', '', element) for element in df.Sentences]\n",
        "  # df.Sentences = ['<s> '+ element + ' </s>' for element in df.Sentences]\n",
        "  return df"
      ],
      "execution_count": null,
      "outputs": []
    },
    {
      "cell_type": "code",
      "metadata": {
        "id": "-p_zN4tCd4Dz"
      },
      "source": [
        "df = clean_data(sexist_data)\n",
        "test_data = clean_data(test_data)\n",
        "val_data = clean_data(val_data)"
      ],
      "execution_count": null,
      "outputs": []
    },
    {
      "cell_type": "code",
      "metadata": {
        "colab": {
          "base_uri": "https://localhost:8080/",
          "height": 292
        },
        "id": "Aw0tO4AieH1x",
        "outputId": "043cd833-749c-48ff-b67b-df7b2e03ebf5"
      },
      "source": [
        "df['Label'].value_counts().plot(kind='bar')\n",
        "plt.xlabel('label category')\n",
        "plt.ylabel('count')\n",
        "plt.title('Sexist comment distribution in the dataset')\n",
        "plt.show()"
      ],
      "execution_count": null,
      "outputs": [
        {
          "output_type": "display_data",
          "data": {
            "image/png": "[encoded data removed]",
            "text/plain": [
              "<Figure size 432x288 with 1 Axes>"
            ]
          },
          "metadata": {
            "tags": [],
            "needs_background": "light"
          }
        }
      ]
    },
    {
      "cell_type": "code",
      "metadata": {
        "colab": {
          "base_uri": "https://localhost:8080/",
          "height": 198
        },
        "id": "0-2KQP1XePzI",
        "outputId": "7396ab5d-5f8a-40e1-bbc2-6ba166e5e7dc"
      },
      "source": [
        "df.head()"
      ],
      "execution_count": null,
      "outputs": [
        {
          "output_type": "execute_result",
          "data": {
            "text/html": [
              "<div>\n",
              "<style scoped>\n",
              "    .dataframe tbody tr th:only-of-type {\n",
              "        vertical-align: middle;\n",
              "    }\n",
              "\n",
              "    .dataframe tbody tr th {\n",
              "        vertical-align: top;\n",
              "    }\n",
              "\n",
              "    .dataframe thead th {\n",
              "        text-align: right;\n",
              "    }\n",
              "</style>\n",
              "<table border=\"1\" class=\"dataframe\">\n",
              "  <thead>\n",
              "    <tr style=\"text-align: right;\">\n",
              "      <th></th>\n",
              "      <th>Sentences</th>\n",
              "      <th>Label</th>\n",
              "    </tr>\n",
              "  </thead>\n",
              "  <tbody>\n",
              "    <tr>\n",
              "      <th>0</th>\n",
              "      <td>happy womensday to all my sassy women classy w...</td>\n",
              "      <td>1</td>\n",
              "    </tr>\n",
              "    <tr>\n",
              "      <th>1</th>\n",
              "      <td>the lights are out at the statue of libertytha...</td>\n",
              "      <td>1</td>\n",
              "    </tr>\n",
              "    <tr>\n",
              "      <th>2</th>\n",
              "      <td>we cant achieve any of our goals without the p...</td>\n",
              "      <td>1</td>\n",
              "    </tr>\n",
              "    <tr>\n",
              "      <th>3</th>\n",
              "      <td>she parties like a man but loves like a woman</td>\n",
              "      <td>1</td>\n",
              "    </tr>\n",
              "    <tr>\n",
              "      <th>4</th>\n",
              "      <td>lucky is the man who is the first love of a wo...</td>\n",
              "      <td>1</td>\n",
              "    </tr>\n",
              "  </tbody>\n",
              "</table>\n",
              "</div>"
            ],
            "text/plain": [
              "                                           Sentences  Label\n",
              "0  happy womensday to all my sassy women classy w...      1\n",
              "1  the lights are out at the statue of libertytha...      1\n",
              "2  we cant achieve any of our goals without the p...      1\n",
              "3      she parties like a man but loves like a woman      1\n",
              "4  lucky is the man who is the first love of a wo...      1"
            ]
          },
          "metadata": {
            "tags": []
          },
          "execution_count": 30
        }
      ]
    },
    {
      "cell_type": "markdown",
      "metadata": {
        "id": "xesgSNpHBhPk"
      },
      "source": [
        "## 5. Save the train, validation and test sets into different files"
      ]
    },
    {
      "cell_type": "code",
      "metadata": {
        "id": "t5HKCYnUec2q"
      },
      "source": [
        "df.to_csv('/content/drive/MyDrive/UnivAI/AI-3 Project/data/Preprocessed data/train_dataset.csv')"
      ],
      "execution_count": null,
      "outputs": []
    },
    {
      "cell_type": "code",
      "metadata": {
        "id": "8UgHlAw0e4Et"
      },
      "source": [
        "test_data.to_csv('/content/drive/MyDrive/UnivAI/AI-3 Project/data/Preprocessed data/test_dataset.csv')\n",
        "val_data.to_csv('/content/drive/MyDrive/UnivAI/AI-3 Project/data/Preprocessed data/val_dataset.csv')"
      ],
      "execution_count": null,
      "outputs": []
    }
  ]
}