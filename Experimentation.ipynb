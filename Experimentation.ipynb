{
  "nbformat": 4,
  "nbformat_minor": 0,
  "metadata": {
    "colab": {
      "name": "Experimentation.ipynb",
      "provenance": [],
      "collapsed_sections": [],
      "include_colab_link": true
    },
    "kernelspec": {
      "name": "python3",
      "display_name": "Python 3"
    },
    "language_info": {
      "name": "python"
    }
  },
  "cells": [
    {
      "cell_type": "markdown",
      "metadata": {
        "id": "view-in-github",
        "colab_type": "text"
      },
      "source": [
        "<a href=\"https://colab.research.google.com/github/PadmajaVB/Sexist-Statement-Detection/blob/main/Experimentation.ipynb\" target=\"_parent\"><img src=\"https://colab.research.google.com/assets/colab-badge.svg\" alt=\"Open In Colab\"/></a>"
      ]
    },
    {
      "cell_type": "markdown",
      "metadata": {
        "id": "dSgg5YOL4dLP"
      },
      "source": [
        "# Model without embeddings\n",
        "\n",
        "Architecture used from this paper: https://arxiv.org/abs/1801.04433"
      ]
    },
    {
      "cell_type": "markdown",
      "metadata": {
        "id": "yKVfWgIP4ibd"
      },
      "source": [
        "**Importing libraries and cleaning the data**"
      ]
    },
    {
      "cell_type": "code",
      "metadata": {
        "id": "aD9Zc07VFNpR"
      },
      "source": [
        "import pandas as pd\n",
        "import tensorflow as tf\n",
        "import tensorflow_hub as hub\n",
        "import numpy as np\n",
        "import matplotlib.pyplot as plt\n",
        "\n",
        "\n",
        "from sklearn.model_selection import train_test_split\n",
        "from sklearn.preprocessing import StandardScaler\n",
        "\n",
        "import re\n",
        "import collections"
      ],
      "execution_count": null,
      "outputs": []
    },
    {
      "cell_type": "code",
      "metadata": {
        "colab": {
          "base_uri": "https://localhost:8080/"
        },
        "id": "mXwywhHG9FRN",
        "outputId": "d30cf973-bdcb-4784-c176-f58d81942787"
      },
      "source": [
        "from google.colab import drive\n",
        "drive.mount('/content/drive')"
      ],
      "execution_count": null,
      "outputs": [
        {
          "output_type": "stream",
          "text": [
            "Drive already mounted at /content/drive; to attempt to forcibly remount, call drive.mount(\"/content/drive\", force_remount=True).\n"
          ],
          "name": "stdout"
        }
      ]
    },
    {
      "cell_type": "code",
      "metadata": {
        "colab": {
          "base_uri": "https://localhost:8080/",
          "height": 206
        },
        "id": "tXuls1o7OcO6",
        "outputId": "7763511d-42d8-453c-96e6-58da4e1268aa"
      },
      "source": [
        "df_train = pd.read_csv(\"/content/drive/MyDrive/AI-3 Project/data/Preprocessed data/augmented_train_dataset.csv\", index_col=0)\n",
        "df_val = pd.read_csv(\"/content/drive/MyDrive/AI-3 Project/data/Preprocessed data/val_dataset.csv\", index_col=0)\n",
        "df_test = pd.read_csv(\"/content/drive/MyDrive/AI-3 Project/data/Preprocessed data/test_dataset.csv\", index_col=0)\n",
        "\n",
        "df_train.head()"
      ],
      "execution_count": null,
      "outputs": [
        {
          "output_type": "execute_result",
          "data": {
            "text/html": [
              "<div>\n",
              "<style scoped>\n",
              "    .dataframe tbody tr th:only-of-type {\n",
              "        vertical-align: middle;\n",
              "    }\n",
              "\n",
              "    .dataframe tbody tr th {\n",
              "        vertical-align: top;\n",
              "    }\n",
              "\n",
              "    .dataframe thead th {\n",
              "        text-align: right;\n",
              "    }\n",
              "</style>\n",
              "<table border=\"1\" class=\"dataframe\">\n",
              "  <thead>\n",
              "    <tr style=\"text-align: right;\">\n",
              "      <th></th>\n",
              "      <th>Sentences</th>\n",
              "      <th>Label</th>\n",
              "    </tr>\n",
              "  </thead>\n",
              "  <tbody>\n",
              "    <tr>\n",
              "      <th>0</th>\n",
              "      <td>after receiving positive comments for some des...</td>\n",
              "      <td>1</td>\n",
              "    </tr>\n",
              "    <tr>\n",
              "      <th>1</th>\n",
              "      <td>i love how all the lynx space YMCA adverts ass...</td>\n",
              "      <td>0</td>\n",
              "    </tr>\n",
              "    <tr>\n",
              "      <th>2</th>\n",
              "      <td>aye even here these dolts still see us as poss...</td>\n",
              "      <td>1</td>\n",
              "    </tr>\n",
              "    <tr>\n",
              "      <th>3</th>\n",
              "      <td>why are cold showers good for you</td>\n",
              "      <td>0</td>\n",
              "    </tr>\n",
              "    <tr>\n",
              "      <th>4</th>\n",
              "      <td>im a physicist and i worked on vacuum systems ...</td>\n",
              "      <td>1</td>\n",
              "    </tr>\n",
              "  </tbody>\n",
              "</table>\n",
              "</div>"
            ],
            "text/plain": [
              "                                           Sentences  Label\n",
              "0  after receiving positive comments for some des...      1\n",
              "1  i love how all the lynx space YMCA adverts ass...      0\n",
              "2  aye even here these dolts still see us as poss...      1\n",
              "3                  why are cold showers good for you      0\n",
              "4  im a physicist and i worked on vacuum systems ...      1"
            ]
          },
          "metadata": {
            "tags": []
          },
          "execution_count": 27
        }
      ]
    },
    {
      "cell_type": "code",
      "metadata": {
        "id": "snaugakJ2URs",
        "colab": {
          "base_uri": "https://localhost:8080/",
          "height": 280
        },
        "outputId": "645df418-599e-4bc9-8bb8-05d7ff04424e"
      },
      "source": [
        "# do some exploratory data analysis\n",
        "df_train['Label'].value_counts().plot(kind='bar')"
      ],
      "execution_count": null,
      "outputs": [
        {
          "output_type": "execute_result",
          "data": {
            "text/plain": [
              "<matplotlib.axes._subplots.AxesSubplot at 0x7fd3f3b5f590>"
            ]
          },
          "metadata": {
            "tags": []
          },
          "execution_count": 28
        },
        {
          "output_type": "display_data",
          "data": {
            "image/png": "[encoded data removed]",
            "text/plain": [
              "<Figure size 432x288 with 1 Axes>"
            ]
          },
          "metadata": {
            "tags": [],
            "needs_background": "light"
          }
        }
      ]
    },
    {
      "cell_type": "code",
      "metadata": {
        "id": "rVdsM26VOrX-"
      },
      "source": [
        "# clean the data\n",
        "def clean_data(df):\n",
        "  df.Sentences = [element.lower() for element in df.Sentences]\n",
        "  df.Sentences = [re.sub(r'[^a-zA-Z /n]', '', element) for element in df.Sentences]\n",
        "  df.Sentences = ['<s> '+ element + ' </s>' for element in df.Sentences]\n",
        "  return df"
      ],
      "execution_count": null,
      "outputs": []
    },
    {
      "cell_type": "code",
      "metadata": {
        "id": "nrotSg6nRCYR"
      },
      "source": [
        "df_train = clean_data(df_train)\n",
        "df_val = clean_data(df_val)\n",
        "df_test = clean_data(df_test)"
      ],
      "execution_count": null,
      "outputs": []
    },
    {
      "cell_type": "markdown",
      "metadata": {
        "id": "85BNYOvf4pCU"
      },
      "source": [
        "**Tokenizing text with a fixed vocabulary size**"
      ]
    },
    {
      "cell_type": "code",
      "metadata": {
        "id": "c-P-vCd1kTCg"
      },
      "source": [
        "vocab_size = 5000\n",
        "\n",
        "tokenizer = tf.keras.preprocessing.text.Tokenizer(\n",
        "    num_words=vocab_size, filters='!\"#$%&()*+,-.:;=?@[\\\\]^_`{|}~\\t\\n',\n",
        "    lower=True, split=' ', char_level=False, oov_token='UNK'\n",
        ")\n",
        "\n",
        "tokenizer.fit_on_texts(df_train[\"Sentences\"])\n",
        "train_data = tokenizer.texts_to_sequences(df_train[\"Sentences\"])\n",
        "reverse_dict = {j:i for i,j in tokenizer.word_index.items()}"
      ],
      "execution_count": null,
      "outputs": []
    },
    {
      "cell_type": "code",
      "metadata": {
        "id": "0VEfw_5-kViR"
      },
      "source": [
        "val_data = tokenizer.texts_to_sequences(df_val[\"Sentences\"])\n",
        "test_data = tokenizer.texts_to_sequences(df_test[\"Sentences\"])"
      ],
      "execution_count": null,
      "outputs": []
    },
    {
      "cell_type": "markdown",
      "metadata": {
        "id": "5ku0pDUs4vlj"
      },
      "source": [
        "**Create tf.Dataset**"
      ]
    },
    {
      "cell_type": "code",
      "metadata": {
        "id": "0R3cAVtLUqAU"
      },
      "source": [
        "def create_dataset(x,y):\n",
        "  ragged_x = tf.ragged.constant(x)\n",
        "  ragged_y = tf.ragged.constant(y)\n",
        "  dataset = tf.data.Dataset.from_tensor_slices((ragged_x,ragged_y))\n",
        "  dataset = dataset.shuffle(1000)\n",
        "  dataset = dataset.batch(32)\n",
        "  dataset = dataset.map(lambda x,y: (x.to_tensor(default_value=0, shape=[None, None]), y), num_parallel_calls=3)\n",
        "  dataset = dataset.prefetch(3)\n",
        "  return dataset"
      ],
      "execution_count": null,
      "outputs": []
    },
    {
      "cell_type": "code",
      "metadata": {
        "id": "CL6UL6p3Vl-V"
      },
      "source": [
        "dataset_train = create_dataset(train_data, df_train[\"Label\"])\n",
        "dataset_val = create_dataset(val_data, df_val[\"Label\"])\n",
        "dataset_test = create_dataset(test_data, df_test[\"Label\"])"
      ],
      "execution_count": null,
      "outputs": []
    },
    {
      "cell_type": "code",
      "metadata": {
        "id": "TLo0RTiRWKui",
        "colab": {
          "base_uri": "https://localhost:8080/"
        },
        "outputId": "d82925a0-65bb-4e87-a2a6-d3bbf20f4436"
      },
      "source": [
        "print(dataset_train)"
      ],
      "execution_count": null,
      "outputs": [
        {
          "output_type": "stream",
          "text": [
            "<PrefetchDataset shapes: ((None, None), (None,)), types: (tf.int32, tf.int64)>\n"
          ],
          "name": "stdout"
        }
      ]
    },
    {
      "cell_type": "markdown",
      "metadata": {
        "id": "1T3O-oKi4z42"
      },
      "source": [
        "**Define and train model**"
      ]
    },
    {
      "cell_type": "code",
      "metadata": {
        "id": "WhR-3bC0uZCM",
        "colab": {
          "base_uri": "https://localhost:8080/"
        },
        "outputId": "0ea73e9a-af03-4180-caac-fbf19652e53e"
      },
      "source": [
        "Inputs=  tf.keras.layers.Input(shape=(None,))\n",
        "Embedding= tf.keras.layers.Embedding(vocab_size, 30)(Inputs)\n",
        "LSTM_1= tf.keras.layers.LSTM(200, return_sequences=False)(Embedding)\n",
        "Dense= tf.keras.layers.Dense(10, activation= 'relu')(LSTM_1)\n",
        "Output = tf.keras.layers.Dense(1,activation='sigmoid')(Dense)\n",
        "\n",
        "model= tf.keras.Model(inputs= Inputs, outputs= Output)\n",
        "\n",
        "model.compile(optimizer=tf.keras.optimizers.Adam(),\n",
        "                 loss=tf.losses.BinaryCrossentropy(),\n",
        "                 metrics=['accuracy'])\n",
        "model.summary()"
      ],
      "execution_count": null,
      "outputs": [
        {
          "output_type": "stream",
          "text": [
            "Model: \"model_2\"\n",
            "_________________________________________________________________\n",
            "Layer (type)                 Output Shape              Param #   \n",
            "=================================================================\n",
            "input_3 (InputLayer)         [(None, None)]            0         \n",
            "_________________________________________________________________\n",
            "embedding_2 (Embedding)      (None, None, 30)          150000    \n",
            "_________________________________________________________________\n",
            "lstm (LSTM)                  (None, 200)               184800    \n",
            "_________________________________________________________________\n",
            "dense_2 (Dense)              (None, 10)                2010      \n",
            "_________________________________________________________________\n",
            "dense_3 (Dense)              (None, 1)                 11        \n",
            "=================================================================\n",
            "Total params: 336,821\n",
            "Trainable params: 336,821\n",
            "Non-trainable params: 0\n",
            "_________________________________________________________________\n"
          ],
          "name": "stdout"
        }
      ]
    },
    {
      "cell_type": "code",
      "metadata": {
        "id": "CGkvKReMvW2d",
        "colab": {
          "base_uri": "https://localhost:8080/"
        },
        "outputId": "a3c8957c-3b8c-412a-8937-eaba7b73bc3a"
      },
      "source": [
        "history = model.fit(dataset_train, epochs=10, validation_data=dataset_val)"
      ],
      "execution_count": null,
      "outputs": [
        {
          "output_type": "stream",
          "text": [
            "Epoch 1/10\n",
            "441/441 [==============================] - 253s 570ms/step - loss: 0.6928 - accuracy: 0.5177 - val_loss: 0.6910 - val_accuracy: 0.5495\n",
            "Epoch 2/10\n",
            "441/441 [==============================] - 243s 553ms/step - loss: 0.6925 - accuracy: 0.5187 - val_loss: 0.6905 - val_accuracy: 0.5495\n",
            "Epoch 3/10\n",
            "441/441 [==============================] - 249s 565ms/step - loss: 0.6925 - accuracy: 0.5187 - val_loss: 0.6905 - val_accuracy: 0.5495\n",
            "Epoch 4/10\n",
            "441/441 [==============================] - 245s 556ms/step - loss: 0.6925 - accuracy: 0.5187 - val_loss: 0.6904 - val_accuracy: 0.5495\n",
            "Epoch 5/10\n",
            "441/441 [==============================] - 245s 557ms/step - loss: 0.6925 - accuracy: 0.5187 - val_loss: 0.6904 - val_accuracy: 0.5495\n",
            "Epoch 6/10\n",
            "441/441 [==============================] - 246s 558ms/step - loss: 0.6925 - accuracy: 0.5187 - val_loss: 0.6904 - val_accuracy: 0.5495\n",
            "Epoch 7/10\n",
            "441/441 [==============================] - 243s 551ms/step - loss: 0.6925 - accuracy: 0.5187 - val_loss: 0.6904 - val_accuracy: 0.5495\n",
            "Epoch 8/10\n",
            "441/441 [==============================] - 246s 558ms/step - loss: 0.6925 - accuracy: 0.5187 - val_loss: 0.6904 - val_accuracy: 0.5495\n",
            "Epoch 9/10\n",
            "441/441 [==============================] - 254s 572ms/step - loss: 0.6925 - accuracy: 0.5187 - val_loss: 0.6903 - val_accuracy: 0.5495\n",
            "Epoch 10/10\n",
            "441/441 [==============================] - 246s 557ms/step - loss: 0.6925 - accuracy: 0.5187 - val_loss: 0.6903 - val_accuracy: 0.5495\n"
          ],
          "name": "stdout"
        }
      ]
    },
    {
      "cell_type": "markdown",
      "metadata": {
        "id": "1rJEU2oX5017"
      },
      "source": [
        "**Plotting loss and accuracy**"
      ]
    },
    {
      "cell_type": "code",
      "metadata": {
        "id": "w3rjl2SGvek_",
        "colab": {
          "base_uri": "https://localhost:8080/",
          "height": 294
        },
        "outputId": "a1ec8571-c08e-4f9d-a241-ce8f84ecac29"
      },
      "source": [
        "loss = history.history['loss']\n",
        "epochs = range(1,len(loss)+1)\n",
        "val_loss = history.history['val_loss']\n",
        "plt.figure()\n",
        "plt.plot(epochs, loss, 'b', label='Training loss')\n",
        "plt.plot(epochs, val_loss, '-r', label='Validation loss')\n",
        "plt.title('Training and validation loss')\n",
        "plt.xlabel('epoch')\n",
        "plt.ylabel('loss_value')\n",
        "plt.legend()\n",
        "plt.show()"
      ],
      "execution_count": null,
      "outputs": [
        {
          "output_type": "display_data",
          "data": {
            "image/png": "[encoded data removed]",
            "text/plain": [
              "<Figure size 432x288 with 1 Axes>"
            ]
          },
          "metadata": {
            "tags": [],
            "needs_background": "light"
          }
        }
      ]
    },
    {
      "cell_type": "code",
      "metadata": {
        "id": "r1bz06zXvzpr",
        "colab": {
          "base_uri": "https://localhost:8080/",
          "height": 294
        },
        "outputId": "edaeff8a-d9ad-469c-884d-9f44bd72d94c"
      },
      "source": [
        "loss = history.history['accuracy']\n",
        "epochs = range(1,len(loss)+1)\n",
        "val_loss = history.history['val_accuracy']\n",
        "plt.figure()\n",
        "plt.plot(epochs, loss, 'b', label='Training accuracy')\n",
        "plt.plot(epochs, val_loss, '-r', label='Validation accuracy')\n",
        "plt.title('Training and validation accuracy')\n",
        "plt.xlabel('epoch')\n",
        "plt.ylabel('accuracy_value')\n",
        "plt.legend()\n",
        "plt.show()"
      ],
      "execution_count": null,
      "outputs": [
        {
          "output_type": "display_data",
          "data": {
            "image/png": "[encoded data removed]",
            "text/plain": [
              "<Figure size 432x288 with 1 Axes>"
            ]
          },
          "metadata": {
            "tags": [],
            "needs_background": "light"
          }
        }
      ]
    },
    {
      "cell_type": "markdown",
      "metadata": {
        "id": "74FMjvR254XF"
      },
      "source": [
        "**Evaluating on test data**"
      ]
    },
    {
      "cell_type": "code",
      "metadata": {
        "id": "96_n2HZQv3ls",
        "colab": {
          "base_uri": "https://localhost:8080/"
        },
        "outputId": "a2ea926d-ddcc-4e2c-e986-55c2289c4c2f"
      },
      "source": [
        "result = model.evaluate(dataset_test)\n",
        "dict(zip(model.metrics_names, result))"
      ],
      "execution_count": null,
      "outputs": [
        {
          "output_type": "stream",
          "text": [
            "8/8 [==============================] - 0s 23ms/step - loss: 0.6904 - accuracy: 0.5482\n"
          ],
          "name": "stdout"
        },
        {
          "output_type": "execute_result",
          "data": {
            "text/plain": [
              "{'accuracy': 0.5482456088066101, 'loss': 0.6904306411743164}"
            ]
          },
          "metadata": {
            "tags": []
          },
          "execution_count": 24
        }
      ]
    },
    {
      "cell_type": "markdown",
      "metadata": {
        "id": "V6jf2Xd6LUmT"
      },
      "source": [
        "## LSTM Model with attention"
      ]
    },
    {
      "cell_type": "markdown",
      "metadata": {
        "id": "RnmbLQ1befQO"
      },
      "source": [
        "The model employs a Bidirectional LSTM deep learning architecture with a simple attention mechanism over the  input layer in order to focus on the significance of individual word out of context."
      ]
    },
    {
      "cell_type": "code",
      "metadata": {
        "id": "Ic7H3XtwLYYw"
      },
      "source": [
        "input_layer = Input((None, 300), name='input')\n",
        "bid_lstm_1 = Bidirectional(LSTM(128, return_sequences=True))(input_layer)\n",
        "dropout_1 = Dropout(0.5)(bid_lstm_1)\n",
        "\n",
        "attention = Dense(1, activation='tanh')(dropout_1)\n",
        "attention = Flatten()(attention)\n",
        "attention = Activation('softmax')(attention)\n",
        "attention = RepeatVector(128 * 2)(attention)\n",
        "attention = Permute([2, 1])(attention)\n",
        "\n",
        "sent_representation = Multiply()([dropout_1, attention])\n",
        "sent_representation = Lambda(lambda xin: K.sum(xin, axis=1))(sent_representation)\n",
        "\n",
        "dropout_2 = Dropout(0.5)(sent_representation)\n",
        "dense = Dense(1, activation='sigmoid')(dropout_2)\n",
        "\n",
        "model = Model(inputs=input_layer, outputs=dense)"
      ],
      "execution_count": null,
      "outputs": []
    },
    {
      "cell_type": "code",
      "metadata": {
        "id": "ppDUmA6LLaUW",
        "colab": {
          "base_uri": "https://localhost:8080/"
        },
        "outputId": "e935f532-3127-44d7-89ad-fafdca96e1bb"
      },
      "source": [
        "model.summary()"
      ],
      "execution_count": null,
      "outputs": [
        {
          "output_type": "stream",
          "text": [
            "Model: \"model_18\"\n",
            "__________________________________________________________________________________________________\n",
            "Layer (type)                    Output Shape         Param #     Connected to                     \n",
            "==================================================================================================\n",
            "input (InputLayer)              [(None, None, 300)]  0                                            \n",
            "__________________________________________________________________________________________________\n",
            "bidirectional_28 (Bidirectional (None, None, 256)    439296      input[0][0]                      \n",
            "__________________________________________________________________________________________________\n",
            "dropout_28 (Dropout)            (None, None, 256)    0           bidirectional_28[0][0]           \n",
            "__________________________________________________________________________________________________\n",
            "dense_26 (Dense)                (None, None, 1)      257         dropout_28[0][0]                 \n",
            "__________________________________________________________________________________________________\n",
            "flatten_8 (Flatten)             (None, None)         0           dense_26[0][0]                   \n",
            "__________________________________________________________________________________________________\n",
            "activation_8 (Activation)       (None, None)         0           flatten_8[0][0]                  \n",
            "__________________________________________________________________________________________________\n",
            "repeat_vector_8 (RepeatVector)  (None, 256, None)    0           activation_8[0][0]               \n",
            "__________________________________________________________________________________________________\n",
            "permute_8 (Permute)             (None, None, 256)    0           repeat_vector_8[0][0]            \n",
            "__________________________________________________________________________________________________\n",
            "multiply_8 (Multiply)           (None, None, 256)    0           dropout_28[0][0]                 \n",
            "                                                                 permute_8[0][0]                  \n",
            "__________________________________________________________________________________________________\n",
            "lambda_8 (Lambda)               (None, 256)          0           multiply_8[0][0]                 \n",
            "__________________________________________________________________________________________________\n",
            "dropout_29 (Dropout)            (None, 256)          0           lambda_8[0][0]                   \n",
            "__________________________________________________________________________________________________\n",
            "dense_27 (Dense)                (None, 1)            257         dropout_29[0][0]                 \n",
            "==================================================================================================\n",
            "Total params: 439,810\n",
            "Trainable params: 439,810\n",
            "Non-trainable params: 0\n",
            "__________________________________________________________________________________________________\n"
          ],
          "name": "stdout"
        }
      ]
    },
    {
      "cell_type": "code",
      "metadata": {
        "id": "aZm0UQyyPm0B"
      },
      "source": [
        "model.compile(optimizer=tf.keras.optimizers.Adam(0.0001), loss='bce', metrics=['accuracy'])"
      ],
      "execution_count": null,
      "outputs": []
    },
    {
      "cell_type": "code",
      "metadata": {
        "id": "nWf0IWEXPuPC",
        "colab": {
          "base_uri": "https://localhost:8080/"
        },
        "outputId": "6870df30-df9f-40ca-f36e-e23c412eb94a"
      },
      "source": [
        "callback = tf.keras.callbacks.EarlyStopping(monitor='val_loss', patience=2)\n",
        "history_1 = model.fit(train_dataset, epochs=10, validation_data=val_dataset, verbose=1, callbacks=[callback])"
      ],
      "execution_count": null,
      "outputs": [
        {
          "output_type": "stream",
          "text": [
            "Epoch 1/10\n",
            "221/221 [==============================] - 17s 64ms/step - loss: 0.6581 - accuracy: 0.6119 - val_loss: 0.6911 - val_accuracy: 0.5531\n",
            "Epoch 2/10\n",
            "221/221 [==============================] - 14s 64ms/step - loss: 0.6174 - accuracy: 0.6700 - val_loss: 0.6381 - val_accuracy: 0.6630\n",
            "Epoch 3/10\n",
            "221/221 [==============================] - 14s 61ms/step - loss: 0.6052 - accuracy: 0.6767 - val_loss: 0.6261 - val_accuracy: 0.6667\n",
            "Epoch 4/10\n",
            "221/221 [==============================] - 14s 61ms/step - loss: 0.5922 - accuracy: 0.6954 - val_loss: 0.6188 - val_accuracy: 0.6520\n",
            "Epoch 5/10\n",
            "221/221 [==============================] - 14s 62ms/step - loss: 0.6026 - accuracy: 0.6769 - val_loss: 0.6203 - val_accuracy: 0.6703\n",
            "Epoch 6/10\n",
            "221/221 [==============================] - 14s 64ms/step - loss: 0.6110 - accuracy: 0.6727 - val_loss: 0.6386 - val_accuracy: 0.6593\n"
          ],
          "name": "stdout"
        }
      ]
    },
    {
      "cell_type": "code",
      "metadata": {
        "id": "aAG_RygxGJEu",
        "colab": {
          "base_uri": "https://localhost:8080/",
          "height": 323
        },
        "outputId": "5dcceb66-4dcd-4d80-f746-b8275c21de2f"
      },
      "source": [
        "plot_history(history_1, 'Bidirectional LSTM with Attention')"
      ],
      "execution_count": null,
      "outputs": [
        {
          "output_type": "display_data",
          "data": {
            "image/png": "[encoded data removed]",
            "text/plain": [
              "<Figure size 864x288 with 2 Axes>"
            ]
          },
          "metadata": {
            "tags": [],
            "needs_background": "light"
          }
        }
      ]
    },
    {
      "cell_type": "code",
      "metadata": {
        "id": "yQ9eoncOO8RZ",
        "colab": {
          "base_uri": "https://localhost:8080/"
        },
        "outputId": "2b74fe25-22fd-4a43-9d0e-a9a8f8cdff50"
      },
      "source": [
        "model.save('/content/drive/MyDrive/AI-3 Project/Models/lstm_with_attention_1')"
      ],
      "execution_count": null,
      "outputs": [
        {
          "output_type": "stream",
          "text": [
            "WARNING:absl:Found untraced functions such as lstm_cell_94_layer_call_and_return_conditional_losses, lstm_cell_94_layer_call_fn, lstm_cell_95_layer_call_and_return_conditional_losses, lstm_cell_95_layer_call_fn, lstm_cell_94_layer_call_fn while saving (showing 5 of 10). These functions will not be directly callable after loading.\n"
          ],
          "name": "stderr"
        },
        {
          "output_type": "stream",
          "text": [
            "INFO:tensorflow:Assets written to: /content/drive/MyDrive/AI-3 Project/Models/lstm_with_attention_1/assets\n"
          ],
          "name": "stdout"
        },
        {
          "output_type": "stream",
          "text": [
            "/usr/local/lib/python3.7/dist-packages/tensorflow/python/keras/utils/generic_utils.py:497: CustomMaskWarning: Custom mask layers require a config and must override get_config. When loading, the custom mask layer must be passed to the custom_objects argument.\n",
            "  category=CustomMaskWarning)\n",
            "INFO:tensorflow:Assets written to: /content/drive/MyDrive/AI-3 Project/Models/lstm_with_attention_1/assets\n"
          ],
          "name": "stderr"
        }
      ]
    },
    {
      "cell_type": "code",
      "metadata": {
        "id": "HKELDJF3yxo5"
      },
      "source": [
        "model = load_model('/content/drive/MyDrive/AI-3 Project/Models/lstm_with_attention_1')"
      ],
      "execution_count": null,
      "outputs": []
    },
    {
      "cell_type": "code",
      "metadata": {
        "id": "MbZ9DVujy2Yw",
        "colab": {
          "base_uri": "https://localhost:8080/"
        },
        "outputId": "904942f9-de05-4938-e636-329c8169c3be"
      },
      "source": [
        "loss, acc = model.evaluate(test_dataset)"
      ],
      "execution_count": null,
      "outputs": [
        {
          "output_type": "stream",
          "text": [
            "228/228 [==============================] - 2s 4ms/step - loss: 0.6139 - accuracy: 0.6754\n"
          ],
          "name": "stdout"
        }
      ]
    },
    {
      "cell_type": "markdown",
      "metadata": {
        "id": "H-rffkYMeqYt"
      },
      "source": [
        "Bidirectional LSTM with attention was not able to perform better than the model without attention. Accuracy has decreased to 67.54%. This can be attributed to the dataset we are using. Most of the data we have are from Twitter and reddit which tend to be more hostile whereas the test set mostly has benevolent comments.So, focusing on hostile words does not help improve the performance here."
      ]
    }
  ]
}